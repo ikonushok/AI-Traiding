{
  "nbformat": 4,
  "nbformat_minor": 0,
  "metadata": {
    "accelerator": "GPU",
    "colab": {
      "name": "SBER_1h_Up.ipynb",
      "provenance": [],
      "collapsed_sections": [
        "a1Sq736yrzo_",
        "wW_jU8m6tynX",
        "gNQsFCyLwtBg",
        "WwEWUmSOE6c9",
        "I0USlgxT-b4j",
        "H5pwceY0behd",
        "SZDAQd4O-Rt7",
        "N_t4U7JSeJ6Q",
        "RDwk0rl6iJfr",
        "PKfKN01ZEuR_",
        "Tdx7YtMGh9V2",
        "zgc6aB6gJ8Z-"
      ],
      "machine_shape": "hm",
      "mount_file_id": "1kxXWuVOF6D040SBWUASE9gE8QNNaWNhq",
      "authorship_tag": "ABX9TyO2i+QFm+GVJ9tQiG+QTSbw",
      "include_colab_link": true
    },
    "kernelspec": {
      "display_name": "Python 3",
      "name": "python3"
    }
  },
  "cells": [
    {
      "cell_type": "markdown",
      "metadata": {
        "id": "view-in-github",
        "colab_type": "text"
      },
      "source": [
        "<a href=\"https://colab.research.google.com/github/ikonushok/AI-Traiding/blob/main/SBER_1h_Up.ipynb\" target=\"_parent\"><img src=\"https://colab.research.google.com/assets/colab-badge.svg\" alt=\"Open In Colab\"/></a>"
      ]
    },
    {
      "cell_type": "markdown",
      "metadata": {
        "id": "a1Sq736yrzo_"
      },
      "source": [
        "# Подготовка данных"
      ]
    },
    {
      "cell_type": "code",
      "metadata": {
        "id": "fBKjsauNo5ub"
      },
      "source": [
        "import pandas as pd\n",
        "import numpy as np\n",
        "from numpy import array\n",
        "import matplotlib.pyplot as plt\n",
        "%matplotlib inline\n",
        "\n",
        "import os\n",
        "\n",
        "import warnings\n",
        "warnings.filterwarnings(\"ignore\")"
      ],
      "execution_count": null,
      "outputs": []
    },
    {
      "cell_type": "markdown",
      "metadata": {
        "id": "nX4ZEOdhij8U"
      },
      "source": [
        "Задаем параметры, необходимые для подготовки dataset'a"
      ]
    },
    {
      "cell_type": "code",
      "metadata": {
        "colab": {
          "base_uri": "https://localhost:8080/",
          "height": 67
        },
        "id": "7Tlot-07SjFR",
        "outputId": "09d4508b-0d67-430a-e471-2bec9dd8ef9e"
      },
      "source": [
        "path_tickers = '/content/drive/MyDrive/_Диплом/Капитал-Инвест/ins_OHLC'\n",
        "path_outputs = '/content/drive/MyDrive/_Диплом/Капитал-Инвест/SBER_MIN60/Up/outputs'\n",
        "path_models = '/content/drive/MyDrive/_Диплом/Капитал-Инвест/SBER_MIN60/Up/models'\n",
        "\n",
        "os.chdir(path_tickers)\n",
        "tickers_list = os.listdir()\n",
        "print('Всего тикеров: ', len(tickers_list), '\\n')\n",
        "tickers_list[-1]"
      ],
      "execution_count": null,
      "outputs": [
        {
          "output_type": "stream",
          "text": [
            "Всего тикеров:  21 \n",
            "\n"
          ],
          "name": "stdout"
        },
        {
          "output_type": "execute_result",
          "data": {
            "application/vnd.google.colaboratory.intrinsic+json": {
              "type": "string"
            },
            "text/plain": [
              "'SBER_MIN60.txt'"
            ]
          },
          "metadata": {
            "tags": []
          },
          "execution_count": 2
        }
      ]
    },
    {
      "cell_type": "code",
      "metadata": {
        "id": "vhYcMG1PiVE5"
      },
      "source": [
        "step_in_the_last = 14   # По скольки шагам в прошлое определяем тренд     ##20,16,16,4\n",
        "n_steps = 19             # Серию из скольки баров назад анализируем         ##44,42,48,6\n",
        "forvard_lag = 1         # Предсказание какого бара в будущем делаем       ##1\n",
        "plato_lvl = 0.00       # Какой разброс цены считать \"плато\" и приравнивать к 0 в ohe при разметке Y #0\n",
        "test_lvl = .2             # Обьем выборки, уходящей в xTest\n",
        "analyze_period = 30000    # Сколько баров в прошлое берем для тренировки модели (чтобы ихбежать тренировки на другой динамике рынка) #3000,2000,1000"
      ],
      "execution_count": null,
      "outputs": []
    },
    {
      "cell_type": "markdown",
      "metadata": {
        "id": "wW_jU8m6tynX"
      },
      "source": [
        "### Загрузка и первичная обработка данных"
      ]
    },
    {
      "cell_type": "code",
      "metadata": {
        "id": "rcsys6xE8lNN",
        "colab": {
          "base_uri": "https://localhost:8080/",
          "height": 35
        },
        "outputId": "5a855363-f29c-475f-89f7-343d37da370f"
      },
      "source": [
        "file = tickers_list[-1] \n",
        "file"
      ],
      "execution_count": null,
      "outputs": [
        {
          "output_type": "execute_result",
          "data": {
            "application/vnd.google.colaboratory.intrinsic+json": {
              "type": "string"
            },
            "text/plain": [
              "'SBER_MIN60.txt'"
            ]
          },
          "metadata": {
            "tags": []
          },
          "execution_count": 4
        }
      ]
    },
    {
      "cell_type": "code",
      "metadata": {
        "id": "vlHtP0-tYtOs",
        "colab": {
          "base_uri": "https://localhost:8080/",
          "height": 391
        },
        "outputId": "6b7d44aa-a1c0-46c3-a406-4d79301f4c89"
      },
      "source": [
        "os.chdir(path_tickers)\n",
        "# Загрузка только [Open, High, Low, Close]\n",
        "data = pd.read_csv(file, sep=\"\\t\", header=None)\n",
        "data.columns=['Data', 'Open', 'High', 'Low', 'Close']\n",
        "#data = data[-500:] # взяли последние 500 баров, окторые откусили при обучении, чтобы их не видела нейронка\n",
        "data"
      ],
      "execution_count": null,
      "outputs": [
        {
          "output_type": "execute_result",
          "data": {
            "text/html": [
              "<div>\n",
              "<style scoped>\n",
              "    .dataframe tbody tr th:only-of-type {\n",
              "        vertical-align: middle;\n",
              "    }\n",
              "\n",
              "    .dataframe tbody tr th {\n",
              "        vertical-align: top;\n",
              "    }\n",
              "\n",
              "    .dataframe thead th {\n",
              "        text-align: right;\n",
              "    }\n",
              "</style>\n",
              "<table border=\"1\" class=\"dataframe\">\n",
              "  <thead>\n",
              "    <tr style=\"text-align: right;\">\n",
              "      <th></th>\n",
              "      <th>Data</th>\n",
              "      <th>Open</th>\n",
              "      <th>High</th>\n",
              "      <th>Low</th>\n",
              "      <th>Close</th>\n",
              "    </tr>\n",
              "  </thead>\n",
              "  <tbody>\n",
              "    <tr>\n",
              "      <th>0</th>\n",
              "      <td>2000-01-05 11:00:00.000</td>\n",
              "      <td>1.15000</td>\n",
              "      <td>1.17000</td>\n",
              "      <td>1.0800</td>\n",
              "      <td>1.125</td>\n",
              "    </tr>\n",
              "    <tr>\n",
              "      <th>1</th>\n",
              "      <td>2000-01-05 12:00:00.000</td>\n",
              "      <td>1.13500</td>\n",
              "      <td>1.17300</td>\n",
              "      <td>1.1350</td>\n",
              "      <td>1.168</td>\n",
              "    </tr>\n",
              "    <tr>\n",
              "      <th>2</th>\n",
              "      <td>2000-01-05 13:00:00.000</td>\n",
              "      <td>1.16500</td>\n",
              "      <td>1.23999</td>\n",
              "      <td>1.1650</td>\n",
              "      <td>1.200</td>\n",
              "    </tr>\n",
              "    <tr>\n",
              "      <th>3</th>\n",
              "      <td>2000-01-05 14:00:00.000</td>\n",
              "      <td>1.20000</td>\n",
              "      <td>1.25500</td>\n",
              "      <td>1.1980</td>\n",
              "      <td>1.255</td>\n",
              "    </tr>\n",
              "    <tr>\n",
              "      <th>4</th>\n",
              "      <td>2000-01-05 15:00:00.000</td>\n",
              "      <td>1.23001</td>\n",
              "      <td>1.26488</td>\n",
              "      <td>1.2115</td>\n",
              "      <td>1.264</td>\n",
              "    </tr>\n",
              "    <tr>\n",
              "      <th>...</th>\n",
              "      <td>...</td>\n",
              "      <td>...</td>\n",
              "      <td>...</td>\n",
              "      <td>...</td>\n",
              "      <td>...</td>\n",
              "    </tr>\n",
              "    <tr>\n",
              "      <th>43128</th>\n",
              "      <td>2019-12-30 14:00:00.000</td>\n",
              "      <td>253.05000</td>\n",
              "      <td>255.25000</td>\n",
              "      <td>252.9700</td>\n",
              "      <td>255.210</td>\n",
              "    </tr>\n",
              "    <tr>\n",
              "      <th>43129</th>\n",
              "      <td>2019-12-30 15:00:00.000</td>\n",
              "      <td>255.20000</td>\n",
              "      <td>256.00000</td>\n",
              "      <td>254.8600</td>\n",
              "      <td>255.160</td>\n",
              "    </tr>\n",
              "    <tr>\n",
              "      <th>43130</th>\n",
              "      <td>2019-12-30 16:00:00.000</td>\n",
              "      <td>255.16000</td>\n",
              "      <td>255.94000</td>\n",
              "      <td>254.5300</td>\n",
              "      <td>255.620</td>\n",
              "    </tr>\n",
              "    <tr>\n",
              "      <th>43131</th>\n",
              "      <td>2019-12-30 17:00:00.000</td>\n",
              "      <td>255.62000</td>\n",
              "      <td>255.65000</td>\n",
              "      <td>254.5500</td>\n",
              "      <td>254.810</td>\n",
              "    </tr>\n",
              "    <tr>\n",
              "      <th>43132</th>\n",
              "      <td>2019-12-30 18:00:00.000</td>\n",
              "      <td>254.81000</td>\n",
              "      <td>255.20000</td>\n",
              "      <td>254.6000</td>\n",
              "      <td>254.750</td>\n",
              "    </tr>\n",
              "  </tbody>\n",
              "</table>\n",
              "<p>43133 rows × 5 columns</p>\n",
              "</div>"
            ],
            "text/plain": [
              "                          Data       Open       High       Low    Close\n",
              "0      2000-01-05 11:00:00.000    1.15000    1.17000    1.0800    1.125\n",
              "1      2000-01-05 12:00:00.000    1.13500    1.17300    1.1350    1.168\n",
              "2      2000-01-05 13:00:00.000    1.16500    1.23999    1.1650    1.200\n",
              "3      2000-01-05 14:00:00.000    1.20000    1.25500    1.1980    1.255\n",
              "4      2000-01-05 15:00:00.000    1.23001    1.26488    1.2115    1.264\n",
              "...                        ...        ...        ...       ...      ...\n",
              "43128  2019-12-30 14:00:00.000  253.05000  255.25000  252.9700  255.210\n",
              "43129  2019-12-30 15:00:00.000  255.20000  256.00000  254.8600  255.160\n",
              "43130  2019-12-30 16:00:00.000  255.16000  255.94000  254.5300  255.620\n",
              "43131  2019-12-30 17:00:00.000  255.62000  255.65000  254.5500  254.810\n",
              "43132  2019-12-30 18:00:00.000  254.81000  255.20000  254.6000  254.750\n",
              "\n",
              "[43133 rows x 5 columns]"
            ]
          },
          "metadata": {
            "tags": []
          },
          "execution_count": 5
        }
      ]
    },
    {
      "cell_type": "code",
      "metadata": {
        "colab": {
          "base_uri": "https://localhost:8080/",
          "height": 391
        },
        "id": "K4vAFKjSTifN",
        "outputId": "5bd0bb10-46f2-4828-c03a-cbee7dd6a67d"
      },
      "source": [
        "# Учим на 2018 годе\n",
        "# data['2010-12-07 13:00' : '2010-12-07 13:01']\n",
        "mask2018 = (data['Data'] >= '2010-09-01 10:00:00.000') & (data['Data'] <= '2018-12-31 23:59:00.000')\n",
        "data = data[mask2018]\n",
        "data"
      ],
      "execution_count": null,
      "outputs": [
        {
          "output_type": "execute_result",
          "data": {
            "text/html": [
              "<div>\n",
              "<style scoped>\n",
              "    .dataframe tbody tr th:only-of-type {\n",
              "        vertical-align: middle;\n",
              "    }\n",
              "\n",
              "    .dataframe tbody tr th {\n",
              "        vertical-align: top;\n",
              "    }\n",
              "\n",
              "    .dataframe thead th {\n",
              "        text-align: right;\n",
              "    }\n",
              "</style>\n",
              "<table border=\"1\" class=\"dataframe\">\n",
              "  <thead>\n",
              "    <tr style=\"text-align: right;\">\n",
              "      <th></th>\n",
              "      <th>Data</th>\n",
              "      <th>Open</th>\n",
              "      <th>High</th>\n",
              "      <th>Low</th>\n",
              "      <th>Close</th>\n",
              "    </tr>\n",
              "  </thead>\n",
              "  <tbody>\n",
              "    <tr>\n",
              "      <th>22047</th>\n",
              "      <td>2010-09-01 10:00:00.000</td>\n",
              "      <td>78.55</td>\n",
              "      <td>78.67</td>\n",
              "      <td>77.94</td>\n",
              "      <td>78.04</td>\n",
              "    </tr>\n",
              "    <tr>\n",
              "      <th>22048</th>\n",
              "      <td>2010-09-01 11:00:00.000</td>\n",
              "      <td>78.04</td>\n",
              "      <td>78.10</td>\n",
              "      <td>77.60</td>\n",
              "      <td>78.00</td>\n",
              "    </tr>\n",
              "    <tr>\n",
              "      <th>22049</th>\n",
              "      <td>2010-09-01 12:00:00.000</td>\n",
              "      <td>78.00</td>\n",
              "      <td>78.88</td>\n",
              "      <td>77.98</td>\n",
              "      <td>78.88</td>\n",
              "    </tr>\n",
              "    <tr>\n",
              "      <th>22050</th>\n",
              "      <td>2010-09-01 13:00:00.000</td>\n",
              "      <td>78.89</td>\n",
              "      <td>79.19</td>\n",
              "      <td>78.80</td>\n",
              "      <td>78.85</td>\n",
              "    </tr>\n",
              "    <tr>\n",
              "      <th>22051</th>\n",
              "      <td>2010-09-01 14:00:00.000</td>\n",
              "      <td>78.85</td>\n",
              "      <td>78.99</td>\n",
              "      <td>78.61</td>\n",
              "      <td>78.86</td>\n",
              "    </tr>\n",
              "    <tr>\n",
              "      <th>...</th>\n",
              "      <td>...</td>\n",
              "      <td>...</td>\n",
              "      <td>...</td>\n",
              "      <td>...</td>\n",
              "      <td>...</td>\n",
              "    </tr>\n",
              "    <tr>\n",
              "      <th>40860</th>\n",
              "      <td>2018-12-29 14:00:00.000</td>\n",
              "      <td>186.07</td>\n",
              "      <td>186.08</td>\n",
              "      <td>185.78</td>\n",
              "      <td>185.88</td>\n",
              "    </tr>\n",
              "    <tr>\n",
              "      <th>40861</th>\n",
              "      <td>2018-12-29 15:00:00.000</td>\n",
              "      <td>185.88</td>\n",
              "      <td>185.95</td>\n",
              "      <td>185.70</td>\n",
              "      <td>185.70</td>\n",
              "    </tr>\n",
              "    <tr>\n",
              "      <th>40862</th>\n",
              "      <td>2018-12-29 16:00:00.000</td>\n",
              "      <td>185.70</td>\n",
              "      <td>186.15</td>\n",
              "      <td>185.70</td>\n",
              "      <td>186.15</td>\n",
              "    </tr>\n",
              "    <tr>\n",
              "      <th>40863</th>\n",
              "      <td>2018-12-29 17:00:00.000</td>\n",
              "      <td>186.15</td>\n",
              "      <td>186.35</td>\n",
              "      <td>186.00</td>\n",
              "      <td>186.02</td>\n",
              "    </tr>\n",
              "    <tr>\n",
              "      <th>40864</th>\n",
              "      <td>2018-12-29 18:00:00.000</td>\n",
              "      <td>186.05</td>\n",
              "      <td>186.49</td>\n",
              "      <td>185.97</td>\n",
              "      <td>186.34</td>\n",
              "    </tr>\n",
              "  </tbody>\n",
              "</table>\n",
              "<p>18818 rows × 5 columns</p>\n",
              "</div>"
            ],
            "text/plain": [
              "                          Data    Open    High     Low   Close\n",
              "22047  2010-09-01 10:00:00.000   78.55   78.67   77.94   78.04\n",
              "22048  2010-09-01 11:00:00.000   78.04   78.10   77.60   78.00\n",
              "22049  2010-09-01 12:00:00.000   78.00   78.88   77.98   78.88\n",
              "22050  2010-09-01 13:00:00.000   78.89   79.19   78.80   78.85\n",
              "22051  2010-09-01 14:00:00.000   78.85   78.99   78.61   78.86\n",
              "...                        ...     ...     ...     ...     ...\n",
              "40860  2018-12-29 14:00:00.000  186.07  186.08  185.78  185.88\n",
              "40861  2018-12-29 15:00:00.000  185.88  185.95  185.70  185.70\n",
              "40862  2018-12-29 16:00:00.000  185.70  186.15  185.70  186.15\n",
              "40863  2018-12-29 17:00:00.000  186.15  186.35  186.00  186.02\n",
              "40864  2018-12-29 18:00:00.000  186.05  186.49  185.97  186.34\n",
              "\n",
              "[18818 rows x 5 columns]"
            ]
          },
          "metadata": {
            "tags": []
          },
          "execution_count": 6
        }
      ]
    },
    {
      "cell_type": "code",
      "metadata": {
        "id": "nFLX8-uoqd3U"
      },
      "source": [
        "# тут я удаляю \"не нужные\" данные и переимновываю под привычные мне\n",
        "# и под стандарт, в котором выдает данные сервис yahoo (на всякий случай)\n",
        "df_data = data.drop(data.columns[[1, 2, 3]], axis='columns') # Оставляем дату и цену, чтобы потом добавить в outputs\n",
        "del data['Data']"
      ],
      "execution_count": null,
      "outputs": []
    },
    {
      "cell_type": "markdown",
      "metadata": {
        "id": "vUHexqqcjPFL"
      },
      "source": [
        "Я решил отказаться от идеи спрогнозировать цену.\n",
        "\n",
        "Вместо этого я буду прогнозировать тренд и его изменение.\n",
        "\n",
        "Для того, чтобы нейронка \"увидела\" наличие тренда, я расчитываю изменение цены по отношению к цене на step_in_the_last шагов назад\n",
        "\n",
        "Пример: Close_chng_1, Close_chng_2, Close_chng_3 и тд показывают, на сколько цена n изменилась по отношению к цене n-1, n-2, n-3 и тд "
      ]
    },
    {
      "cell_type": "code",
      "metadata": {
        "id": "ALledPSXrB3f",
        "colab": {
          "base_uri": "https://localhost:8080/",
          "height": 227
        },
        "outputId": "bce1d156-71be-4471-953b-188e85956cf2"
      },
      "source": [
        "# считаем относительную доходность единицах на step_in_the_last шагов назад\n",
        "for i in range(1, step_in_the_last + 1):\n",
        "  indicator_name = 'Close_chng_%d' % (i)\n",
        "  data[indicator_name] = data['Close'].pct_change(i) # относительная доходность единицах\n",
        "\n",
        "data = data.dropna() # удаляем строки с NaN\n",
        "print(data.shape)\n",
        "data[-5:]"
      ],
      "execution_count": null,
      "outputs": [
        {
          "output_type": "stream",
          "text": [
            "(18804, 18)\n"
          ],
          "name": "stdout"
        },
        {
          "output_type": "execute_result",
          "data": {
            "text/html": [
              "<div>\n",
              "<style scoped>\n",
              "    .dataframe tbody tr th:only-of-type {\n",
              "        vertical-align: middle;\n",
              "    }\n",
              "\n",
              "    .dataframe tbody tr th {\n",
              "        vertical-align: top;\n",
              "    }\n",
              "\n",
              "    .dataframe thead th {\n",
              "        text-align: right;\n",
              "    }\n",
              "</style>\n",
              "<table border=\"1\" class=\"dataframe\">\n",
              "  <thead>\n",
              "    <tr style=\"text-align: right;\">\n",
              "      <th></th>\n",
              "      <th>Open</th>\n",
              "      <th>High</th>\n",
              "      <th>Low</th>\n",
              "      <th>Close</th>\n",
              "      <th>Close_chng_1</th>\n",
              "      <th>Close_chng_2</th>\n",
              "      <th>Close_chng_3</th>\n",
              "      <th>Close_chng_4</th>\n",
              "      <th>Close_chng_5</th>\n",
              "      <th>Close_chng_6</th>\n",
              "      <th>Close_chng_7</th>\n",
              "      <th>Close_chng_8</th>\n",
              "      <th>Close_chng_9</th>\n",
              "      <th>Close_chng_10</th>\n",
              "      <th>Close_chng_11</th>\n",
              "      <th>Close_chng_12</th>\n",
              "      <th>Close_chng_13</th>\n",
              "      <th>Close_chng_14</th>\n",
              "    </tr>\n",
              "  </thead>\n",
              "  <tbody>\n",
              "    <tr>\n",
              "      <th>40860</th>\n",
              "      <td>186.07</td>\n",
              "      <td>186.08</td>\n",
              "      <td>185.78</td>\n",
              "      <td>185.88</td>\n",
              "      <td>-0.001075</td>\n",
              "      <td>0.000969</td>\n",
              "      <td>0.000215</td>\n",
              "      <td>-0.002790</td>\n",
              "      <td>-0.003324</td>\n",
              "      <td>-0.005191</td>\n",
              "      <td>-0.002147</td>\n",
              "      <td>-0.002362</td>\n",
              "      <td>-0.006042</td>\n",
              "      <td>-0.003111</td>\n",
              "      <td>-0.003164</td>\n",
              "      <td>-0.002415</td>\n",
              "      <td>0.002859</td>\n",
              "      <td>0.004757</td>\n",
              "    </tr>\n",
              "    <tr>\n",
              "      <th>40861</th>\n",
              "      <td>185.88</td>\n",
              "      <td>185.95</td>\n",
              "      <td>185.70</td>\n",
              "      <td>185.70</td>\n",
              "      <td>-0.000968</td>\n",
              "      <td>-0.002042</td>\n",
              "      <td>0.000000</td>\n",
              "      <td>-0.000753</td>\n",
              "      <td>-0.003755</td>\n",
              "      <td>-0.004290</td>\n",
              "      <td>-0.006155</td>\n",
              "      <td>-0.003114</td>\n",
              "      <td>-0.003328</td>\n",
              "      <td>-0.007005</td>\n",
              "      <td>-0.004076</td>\n",
              "      <td>-0.004129</td>\n",
              "      <td>-0.003381</td>\n",
              "      <td>0.001888</td>\n",
              "    </tr>\n",
              "    <tr>\n",
              "      <th>40862</th>\n",
              "      <td>185.70</td>\n",
              "      <td>186.15</td>\n",
              "      <td>185.70</td>\n",
              "      <td>186.15</td>\n",
              "      <td>0.002423</td>\n",
              "      <td>0.001453</td>\n",
              "      <td>0.000376</td>\n",
              "      <td>0.002423</td>\n",
              "      <td>0.001668</td>\n",
              "      <td>-0.001341</td>\n",
              "      <td>-0.001877</td>\n",
              "      <td>-0.003746</td>\n",
              "      <td>-0.000698</td>\n",
              "      <td>-0.000912</td>\n",
              "      <td>-0.004599</td>\n",
              "      <td>-0.001663</td>\n",
              "      <td>-0.001716</td>\n",
              "      <td>-0.000966</td>\n",
              "    </tr>\n",
              "    <tr>\n",
              "      <th>40863</th>\n",
              "      <td>186.15</td>\n",
              "      <td>186.35</td>\n",
              "      <td>186.00</td>\n",
              "      <td>186.02</td>\n",
              "      <td>-0.000698</td>\n",
              "      <td>0.001723</td>\n",
              "      <td>0.000753</td>\n",
              "      <td>-0.000322</td>\n",
              "      <td>0.001723</td>\n",
              "      <td>0.000969</td>\n",
              "      <td>-0.002039</td>\n",
              "      <td>-0.002574</td>\n",
              "      <td>-0.004442</td>\n",
              "      <td>-0.001396</td>\n",
              "      <td>-0.001610</td>\n",
              "      <td>-0.005294</td>\n",
              "      <td>-0.002360</td>\n",
              "      <td>-0.002413</td>\n",
              "    </tr>\n",
              "    <tr>\n",
              "      <th>40864</th>\n",
              "      <td>186.05</td>\n",
              "      <td>186.49</td>\n",
              "      <td>185.97</td>\n",
              "      <td>186.34</td>\n",
              "      <td>0.001720</td>\n",
              "      <td>0.001021</td>\n",
              "      <td>0.003446</td>\n",
              "      <td>0.002475</td>\n",
              "      <td>0.001397</td>\n",
              "      <td>0.003446</td>\n",
              "      <td>0.002690</td>\n",
              "      <td>-0.000322</td>\n",
              "      <td>-0.000858</td>\n",
              "      <td>-0.002729</td>\n",
              "      <td>0.000322</td>\n",
              "      <td>0.000107</td>\n",
              "      <td>-0.003583</td>\n",
              "      <td>-0.000644</td>\n",
              "    </tr>\n",
              "  </tbody>\n",
              "</table>\n",
              "</div>"
            ],
            "text/plain": [
              "         Open    High     Low  ...  Close_chng_12  Close_chng_13  Close_chng_14\n",
              "40860  186.07  186.08  185.78  ...      -0.002415       0.002859       0.004757\n",
              "40861  185.88  185.95  185.70  ...      -0.004129      -0.003381       0.001888\n",
              "40862  185.70  186.15  185.70  ...      -0.001663      -0.001716      -0.000966\n",
              "40863  186.15  186.35  186.00  ...      -0.005294      -0.002360      -0.002413\n",
              "40864  186.05  186.49  185.97  ...       0.000107      -0.003583      -0.000644\n",
              "\n",
              "[5 rows x 18 columns]"
            ]
          },
          "metadata": {
            "tags": []
          },
          "execution_count": 8
        }
      ]
    },
    {
      "cell_type": "code",
      "metadata": {
        "id": "Y2xH77vFxd8m",
        "colab": {
          "base_uri": "https://localhost:8080/",
          "height": 241
        },
        "outputId": "0f8db04d-c4f1-4da2-865a-58bd89d80f96"
      },
      "source": [
        "plt.figure(figsize=(10,4))\n",
        "ax0 = plt.subplot2grid((4,4), (0, 0), rowspan=3, colspan=4)\n",
        "#ax1 = plt.subplot2grid((4,4), (3,0), rowspan=1, colspan=4)\n",
        "data['Close'].plot(ax = ax0)\n",
        "plt.title('График изменений цены на SBER 2019 - 2020 (1h), за %d дня(дней) назад' % (step_in_the_last))\n",
        "#data[indicator_name].plot(ax = ax1)"
      ],
      "execution_count": null,
      "outputs": [
        {
          "output_type": "execute_result",
          "data": {
            "text/plain": [
              "Text(0.5, 1.0, 'График изменений цены на SBER 2019 - 2020 (1h), за 14 дня(дней) назад')"
            ]
          },
          "metadata": {
            "tags": []
          },
          "execution_count": 9
        },
        {
          "output_type": "display_data",
          "data": {
            "image/png": "[encoded data removed]",
            "text/plain": [
              "<Figure size 720x288 with 1 Axes>"
            ]
          },
          "metadata": {
            "tags": [],
            "needs_background": "light"
          }
        }
      ]
    },
    {
      "cell_type": "code",
      "metadata": {
        "id": "TkAoL-CTm0Ma",
        "colab": {
          "base_uri": "https://localhost:8080/",
          "height": 227
        },
        "outputId": "9fe98123-83dc-42dc-cdcf-54fdf09cbbab"
      },
      "source": [
        "# Добавил разметку как в Y но сдвинул на тренд\n",
        "for i in range(1, step_in_the_last + 1):\n",
        "  indicator_name = 'Close_chng_%d' % (i)\n",
        "  indicator_name_new = 'Y_%d' % (i)\n",
        "  data[indicator_name_new] = 0\n",
        "  #data.loc[data[indicator_name] < (0 - plato_lvl), indicator_name_new] = -1\n",
        "  data.loc[data[indicator_name] > (0 + plato_lvl), indicator_name_new] = 1\n",
        "\n",
        "print(data.shape)\n",
        "data[-5:]"
      ],
      "execution_count": null,
      "outputs": [
        {
          "output_type": "stream",
          "text": [
            "(18804, 32)\n"
          ],
          "name": "stdout"
        },
        {
          "output_type": "execute_result",
          "data": {
            "text/html": [
              "<div>\n",
              "<style scoped>\n",
              "    .dataframe tbody tr th:only-of-type {\n",
              "        vertical-align: middle;\n",
              "    }\n",
              "\n",
              "    .dataframe tbody tr th {\n",
              "        vertical-align: top;\n",
              "    }\n",
              "\n",
              "    .dataframe thead th {\n",
              "        text-align: right;\n",
              "    }\n",
              "</style>\n",
              "<table border=\"1\" class=\"dataframe\">\n",
              "  <thead>\n",
              "    <tr style=\"text-align: right;\">\n",
              "      <th></th>\n",
              "      <th>Open</th>\n",
              "      <th>High</th>\n",
              "      <th>Low</th>\n",
              "      <th>Close</th>\n",
              "      <th>Close_chng_1</th>\n",
              "      <th>Close_chng_2</th>\n",
              "      <th>Close_chng_3</th>\n",
              "      <th>Close_chng_4</th>\n",
              "      <th>Close_chng_5</th>\n",
              "      <th>Close_chng_6</th>\n",
              "      <th>Close_chng_7</th>\n",
              "      <th>Close_chng_8</th>\n",
              "      <th>Close_chng_9</th>\n",
              "      <th>Close_chng_10</th>\n",
              "      <th>Close_chng_11</th>\n",
              "      <th>Close_chng_12</th>\n",
              "      <th>Close_chng_13</th>\n",
              "      <th>Close_chng_14</th>\n",
              "      <th>Y_1</th>\n",
              "      <th>Y_2</th>\n",
              "      <th>Y_3</th>\n",
              "      <th>Y_4</th>\n",
              "      <th>Y_5</th>\n",
              "      <th>Y_6</th>\n",
              "      <th>Y_7</th>\n",
              "      <th>Y_8</th>\n",
              "      <th>Y_9</th>\n",
              "      <th>Y_10</th>\n",
              "      <th>Y_11</th>\n",
              "      <th>Y_12</th>\n",
              "      <th>Y_13</th>\n",
              "      <th>Y_14</th>\n",
              "    </tr>\n",
              "  </thead>\n",
              "  <tbody>\n",
              "    <tr>\n",
              "      <th>40860</th>\n",
              "      <td>186.07</td>\n",
              "      <td>186.08</td>\n",
              "      <td>185.78</td>\n",
              "      <td>185.88</td>\n",
              "      <td>-0.001075</td>\n",
              "      <td>0.000969</td>\n",
              "      <td>0.000215</td>\n",
              "      <td>-0.002790</td>\n",
              "      <td>-0.003324</td>\n",
              "      <td>-0.005191</td>\n",
              "      <td>-0.002147</td>\n",
              "      <td>-0.002362</td>\n",
              "      <td>-0.006042</td>\n",
              "      <td>-0.003111</td>\n",
              "      <td>-0.003164</td>\n",
              "      <td>-0.002415</td>\n",
              "      <td>0.002859</td>\n",
              "      <td>0.004757</td>\n",
              "      <td>0</td>\n",
              "      <td>1</td>\n",
              "      <td>1</td>\n",
              "      <td>0</td>\n",
              "      <td>0</td>\n",
              "      <td>0</td>\n",
              "      <td>0</td>\n",
              "      <td>0</td>\n",
              "      <td>0</td>\n",
              "      <td>0</td>\n",
              "      <td>0</td>\n",
              "      <td>0</td>\n",
              "      <td>1</td>\n",
              "      <td>1</td>\n",
              "    </tr>\n",
              "    <tr>\n",
              "      <th>40861</th>\n",
              "      <td>185.88</td>\n",
              "      <td>185.95</td>\n",
              "      <td>185.70</td>\n",
              "      <td>185.70</td>\n",
              "      <td>-0.000968</td>\n",
              "      <td>-0.002042</td>\n",
              "      <td>0.000000</td>\n",
              "      <td>-0.000753</td>\n",
              "      <td>-0.003755</td>\n",
              "      <td>-0.004290</td>\n",
              "      <td>-0.006155</td>\n",
              "      <td>-0.003114</td>\n",
              "      <td>-0.003328</td>\n",
              "      <td>-0.007005</td>\n",
              "      <td>-0.004076</td>\n",
              "      <td>-0.004129</td>\n",
              "      <td>-0.003381</td>\n",
              "      <td>0.001888</td>\n",
              "      <td>0</td>\n",
              "      <td>0</td>\n",
              "      <td>0</td>\n",
              "      <td>0</td>\n",
              "      <td>0</td>\n",
              "      <td>0</td>\n",
              "      <td>0</td>\n",
              "      <td>0</td>\n",
              "      <td>0</td>\n",
              "      <td>0</td>\n",
              "      <td>0</td>\n",
              "      <td>0</td>\n",
              "      <td>0</td>\n",
              "      <td>1</td>\n",
              "    </tr>\n",
              "    <tr>\n",
              "      <th>40862</th>\n",
              "      <td>185.70</td>\n",
              "      <td>186.15</td>\n",
              "      <td>185.70</td>\n",
              "      <td>186.15</td>\n",
              "      <td>0.002423</td>\n",
              "      <td>0.001453</td>\n",
              "      <td>0.000376</td>\n",
              "      <td>0.002423</td>\n",
              "      <td>0.001668</td>\n",
              "      <td>-0.001341</td>\n",
              "      <td>-0.001877</td>\n",
              "      <td>-0.003746</td>\n",
              "      <td>-0.000698</td>\n",
              "      <td>-0.000912</td>\n",
              "      <td>-0.004599</td>\n",
              "      <td>-0.001663</td>\n",
              "      <td>-0.001716</td>\n",
              "      <td>-0.000966</td>\n",
              "      <td>1</td>\n",
              "      <td>1</td>\n",
              "      <td>1</td>\n",
              "      <td>1</td>\n",
              "      <td>1</td>\n",
              "      <td>0</td>\n",
              "      <td>0</td>\n",
              "      <td>0</td>\n",
              "      <td>0</td>\n",
              "      <td>0</td>\n",
              "      <td>0</td>\n",
              "      <td>0</td>\n",
              "      <td>0</td>\n",
              "      <td>0</td>\n",
              "    </tr>\n",
              "    <tr>\n",
              "      <th>40863</th>\n",
              "      <td>186.15</td>\n",
              "      <td>186.35</td>\n",
              "      <td>186.00</td>\n",
              "      <td>186.02</td>\n",
              "      <td>-0.000698</td>\n",
              "      <td>0.001723</td>\n",
              "      <td>0.000753</td>\n",
              "      <td>-0.000322</td>\n",
              "      <td>0.001723</td>\n",
              "      <td>0.000969</td>\n",
              "      <td>-0.002039</td>\n",
              "      <td>-0.002574</td>\n",
              "      <td>-0.004442</td>\n",
              "      <td>-0.001396</td>\n",
              "      <td>-0.001610</td>\n",
              "      <td>-0.005294</td>\n",
              "      <td>-0.002360</td>\n",
              "      <td>-0.002413</td>\n",
              "      <td>0</td>\n",
              "      <td>1</td>\n",
              "      <td>1</td>\n",
              "      <td>0</td>\n",
              "      <td>1</td>\n",
              "      <td>1</td>\n",
              "      <td>0</td>\n",
              "      <td>0</td>\n",
              "      <td>0</td>\n",
              "      <td>0</td>\n",
              "      <td>0</td>\n",
              "      <td>0</td>\n",
              "      <td>0</td>\n",
              "      <td>0</td>\n",
              "    </tr>\n",
              "    <tr>\n",
              "      <th>40864</th>\n",
              "      <td>186.05</td>\n",
              "      <td>186.49</td>\n",
              "      <td>185.97</td>\n",
              "      <td>186.34</td>\n",
              "      <td>0.001720</td>\n",
              "      <td>0.001021</td>\n",
              "      <td>0.003446</td>\n",
              "      <td>0.002475</td>\n",
              "      <td>0.001397</td>\n",
              "      <td>0.003446</td>\n",
              "      <td>0.002690</td>\n",
              "      <td>-0.000322</td>\n",
              "      <td>-0.000858</td>\n",
              "      <td>-0.002729</td>\n",
              "      <td>0.000322</td>\n",
              "      <td>0.000107</td>\n",
              "      <td>-0.003583</td>\n",
              "      <td>-0.000644</td>\n",
              "      <td>1</td>\n",
              "      <td>1</td>\n",
              "      <td>1</td>\n",
              "      <td>1</td>\n",
              "      <td>1</td>\n",
              "      <td>1</td>\n",
              "      <td>1</td>\n",
              "      <td>0</td>\n",
              "      <td>0</td>\n",
              "      <td>0</td>\n",
              "      <td>1</td>\n",
              "      <td>1</td>\n",
              "      <td>0</td>\n",
              "      <td>0</td>\n",
              "    </tr>\n",
              "  </tbody>\n",
              "</table>\n",
              "</div>"
            ],
            "text/plain": [
              "         Open    High     Low   Close  ...  Y_11  Y_12  Y_13  Y_14\n",
              "40860  186.07  186.08  185.78  185.88  ...     0     0     1     1\n",
              "40861  185.88  185.95  185.70  185.70  ...     0     0     0     1\n",
              "40862  185.70  186.15  185.70  186.15  ...     0     0     0     0\n",
              "40863  186.15  186.35  186.00  186.02  ...     0     0     0     0\n",
              "40864  186.05  186.49  185.97  186.34  ...     1     1     0     0\n",
              "\n",
              "[5 rows x 32 columns]"
            ]
          },
          "metadata": {
            "tags": []
          },
          "execution_count": 10
        }
      ]
    },
    {
      "cell_type": "markdown",
      "metadata": {
        "id": "gNQsFCyLwtBg"
      },
      "source": [
        "### Вычисление направления движения Close как ohe"
      ]
    },
    {
      "cell_type": "code",
      "metadata": {
        "id": "VOvBf_0eBCRt"
      },
      "source": [
        "# Маркируем направление движения\n",
        "indicator_name = 'Close_chng_%d' % (step_in_the_last)\n",
        "\n",
        "a = data[data[indicator_name] < -plato_lvl]\n",
        "a.loc[:, indicator_name] = 0\n",
        "a.rename(columns = {indicator_name: 'Down'}, inplace=True)\n",
        "\n",
        "b = data[data[indicator_name] >= -plato_lvl]\n",
        "b.loc[:, indicator_name] = 0.\n",
        "b.rename(columns = {indicator_name: 'Stay'}, inplace=True)\n",
        "\n",
        "c = data[data[indicator_name] > plato_lvl]\n",
        "c.loc[:, indicator_name] = 1.\n",
        "c.rename(columns = {indicator_name: 'Up'}, inplace=True)"
      ],
      "execution_count": null,
      "outputs": []
    },
    {
      "cell_type": "code",
      "metadata": {
        "id": "4-yH3xRhXwPH",
        "colab": {
          "base_uri": "https://localhost:8080/"
        },
        "outputId": "66b42357-672c-410c-9552-1ca02410a6dc"
      },
      "source": [
        "data_UpDown = pd.concat([a['Down'], b['Stay'], c['Up']], axis=1)\n",
        "data_UpDown = data_UpDown.fillna(0)\n",
        "data_UpDown['Y'] = data_UpDown['Down'] + data_UpDown['Stay'] + data_UpDown['Up']\n",
        "print(data_UpDown.shape)\n",
        "data_UpDown[-10:]\n",
        "\n",
        "#del data[indicator_name]"
      ],
      "execution_count": null,
      "outputs": [
        {
          "output_type": "stream",
          "text": [
            "(18804, 4)\n"
          ],
          "name": "stdout"
        },
        {
          "output_type": "execute_result",
          "data": {
            "text/html": [
              "<div>\n",
              "<style scoped>\n",
              "    .dataframe tbody tr th:only-of-type {\n",
              "        vertical-align: middle;\n",
              "    }\n",
              "\n",
              "    .dataframe tbody tr th {\n",
              "        vertical-align: top;\n",
              "    }\n",
              "\n",
              "    .dataframe thead th {\n",
              "        text-align: right;\n",
              "    }\n",
              "</style>\n",
              "<table border=\"1\" class=\"dataframe\">\n",
              "  <thead>\n",
              "    <tr style=\"text-align: right;\">\n",
              "      <th></th>\n",
              "      <th>Down</th>\n",
              "      <th>Stay</th>\n",
              "      <th>Up</th>\n",
              "      <th>Y</th>\n",
              "    </tr>\n",
              "  </thead>\n",
              "  <tbody>\n",
              "    <tr>\n",
              "      <th>40855</th>\n",
              "      <td>0.0</td>\n",
              "      <td>0.0</td>\n",
              "      <td>1.0</td>\n",
              "      <td>1.0</td>\n",
              "    </tr>\n",
              "    <tr>\n",
              "      <th>40856</th>\n",
              "      <td>0.0</td>\n",
              "      <td>0.0</td>\n",
              "      <td>1.0</td>\n",
              "      <td>1.0</td>\n",
              "    </tr>\n",
              "    <tr>\n",
              "      <th>40857</th>\n",
              "      <td>0.0</td>\n",
              "      <td>0.0</td>\n",
              "      <td>1.0</td>\n",
              "      <td>1.0</td>\n",
              "    </tr>\n",
              "    <tr>\n",
              "      <th>40858</th>\n",
              "      <td>0.0</td>\n",
              "      <td>0.0</td>\n",
              "      <td>1.0</td>\n",
              "      <td>1.0</td>\n",
              "    </tr>\n",
              "    <tr>\n",
              "      <th>40859</th>\n",
              "      <td>0.0</td>\n",
              "      <td>0.0</td>\n",
              "      <td>1.0</td>\n",
              "      <td>1.0</td>\n",
              "    </tr>\n",
              "    <tr>\n",
              "      <th>40860</th>\n",
              "      <td>0.0</td>\n",
              "      <td>0.0</td>\n",
              "      <td>1.0</td>\n",
              "      <td>1.0</td>\n",
              "    </tr>\n",
              "    <tr>\n",
              "      <th>40861</th>\n",
              "      <td>0.0</td>\n",
              "      <td>0.0</td>\n",
              "      <td>1.0</td>\n",
              "      <td>1.0</td>\n",
              "    </tr>\n",
              "    <tr>\n",
              "      <th>40862</th>\n",
              "      <td>0.0</td>\n",
              "      <td>0.0</td>\n",
              "      <td>0.0</td>\n",
              "      <td>0.0</td>\n",
              "    </tr>\n",
              "    <tr>\n",
              "      <th>40863</th>\n",
              "      <td>0.0</td>\n",
              "      <td>0.0</td>\n",
              "      <td>0.0</td>\n",
              "      <td>0.0</td>\n",
              "    </tr>\n",
              "    <tr>\n",
              "      <th>40864</th>\n",
              "      <td>0.0</td>\n",
              "      <td>0.0</td>\n",
              "      <td>0.0</td>\n",
              "      <td>0.0</td>\n",
              "    </tr>\n",
              "  </tbody>\n",
              "</table>\n",
              "</div>"
            ],
            "text/plain": [
              "       Down  Stay   Up    Y\n",
              "40855   0.0   0.0  1.0  1.0\n",
              "40856   0.0   0.0  1.0  1.0\n",
              "40857   0.0   0.0  1.0  1.0\n",
              "40858   0.0   0.0  1.0  1.0\n",
              "40859   0.0   0.0  1.0  1.0\n",
              "40860   0.0   0.0  1.0  1.0\n",
              "40861   0.0   0.0  1.0  1.0\n",
              "40862   0.0   0.0  0.0  0.0\n",
              "40863   0.0   0.0  0.0  0.0\n",
              "40864   0.0   0.0  0.0  0.0"
            ]
          },
          "metadata": {
            "tags": []
          },
          "execution_count": 12
        }
      ]
    },
    {
      "cell_type": "code",
      "metadata": {
        "id": "gIsiTn4JfSHb",
        "colab": {
          "base_uri": "https://localhost:8080/"
        },
        "outputId": "1bcb1143-57cf-4fea-8f4b-4729de6577fa"
      },
      "source": [
        "# удаляю лишнее\n",
        "del data_UpDown['Down'], data_UpDown['Stay'], data_UpDown['Up']\n",
        "print(data_UpDown.shape)\n",
        "data_UpDown[-10:]"
      ],
      "execution_count": null,
      "outputs": [
        {
          "output_type": "stream",
          "text": [
            "(18804, 1)\n"
          ],
          "name": "stdout"
        },
        {
          "output_type": "execute_result",
          "data": {
            "text/html": [
              "<div>\n",
              "<style scoped>\n",
              "    .dataframe tbody tr th:only-of-type {\n",
              "        vertical-align: middle;\n",
              "    }\n",
              "\n",
              "    .dataframe tbody tr th {\n",
              "        vertical-align: top;\n",
              "    }\n",
              "\n",
              "    .dataframe thead th {\n",
              "        text-align: right;\n",
              "    }\n",
              "</style>\n",
              "<table border=\"1\" class=\"dataframe\">\n",
              "  <thead>\n",
              "    <tr style=\"text-align: right;\">\n",
              "      <th></th>\n",
              "      <th>Y</th>\n",
              "    </tr>\n",
              "  </thead>\n",
              "  <tbody>\n",
              "    <tr>\n",
              "      <th>40855</th>\n",
              "      <td>1.0</td>\n",
              "    </tr>\n",
              "    <tr>\n",
              "      <th>40856</th>\n",
              "      <td>1.0</td>\n",
              "    </tr>\n",
              "    <tr>\n",
              "      <th>40857</th>\n",
              "      <td>1.0</td>\n",
              "    </tr>\n",
              "    <tr>\n",
              "      <th>40858</th>\n",
              "      <td>1.0</td>\n",
              "    </tr>\n",
              "    <tr>\n",
              "      <th>40859</th>\n",
              "      <td>1.0</td>\n",
              "    </tr>\n",
              "    <tr>\n",
              "      <th>40860</th>\n",
              "      <td>1.0</td>\n",
              "    </tr>\n",
              "    <tr>\n",
              "      <th>40861</th>\n",
              "      <td>1.0</td>\n",
              "    </tr>\n",
              "    <tr>\n",
              "      <th>40862</th>\n",
              "      <td>0.0</td>\n",
              "    </tr>\n",
              "    <tr>\n",
              "      <th>40863</th>\n",
              "      <td>0.0</td>\n",
              "    </tr>\n",
              "    <tr>\n",
              "      <th>40864</th>\n",
              "      <td>0.0</td>\n",
              "    </tr>\n",
              "  </tbody>\n",
              "</table>\n",
              "</div>"
            ],
            "text/plain": [
              "         Y\n",
              "40855  1.0\n",
              "40856  1.0\n",
              "40857  1.0\n",
              "40858  1.0\n",
              "40859  1.0\n",
              "40860  1.0\n",
              "40861  1.0\n",
              "40862  0.0\n",
              "40863  0.0\n",
              "40864  0.0"
            ]
          },
          "metadata": {
            "tags": []
          },
          "execution_count": 13
        }
      ]
    },
    {
      "cell_type": "code",
      "metadata": {
        "id": "0jyEhXPubk-I",
        "colab": {
          "base_uri": "https://localhost:8080/"
        },
        "outputId": "ba39f354-a19f-4bc7-d415-4d80ba71aa87"
      },
      "source": [
        "# превожу в to_categorical\n",
        "from keras.utils import to_categorical\n",
        "categorical_labels = to_categorical(data_UpDown, num_classes = 2)\n",
        "print(len(categorical_labels))\n",
        "categorical_labels[-10:]"
      ],
      "execution_count": null,
      "outputs": [
        {
          "output_type": "stream",
          "text": [
            "18804\n"
          ],
          "name": "stdout"
        },
        {
          "output_type": "execute_result",
          "data": {
            "text/plain": [
              "array([[0., 1.],\n",
              "       [0., 1.],\n",
              "       [0., 1.],\n",
              "       [0., 1.],\n",
              "       [0., 1.],\n",
              "       [0., 1.],\n",
              "       [0., 1.],\n",
              "       [1., 0.],\n",
              "       [1., 0.],\n",
              "       [1., 0.]], dtype=float32)"
            ]
          },
          "metadata": {
            "tags": []
          },
          "execution_count": 14
        }
      ]
    },
    {
      "cell_type": "markdown",
      "metadata": {
        "id": "WwEWUmSOE6c9"
      },
      "source": [
        "## Делим на обучающую, тестовую и валидационную выборки"
      ]
    },
    {
      "cell_type": "code",
      "metadata": {
        "colab": {
          "base_uri": "https://localhost:8080/",
          "height": 207
        },
        "id": "kfFwHTHTbZUT",
        "outputId": "7bb32d1a-b69e-449c-f864-ec112796e972"
      },
      "source": [
        "for i in range(1, step_in_the_last + 1):\n",
        "  indicator_name = 'Close_chng_%d' % (i)\n",
        "  del data[indicator_name]\n",
        "\n",
        "del data['Open'], data['High'], data['Low']\n",
        "\n",
        "print(data.shape)\n",
        "data[-5:]"
      ],
      "execution_count": null,
      "outputs": [
        {
          "output_type": "stream",
          "text": [
            "(18804, 15)\n"
          ],
          "name": "stdout"
        },
        {
          "output_type": "execute_result",
          "data": {
            "text/html": [
              "<div>\n",
              "<style scoped>\n",
              "    .dataframe tbody tr th:only-of-type {\n",
              "        vertical-align: middle;\n",
              "    }\n",
              "\n",
              "    .dataframe tbody tr th {\n",
              "        vertical-align: top;\n",
              "    }\n",
              "\n",
              "    .dataframe thead th {\n",
              "        text-align: right;\n",
              "    }\n",
              "</style>\n",
              "<table border=\"1\" class=\"dataframe\">\n",
              "  <thead>\n",
              "    <tr style=\"text-align: right;\">\n",
              "      <th></th>\n",
              "      <th>Close</th>\n",
              "      <th>Y_1</th>\n",
              "      <th>Y_2</th>\n",
              "      <th>Y_3</th>\n",
              "      <th>Y_4</th>\n",
              "      <th>Y_5</th>\n",
              "      <th>Y_6</th>\n",
              "      <th>Y_7</th>\n",
              "      <th>Y_8</th>\n",
              "      <th>Y_9</th>\n",
              "      <th>Y_10</th>\n",
              "      <th>Y_11</th>\n",
              "      <th>Y_12</th>\n",
              "      <th>Y_13</th>\n",
              "      <th>Y_14</th>\n",
              "    </tr>\n",
              "  </thead>\n",
              "  <tbody>\n",
              "    <tr>\n",
              "      <th>40860</th>\n",
              "      <td>185.88</td>\n",
              "      <td>0</td>\n",
              "      <td>1</td>\n",
              "      <td>1</td>\n",
              "      <td>0</td>\n",
              "      <td>0</td>\n",
              "      <td>0</td>\n",
              "      <td>0</td>\n",
              "      <td>0</td>\n",
              "      <td>0</td>\n",
              "      <td>0</td>\n",
              "      <td>0</td>\n",
              "      <td>0</td>\n",
              "      <td>1</td>\n",
              "      <td>1</td>\n",
              "    </tr>\n",
              "    <tr>\n",
              "      <th>40861</th>\n",
              "      <td>185.70</td>\n",
              "      <td>0</td>\n",
              "      <td>0</td>\n",
              "      <td>0</td>\n",
              "      <td>0</td>\n",
              "      <td>0</td>\n",
              "      <td>0</td>\n",
              "      <td>0</td>\n",
              "      <td>0</td>\n",
              "      <td>0</td>\n",
              "      <td>0</td>\n",
              "      <td>0</td>\n",
              "      <td>0</td>\n",
              "      <td>0</td>\n",
              "      <td>1</td>\n",
              "    </tr>\n",
              "    <tr>\n",
              "      <th>40862</th>\n",
              "      <td>186.15</td>\n",
              "      <td>1</td>\n",
              "      <td>1</td>\n",
              "      <td>1</td>\n",
              "      <td>1</td>\n",
              "      <td>1</td>\n",
              "      <td>0</td>\n",
              "      <td>0</td>\n",
              "      <td>0</td>\n",
              "      <td>0</td>\n",
              "      <td>0</td>\n",
              "      <td>0</td>\n",
              "      <td>0</td>\n",
              "      <td>0</td>\n",
              "      <td>0</td>\n",
              "    </tr>\n",
              "    <tr>\n",
              "      <th>40863</th>\n",
              "      <td>186.02</td>\n",
              "      <td>0</td>\n",
              "      <td>1</td>\n",
              "      <td>1</td>\n",
              "      <td>0</td>\n",
              "      <td>1</td>\n",
              "      <td>1</td>\n",
              "      <td>0</td>\n",
              "      <td>0</td>\n",
              "      <td>0</td>\n",
              "      <td>0</td>\n",
              "      <td>0</td>\n",
              "      <td>0</td>\n",
              "      <td>0</td>\n",
              "      <td>0</td>\n",
              "    </tr>\n",
              "    <tr>\n",
              "      <th>40864</th>\n",
              "      <td>186.34</td>\n",
              "      <td>1</td>\n",
              "      <td>1</td>\n",
              "      <td>1</td>\n",
              "      <td>1</td>\n",
              "      <td>1</td>\n",
              "      <td>1</td>\n",
              "      <td>1</td>\n",
              "      <td>0</td>\n",
              "      <td>0</td>\n",
              "      <td>0</td>\n",
              "      <td>1</td>\n",
              "      <td>1</td>\n",
              "      <td>0</td>\n",
              "      <td>0</td>\n",
              "    </tr>\n",
              "  </tbody>\n",
              "</table>\n",
              "</div>"
            ],
            "text/plain": [
              "        Close  Y_1  Y_2  Y_3  Y_4  Y_5  ...  Y_9  Y_10  Y_11  Y_12  Y_13  Y_14\n",
              "40860  185.88    0    1    1    0    0  ...    0     0     0     0     1     1\n",
              "40861  185.70    0    0    0    0    0  ...    0     0     0     0     0     1\n",
              "40862  186.15    1    1    1    1    1  ...    0     0     0     0     0     0\n",
              "40863  186.02    0    1    1    0    1  ...    0     0     0     0     0     0\n",
              "40864  186.34    1    1    1    1    1  ...    0     0     1     1     0     0\n",
              "\n",
              "[5 rows x 15 columns]"
            ]
          },
          "metadata": {
            "tags": []
          },
          "execution_count": 15
        }
      ]
    },
    {
      "cell_type": "markdown",
      "metadata": {
        "id": "I0USlgxT-b4j"
      },
      "source": [
        "### Деление на выборки train, test, val"
      ]
    },
    {
      "cell_type": "code",
      "metadata": {
        "id": "75w1E2jWV_BH",
        "colab": {
          "base_uri": "https://localhost:8080/"
        },
        "outputId": "04864c93-8522-4e26-b4f7-6221e3b2139f"
      },
      "source": [
        "data = data.values\n",
        "print(data.shape, type(data))"
      ],
      "execution_count": null,
      "outputs": [
        {
          "output_type": "stream",
          "text": [
            "(18804, 15) <class 'numpy.ndarray'>\n"
          ],
          "name": "stdout"
        }
      ]
    },
    {
      "cell_type": "code",
      "metadata": {
        "id": "RC1XWySBX7Il",
        "colab": {
          "base_uri": "https://localhost:8080/"
        },
        "outputId": "63598460-eba4-4a27-8eaf-60c8d48aef0c"
      },
      "source": [
        "# берем для xTest последние 20% значений, но кратно n_steps\n",
        "#n_train = int(len(data)*test_lvl//n_steps*n_steps) #  то, что уходит в train \n",
        "n_train = 600\n",
        "xTrain = data[:-n_train]\n",
        "xTest = data[-n_train:]\n",
        "yTrain = categorical_labels[:-n_train]\n",
        "yTest = categorical_labels[-n_train:]\n",
        "\n",
        "print('xTrain: ', xTrain.shape, '\\tyTrain:', yTrain.shape,\n",
        "      '\\nxTest:  ', xTest.shape, '\\tyTest: ', yTest.shape)\n",
        "xTrain.shape[0]+xTest.shape[0]"
      ],
      "execution_count": null,
      "outputs": [
        {
          "output_type": "stream",
          "text": [
            "xTrain:  (18204, 15) \tyTrain: (18204, 2) \n",
            "xTest:   (600, 15) \tyTest:  (600, 2)\n"
          ],
          "name": "stdout"
        },
        {
          "output_type": "execute_result",
          "data": {
            "text/plain": [
              "18804"
            ]
          },
          "metadata": {
            "tags": []
          },
          "execution_count": 17
        }
      ]
    },
    {
      "cell_type": "code",
      "metadata": {
        "id": "5pI9zzSG2KHD",
        "colab": {
          "base_uri": "https://localhost:8080/"
        },
        "outputId": "73a85de4-62b5-4736-f5f5-4200e6b1e34a"
      },
      "source": [
        "data[-n_train:][-1] # последняя подаваемая строка"
      ],
      "execution_count": null,
      "outputs": [
        {
          "output_type": "execute_result",
          "data": {
            "text/plain": [
              "array([186.34,   1.  ,   1.  ,   1.  ,   1.  ,   1.  ,   1.  ,   1.  ,\n",
              "         0.  ,   0.  ,   0.  ,   1.  ,   1.  ,   0.  ,   0.  ])"
            ]
          },
          "metadata": {
            "tags": []
          },
          "execution_count": 18
        }
      ]
    },
    {
      "cell_type": "markdown",
      "metadata": {
        "id": "H5pwceY0behd"
      },
      "source": [
        "### Скалирование Х"
      ]
    },
    {
      "cell_type": "code",
      "metadata": {
        "id": "A5NcdirrTnC1",
        "colab": {
          "base_uri": "https://localhost:8080/"
        },
        "outputId": "809611a9-64f2-4df6-90dd-1f011087fa49"
      },
      "source": [
        "from sklearn.preprocessing import StandardScaler, RobustScaler, MinMaxScaler # проверить все\n",
        "\"\"\" \n",
        "# Масштабируем только X\n",
        "\"\"\"\n",
        "#xScaler = StandardScaler()\n",
        "xScaler = RobustScaler()\n",
        "#xScaler = MinMaxScaler()\n",
        "xScaler.fit(xTrain)\n",
        "xTrain = xScaler.transform(xTrain)\n",
        "xTest = xScaler.transform(xTest)\n",
        "\n",
        "print(xTrain.shape, xTest.shape, type(xTrain))\n",
        "xTest[-1:]"
      ],
      "execution_count": null,
      "outputs": [
        {
          "output_type": "stream",
          "text": [
            "(18204, 15) (600, 15) <class 'numpy.ndarray'>\n"
          ],
          "name": "stdout"
        },
        {
          "output_type": "execute_result",
          "data": {
            "text/plain": [
              "array([[ 1.42205261,  1.        ,  0.        ,  0.        ,  0.        ,\n",
              "         0.        ,  0.        ,  0.        , -1.        , -1.        ,\n",
              "        -1.        ,  0.        ,  0.        , -1.        , -1.        ]])"
            ]
          },
          "metadata": {
            "tags": []
          },
          "execution_count": 19
        }
      ]
    },
    {
      "cell_type": "code",
      "metadata": {
        "id": "7Aia51QS41m-",
        "colab": {
          "base_uri": "https://localhost:8080/"
        },
        "outputId": "05a7d72d-d241-4b45-facc-b3ad9b0a36fd"
      },
      "source": [
        "# проверяю обратную трансформацию\n",
        "x = xScaler.inverse_transform(xTest[-1:])\n",
        "x[-1][0]"
      ],
      "execution_count": null,
      "outputs": [
        {
          "output_type": "execute_result",
          "data": {
            "text/plain": [
              "186.34"
            ]
          },
          "metadata": {
            "tags": []
          },
          "execution_count": 20
        }
      ]
    },
    {
      "cell_type": "markdown",
      "metadata": {
        "id": "SZDAQd4O-Rt7"
      },
      "source": [
        "### Превращение в TimeSeries"
      ]
    },
    {
      "cell_type": "code",
      "metadata": {
        "id": "TKuSaooHE6c9"
      },
      "source": [
        "\"\"\"\n",
        "#### Функция разделения массива на выборки для обучения нейросети \n",
        "\"\"\"\n",
        "# sequence = строка массива df\n",
        "# n_steps = число баров в прошлом для анализа - необходимо найти оптимальный!!\n",
        "# forvard_lag = предсказание какого бара в будущем делаем \n",
        "\n",
        "def split_sequence(sequence, Y, n_steps, forvard_lag):\n",
        "  # sequence = df.values - это массив из данных\n",
        "  # n_steps = число баров в прошлом для анализа\n",
        "  X, y = list(), list()\n",
        "  for i in range(len(sequence)):\n",
        "    end_ix = i + n_steps # находим конечный индекс строки\n",
        "    if end_ix + (forvard_lag-1) > len(sequence)-1: # cпроверем чтобы не выйти за пределы массива\n",
        "      break \n",
        "    # получаем X и y\n",
        "    seq_x, seq_y = sequence[i:end_ix], Y[end_ix + (forvard_lag - 1)]\n",
        "    X.append(seq_x)\n",
        "    y.append(seq_y) # тк предсказываем только Close\n",
        "  return array(X), array(y)"
      ],
      "execution_count": null,
      "outputs": []
    },
    {
      "cell_type": "code",
      "metadata": {
        "id": "cUjS937BE6dB",
        "colab": {
          "base_uri": "https://localhost:8080/"
        },
        "outputId": "39d92b3d-e5f4-4439-b08f-9904604d3379"
      },
      "source": [
        "\"\"\"\n",
        "# Число баров в прошлом для анализа - место для эксперимента от 0 до 90\n",
        "\"\"\"\n",
        "# Формируем выборки для обучения нейросети\n",
        "xTrain, yTrain = split_sequence(xTrain, yTrain, n_steps, forvard_lag)\n",
        "\n",
        "print('\\nОбратите внимание на потерянные n_steps данных в начале выборки:')\n",
        "print('Массивы xTrain и yTrain:\\t', xTrain.shape, yTrain.shape)\n",
        "\n",
        "#y[97:102], X[97:102]  # чтобы проверить наличие сдвига"
      ],
      "execution_count": null,
      "outputs": [
        {
          "output_type": "stream",
          "text": [
            "\n",
            "Обратите внимание на потерянные n_steps данных в начале выборки:\n",
            "Массивы xTrain и yTrain:\t (18185, 19, 15) (18185, 2)\n"
          ],
          "name": "stdout"
        }
      ]
    },
    {
      "cell_type": "code",
      "metadata": {
        "id": "6cBzpRuDcDax",
        "colab": {
          "base_uri": "https://localhost:8080/"
        },
        "outputId": "3e3f5f63-5ee8-4d14-d5f2-a7d84553ed6c"
      },
      "source": [
        "\"\"\"\n",
        "# Число баров в прошлом для анализа - место для эксперимента от 0 до 90\n",
        "\"\"\"\n",
        "# Формируем выборки для обучения нейросети\n",
        "xTest, yTest = split_sequence(xTest, yTest, n_steps, forvard_lag)\n",
        "\n",
        "print('\\nОбратите внимание на потерянные n_steps данных в начале выборки:')\n",
        "print('Массивы xTest и yTest:\\t', xTest.shape, yTest.shape)\n",
        "\n",
        "#y[97:102], X[97:102]  # чтобы проверить наличие сдвига"
      ],
      "execution_count": null,
      "outputs": [
        {
          "output_type": "stream",
          "text": [
            "\n",
            "Обратите внимание на потерянные n_steps данных в начале выборки:\n",
            "Массивы xTest и yTest:\t (581, 19, 15) (581, 2)\n"
          ],
          "name": "stdout"
        }
      ]
    },
    {
      "cell_type": "code",
      "metadata": {
        "id": "TA2k4VmpE6dE"
      },
      "source": [
        "#from sklearn.model_selection import train_test_split\n",
        "#xTrain, xTest, yTrain, yTest = train_test_split(X, y, test_size=0.2, shuffle=False) # эксперимент с True\n",
        "#print('xTrain: ', xTrain.shape, '\\tyTrain:', yTrain.shape,\n",
        "#      '\\nxTest:  ', xTest.shape, '\\tyTest: ', yTest.shape)"
      ],
      "execution_count": null,
      "outputs": []
    },
    {
      "cell_type": "code",
      "metadata": {
        "id": "lJP6TNNt3aU7",
        "colab": {
          "base_uri": "https://localhost:8080/"
        },
        "outputId": "1349c5b3-57fd-4187-ba8b-b9ebf96bd9a5"
      },
      "source": [
        "close = xScaler.inverse_transform(xTest[-1])\n",
        "#close[-1][3], yTest[-1]\n",
        "close[-1][0], yTest[-1]"
      ],
      "execution_count": null,
      "outputs": [
        {
          "output_type": "execute_result",
          "data": {
            "text/plain": [
              "(186.02, array([1., 0.], dtype=float32))"
            ]
          },
          "metadata": {
            "tags": []
          },
          "execution_count": 25
        }
      ]
    },
    {
      "cell_type": "code",
      "metadata": {
        "id": "1mC3U5bV3c39",
        "colab": {
          "base_uri": "https://localhost:8080/"
        },
        "outputId": "aea75e2c-f74c-4ec5-89a9-6e78bcc781f4"
      },
      "source": [
        "close = xScaler.inverse_transform(xTest[-2])\n",
        "#close[-1][3], yTest[-2]\n",
        "close[-1][0], yTest[-2]"
      ],
      "execution_count": null,
      "outputs": [
        {
          "output_type": "execute_result",
          "data": {
            "text/plain": [
              "(186.15, array([1., 0.], dtype=float32))"
            ]
          },
          "metadata": {
            "tags": []
          },
          "execution_count": 26
        }
      ]
    },
    {
      "cell_type": "markdown",
      "metadata": {
        "id": "N_t4U7JSeJ6Q"
      },
      "source": [
        "# Нейросети"
      ]
    },
    {
      "cell_type": "code",
      "metadata": {
        "id": "2aFGJCTXv__F"
      },
      "source": [
        "from tensorflow.keras.models import Sequential, Model, load_model\n",
        "from tensorflow.keras.layers import (concatenate, Input, Dense, Dropout, BatchNormalization, Flatten, \n",
        "                                     GRU, LSTM, Bidirectional, Conv1D, SeparableConv1D, MaxPooling1D,\n",
        "                                     Reshape, RepeatVector, SpatialDropout1D, LeakyReLU, Embedding)\n",
        "from tensorflow.keras.optimizers import Adam, Nadam, RMSprop, Adamax\n",
        "from tensorflow.keras.callbacks import EarlyStopping, ReduceLROnPlateau, ModelCheckpoint\n",
        "from tensorflow.keras import utils\n",
        "from keras.utils import plot_model\n",
        "from IPython.display import clear_output"
      ],
      "execution_count": null,
      "outputs": []
    },
    {
      "cell_type": "code",
      "metadata": {
        "id": "rp0AlpkqfNkg"
      },
      "source": [
        "# Гиперпараметры\n",
        "drop = 0.2"
      ],
      "execution_count": null,
      "outputs": []
    },
    {
      "cell_type": "markdown",
      "metadata": {
        "id": "RDwk0rl6iJfr"
      },
      "source": [
        "###Conv1D"
      ]
    },
    {
      "cell_type": "code",
      "metadata": {
        "id": "ZRyh9NZsWTuZ"
      },
      "source": [
        "# -----------------------------\n",
        "# Conv1D = создаем модель\n",
        "# -----------------------------\n",
        "\n",
        "# xTrain.shape[1] - число шагов назад для обучения\n",
        "# xTrain.shape[2] - число столбцов в обучающей выборке\n",
        "  \n",
        "drop = 0.4\n",
        "input = Input(shape=(xTrain.shape[1], xTrain.shape[2]))\n",
        "\n",
        "x = Flatten()(input)\n",
        "x = RepeatVector(4)(x)\n",
        "x = Conv1D(n_steps*2, 5, padding='same', activation='relu')(x)\n",
        "x = MaxPooling1D(pool_size=2)(x)\n",
        "x = Flatten()(x)\n",
        "x = RepeatVector(4)(x)\n",
        "x = Conv1D(n_steps, 5, padding='same', activation='relu')(x)\n",
        "x = MaxPooling1D(pool_size=2)(x)\n",
        "x = Flatten()(x)\n",
        "x = Dense(n_steps*100, activation='relu')(x)\n",
        "x = Dropout(drop)(x)\n",
        "  #x = Dense(yTrain.shape[1], activation='softmax', dtype='float32')(x)\n",
        "x = Dense(yTrain.shape[1], activation='softmax')(x)\n",
        "model = Model(input, x)\n",
        "\n",
        "  #print(model.summary()) #Вывод структуры модели\n",
        "  #plot_model(model, dpi=50, show_shapes=True, show_layer_names=True)\n"
      ],
      "execution_count": null,
      "outputs": []
    },
    {
      "cell_type": "code",
      "metadata": {
        "id": "Vhu92fObl6MO"
      },
      "source": [
        "#input = Input(shape=(xTrain.shape[1], xTrain.shape[2]))\n",
        "# xTrain.shape[1] - число шагов назад для обучения\n",
        "# xTrain.shape[2] - число столбцов в обучающей выборке\n",
        "\n",
        "#x = LSTM(100, dropout=drop)(input)\n",
        "#x = RepeatVector(4)(x)\n",
        "#x = LSTM(100, dropout=drop)(x)\n",
        "\n",
        "#x = RepeatVector(4)(x)\n",
        "#x = Conv1D(n_steps*10, 10, padding='same', activation='relu')(x)\n",
        "#x = MaxPooling1D(pool_size=4)(x)\n",
        "\n",
        "#x = LSTM(100, dropout=drop)(x)\n",
        "#x = RepeatVector(4)(x)\n",
        "#x = LSTM(100, dropout=drop)(x)\n",
        "\n",
        "#x = RepeatVector(4)(x)\n",
        "#x = Conv1D(n_steps*10, 10, padding='same', activation='relu')(x)\n",
        "\n",
        "#x = Flatten()(x)\n",
        "#x = Dense(n_steps*100, activation='relu')(x)\n",
        "#x = Dropout(drop)(x)\n",
        "#x = Dense(yTrain.shape[1], activation='softmax')(x)\n",
        "\n",
        "#model = Model(input, x)\n",
        "\n",
        "#print(model.summary()) #Вывод структуры модели\n",
        "#plot_model(model, dpi=50, show_shapes=True, show_layer_names=True)"
      ],
      "execution_count": null,
      "outputs": []
    },
    {
      "cell_type": "code",
      "metadata": {
        "id": "CG26wL-owaYB"
      },
      "source": [
        "#input = Input(shape=(xTrain.shape[1], xTrain.shape[2]))\n",
        "#input = Input(shape=(xTrain.shape[1], xTrain.shape[2]))\n",
        "# xTrain.shape[1] - число шагов назад для обучения\n",
        "# xTrain.shape[2] - число столбцов в обучающей выборке\n",
        "#x = Flatten()(input)\n",
        "#x = RepeatVector(4)(x)\n",
        "#x = Conv1D(n_steps*2, 5, padding='same')(x) #relu, selu, softplus !!\n",
        "#x = LeakyReLU(alpha=0.1)(x) # Default to 0.3\n",
        "#x = MaxPooling1D(pool_size=2)(x)\n",
        "#x = LeakyReLU(alpha=0.1)(x)\n",
        "\n",
        "#x = Flatten()(x)\n",
        "#x = RepeatVector(4)(x)\n",
        "#x = Conv1D(n_steps, 5, padding='same')(x)\n",
        "#x = LeakyReLU(alpha=0.1)(x)\n",
        "#x = MaxPooling1D(pool_size=2)(x)\n",
        "#x = LeakyReLU(alpha=0.1)(x)\n",
        "\n",
        "#x = Flatten()(x)\n",
        "#x = Dense(n_steps*100)(x)\n",
        "#x = LeakyReLU(alpha=0.1)(x)\n",
        "#x = Dropout(drop)(x)\n",
        "#x = Dense(yTrain.shape[1], activation='sigmoid')(x)\n",
        "\n",
        "#model = Model(input, x)\n",
        "\n",
        "#print(model.summary()) #Вывод структуры модели\n",
        "#plot_model(model, dpi=50, show_shapes=True, show_layer_names=True)"
      ],
      "execution_count": null,
      "outputs": []
    },
    {
      "cell_type": "code",
      "metadata": {
        "id": "M3s4SdP2i_1i",
        "colab": {
          "base_uri": "https://localhost:8080/"
        },
        "outputId": "801d774a-d707-45e6-efc5-82d938385c60"
      },
      "source": [
        "#xTrain , yTrain = X, y # если не используется TimeSeries\n",
        "model.compile(optimizer=Adam(learning_rate = 5e-05),\n",
        "              #loss='categorical_crossentropy',\n",
        "              loss='binary_crossentropy',\n",
        "              metrics=['binary_accuracy']) \n",
        "\n",
        "os.chdir(path_models)\n",
        "# коллбэки\n",
        "early_stopping = EarlyStopping(monitor = 'val_binary_accuracy', patience = 12, verbose = 0, \n",
        "                               restore_best_weights = True, mode='max')\n",
        "reduce_lr = ReduceLROnPlateau(monitor = 'val_loss', factor=0.8, patience=4, min_lr=1e-07, verbose = 0)\n",
        "checkpoint = ModelCheckpoint('_SBER_Conv_1h_Up.h5', monitor='val_binary_accuracy', verbose = 0,\n",
        "                             save_best_only = True, mode='max')\n",
        "\n",
        "# fit model\n",
        "history = model.fit(xTrain, yTrain, epochs=200, verbose = 1,\n",
        "                    validation_data=(xTest, yTest),\n",
        "                    #batch_size = 1,\n",
        "                    callbacks = [early_stopping, reduce_lr, checkpoint])\n",
        "\n",
        "clear_output()\n",
        "plt.figure(figsize=(6,4))\n",
        "plt.plot(history.history['binary_accuracy'], label='binary_accuracy')\n",
        "plt.plot(history.history['val_binary_accuracy'], label='val_binary_accuracy')\n",
        "plt.plot(history.history['loss'], label='loss')\n",
        "plt.plot(history.history['val_loss'], label='val_loss')\n",
        "plt.legend()\n",
        "plt.grid()\n",
        "plt.show()"
      ],
      "execution_count": null,
      "outputs": [
        {
          "output_type": "display_data",
          "data": {
            "image/png": "[encoded data removed]",
            "text/plain": [
              "<Figure size 432x288 with 1 Axes>"
            ]
          },
          "metadata": {
            "tags": [],
            "needs_background": "light"
          }
        }
      ]
    },
    {
      "cell_type": "code",
      "metadata": {
        "id": "lg_FcvAyhLn5",
        "colab": {
          "base_uri": "https://localhost:8080/"
        },
        "outputId": "cad1c262-15ef-41c4-9c1c-40ca584a9d5c"
      },
      "source": [
        "os.chdir(path_models)\n",
        "model = load_model('_SBER_Conv_1h_Up.h5')\n",
        "\n",
        "# От себя добавил цикл для распознавания всех тестовых вариантов и вывода класса\n",
        "x_test = xTest[-200:]\n",
        "y_test_org = yTest[-200:]\n",
        "conv_test = []\n",
        "for i in range(len(x_test)):   # Выбираю пример\n",
        "  x = x_test[i]\n",
        "  x = np.expand_dims(x, axis=0)\n",
        "  prediction = model.predict(x) # Распознаём наш пример\n",
        "  #print('\\n',prediction)\n",
        "  prediction = np.argmax(prediction) # Получаем индекс самого большого элемента (это итоговая цифра)\n",
        "\n",
        "  if prediction == np.argmax(y_test_org[i]):\n",
        "    conv_test.append('True')\n",
        "  else:\n",
        "    conv_test.append('False')\n",
        "\n",
        "  print('Index:', i, '\\tPrediction:', prediction, 'Real:', np.argmax(y_test_org[i]),\n",
        "        '\\t====>', y_test_org[i])\n",
        "\n",
        "clear_output()\n",
        "from collections import Counter\n",
        "accuracyConv = Counter(conv_test)\n",
        "print(accuracyConv)"
      ],
      "execution_count": null,
      "outputs": [
        {
          "output_type": "stream",
          "text": [
            "Counter({'True': 191, 'False': 9})\n"
          ],
          "name": "stdout"
        }
      ]
    },
    {
      "cell_type": "markdown",
      "metadata": {
        "id": "PKfKN01ZEuR_"
      },
      "source": [
        "###Dense"
      ]
    },
    {
      "cell_type": "code",
      "metadata": {
        "id": "kHzMAnQxmIF7"
      },
      "source": [
        "drop = 0.4\n",
        "input = Input(shape=(xTrain.shape[1], xTrain.shape[2]))\n",
        "# xTrain.shape[1] - число шагов назад для обучения\n",
        "# xTrain.shape[2] - число столбцов в обучающей выборке\n",
        "x = Flatten()(input)\n",
        "x = Dense(n_steps*500, activation='relu')(x)\n",
        "x = Dropout(drop)(x)\n",
        "x = Dense(n_steps*100, activation='relu')(x)\n",
        "x = Dropout(drop)(x)\n",
        "\n",
        "#x = RepeatVector(2)(x)\n",
        "#x = LSTM(120, dropout=drop)(x)\n",
        "#x = Dense(n_steps, activation='relu')(x)\n",
        "\n",
        "x = Dense(yTrain.shape[1], activation='softmax')(x)\n",
        "model = Model(input, x)\n",
        "\n",
        "#print(model.summary())"
      ],
      "execution_count": null,
      "outputs": []
    },
    {
      "cell_type": "code",
      "metadata": {
        "id": "CFTsARMhEuSA"
      },
      "source": [
        "#input = Input(shape=(xTrain.shape[1], xTrain.shape[2]))\n",
        "# xTrain.shape[1] - число шагов назад для обучения\n",
        "# xTrain.shape[2] - число столбцов в обучающей выборке\n",
        "#x = Flatten()(input)\n",
        "#x = Dense(n_steps*100)(x)\n",
        "#x = LeakyReLU(alpha=0.1)(x) # Default to 0.3\n",
        "#x = Dropout(drop)(x)\n",
        "\n",
        "#x = Dense(yTrain.shape[1], activation='sigmoid')(x)\n",
        "#model = Model(input, x)\n",
        "\n",
        "#print(model.summary())"
      ],
      "execution_count": null,
      "outputs": []
    },
    {
      "cell_type": "code",
      "metadata": {
        "id": "Q_EgqPcIEuSE",
        "colab": {
          "base_uri": "https://localhost:8080/"
        },
        "outputId": "19de6164-c006-45ab-dfa7-9730ded39661"
      },
      "source": [
        "#xTrain , yTrain = X, y # если не используется TimeSeries\n",
        "model.compile(optimizer=Adam(learning_rate = 1e-05),\n",
        "              loss='binary_crossentropy',\n",
        "              metrics=['binary_accuracy']) \n",
        "\n",
        "os.chdir(path_models)\n",
        "\n",
        "# коллбэки\n",
        "early_stopping = EarlyStopping(monitor = 'val_binary_accuracy', patience = 12, verbose = 0, \n",
        "                               restore_best_weights = True, mode='max')\n",
        "reduce_lr = ReduceLROnPlateau(monitor = 'val_loss', factor=0.8, patience=4, min_lr=1e-07, verbose = 1)\n",
        "checkpoint = ModelCheckpoint('_SBER_Dense_1h_Up.h5', monitor='val_binary_accuracy', verbose = 1,\n",
        "                             save_best_only = True, mode='max')\n",
        "\n",
        "# fit model\n",
        "history = model.fit(xTrain, yTrain, epochs=200, verbose = 0,\n",
        "                    validation_data = (xTest, yTest),\n",
        "                    #batch_size = 1,\n",
        "                    callbacks = [early_stopping, reduce_lr, checkpoint])\n",
        "\n",
        "clear_output()\n",
        "plt.figure(figsize=(6,4))\n",
        "plt.plot(history.history['binary_accuracy'], label='binary_accuracy')\n",
        "plt.plot(history.history['val_binary_accuracy'], label='val_binary_accuracy')\n",
        "plt.plot(history.history['loss'], label='loss')\n",
        "plt.plot(history.history['val_loss'], label='val_loss')\n",
        "plt.legend()\n",
        "plt.grid()\n",
        "plt.show()"
      ],
      "execution_count": null,
      "outputs": [
        {
          "output_type": "display_data",
          "data": {
            "image/png": "[encoded data removed]",
            "text/plain": [
              "<Figure size 432x288 with 1 Axes>"
            ]
          },
          "metadata": {
            "tags": [],
            "needs_background": "light"
          }
        }
      ]
    },
    {
      "cell_type": "code",
      "metadata": {
        "id": "_QmKtnXtEuSL",
        "colab": {
          "base_uri": "https://localhost:8080/"
        },
        "outputId": "c295cfd5-a6ad-4887-d728-545a4f4ea5e8"
      },
      "source": [
        "os.chdir(path_models)\n",
        "model = load_model('_SBER_Dense_1h_Up.h5')\n",
        "\n",
        "n = 200 # сколько данных с конца берем для проверки\n",
        "# От себя добавил цикл для распознавания всех тестовых вариантов и вывода класса\n",
        "x_test = xTest[-n:]\n",
        "y_test_org = yTest[-n:]\n",
        "dense_test = []\n",
        "for i in range(len(x_test)):   # Выбираю пример\n",
        "  x = x_test[i]\n",
        "  x = np.expand_dims(x, axis=0)\n",
        "  prediction = model.predict(x) # Распознаём наш пример\n",
        "  #print('\\n',prediction)\n",
        "  prediction = np.argmax(prediction) # Получаем индекс самого большого элемента (это итоговая цифра)\n",
        "\n",
        "  if prediction == np.argmax(y_test_org[i]):\n",
        "    dense_test.append('True')\n",
        "  else:\n",
        "    dense_test.append('False')\n",
        "\n",
        "  print('Index:', i, '\\tPrediction:', '\\tPrediction:', prediction, 'Real:', np.argmax(y_test_org[i]),\n",
        "        '\\t====>', y_test_org[i])\n",
        "\n",
        "\n",
        "clear_output()\n",
        "from collections import Counter\n",
        "accuracyDense = Counter(dense_test)\n",
        "print(accuracyDense)"
      ],
      "execution_count": null,
      "outputs": [
        {
          "output_type": "stream",
          "text": [
            "Counter({'True': 189, 'False': 11})\n"
          ],
          "name": "stdout"
        }
      ]
    },
    {
      "cell_type": "markdown",
      "metadata": {
        "id": "Tdx7YtMGh9V2"
      },
      "source": [
        "###GRU\n",
        "\n"
      ]
    },
    {
      "cell_type": "code",
      "metadata": {
        "id": "Yu4UOrU7-k8s"
      },
      "source": [
        "drop = 0.2\n",
        "input = Input(shape=(xTrain.shape[1], xTrain.shape[2]))\n",
        "# xTrain.shape[1] - число шагов назад для обучения (n_steps)\n",
        "# xTrain.shape[2] - число столбцов в обучающей выборке\n",
        "x = GRU(xTrain.shape[1] * xTrain.shape[1], dropout=drop)(input)\n",
        "#x = GRU(xTrain.shape[1] * xTrain.shape[1], dropout=drop, go_backwards=True)(input)\n",
        "#x = GRU(xTrain.shape[1] * xTrain.shape[1], dropout=drop, return_sequences=True)(input)\n",
        "x = RepeatVector(xTrain.shape[1])(x)\n",
        "x = GRU(xTrain.shape[1] * xTrain.shape[1], dropout=drop)(x)\n",
        "\n",
        "x = Dense(yTrain.shape[1], activation='softmax')(x)\n",
        "model = Model(input, x)\n",
        "\n",
        "#print(model.summary())"
      ],
      "execution_count": null,
      "outputs": []
    },
    {
      "cell_type": "code",
      "metadata": {
        "id": "0oUo4xowmbuy"
      },
      "source": [
        "#input = Input(shape=(xTrain.shape[1], xTrain.shape[2]))\n",
        "# xTrain.shape[1] - число шагов назад для обучения\n",
        "# xTrain.shape[2] - число столбцов в обучающей выборке\n",
        "#x = LSTM(n_steps*9, dropout=drop)(input)\n",
        "\n",
        "#x = RepeatVector(9)(x)\n",
        "#x = LSTM(n_steps*9, dropout=drop)(x)\n",
        "\n",
        "#x = Dense(n_steps*10, activation='relu')(x)\n",
        "#x = Dropout(drop)(x)\n",
        "\n",
        "#x = Dense(yTrain.shape[1], activation='softmax')(x)\n",
        "#model = Model(input, x)\n",
        "\n",
        "#print(model.summary())"
      ],
      "execution_count": null,
      "outputs": []
    },
    {
      "cell_type": "code",
      "metadata": {
        "id": "wMJbgyZPSAgq"
      },
      "source": [
        "#input = Input(shape=(xTrain.shape[1], xTrain.shape[2]))\n",
        "# xTrain.shape[1] - число шагов назад для обучения\n",
        "# xTrain.shape[2] - число столбцов в обучающей выборке\n",
        "#x = LSTM(n_steps*9, dropout=drop)(input)\n",
        "\n",
        "#x = RepeatVector(3)(x)\n",
        "#x = LSTM(n_steps*9, dropout=drop)(x)\n",
        "\n",
        "#x = Dense(n_steps*10)(x)\n",
        "#x = LeakyReLU(alpha=0.1)(x) # Default to 0.3\n",
        "#x = Dropout(drop)(x)\n",
        "\n",
        "#x = Dense(yTrain.shape[1], activation='sigmoid')(x)\n",
        "#model = Model(input, x)\n",
        "\n",
        "#print(model.summary())"
      ],
      "execution_count": null,
      "outputs": []
    },
    {
      "cell_type": "code",
      "metadata": {
        "id": "4vV9KPEM_eOM",
        "colab": {
          "base_uri": "https://localhost:8080/"
        },
        "outputId": "29f0c4e4-716b-4bbc-f825-2c83502ca9da"
      },
      "source": [
        "#xTrain , yTrain = X, y # если не используется TimeSeries\n",
        "model.compile(optimizer=Adam(learning_rate = 1e-04),\n",
        "              loss='binary_crossentropy',\n",
        "              metrics=['binary_accuracy']) \n",
        "\n",
        "os.chdir(path_models)\n",
        "\n",
        "# коллбэки\n",
        "early_stopping = EarlyStopping(monitor = 'val_binary_accuracy', patience = 12, verbose = 0, \n",
        "                               restore_best_weights = True, mode='max')\n",
        "reduce_lr = ReduceLROnPlateau(monitor = 'val_loss', factor=0.8, patience=4, min_lr=1e-07, verbose = 1)\n",
        "checkpoint = ModelCheckpoint('_SBER_GRU_1h_Up.h5', monitor='val_binary_accuracy', verbose = 1,\n",
        "                             save_best_only = True, mode='max')\n",
        "\n",
        "# fit model\n",
        "history = model.fit(xTrain, yTrain, epochs=200, verbose=0,\n",
        "                    validation_data=(xTest, yTest),\n",
        "                    #batch_size = 1,\n",
        "                    callbacks = [early_stopping, reduce_lr, checkpoint])\n",
        "\n",
        "clear_output()\n",
        "plt.figure(figsize=(6,4))\n",
        "plt.plot(history.history['binary_accuracy'], label='binary_accuracy')\n",
        "plt.plot(history.history['val_binary_accuracy'], label='val_binary_accuracy')\n",
        "plt.plot(history.history['loss'], label='loss')\n",
        "plt.plot(history.history['val_loss'], label='val_loss')\n",
        "plt.legend()\n",
        "plt.grid()\n",
        "plt.show()"
      ],
      "execution_count": null,
      "outputs": [
        {
          "output_type": "display_data",
          "data": {
            "image/png": "[encoded data removed]",
            "text/plain": [
              "<Figure size 432x288 with 1 Axes>"
            ]
          },
          "metadata": {
            "tags": [],
            "needs_background": "light"
          }
        }
      ]
    },
    {
      "cell_type": "code",
      "metadata": {
        "id": "mveDWHNoOZnM",
        "colab": {
          "base_uri": "https://localhost:8080/"
        },
        "outputId": "eca1a4a4-9e5e-4b7c-aeb6-02d0cfcb1b84"
      },
      "source": [
        "os.chdir(path_models)\n",
        "#model = load_model('_SBER_LSTM_1h_Up.h5')\n",
        "model = load_model('_SBER_GRU_1h_Up.h5')\n",
        "\n",
        "x_test = xTest[-200:]\n",
        "y_test_org = yTest[-200:]\n",
        "lstm_test = []\n",
        "for i in range(len(x_test)):   # Выбираю пример\n",
        "  x = x_test[i]\n",
        "  x = np.expand_dims(x, axis=0)\n",
        "  prediction = model.predict(x) # Распознаём наш пример\n",
        "  #print('\\n',prediction)\n",
        "  prediction = np.argmax(prediction) # Получаем индекс самого большого элемента (это итоговая цифра)\n",
        "\n",
        "  if prediction == np.argmax(y_test_org[i]):\n",
        "    lstm_test.append('True')\n",
        "  else:\n",
        "    lstm_test.append('False')\n",
        "\n",
        "  print('Index:', i, '\\tPrediction:', prediction, 'Real:', np.argmax(y_test_org[i]),\n",
        "        '\\t====>', y_test_org[i])\n",
        "\n",
        "\n",
        "clear_output()\n",
        "from collections import Counter\n",
        "accuracyLSTM = Counter(lstm_test)\n",
        "print(accuracyLSTM)"
      ],
      "execution_count": null,
      "outputs": [
        {
          "output_type": "stream",
          "text": [
            "Counter({'True': 191, 'False': 9})\n"
          ],
          "name": "stdout"
        }
      ]
    },
    {
      "cell_type": "markdown",
      "metadata": {
        "id": "IVjnokQFobmJ"
      },
      "source": [
        "# Моделирование торговли"
      ]
    },
    {
      "cell_type": "code",
      "metadata": {
        "id": "bNFtYOAoKOak"
      },
      "source": [
        "from IPython.display import clear_output\n",
        "from tensorflow.keras.models import load_model"
      ],
      "execution_count": null,
      "outputs": []
    },
    {
      "cell_type": "markdown",
      "metadata": {
        "id": "zgc6aB6gJ8Z-"
      },
      "source": [
        "### Функции моделирования торговли и отрисовки графиков"
      ]
    },
    {
      "cell_type": "code",
      "metadata": {
        "id": "MdDd_y8IotQi"
      },
      "source": [
        "def trading(model, xTest):\n",
        "  x_test = xTest\n",
        "  returns = pd.DataFrame()\n",
        "  statement = 0 #  {0:in_cash, 1:long, 2:short}\n",
        "  stock = 0.   # Число акций\n",
        "  cash = 1000000.   # Стартовая сумма капитала\n",
        "  # -----------------------------------------\n",
        "\n",
        "  for i in range(len(x_test)):   # Выбираю пример\n",
        "    x = x_test[i]\n",
        "    x = np.expand_dims(x, axis=0)\n",
        "    prediction = model.predict(x) # Распознаём наш пример  == {0:stay, 1:up, 2:down}\n",
        "    signal = np.argmax(prediction) # Получаем индекс самого большого элемента (это итоговая цифра)\n",
        "    #close = xScaler.inverse_transform(x_test[i])[-3][0] # опрелеяем текущую цену, подаваемую в нейронку\n",
        "    close = xScaler.inverse_transform(x_test[i])\n",
        "    #close = close[-1][3]\n",
        "    close = close[-1][0]\n",
        "\n",
        "    if statement == 0  and  signal == 1:## ok\n",
        "      statement = 1\n",
        "      capital = cash//close * close + cash - cash//close * close\n",
        "      inv_capital = cash//close * close\n",
        "      line = pd.DataFrame({'statement':[0], 'signal':[signal], 'close':[close],'stock':[cash//close], 'deal_prise':[close],\n",
        "                           'long':[close*0.9], 'short':[0], 'inv_capital':[inv_capital], 'cash':[cash - cash//close * close],\n",
        "                           'capital':[capital], 'ret(i)':[0] })\n",
        "      #clear_output()\n",
        "      returns = returns.append(line, ignore_index=True)\n",
        "      #print(returns.shape)\n",
        "      #print(returns[-5:])\n",
        "      continue\n",
        "  \n",
        "\n",
        "    elif statement == 0  and  signal == 0:## ok\n",
        "      line = pd.DataFrame({'statement':[statement], 'signal':[signal], 'close':[close],'stock':[0],  'deal_prise':[0],\n",
        "                           'long':[0], 'short':[0], 'inv_capital':[0], 'cash':[cash], 'capital':[cash], 'ret(i)':[0] })\n",
        "      #clear_output()\n",
        "      returns = returns.append(line, ignore_index=True)\n",
        "      #print(returns.shape)\n",
        "      #print(returns[-5:])\n",
        "      continue\n",
        "      \n",
        "      \n",
        "    elif statement == 1  and  signal == 1:## ok\n",
        "      stock = returns.iloc[i-1][3]\n",
        "      cash = returns.iloc[i-1][8]\n",
        "      inv_capital = close*stock\n",
        "      capital = close*stock+cash\n",
        "      line = pd.DataFrame({'statement':[statement], 'signal':[signal], 'close':[close], 'stock':[stock], 'deal_prise':[returns.iloc[i-1][4]],\n",
        "                           'long':[0], 'short':[0], 'inv_capital':[inv_capital], 'cash':[cash],  'capital':[capital], 'ret(i)':[0] })\n",
        "      #clear_output()\n",
        "      returns = returns.append(line, ignore_index=True)\n",
        "      #print(returns.shape)\n",
        "      #print(returns[-5:])\n",
        "      continue\n",
        "\n",
        "\n",
        "    elif statement == 1  and  signal == 0:## выходим в кэш!\n",
        "      statement = 0\n",
        "      stock = returns.iloc[i-1][3]\n",
        "      ret = (close - returns.iloc[i-1][4]) * stock\n",
        "      capital = close * stock + returns.iloc[i-1][8]\n",
        "      #stock = -capital//close\n",
        "      stock = 0\n",
        "      inv_capital = close*stock\n",
        "      cash = capital - inv_capital\n",
        "      line = pd.DataFrame({'statement':[1], 'signal':[signal], 'close':[close], 'stock':[stock], 'deal_prise':[close],\n",
        "                           'long':[0], 'short':[close*1.1], 'inv_capital':[inv_capital], 'cash':[cash], 'capital':[capital], 'ret(i)':[ret] })\n",
        "      #clear_output()\n",
        "      returns = returns.append(line, ignore_index=True)\n",
        "      #print(returns.shape)\n",
        "      #print(returns[-5:])\n",
        "      continue\n",
        "\n",
        "\n",
        "  #clear_output()\n",
        "  #returns = returns.append(line, ignore_index=True)\n",
        "  #print(returns.shape)\n",
        "  #print(returns)\n",
        "  return returns\n"
      ],
      "execution_count": null,
      "outputs": []
    },
    {
      "cell_type": "code",
      "metadata": {
        "id": "iEbqgbW3sDrC"
      },
      "source": [
        "#xTrain.shape, xScaler.inverse_transform(xTrain[-1])[-1:] # проверка последней подаваемой строки"
      ],
      "execution_count": null,
      "outputs": []
    },
    {
      "cell_type": "code",
      "metadata": {
        "id": "YNHmeqpNrhRb"
      },
      "source": [
        "def plotting(returns):\n",
        "  short = returns['short'].values\n",
        "  short = short.astype(bool)\n",
        "  long = returns['long'].values\n",
        "  long = long.astype(bool)\n",
        "  idx_long = np.where(long) \n",
        "  idx_short = np.where(short) \n",
        "\n",
        "  plt.figure(figsize=(18,5))\n",
        "\n",
        "  plt.subplot(121)\n",
        "  plt.plot(returns['close'], alpha=0.6)\n",
        "  plt.plot(idx_long, returns['close'].values[[idx_long]], '^', c='g')\n",
        "  plt.plot(idx_short, returns['close'].values[[idx_short]], 'v', c='r', fillstyle='none')\n",
        "  plt.grid()\n",
        "\n",
        "  plt.subplot(122)\n",
        "  plt.plot(returns['capital'])\n",
        "  plt.grid()\n",
        "  plt.show()"
      ],
      "execution_count": null,
      "outputs": []
    },
    {
      "cell_type": "markdown",
      "metadata": {
        "id": "ohigVLdCKGuF"
      },
      "source": [
        "### Моделирование"
      ]
    },
    {
      "cell_type": "code",
      "metadata": {
        "id": "Y7AQo_OOnEse",
        "colab": {
          "base_uri": "https://localhost:8080/",
          "height": 191
        },
        "outputId": "90801b23-ab52-4040-a0a8-f0f216b01cf8"
      },
      "source": [
        "#%%timeit\n",
        "os.chdir(path_models)\n",
        "file = '_SBER_Conv_1h_Up.h5'\n",
        "model = load_model(file)\n",
        "returns = trading(model, xTest)\n",
        "os.chdir(path_outputs)\n",
        "returns.to_excel('_SBER_Conv_1h_Up.xlsx')\n",
        "returns[-5:]"
      ],
      "execution_count": null,
      "outputs": [
        {
          "output_type": "execute_result",
          "data": {
            "text/html": [
              "<div>\n",
              "<style scoped>\n",
              "    .dataframe tbody tr th:only-of-type {\n",
              "        vertical-align: middle;\n",
              "    }\n",
              "\n",
              "    .dataframe tbody tr th {\n",
              "        vertical-align: top;\n",
              "    }\n",
              "\n",
              "    .dataframe thead th {\n",
              "        text-align: right;\n",
              "    }\n",
              "</style>\n",
              "<table border=\"1\" class=\"dataframe\">\n",
              "  <thead>\n",
              "    <tr style=\"text-align: right;\">\n",
              "      <th></th>\n",
              "      <th>statement</th>\n",
              "      <th>signal</th>\n",
              "      <th>close</th>\n",
              "      <th>stock</th>\n",
              "      <th>deal_prise</th>\n",
              "      <th>long</th>\n",
              "      <th>short</th>\n",
              "      <th>inv_capital</th>\n",
              "      <th>cash</th>\n",
              "      <th>capital</th>\n",
              "      <th>ret(i)</th>\n",
              "    </tr>\n",
              "  </thead>\n",
              "  <tbody>\n",
              "    <tr>\n",
              "      <th>576</th>\n",
              "      <td>1</td>\n",
              "      <td>1</td>\n",
              "      <td>186.08</td>\n",
              "      <td>6024.0</td>\n",
              "      <td>183.88</td>\n",
              "      <td>0.0</td>\n",
              "      <td>0.00</td>\n",
              "      <td>1120945.92</td>\n",
              "      <td>78.58</td>\n",
              "      <td>1121024.50</td>\n",
              "      <td>0.00</td>\n",
              "    </tr>\n",
              "    <tr>\n",
              "      <th>577</th>\n",
              "      <td>1</td>\n",
              "      <td>1</td>\n",
              "      <td>185.88</td>\n",
              "      <td>6024.0</td>\n",
              "      <td>183.88</td>\n",
              "      <td>0.0</td>\n",
              "      <td>0.00</td>\n",
              "      <td>1119741.12</td>\n",
              "      <td>78.58</td>\n",
              "      <td>1119819.70</td>\n",
              "      <td>0.00</td>\n",
              "    </tr>\n",
              "    <tr>\n",
              "      <th>578</th>\n",
              "      <td>1</td>\n",
              "      <td>0</td>\n",
              "      <td>185.70</td>\n",
              "      <td>0.0</td>\n",
              "      <td>185.70</td>\n",
              "      <td>0.0</td>\n",
              "      <td>204.27</td>\n",
              "      <td>0.00</td>\n",
              "      <td>1118735.38</td>\n",
              "      <td>1118735.38</td>\n",
              "      <td>10963.68</td>\n",
              "    </tr>\n",
              "    <tr>\n",
              "      <th>579</th>\n",
              "      <td>0</td>\n",
              "      <td>0</td>\n",
              "      <td>186.15</td>\n",
              "      <td>0.0</td>\n",
              "      <td>0.00</td>\n",
              "      <td>0.0</td>\n",
              "      <td>0.00</td>\n",
              "      <td>0.00</td>\n",
              "      <td>1118735.38</td>\n",
              "      <td>1118735.38</td>\n",
              "      <td>0.00</td>\n",
              "    </tr>\n",
              "    <tr>\n",
              "      <th>580</th>\n",
              "      <td>0</td>\n",
              "      <td>0</td>\n",
              "      <td>186.02</td>\n",
              "      <td>0.0</td>\n",
              "      <td>0.00</td>\n",
              "      <td>0.0</td>\n",
              "      <td>0.00</td>\n",
              "      <td>0.00</td>\n",
              "      <td>1118735.38</td>\n",
              "      <td>1118735.38</td>\n",
              "      <td>0.00</td>\n",
              "    </tr>\n",
              "  </tbody>\n",
              "</table>\n",
              "</div>"
            ],
            "text/plain": [
              "     statement  signal   close  ...        cash     capital    ret(i)\n",
              "576          1       1  186.08  ...       78.58  1121024.50      0.00\n",
              "577          1       1  185.88  ...       78.58  1119819.70      0.00\n",
              "578          1       0  185.70  ...  1118735.38  1118735.38  10963.68\n",
              "579          0       0  186.15  ...  1118735.38  1118735.38      0.00\n",
              "580          0       0  186.02  ...  1118735.38  1118735.38      0.00\n",
              "\n",
              "[5 rows x 11 columns]"
            ]
          },
          "metadata": {
            "tags": []
          },
          "execution_count": 47
        }
      ]
    },
    {
      "cell_type": "code",
      "metadata": {
        "colab": {
          "base_uri": "https://localhost:8080/",
          "height": 331
        },
        "id": "RpOSxT76lLij",
        "outputId": "f8bbeadd-67dc-4fbb-d803-77df95eb695c"
      },
      "source": [
        "plotting(returns)"
      ],
      "execution_count": null,
      "outputs": [
        {
          "output_type": "display_data",
          "data": {
            "image/png": "[encoded data removed]",
            "text/plain": [
              "<Figure size 1296x360 with 2 Axes>"
            ]
          },
          "metadata": {
            "tags": [],
            "needs_background": "light"
          }
        }
      ]
    },
    {
      "cell_type": "code",
      "metadata": {
        "id": "YZ-Ei6ZSp-LG",
        "colab": {
          "base_uri": "https://localhost:8080/",
          "height": 191
        },
        "outputId": "0440d01a-7c54-43db-aa26-ea1631668820"
      },
      "source": [
        "#%%timeit\n",
        "os.chdir(path_models)\n",
        "file = '_SBER_Dense_1h_Up.h5'\n",
        "model = load_model(file)\n",
        "returns = trading(model, xTest)\n",
        "os.chdir(path_outputs)\n",
        "returns.to_excel('_SBER_Dense_1h_Up.xlsx')\n",
        "returns[-5:]"
      ],
      "execution_count": null,
      "outputs": [
        {
          "output_type": "execute_result",
          "data": {
            "text/html": [
              "<div>\n",
              "<style scoped>\n",
              "    .dataframe tbody tr th:only-of-type {\n",
              "        vertical-align: middle;\n",
              "    }\n",
              "\n",
              "    .dataframe tbody tr th {\n",
              "        vertical-align: top;\n",
              "    }\n",
              "\n",
              "    .dataframe thead th {\n",
              "        text-align: right;\n",
              "    }\n",
              "</style>\n",
              "<table border=\"1\" class=\"dataframe\">\n",
              "  <thead>\n",
              "    <tr style=\"text-align: right;\">\n",
              "      <th></th>\n",
              "      <th>statement</th>\n",
              "      <th>signal</th>\n",
              "      <th>close</th>\n",
              "      <th>stock</th>\n",
              "      <th>deal_prise</th>\n",
              "      <th>long</th>\n",
              "      <th>short</th>\n",
              "      <th>inv_capital</th>\n",
              "      <th>cash</th>\n",
              "      <th>capital</th>\n",
              "      <th>ret(i)</th>\n",
              "    </tr>\n",
              "  </thead>\n",
              "  <tbody>\n",
              "    <tr>\n",
              "      <th>576</th>\n",
              "      <td>1</td>\n",
              "      <td>1</td>\n",
              "      <td>186.08</td>\n",
              "      <td>6013.0</td>\n",
              "      <td>183.88</td>\n",
              "      <td>0.0</td>\n",
              "      <td>0.00</td>\n",
              "      <td>1118899.04</td>\n",
              "      <td>48.77</td>\n",
              "      <td>1118947.81</td>\n",
              "      <td>0.00</td>\n",
              "    </tr>\n",
              "    <tr>\n",
              "      <th>577</th>\n",
              "      <td>1</td>\n",
              "      <td>1</td>\n",
              "      <td>185.88</td>\n",
              "      <td>6013.0</td>\n",
              "      <td>183.88</td>\n",
              "      <td>0.0</td>\n",
              "      <td>0.00</td>\n",
              "      <td>1117696.44</td>\n",
              "      <td>48.77</td>\n",
              "      <td>1117745.21</td>\n",
              "      <td>0.00</td>\n",
              "    </tr>\n",
              "    <tr>\n",
              "      <th>578</th>\n",
              "      <td>1</td>\n",
              "      <td>0</td>\n",
              "      <td>185.70</td>\n",
              "      <td>0.0</td>\n",
              "      <td>185.70</td>\n",
              "      <td>0.0</td>\n",
              "      <td>204.27</td>\n",
              "      <td>0.00</td>\n",
              "      <td>1116662.87</td>\n",
              "      <td>1116662.87</td>\n",
              "      <td>10943.66</td>\n",
              "    </tr>\n",
              "    <tr>\n",
              "      <th>579</th>\n",
              "      <td>0</td>\n",
              "      <td>0</td>\n",
              "      <td>186.15</td>\n",
              "      <td>0.0</td>\n",
              "      <td>0.00</td>\n",
              "      <td>0.0</td>\n",
              "      <td>0.00</td>\n",
              "      <td>0.00</td>\n",
              "      <td>1116662.87</td>\n",
              "      <td>1116662.87</td>\n",
              "      <td>0.00</td>\n",
              "    </tr>\n",
              "    <tr>\n",
              "      <th>580</th>\n",
              "      <td>0</td>\n",
              "      <td>0</td>\n",
              "      <td>186.02</td>\n",
              "      <td>0.0</td>\n",
              "      <td>0.00</td>\n",
              "      <td>0.0</td>\n",
              "      <td>0.00</td>\n",
              "      <td>0.00</td>\n",
              "      <td>1116662.87</td>\n",
              "      <td>1116662.87</td>\n",
              "      <td>0.00</td>\n",
              "    </tr>\n",
              "  </tbody>\n",
              "</table>\n",
              "</div>"
            ],
            "text/plain": [
              "     statement  signal   close  ...        cash     capital    ret(i)\n",
              "576          1       1  186.08  ...       48.77  1118947.81      0.00\n",
              "577          1       1  185.88  ...       48.77  1117745.21      0.00\n",
              "578          1       0  185.70  ...  1116662.87  1116662.87  10943.66\n",
              "579          0       0  186.15  ...  1116662.87  1116662.87      0.00\n",
              "580          0       0  186.02  ...  1116662.87  1116662.87      0.00\n",
              "\n",
              "[5 rows x 11 columns]"
            ]
          },
          "metadata": {
            "tags": []
          },
          "execution_count": 49
        }
      ]
    },
    {
      "cell_type": "code",
      "metadata": {
        "id": "8tQaO3wDC-8W",
        "colab": {
          "base_uri": "https://localhost:8080/",
          "height": 331
        },
        "outputId": "1de868d3-ed6b-40a4-dbac-9bad3bfb31d1"
      },
      "source": [
        "plotting(returns)"
      ],
      "execution_count": null,
      "outputs": [
        {
          "output_type": "display_data",
          "data": {
            "image/png": "[encoded data removed]",
            "text/plain": [
              "<Figure size 1296x360 with 2 Axes>"
            ]
          },
          "metadata": {
            "tags": [],
            "needs_background": "light"
          }
        }
      ]
    },
    {
      "cell_type": "code",
      "metadata": {
        "colab": {
          "base_uri": "https://localhost:8080/",
          "height": 191
        },
        "id": "DZGuh_ky_QEu",
        "outputId": "d3e6ac59-ea86-4fe7-9414-422895e46154"
      },
      "source": [
        "#%%timeit\n",
        "os.chdir(path_models)\n",
        "file = '_SBER_GRU_1h_Up.h5'\n",
        "model = load_model(file)\n",
        "returns = trading(model, xTest)\n",
        "os.chdir(path_outputs)\n",
        "returns.to_excel('_SBER_GRU_1h_Up.xlsx')\n",
        "returns[-5:]"
      ],
      "execution_count": null,
      "outputs": [
        {
          "output_type": "execute_result",
          "data": {
            "text/html": [
              "<div>\n",
              "<style scoped>\n",
              "    .dataframe tbody tr th:only-of-type {\n",
              "        vertical-align: middle;\n",
              "    }\n",
              "\n",
              "    .dataframe tbody tr th {\n",
              "        vertical-align: top;\n",
              "    }\n",
              "\n",
              "    .dataframe thead th {\n",
              "        text-align: right;\n",
              "    }\n",
              "</style>\n",
              "<table border=\"1\" class=\"dataframe\">\n",
              "  <thead>\n",
              "    <tr style=\"text-align: right;\">\n",
              "      <th></th>\n",
              "      <th>statement</th>\n",
              "      <th>signal</th>\n",
              "      <th>close</th>\n",
              "      <th>stock</th>\n",
              "      <th>deal_prise</th>\n",
              "      <th>long</th>\n",
              "      <th>short</th>\n",
              "      <th>inv_capital</th>\n",
              "      <th>cash</th>\n",
              "      <th>capital</th>\n",
              "      <th>ret(i)</th>\n",
              "    </tr>\n",
              "  </thead>\n",
              "  <tbody>\n",
              "    <tr>\n",
              "      <th>576</th>\n",
              "      <td>1</td>\n",
              "      <td>1</td>\n",
              "      <td>186.08</td>\n",
              "      <td>6098.0</td>\n",
              "      <td>183.88</td>\n",
              "      <td>0.0</td>\n",
              "      <td>0.00</td>\n",
              "      <td>1134715.84</td>\n",
              "      <td>74.65</td>\n",
              "      <td>1134790.49</td>\n",
              "      <td>0.00</td>\n",
              "    </tr>\n",
              "    <tr>\n",
              "      <th>577</th>\n",
              "      <td>1</td>\n",
              "      <td>1</td>\n",
              "      <td>185.88</td>\n",
              "      <td>6098.0</td>\n",
              "      <td>183.88</td>\n",
              "      <td>0.0</td>\n",
              "      <td>0.00</td>\n",
              "      <td>1133496.24</td>\n",
              "      <td>74.65</td>\n",
              "      <td>1133570.89</td>\n",
              "      <td>0.00</td>\n",
              "    </tr>\n",
              "    <tr>\n",
              "      <th>578</th>\n",
              "      <td>1</td>\n",
              "      <td>0</td>\n",
              "      <td>185.70</td>\n",
              "      <td>0.0</td>\n",
              "      <td>185.70</td>\n",
              "      <td>0.0</td>\n",
              "      <td>204.27</td>\n",
              "      <td>0.00</td>\n",
              "      <td>1132473.25</td>\n",
              "      <td>1132473.25</td>\n",
              "      <td>11098.36</td>\n",
              "    </tr>\n",
              "    <tr>\n",
              "      <th>579</th>\n",
              "      <td>0</td>\n",
              "      <td>0</td>\n",
              "      <td>186.15</td>\n",
              "      <td>0.0</td>\n",
              "      <td>0.00</td>\n",
              "      <td>0.0</td>\n",
              "      <td>0.00</td>\n",
              "      <td>0.00</td>\n",
              "      <td>1132473.25</td>\n",
              "      <td>1132473.25</td>\n",
              "      <td>0.00</td>\n",
              "    </tr>\n",
              "    <tr>\n",
              "      <th>580</th>\n",
              "      <td>0</td>\n",
              "      <td>0</td>\n",
              "      <td>186.02</td>\n",
              "      <td>0.0</td>\n",
              "      <td>0.00</td>\n",
              "      <td>0.0</td>\n",
              "      <td>0.00</td>\n",
              "      <td>0.00</td>\n",
              "      <td>1132473.25</td>\n",
              "      <td>1132473.25</td>\n",
              "      <td>0.00</td>\n",
              "    </tr>\n",
              "  </tbody>\n",
              "</table>\n",
              "</div>"
            ],
            "text/plain": [
              "     statement  signal   close  ...        cash     capital    ret(i)\n",
              "576          1       1  186.08  ...       74.65  1134790.49      0.00\n",
              "577          1       1  185.88  ...       74.65  1133570.89      0.00\n",
              "578          1       0  185.70  ...  1132473.25  1132473.25  11098.36\n",
              "579          0       0  186.15  ...  1132473.25  1132473.25      0.00\n",
              "580          0       0  186.02  ...  1132473.25  1132473.25      0.00\n",
              "\n",
              "[5 rows x 11 columns]"
            ]
          },
          "metadata": {
            "tags": []
          },
          "execution_count": 51
        }
      ]
    },
    {
      "cell_type": "code",
      "metadata": {
        "colab": {
          "base_uri": "https://localhost:8080/",
          "height": 331
        },
        "id": "eXv4C8US_QCC",
        "outputId": "ae063a76-5a1b-49da-b7c4-09d6eb3656ab"
      },
      "source": [
        "plotting(returns)"
      ],
      "execution_count": null,
      "outputs": [
        {
          "output_type": "display_data",
          "data": {
            "image/png": "[encoded data removed]",
            "text/plain": [
              "<Figure size 1296x360 with 2 Axes>"
            ]
          },
          "metadata": {
            "tags": [],
            "needs_background": "light"
          }
        }
      ]
    },
    {
      "cell_type": "code",
      "metadata": {
        "colab": {
          "base_uri": "https://localhost:8080/",
          "height": 191
        },
        "id": "CiD_H8Mu_stw",
        "outputId": "ab259bab-7d57-4f99-f46b-7df4e4c55658"
      },
      "source": [
        "#%%timeit\n",
        "os.chdir(path_models)\n",
        "file = '_SBER_GRU_1h_Up.h5'\n",
        "model = load_model(file)\n",
        "returns = trading(model, xTrain[-2500:])\n",
        "os.chdir(path_outputs)\n",
        "returns.to_excel('_SBER_GRU_1h_Up.xlsx')\n",
        "returns[-5:]"
      ],
      "execution_count": null,
      "outputs": [
        {
          "output_type": "execute_result",
          "data": {
            "text/html": [
              "<div>\n",
              "<style scoped>\n",
              "    .dataframe tbody tr th:only-of-type {\n",
              "        vertical-align: middle;\n",
              "    }\n",
              "\n",
              "    .dataframe tbody tr th {\n",
              "        vertical-align: top;\n",
              "    }\n",
              "\n",
              "    .dataframe thead th {\n",
              "        text-align: right;\n",
              "    }\n",
              "</style>\n",
              "<table border=\"1\" class=\"dataframe\">\n",
              "  <thead>\n",
              "    <tr style=\"text-align: right;\">\n",
              "      <th></th>\n",
              "      <th>statement</th>\n",
              "      <th>signal</th>\n",
              "      <th>close</th>\n",
              "      <th>stock</th>\n",
              "      <th>deal_prise</th>\n",
              "      <th>long</th>\n",
              "      <th>short</th>\n",
              "      <th>inv_capital</th>\n",
              "      <th>cash</th>\n",
              "      <th>capital</th>\n",
              "      <th>ret(i)</th>\n",
              "    </tr>\n",
              "  </thead>\n",
              "  <tbody>\n",
              "    <tr>\n",
              "      <th>2495</th>\n",
              "      <td>0</td>\n",
              "      <td>0</td>\n",
              "      <td>195.33</td>\n",
              "      <td>0.0</td>\n",
              "      <td>0.00</td>\n",
              "      <td>0.000</td>\n",
              "      <td>0.0</td>\n",
              "      <td>0.00</td>\n",
              "      <td>1417131.17</td>\n",
              "      <td>1417131.17</td>\n",
              "      <td>0.0</td>\n",
              "    </tr>\n",
              "    <tr>\n",
              "      <th>2496</th>\n",
              "      <td>0</td>\n",
              "      <td>0</td>\n",
              "      <td>195.46</td>\n",
              "      <td>0.0</td>\n",
              "      <td>0.00</td>\n",
              "      <td>0.000</td>\n",
              "      <td>0.0</td>\n",
              "      <td>0.00</td>\n",
              "      <td>1417131.17</td>\n",
              "      <td>1417131.17</td>\n",
              "      <td>0.0</td>\n",
              "    </tr>\n",
              "    <tr>\n",
              "      <th>2497</th>\n",
              "      <td>0</td>\n",
              "      <td>0</td>\n",
              "      <td>195.79</td>\n",
              "      <td>0.0</td>\n",
              "      <td>0.00</td>\n",
              "      <td>0.000</td>\n",
              "      <td>0.0</td>\n",
              "      <td>0.00</td>\n",
              "      <td>1417131.17</td>\n",
              "      <td>1417131.17</td>\n",
              "      <td>0.0</td>\n",
              "    </tr>\n",
              "    <tr>\n",
              "      <th>2498</th>\n",
              "      <td>0</td>\n",
              "      <td>0</td>\n",
              "      <td>196.34</td>\n",
              "      <td>0.0</td>\n",
              "      <td>0.00</td>\n",
              "      <td>0.000</td>\n",
              "      <td>0.0</td>\n",
              "      <td>0.00</td>\n",
              "      <td>1417131.17</td>\n",
              "      <td>1417131.17</td>\n",
              "      <td>0.0</td>\n",
              "    </tr>\n",
              "    <tr>\n",
              "      <th>2499</th>\n",
              "      <td>0</td>\n",
              "      <td>1</td>\n",
              "      <td>198.02</td>\n",
              "      <td>7156.0</td>\n",
              "      <td>198.02</td>\n",
              "      <td>178.218</td>\n",
              "      <td>0.0</td>\n",
              "      <td>1417031.12</td>\n",
              "      <td>100.05</td>\n",
              "      <td>1417131.17</td>\n",
              "      <td>0.0</td>\n",
              "    </tr>\n",
              "  </tbody>\n",
              "</table>\n",
              "</div>"
            ],
            "text/plain": [
              "      statement  signal   close  ...        cash     capital  ret(i)\n",
              "2495          0       0  195.33  ...  1417131.17  1417131.17     0.0\n",
              "2496          0       0  195.46  ...  1417131.17  1417131.17     0.0\n",
              "2497          0       0  195.79  ...  1417131.17  1417131.17     0.0\n",
              "2498          0       0  196.34  ...  1417131.17  1417131.17     0.0\n",
              "2499          0       1  198.02  ...      100.05  1417131.17     0.0\n",
              "\n",
              "[5 rows x 11 columns]"
            ]
          },
          "metadata": {
            "tags": []
          },
          "execution_count": 53
        }
      ]
    },
    {
      "cell_type": "code",
      "metadata": {
        "colab": {
          "base_uri": "https://localhost:8080/",
          "height": 331
        },
        "id": "Npl-hT99_yEd",
        "outputId": "8eb4f139-00e6-408e-d43e-beb9a639d0c6"
      },
      "source": [
        "plotting(returns)"
      ],
      "execution_count": null,
      "outputs": [
        {
          "output_type": "display_data",
          "data": {
            "image/png": "[encoded data removed]",
            "text/plain": [
              "<Figure size 1296x360 with 2 Axes>"
            ]
          },
          "metadata": {
            "tags": [],
            "needs_background": "light"
          }
        }
      ]
    }
  ]
}