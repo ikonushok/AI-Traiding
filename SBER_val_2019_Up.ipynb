{
  "nbformat": 4,
  "nbformat_minor": 0,
  "metadata": {
    "colab": {
      "name": "SBER_val_2019_Up.ipynb",
      "provenance": [],
      "collapsed_sections": [
        "FvpRx5EOArid"
      ],
      "machine_shape": "hm",
      "mount_file_id": "1qBhjbCr9QUEAZoFIhsLCsWyGSfcyCSU_",
      "authorship_tag": "ABX9TyO3t60r6FhjpEjKw53HTTeA",
      "include_colab_link": true
    },
    "kernelspec": {
      "name": "python3",
      "display_name": "Python 3"
    },
    "accelerator": "GPU"
  },
  "cells": [
    {
      "cell_type": "markdown",
      "metadata": {
        "id": "view-in-github",
        "colab_type": "text"
      },
      "source": [
        "<a href=\"https://colab.research.google.com/github/ikonushok/AI-Traiding/blob/main/SBER_val_2019_Up.ipynb\" target=\"_parent\"><img src=\"https://colab.research.google.com/assets/colab-badge.svg\" alt=\"Open In Colab\"/></a>"
      ]
    },
    {
      "cell_type": "code",
      "metadata": {
        "id": "Y7AQo_OOnEse"
      },
      "source": [
        "from IPython.display import clear_output\n",
        "from tensorflow.keras.models import load_model\n",
        "from keras.utils import to_categorical\n",
        "from sklearn.preprocessing import StandardScaler, RobustScaler, MinMaxScaler # проверить все"
      ],
      "execution_count": 1,
      "outputs": []
    },
    {
      "cell_type": "code",
      "metadata": {
        "id": "fBKjsauNo5ub"
      },
      "source": [
        "import pandas as pd\n",
        "import numpy as np\n",
        "from numpy import array\n",
        "import matplotlib.pyplot as plt\n",
        "%matplotlib inline\n",
        "\n",
        "import os, time\n",
        "import warnings\n",
        "warnings.filterwarnings(\"ignore\")"
      ],
      "execution_count": 2,
      "outputs": []
    },
    {
      "cell_type": "code",
      "metadata": {
        "id": "rcsys6xE8lNN",
        "colab": {
          "base_uri": "https://localhost:8080/",
          "height": 67
        },
        "outputId": "3a09a3dc-bf40-4a01-c218-9a1887587aef"
      },
      "source": [
        "path_tickers = '/content/drive/MyDrive/_Диплом/Капитал-Инвест/ins_OHLC'\n",
        "path_outputs_val = '/content/drive/MyDrive/_Диплом/Капитал-Инвест/SBER_MIN60/Up/txt'\n",
        "path_models = '/content/drive/MyDrive/_Диплом/Капитал-Инвест/SBER_MIN60/Up/models'\n",
        "\n",
        "os.chdir(path_tickers)\n",
        "tickers_list = os.listdir()\n",
        "print('Всего тикеров: ', len(tickers_list), '\\n')\n",
        "ticker = tickers_list[-1]\n",
        "ticker"
      ],
      "execution_count": 3,
      "outputs": [
        {
          "output_type": "stream",
          "text": [
            "Всего тикеров:  21 \n",
            "\n"
          ],
          "name": "stdout"
        },
        {
          "output_type": "execute_result",
          "data": {
            "application/vnd.google.colaboratory.intrinsic+json": {
              "type": "string"
            },
            "text/plain": [
              "'SBER_MIN60.txt'"
            ]
          },
          "metadata": {
            "tags": []
          },
          "execution_count": 3
        }
      ]
    },
    {
      "cell_type": "markdown",
      "metadata": {
        "id": "1zaDgnqajZzs"
      },
      "source": [
        "### Демонстрация работы кода"
      ]
    },
    {
      "cell_type": "code",
      "metadata": {
        "colab": {
          "base_uri": "https://localhost:8080/"
        },
        "id": "6k1mxeX5WBVl",
        "outputId": "3007c5db-50f4-4640-8956-caa2b5d42209"
      },
      "source": [
        "os.chdir(path_models)\n",
        "models_list = os.listdir()\n",
        "print('Всего обученных моделей: ', len(models_list), '\\n')\n",
        "models_list = models_list\n",
        "print(models_list)\n",
        "#models_list = ['_SBER_Conv_1h_Up.h5', '_SBER_Dense_1h_Up.h5', '_SBER_LSTM_1h_Up.h5']"
      ],
      "execution_count": 4,
      "outputs": [
        {
          "output_type": "stream",
          "text": [
            "Всего обученных моделей:  3 \n",
            "\n",
            "['151543_t14_e28_SBER_GRU_1h_Up_v1.h5', '152691_t14_e22_SBER_Conv_1h_Up_v1.h5', '153547_t14_e30_SBER_Conv_1h_Up_v1.h5']\n"
          ],
          "name": "stdout"
        }
      ]
    },
    {
      "cell_type": "code",
      "metadata": {
        "colab": {
          "base_uri": "https://localhost:8080/"
        },
        "id": "ck2sjafwe4a0",
        "outputId": "6213dc7e-8dcc-4886-8085-582f17fd6b01"
      },
      "source": [
        "trend = int(models_list[0][8:10])      # step_in_the_last\n",
        "ensemble = int(models_list[0][12:14])  # n_steps\n",
        "#trend = 14\n",
        "#ensemble = 19\n",
        "trend, ensemble"
      ],
      "execution_count": 5,
      "outputs": [
        {
          "output_type": "execute_result",
          "data": {
            "text/plain": [
              "(14, 28)"
            ]
          },
          "metadata": {
            "tags": []
          },
          "execution_count": 5
        }
      ]
    },
    {
      "cell_type": "code",
      "metadata": {
        "colab": {
          "base_uri": "https://localhost:8080/",
          "height": 407
        },
        "id": "wSt4m6eV1QAa",
        "outputId": "797c36a0-65f1-4a11-a1fc-834098e3b4d8"
      },
      "source": [
        "# Загрузка только [Open, High, Low, Close]\n",
        "os.chdir(path_tickers)\n",
        "data = pd.read_csv(ticker, sep=\"\\t\", header=None)\n",
        "print(ticker)\n",
        "data.columns=['Date', 'Open', 'High', 'Low', 'Close']\n",
        "data"
      ],
      "execution_count": 6,
      "outputs": [
        {
          "output_type": "stream",
          "text": [
            "SBER_MIN60.txt\n"
          ],
          "name": "stdout"
        },
        {
          "output_type": "execute_result",
          "data": {
            "text/html": [
              "<div>\n",
              "<style scoped>\n",
              "    .dataframe tbody tr th:only-of-type {\n",
              "        vertical-align: middle;\n",
              "    }\n",
              "\n",
              "    .dataframe tbody tr th {\n",
              "        vertical-align: top;\n",
              "    }\n",
              "\n",
              "    .dataframe thead th {\n",
              "        text-align: right;\n",
              "    }\n",
              "</style>\n",
              "<table border=\"1\" class=\"dataframe\">\n",
              "  <thead>\n",
              "    <tr style=\"text-align: right;\">\n",
              "      <th></th>\n",
              "      <th>Date</th>\n",
              "      <th>Open</th>\n",
              "      <th>High</th>\n",
              "      <th>Low</th>\n",
              "      <th>Close</th>\n",
              "    </tr>\n",
              "  </thead>\n",
              "  <tbody>\n",
              "    <tr>\n",
              "      <th>0</th>\n",
              "      <td>2000-01-05 11:00:00.000</td>\n",
              "      <td>1.15000</td>\n",
              "      <td>1.17000</td>\n",
              "      <td>1.0800</td>\n",
              "      <td>1.125</td>\n",
              "    </tr>\n",
              "    <tr>\n",
              "      <th>1</th>\n",
              "      <td>2000-01-05 12:00:00.000</td>\n",
              "      <td>1.13500</td>\n",
              "      <td>1.17300</td>\n",
              "      <td>1.1350</td>\n",
              "      <td>1.168</td>\n",
              "    </tr>\n",
              "    <tr>\n",
              "      <th>2</th>\n",
              "      <td>2000-01-05 13:00:00.000</td>\n",
              "      <td>1.16500</td>\n",
              "      <td>1.23999</td>\n",
              "      <td>1.1650</td>\n",
              "      <td>1.200</td>\n",
              "    </tr>\n",
              "    <tr>\n",
              "      <th>3</th>\n",
              "      <td>2000-01-05 14:00:00.000</td>\n",
              "      <td>1.20000</td>\n",
              "      <td>1.25500</td>\n",
              "      <td>1.1980</td>\n",
              "      <td>1.255</td>\n",
              "    </tr>\n",
              "    <tr>\n",
              "      <th>4</th>\n",
              "      <td>2000-01-05 15:00:00.000</td>\n",
              "      <td>1.23001</td>\n",
              "      <td>1.26488</td>\n",
              "      <td>1.2115</td>\n",
              "      <td>1.264</td>\n",
              "    </tr>\n",
              "    <tr>\n",
              "      <th>...</th>\n",
              "      <td>...</td>\n",
              "      <td>...</td>\n",
              "      <td>...</td>\n",
              "      <td>...</td>\n",
              "      <td>...</td>\n",
              "    </tr>\n",
              "    <tr>\n",
              "      <th>43128</th>\n",
              "      <td>2019-12-30 14:00:00.000</td>\n",
              "      <td>253.05000</td>\n",
              "      <td>255.25000</td>\n",
              "      <td>252.9700</td>\n",
              "      <td>255.210</td>\n",
              "    </tr>\n",
              "    <tr>\n",
              "      <th>43129</th>\n",
              "      <td>2019-12-30 15:00:00.000</td>\n",
              "      <td>255.20000</td>\n",
              "      <td>256.00000</td>\n",
              "      <td>254.8600</td>\n",
              "      <td>255.160</td>\n",
              "    </tr>\n",
              "    <tr>\n",
              "      <th>43130</th>\n",
              "      <td>2019-12-30 16:00:00.000</td>\n",
              "      <td>255.16000</td>\n",
              "      <td>255.94000</td>\n",
              "      <td>254.5300</td>\n",
              "      <td>255.620</td>\n",
              "    </tr>\n",
              "    <tr>\n",
              "      <th>43131</th>\n",
              "      <td>2019-12-30 17:00:00.000</td>\n",
              "      <td>255.62000</td>\n",
              "      <td>255.65000</td>\n",
              "      <td>254.5500</td>\n",
              "      <td>254.810</td>\n",
              "    </tr>\n",
              "    <tr>\n",
              "      <th>43132</th>\n",
              "      <td>2019-12-30 18:00:00.000</td>\n",
              "      <td>254.81000</td>\n",
              "      <td>255.20000</td>\n",
              "      <td>254.6000</td>\n",
              "      <td>254.750</td>\n",
              "    </tr>\n",
              "  </tbody>\n",
              "</table>\n",
              "<p>43133 rows × 5 columns</p>\n",
              "</div>"
            ],
            "text/plain": [
              "                          Date       Open       High       Low    Close\n",
              "0      2000-01-05 11:00:00.000    1.15000    1.17000    1.0800    1.125\n",
              "1      2000-01-05 12:00:00.000    1.13500    1.17300    1.1350    1.168\n",
              "2      2000-01-05 13:00:00.000    1.16500    1.23999    1.1650    1.200\n",
              "3      2000-01-05 14:00:00.000    1.20000    1.25500    1.1980    1.255\n",
              "4      2000-01-05 15:00:00.000    1.23001    1.26488    1.2115    1.264\n",
              "...                        ...        ...        ...       ...      ...\n",
              "43128  2019-12-30 14:00:00.000  253.05000  255.25000  252.9700  255.210\n",
              "43129  2019-12-30 15:00:00.000  255.20000  256.00000  254.8600  255.160\n",
              "43130  2019-12-30 16:00:00.000  255.16000  255.94000  254.5300  255.620\n",
              "43131  2019-12-30 17:00:00.000  255.62000  255.65000  254.5500  254.810\n",
              "43132  2019-12-30 18:00:00.000  254.81000  255.20000  254.6000  254.750\n",
              "\n",
              "[43133 rows x 5 columns]"
            ]
          },
          "metadata": {
            "tags": []
          },
          "execution_count": 6
        }
      ]
    },
    {
      "cell_type": "code",
      "metadata": {
        "colab": {
          "base_uri": "https://localhost:8080/"
        },
        "id": "cDC-fBK8zx06",
        "outputId": "6c52ba20-f871-4f61-f462-9a45091f4329"
      },
      "source": [
        "# Расчет индекса старта с 1 января 2019 года\n",
        "mask = (data['Date'] >= '2019-01-01 01:00:00.000') & (data['Date'] <= '2019-12-31 23:59:59.999') # ключевая строка для форвадного анализа\n",
        "min(data[mask].index), max(data[mask].index)"
      ],
      "execution_count": 7,
      "outputs": [
        {
          "output_type": "execute_result",
          "data": {
            "text/plain": [
              "(40865, 43132)"
            ]
          },
          "metadata": {
            "tags": []
          },
          "execution_count": 7
        }
      ]
    },
    {
      "cell_type": "code",
      "metadata": {
        "colab": {
          "base_uri": "https://localhost:8080/",
          "height": 391
        },
        "id": "pbREcZp0jmdU",
        "outputId": "266948b5-0c2b-4c23-d66a-3f2d5a40cae9"
      },
      "source": [
        "# Загружаем датасет с учетом необходимости формировать ensemble\n",
        "#mask = (data['Date'] >= '2019-01-01 01:00:00.000') & (data['Date'] <= '2019-12-31 23:59:59.999') # ключевая строка для форвадного анализа\n",
        "#mask = (data['Date'] >= '2019-01-01 00:00:00.000') & (data['Date'] <= '2019-03-31 23:59:59.999')\n",
        "data = data[ (min(data[mask].index) - ensemble) : max(data[mask].index) ]\n",
        "data"
      ],
      "execution_count": 8,
      "outputs": [
        {
          "output_type": "execute_result",
          "data": {
            "text/html": [
              "<div>\n",
              "<style scoped>\n",
              "    .dataframe tbody tr th:only-of-type {\n",
              "        vertical-align: middle;\n",
              "    }\n",
              "\n",
              "    .dataframe tbody tr th {\n",
              "        vertical-align: top;\n",
              "    }\n",
              "\n",
              "    .dataframe thead th {\n",
              "        text-align: right;\n",
              "    }\n",
              "</style>\n",
              "<table border=\"1\" class=\"dataframe\">\n",
              "  <thead>\n",
              "    <tr style=\"text-align: right;\">\n",
              "      <th></th>\n",
              "      <th>Date</th>\n",
              "      <th>Open</th>\n",
              "      <th>High</th>\n",
              "      <th>Low</th>\n",
              "      <th>Close</th>\n",
              "    </tr>\n",
              "  </thead>\n",
              "  <tbody>\n",
              "    <tr>\n",
              "      <th>40837</th>\n",
              "      <td>2018-12-26 18:00:00.000</td>\n",
              "      <td>183.04</td>\n",
              "      <td>183.94</td>\n",
              "      <td>183.00</td>\n",
              "      <td>183.40</td>\n",
              "    </tr>\n",
              "    <tr>\n",
              "      <th>40838</th>\n",
              "      <td>2018-12-27 10:00:00.000</td>\n",
              "      <td>187.20</td>\n",
              "      <td>187.40</td>\n",
              "      <td>185.84</td>\n",
              "      <td>185.92</td>\n",
              "    </tr>\n",
              "    <tr>\n",
              "      <th>40839</th>\n",
              "      <td>2018-12-27 11:00:00.000</td>\n",
              "      <td>185.90</td>\n",
              "      <td>186.83</td>\n",
              "      <td>185.35</td>\n",
              "      <td>185.61</td>\n",
              "    </tr>\n",
              "    <tr>\n",
              "      <th>40840</th>\n",
              "      <td>2018-12-27 12:00:00.000</td>\n",
              "      <td>185.71</td>\n",
              "      <td>185.94</td>\n",
              "      <td>184.29</td>\n",
              "      <td>184.65</td>\n",
              "    </tr>\n",
              "    <tr>\n",
              "      <th>40841</th>\n",
              "      <td>2018-12-27 13:00:00.000</td>\n",
              "      <td>184.64</td>\n",
              "      <td>185.84</td>\n",
              "      <td>184.50</td>\n",
              "      <td>184.90</td>\n",
              "    </tr>\n",
              "    <tr>\n",
              "      <th>...</th>\n",
              "      <td>...</td>\n",
              "      <td>...</td>\n",
              "      <td>...</td>\n",
              "      <td>...</td>\n",
              "      <td>...</td>\n",
              "    </tr>\n",
              "    <tr>\n",
              "      <th>43127</th>\n",
              "      <td>2019-12-30 13:00:00.000</td>\n",
              "      <td>252.88</td>\n",
              "      <td>253.55</td>\n",
              "      <td>252.78</td>\n",
              "      <td>253.03</td>\n",
              "    </tr>\n",
              "    <tr>\n",
              "      <th>43128</th>\n",
              "      <td>2019-12-30 14:00:00.000</td>\n",
              "      <td>253.05</td>\n",
              "      <td>255.25</td>\n",
              "      <td>252.97</td>\n",
              "      <td>255.21</td>\n",
              "    </tr>\n",
              "    <tr>\n",
              "      <th>43129</th>\n",
              "      <td>2019-12-30 15:00:00.000</td>\n",
              "      <td>255.20</td>\n",
              "      <td>256.00</td>\n",
              "      <td>254.86</td>\n",
              "      <td>255.16</td>\n",
              "    </tr>\n",
              "    <tr>\n",
              "      <th>43130</th>\n",
              "      <td>2019-12-30 16:00:00.000</td>\n",
              "      <td>255.16</td>\n",
              "      <td>255.94</td>\n",
              "      <td>254.53</td>\n",
              "      <td>255.62</td>\n",
              "    </tr>\n",
              "    <tr>\n",
              "      <th>43131</th>\n",
              "      <td>2019-12-30 17:00:00.000</td>\n",
              "      <td>255.62</td>\n",
              "      <td>255.65</td>\n",
              "      <td>254.55</td>\n",
              "      <td>254.81</td>\n",
              "    </tr>\n",
              "  </tbody>\n",
              "</table>\n",
              "<p>2295 rows × 5 columns</p>\n",
              "</div>"
            ],
            "text/plain": [
              "                          Date    Open    High     Low   Close\n",
              "40837  2018-12-26 18:00:00.000  183.04  183.94  183.00  183.40\n",
              "40838  2018-12-27 10:00:00.000  187.20  187.40  185.84  185.92\n",
              "40839  2018-12-27 11:00:00.000  185.90  186.83  185.35  185.61\n",
              "40840  2018-12-27 12:00:00.000  185.71  185.94  184.29  184.65\n",
              "40841  2018-12-27 13:00:00.000  184.64  185.84  184.50  184.90\n",
              "...                        ...     ...     ...     ...     ...\n",
              "43127  2019-12-30 13:00:00.000  252.88  253.55  252.78  253.03\n",
              "43128  2019-12-30 14:00:00.000  253.05  255.25  252.97  255.21\n",
              "43129  2019-12-30 15:00:00.000  255.20  256.00  254.86  255.16\n",
              "43130  2019-12-30 16:00:00.000  255.16  255.94  254.53  255.62\n",
              "43131  2019-12-30 17:00:00.000  255.62  255.65  254.55  254.81\n",
              "\n",
              "[2295 rows x 5 columns]"
            ]
          },
          "metadata": {
            "tags": []
          },
          "execution_count": 8
        }
      ]
    },
    {
      "cell_type": "code",
      "metadata": {
        "colab": {
          "base_uri": "https://localhost:8080/"
        },
        "id": "3oytpROqjrHJ",
        "outputId": "ef55c83e-b91d-45b4-e1bc-91a6c8d6e9e7"
      },
      "source": [
        "#data = data[-500:] # взяли последние 500 баров, окторые откусили при обучении, чтобы их не видела нейронка\n",
        "df_date = data['Date'] # Оставляем дату, чтобы потом добавить в outputs\n",
        "df_date"
      ],
      "execution_count": 9,
      "outputs": [
        {
          "output_type": "execute_result",
          "data": {
            "text/plain": [
              "40837    2018-12-26 18:00:00.000\n",
              "40838    2018-12-27 10:00:00.000\n",
              "40839    2018-12-27 11:00:00.000\n",
              "40840    2018-12-27 12:00:00.000\n",
              "40841    2018-12-27 13:00:00.000\n",
              "                  ...           \n",
              "43127    2019-12-30 13:00:00.000\n",
              "43128    2019-12-30 14:00:00.000\n",
              "43129    2019-12-30 15:00:00.000\n",
              "43130    2019-12-30 16:00:00.000\n",
              "43131    2019-12-30 17:00:00.000\n",
              "Name: Date, Length: 2295, dtype: object"
            ]
          },
          "metadata": {
            "tags": []
          },
          "execution_count": 9
        }
      ]
    },
    {
      "cell_type": "markdown",
      "metadata": {
        "id": "IVjnokQFobmJ"
      },
      "source": [
        "# Моделирование торговли\n",
        "на данных 2019 года"
      ]
    },
    {
      "cell_type": "markdown",
      "metadata": {
        "id": "FvpRx5EOArid"
      },
      "source": [
        "## Необходимые функции"
      ]
    },
    {
      "cell_type": "code",
      "metadata": {
        "id": "TKuSaooHE6c9"
      },
      "source": [
        "\"\"\"\n",
        "#### Функция разделения массива на выборки для обучения нейросети \n",
        "\"\"\"\n",
        "# sequence = строка массива df\n",
        "# trend = число баров в прошлом для анализа - необходимо найти оптимальный!!\n",
        "# forvard_lag = предсказание какого бара в будущем делаем \n",
        "\n",
        "def split_sequence(sequence, ensemble, forvard_lag=0):\n",
        "  # sequence = df.values - это массив из данных\n",
        "  # trend = число баров в прошлом для анализа\n",
        "  X = list()\n",
        "  for i in range(len(sequence)):\n",
        "    end_ix = i + ensemble # находим конечный индекс строки\n",
        "    if end_ix + (forvard_lag-1) > len(sequence)-1: # cпроверем чтобы не выйти за пределы массива\n",
        "      break \n",
        "    # получаем X и y\n",
        "    seq_x = sequence[i:end_ix]\n",
        "    X.append(seq_x)\n",
        "\n",
        "  return array(X)"
      ],
      "execution_count": 10,
      "outputs": []
    },
    {
      "cell_type": "code",
      "metadata": {
        "id": "MdDd_y8IotQi"
      },
      "source": [
        "def trading(model, xTest):\n",
        "  x_test = xTest\n",
        "  returns = pd.DataFrame()\n",
        "  statement = 0 #  {0:in_cash, 1:long, 2:short}\n",
        "  stock = 0.   # Число акций\n",
        "  cash = 1000000.   # Стартовая сумма капитала\n",
        "  # -----------------------------------------\n",
        "\n",
        "  for i in range(len(x_test)):   # Выбираю пример\n",
        "    x = x_test[i]\n",
        "    x = np.expand_dims(x, axis=0)\n",
        "    prediction = model.predict(x) # Распознаём наш пример  == {0:stay, 1:up, 2:down}\n",
        "    signal = np.argmax(prediction) # Получаем индекс самого большого элемента (это итоговая цифра)\n",
        "    #close = xScaler.inverse_transform(x_test[i])[-3][0] # опрелеяем текущую цену, подаваемую в нейронку\n",
        "    close = xScaler.inverse_transform(x_test[i])\n",
        "    #close = close[-1][3]\n",
        "    close = close[-1][0]\n",
        "\n",
        "    if statement == 0  and  signal == 1:## ok\n",
        "      statement = 1\n",
        "      capital = cash//close * close + cash - cash//close * close\n",
        "      inv_capital = cash//close * close\n",
        "      line = pd.DataFrame({'statement':[0], 'signal':[signal], 'close':[close],'stock':[cash//close], 'deal_prise':[close],\n",
        "                           'long':[close*0.9], 'short':[0], 'inv_capital':[inv_capital], 'cash':[cash - cash//close * close],\n",
        "                           'capital':[capital], 'ret(i)':[0] })\n",
        "      #clear_output()\n",
        "      returns = returns.append(line, ignore_index=True)\n",
        "      #print(returns.shape)\n",
        "      #print(returns[-5:])\n",
        "      continue\n",
        "  \n",
        "\n",
        "    elif statement == 0  and  signal == 0:## ok\n",
        "      line = pd.DataFrame({'statement':[statement], 'signal':[signal], 'close':[close],'stock':[0],  'deal_prise':[0],\n",
        "                           'long':[0], 'short':[0], 'inv_capital':[0], 'cash':[cash], 'capital':[cash], 'ret(i)':[0] })\n",
        "      #clear_output()\n",
        "      returns = returns.append(line, ignore_index=True)\n",
        "      #print(returns.shape)\n",
        "      #print(returns[-5:])\n",
        "      continue\n",
        "      \n",
        "      \n",
        "    elif statement == 1  and  signal == 1:## ok\n",
        "      stock = returns.iloc[i-1][3]\n",
        "      cash = returns.iloc[i-1][8]\n",
        "      inv_capital = close*stock\n",
        "      capital = close*stock+cash\n",
        "      line = pd.DataFrame({'statement':[statement], 'signal':[signal], 'close':[close], 'stock':[stock], 'deal_prise':[returns.iloc[i-1][4]],\n",
        "                           'long':[0], 'short':[0], 'inv_capital':[inv_capital], 'cash':[cash],  'capital':[capital], 'ret(i)':[0] })\n",
        "      #clear_output()\n",
        "      returns = returns.append(line, ignore_index=True)\n",
        "      #print(returns.shape)\n",
        "      #print(returns[-5:])\n",
        "      continue\n",
        "\n",
        "\n",
        "    elif statement == 1  and  signal == 0:## выходим в кэш!\n",
        "      statement = 0\n",
        "      stock = returns.iloc[i-1][3]\n",
        "      ret = (close - returns.iloc[i-1][4]) * stock\n",
        "      capital = close * stock + returns.iloc[i-1][8]\n",
        "      #stock = -capital//close\n",
        "      stock = 0\n",
        "      inv_capital = close*stock\n",
        "      cash = capital - inv_capital\n",
        "      line = pd.DataFrame({'statement':[1], 'signal':[signal], 'close':[close], 'stock':[stock], 'deal_prise':[close],\n",
        "                           'long':[0], 'short':[close*1.1], 'inv_capital':[inv_capital], 'cash':[cash], 'capital':[capital], 'ret(i)':[ret] })\n",
        "      #clear_output()\n",
        "      returns = returns.append(line, ignore_index=True)\n",
        "      #print(returns.shape)\n",
        "      #print(returns[-5:])\n",
        "      continue\n",
        "\n",
        "\n",
        "  #clear_output()\n",
        "  #returns = returns.append(line, ignore_index=True)\n",
        "  #print(returns.shape)\n",
        "  #print(returns)\n",
        "  return returns\n"
      ],
      "execution_count": 11,
      "outputs": []
    },
    {
      "cell_type": "code",
      "metadata": {
        "id": "gl0LHjpftzaK"
      },
      "source": [
        "def plotting(returns):\n",
        "  short = returns['short'].values\n",
        "  short = short.astype(bool)\n",
        "  long = returns['long'].values\n",
        "  long = long.astype(bool)\n",
        "  idx_long = np.where(long) \n",
        "  idx_short = np.where(short) \n",
        "\n",
        "  plt.figure(figsize=(18,5))\n",
        "\n",
        "  plt.subplot(121)\n",
        "  plt.plot(returns['close'], alpha=0.6)\n",
        "  plt.plot(idx_long, returns['close'].values[[idx_long]], '^', c='g')\n",
        "  plt.plot(idx_short, returns['close'].values[[idx_short]], 'v', c='r', fillstyle='none')\n",
        "  plt.title('Trading signals for ' + ticker)\n",
        "  plt.grid()\n",
        "\n",
        "  plt.subplot(122)\n",
        "  plt.plot(returns['capital'])\n",
        "  plt.title('Прирост капитала: '+ ticker)\n",
        "  plt.grid()\n",
        "  plt.show()"
      ],
      "execution_count": 12,
      "outputs": []
    },
    {
      "cell_type": "markdown",
      "metadata": {
        "id": "nN2xF9VfA0xs"
      },
      "source": [
        "## Торговля"
      ]
    },
    {
      "cell_type": "code",
      "metadata": {
        "id": "YZ-Ei6ZSp-LG",
        "colab": {
          "base_uri": "https://localhost:8080/",
          "height": 1000
        },
        "outputId": "41972a95-83af-4d40-ee93-5b0b14ef5728"
      },
      "source": [
        "\n",
        "for model_name in models_list:\n",
        "  # Загружаем модель и расшифровываем настройки ансамблей\n",
        "  trend = int(model_name[8:10])\n",
        "  ensemble = int(model_name[12:14])\n",
        "  #trend = 14\n",
        "  #ensemble = 19\n",
        "\n",
        "  # Загрузка только [Open, High, Low, Close]\n",
        "  os.chdir(path_tickers)\n",
        "  data = pd.read_csv(ticker, sep=\"\\t\", header=None)\n",
        "  print(ticker)\n",
        "  data.columns=['Date', 'Open', 'High', 'Low', 'Close']\n",
        "\n",
        "  # Применяем маску с датой\n",
        "  mask = (data['Date'] >= '2019-01-01 01:00:00.000') & (data['Date'] <= '2019-12-31 23:59:59.999') # ключевая строка для форвадного анализа\n",
        "  data = data[ (min(data[mask].index) - ensemble) : max(data[mask].index) ][:(200 + ensemble)]                          # весь год или только первые 200 бвров?\n",
        "\n",
        "  df_date = data['Date'] # Оставляем дату, чтобы потом добавить в outputs\n",
        "  del data['Date']\n",
        "  # сдвинем все индикаторы  с шагом с 1 до step_in_the_last баров назад\n",
        "  # как будто они были рассчитаны lag шагов назад\n",
        "  for i in range(1, trend + 1):\n",
        "    indicator_name = 'Close_chng_%d' % (i)\n",
        "    data[indicator_name] = data['Close'].pct_change(i) # относительная доходность единицах\n",
        "  data = data.dropna() # удаляем строки с NaN\n",
        "\n",
        "  # Добавил разметку как в Y но сдвинул на тренд\n",
        "  for i in range(1, trend + 1):\n",
        "    indicator_name = 'Close_chng_%d' % (i)\n",
        "    indicator_name_new = 'Y_%d' % (i)\n",
        "    data[indicator_name_new] = 0\n",
        "    #data.loc[data[indicator_name] < 0, indicator_name_new] = -1\n",
        "    data.loc[data[indicator_name] > 0, indicator_name_new] = 1\n",
        "# ----- эксперимент (оставил только цену и ohe)\n",
        "  for i in range(1, trend + 1):\n",
        "    indicator_name = 'Close_chng_%d' % (i)\n",
        "    del data[indicator_name]\n",
        "  del data['Open'], data['High'], data['Low']\n",
        "# ----- конец эксперимента\n",
        "  data = data.values\n",
        "  xTrain = data\n",
        "\n",
        "  \"\"\" \n",
        "  # Масштабируем только X\n",
        "  \"\"\"\n",
        "  xScaler = RobustScaler()\n",
        "  xScaler.fit(xTrain)\n",
        "  xTrain = xScaler.transform(xTrain)\n",
        "\n",
        "  # Формируем выборки для обучения нейросети\n",
        "  xTrain = split_sequence(xTrain, ensemble)\n",
        "\n",
        "# ---------------------------------------------------------------------------\n",
        "\n",
        "  os.chdir(path_models)\n",
        "  model = load_model(model_name)\n",
        "\n",
        "  os.chdir(path_outputs_val)\n",
        "  returns = trading(model, xTrain)\n",
        "  print(model_name, '\\tПрибыль: ', returns['capital'][-1:] - 1000000,\n",
        "        '\\t\\tДоходность:', (returns['capital'][-1:] - returns['capital'][0])/returns['capital'][0],\n",
        "        '\\t\\tКупи и держи:', (returns['close'][-1:] - returns['close'][0])/returns['close'][0],\n",
        "        )\n",
        "  plotting(returns) #график торговли\n",
        "  #print('\\n', '-'*30)\n",
        "\n",
        "  # запись в файл\n",
        "  df_output = returns[['close', 'stock']]\n",
        "  df_date = df_date[(df_date.shape[0] - df_output.shape[0]):].reset_index(drop=True) # Отрезали лишнее в датах для слияния с df_output\n",
        "  df_output = pd.concat([df_date, df_output],axis=1).set_index('Date')\n",
        "  df_output['order'] = df_output['stock'].diff()\n",
        "  df_output['order'][0] = df_output['stock'][0]\n",
        "  del df_output['stock']\n",
        "\n",
        "  df_output.to_csv('Val_' + model_name[:-3] + '.txt', sep='\\t')\n",
        "  print('\\n', '-'*90, '\\n')\n",
        "  \n"
      ],
      "execution_count": 25,
      "outputs": [
        {
          "output_type": "stream",
          "text": [
            "SBER_MIN60.txt\n",
            "151543_t14_e28_SBER_GRU_1h_Up_v1.h5 \tПрибыль:  186    105151.97\n",
            "Name: capital, dtype: float64 \t\tДоходность: 186    0.105152\n",
            "Name: capital, dtype: float64 \t\tКупи и держи: 186    0.14472\n",
            "Name: close, dtype: float64\n"
          ],
          "name": "stdout"
        },
        {
          "output_type": "display_data",
          "data": {
            "image/png": "[encoded data removed]",
            "text/plain": [
              "<Figure size 1296x360 with 2 Axes>"
            ]
          },
          "metadata": {
            "tags": [],
            "needs_background": "light"
          }
        },
        {
          "output_type": "stream",
          "text": [
            "\n",
            " ------------------------------------------------------------------------------------------ \n",
            "\n",
            "SBER_MIN60.txt\n",
            "152691_t14_e22_SBER_Conv_1h_Up_v1.h5 \tПрибыль:  186    30023.01\n",
            "Name: capital, dtype: float64 \t\tДоходность: 186    0.030023\n",
            "Name: capital, dtype: float64 \t\tКупи и держи: 186    0.14472\n",
            "Name: close, dtype: float64\n"
          ],
          "name": "stdout"
        },
        {
          "output_type": "display_data",
          "data": {
            "image/png": "[encoded data removed]",
            "text/plain": [
              "<Figure size 1296x360 with 2 Axes>"
            ]
          },
          "metadata": {
            "tags": [],
            "needs_background": "light"
          }
        },
        {
          "output_type": "stream",
          "text": [
            "\n",
            " ------------------------------------------------------------------------------------------ \n",
            "\n",
            "SBER_MIN60.txt\n",
            "153547_t14_e30_SBER_Conv_1h_Up_v1.h5 \tПрибыль:  186    26438.33\n",
            "Name: capital, dtype: float64 \t\tДоходность: 186    0.026438\n",
            "Name: capital, dtype: float64 \t\tКупи и держи: 186    0.14472\n",
            "Name: close, dtype: float64\n"
          ],
          "name": "stdout"
        },
        {
          "output_type": "display_data",
          "data": {
            "image/png": "[encoded data removed]",
            "text/plain": [
              "<Figure size 1296x360 with 2 Axes>"
            ]
          },
          "metadata": {
            "tags": [],
            "needs_background": "light"
          }
        },
        {
          "output_type": "stream",
          "text": [
            "\n",
            " ------------------------------------------------------------------------------------------ \n",
            "\n"
          ],
          "name": "stdout"
        }
      ]
    },
    {
      "cell_type": "code",
      "metadata": {
        "id": "GUHdF3SitWTO"
      },
      "source": [
        ""
      ],
      "execution_count": null,
      "outputs": []
    }
  ]
}