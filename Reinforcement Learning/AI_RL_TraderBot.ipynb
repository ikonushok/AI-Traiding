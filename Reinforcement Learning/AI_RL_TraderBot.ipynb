{
  "nbformat": 4,
  "nbformat_minor": 0,
  "metadata": {
    "kernelspec": {
      "display_name": "Python 3",
      "language": "python",
      "name": "python3"
    },
    "language_info": {
      "codemirror_mode": {
        "name": "ipython",
        "version": 3
      },
      "file_extension": ".py",
      "mimetype": "text/x-python",
      "name": "python",
      "nbconvert_exporter": "python",
      "pygments_lexer": "ipython3",
      "version": "3.6.8"
    },
    "colab": {
      "name": "AI trader bot(Грибовский) .ipynb",
      "provenance": [],
      "collapsed_sections": [],
      "toc_visible": true
    }
  },
  "cells": [
    {
      "cell_type": "markdown",
      "metadata": {
        "id": "Nb1DVkNeXSls"
      },
      "source": [
        "# importing the libararies "
      ]
    },
    {
      "cell_type": "code",
      "metadata": {
        "id": "Uj64SmRLXSly"
      },
      "source": [
        "import numpy as np \n",
        "import pandas as pd \n",
        "import random \n",
        "import matplotlib.pyplot as plt \n",
        "import tensorflow as tf \n",
        "import math \n",
        "import pandas_datareader as data_reader \n",
        "\n",
        "from tqdm import tqdm_notebook , tqdm \n",
        "from collections import deque "
      ],
      "execution_count": null,
      "outputs": []
    },
    {
      "cell_type": "markdown",
      "metadata": {
        "id": "4aF8l5dCXSlz"
      },
      "source": [
        "# building the AI trader network"
      ]
    },
    {
      "cell_type": "code",
      "metadata": {
        "id": "WF34s1dTXSlz"
      },
      "source": [
        "class AI_Trader():\n",
        "  \n",
        "  def __init__(self, state_size, action_space=3, model_name=\"AITrader\"): #Stay, Buy, Sell\n",
        "    \n",
        "    self.state_size = state_size\n",
        "    self.action_space = action_space\n",
        "    self.memory = deque(maxlen=2000)\n",
        "    self.inventory = []\n",
        "    self.model_name = model_name\n",
        "    \n",
        "    self.gamma = 0.95\n",
        "    self.epsilon = 1.0\n",
        "    self.epsilon_final = 0.01\n",
        "    self.epsilon_decay = 0.995\n",
        "    \n",
        "    self.model = self.model_builder()\n",
        "    \n",
        "  def model_builder(self):\n",
        "    \n",
        "    model = tf.keras.models.Sequential()\n",
        "    \n",
        "    model.add(tf.keras.layers.Dense(units=32, activation='relu', input_dim=self.state_size))\n",
        "    \n",
        "    model.add(tf.keras.layers.Dense(units=64, activation='relu'))\n",
        "    \n",
        "    model.add(tf.keras.layers.Dense(units=128, activation='relu'))\n",
        "    \n",
        "    model.add(tf.keras.layers.Dense(units=self.action_space, activation='linear'))\n",
        "    \n",
        "    model.compile(loss='mse', optimizer=tf.keras.optimizers.Adam(lr=0.001))\n",
        "    \n",
        "    return model\n",
        "  \n",
        "  def trade(self, state):\n",
        "    \n",
        "    if random.random() <= self.epsilon:\n",
        "      return random.randrange(self.action_space)\n",
        "    \n",
        "    actions = self.model.predict(state)\n",
        "    return np.argmax(actions[0])\n",
        "  \n",
        "  \n",
        "  def batch_train(self, batch_size):\n",
        "    \n",
        "    batch = []\n",
        "    for i in range(len(self.memory) - batch_size + 1, len(self.memory)):\n",
        "      batch.append(self.memory[i])\n",
        "      \n",
        "    for state, action, reward, next_state, done in batch:\n",
        "      reward = reward\n",
        "      if not done:\n",
        "        reward = reward + self.gamma * np.amax(self.model.predict(next_state)[0])\n",
        "        \n",
        "      target = self.model.predict(state)\n",
        "      target[0][action] = reward\n",
        "      \n",
        "      self.model.fit(state, target, epochs=1, verbose=0)\n",
        "      \n",
        "    if self.epsilon > self.epsilon_final:\n",
        "      self.epsilon *= self.epsilon_decay\n",
        "            \n",
        "        "
      ],
      "execution_count": null,
      "outputs": []
    },
    {
      "cell_type": "markdown",
      "metadata": {
        "id": "PcsEkBmCXSl0"
      },
      "source": [
        "# data set preprocessing "
      ]
    },
    {
      "cell_type": "markdown",
      "metadata": {
        "id": "hLX9fsX1XSl0"
      },
      "source": [
        "## sigmoid "
      ]
    },
    {
      "cell_type": "code",
      "metadata": {
        "id": "ZEgeDF1-XSl0"
      },
      "source": [
        "def sigmoid(x):\n",
        "    return 1/(1 + math.exp(-x))"
      ],
      "execution_count": null,
      "outputs": []
    },
    {
      "cell_type": "markdown",
      "metadata": {
        "id": "nbf92tcPXSl0"
      },
      "source": [
        "## price format function "
      ]
    },
    {
      "cell_type": "code",
      "metadata": {
        "id": "TQsU5ce2XSl1"
      },
      "source": [
        "def stock_price_format(n):\n",
        "    if n < 0 :\n",
        "        return '- $ {:2f}'.format(abs(n))\n",
        "    else :\n",
        "        return '$ {:2f}'.format(abs(n))"
      ],
      "execution_count": null,
      "outputs": []
    },
    {
      "cell_type": "markdown",
      "metadata": {
        "id": "77a68TBAXSl1"
      },
      "source": [
        "# dataset loader "
      ]
    },
    {
      "cell_type": "code",
      "metadata": {
        "id": "vCNCxYUXXSl1"
      },
      "source": [
        "def dataset_loader(stock_name):\n",
        "    \n",
        "    dataset = data_reader.DataReader(stock_name , data_source = 'yahoo')\n",
        "    \n",
        "    start_date = str(dataset.index[0]).split()[0]\n",
        "    end_date = str(dataset.index[-1]).split()[0]\n",
        "    \n",
        "    close = dataset['Close']\n",
        "    return close  "
      ],
      "execution_count": null,
      "outputs": []
    },
    {
      "cell_type": "code",
      "metadata": {
        "colab": {
          "base_uri": "https://localhost:8080/",
          "height": 450
        },
        "id": "dpqUPqpaXSl1",
        "outputId": "adba8843-090d-470c-ebc5-f4d768184a49"
      },
      "source": [
        "\n",
        "# this is for example purpose \n",
        "\n",
        "\n",
        "dataset_for_example = data_reader.DataReader('AAPL' , data_source = 'yahoo')\n",
        "dataset_for_example\n",
        "\n"
      ],
      "execution_count": null,
      "outputs": [
        {
          "output_type": "execute_result",
          "data": {
            "text/html": [
              "<div>\n",
              "<style scoped>\n",
              "    .dataframe tbody tr th:only-of-type {\n",
              "        vertical-align: middle;\n",
              "    }\n",
              "\n",
              "    .dataframe tbody tr th {\n",
              "        vertical-align: top;\n",
              "    }\n",
              "\n",
              "    .dataframe thead th {\n",
              "        text-align: right;\n",
              "    }\n",
              "</style>\n",
              "<table border=\"1\" class=\"dataframe\">\n",
              "  <thead>\n",
              "    <tr style=\"text-align: right;\">\n",
              "      <th></th>\n",
              "      <th>High</th>\n",
              "      <th>Low</th>\n",
              "      <th>Open</th>\n",
              "      <th>Close</th>\n",
              "      <th>Volume</th>\n",
              "      <th>Adj Close</th>\n",
              "    </tr>\n",
              "    <tr>\n",
              "      <th>Date</th>\n",
              "      <th></th>\n",
              "      <th></th>\n",
              "      <th></th>\n",
              "      <th></th>\n",
              "      <th></th>\n",
              "      <th></th>\n",
              "    </tr>\n",
              "  </thead>\n",
              "  <tbody>\n",
              "    <tr>\n",
              "      <th>2016-02-01</th>\n",
              "      <td>24.177500</td>\n",
              "      <td>23.850000</td>\n",
              "      <td>24.117500</td>\n",
              "      <td>24.107500</td>\n",
              "      <td>163774000.0</td>\n",
              "      <td>22.334911</td>\n",
              "    </tr>\n",
              "    <tr>\n",
              "      <th>2016-02-02</th>\n",
              "      <td>24.010000</td>\n",
              "      <td>23.570000</td>\n",
              "      <td>23.855000</td>\n",
              "      <td>23.620001</td>\n",
              "      <td>149428800.0</td>\n",
              "      <td>21.883259</td>\n",
              "    </tr>\n",
              "    <tr>\n",
              "      <th>2016-02-03</th>\n",
              "      <td>24.209999</td>\n",
              "      <td>23.520000</td>\n",
              "      <td>23.750000</td>\n",
              "      <td>24.087500</td>\n",
              "      <td>183857200.0</td>\n",
              "      <td>22.316381</td>\n",
              "    </tr>\n",
              "    <tr>\n",
              "      <th>2016-02-04</th>\n",
              "      <td>24.332500</td>\n",
              "      <td>23.797501</td>\n",
              "      <td>23.965000</td>\n",
              "      <td>24.150000</td>\n",
              "      <td>185886800.0</td>\n",
              "      <td>22.495693</td>\n",
              "    </tr>\n",
              "    <tr>\n",
              "      <th>2016-02-05</th>\n",
              "      <td>24.230000</td>\n",
              "      <td>23.422501</td>\n",
              "      <td>24.129999</td>\n",
              "      <td>23.504999</td>\n",
              "      <td>185672400.0</td>\n",
              "      <td>21.894878</td>\n",
              "    </tr>\n",
              "    <tr>\n",
              "      <th>...</th>\n",
              "      <td>...</td>\n",
              "      <td>...</td>\n",
              "      <td>...</td>\n",
              "      <td>...</td>\n",
              "      <td>...</td>\n",
              "      <td>...</td>\n",
              "    </tr>\n",
              "    <tr>\n",
              "      <th>2021-01-22</th>\n",
              "      <td>139.850006</td>\n",
              "      <td>135.020004</td>\n",
              "      <td>136.279999</td>\n",
              "      <td>139.070007</td>\n",
              "      <td>113907200.0</td>\n",
              "      <td>139.070007</td>\n",
              "    </tr>\n",
              "    <tr>\n",
              "      <th>2021-01-25</th>\n",
              "      <td>145.089996</td>\n",
              "      <td>136.539993</td>\n",
              "      <td>143.070007</td>\n",
              "      <td>142.919998</td>\n",
              "      <td>157611700.0</td>\n",
              "      <td>142.919998</td>\n",
              "    </tr>\n",
              "    <tr>\n",
              "      <th>2021-01-26</th>\n",
              "      <td>144.300003</td>\n",
              "      <td>141.369995</td>\n",
              "      <td>143.600006</td>\n",
              "      <td>143.160004</td>\n",
              "      <td>98390600.0</td>\n",
              "      <td>143.160004</td>\n",
              "    </tr>\n",
              "    <tr>\n",
              "      <th>2021-01-27</th>\n",
              "      <td>144.300003</td>\n",
              "      <td>140.410004</td>\n",
              "      <td>143.429993</td>\n",
              "      <td>142.059998</td>\n",
              "      <td>139236700.0</td>\n",
              "      <td>142.059998</td>\n",
              "    </tr>\n",
              "    <tr>\n",
              "      <th>2021-01-28</th>\n",
              "      <td>140.000000</td>\n",
              "      <td>138.009995</td>\n",
              "      <td>139.520004</td>\n",
              "      <td>139.449997</td>\n",
              "      <td>17875982.0</td>\n",
              "      <td>139.449997</td>\n",
              "    </tr>\n",
              "  </tbody>\n",
              "</table>\n",
              "<p>1258 rows × 6 columns</p>\n",
              "</div>"
            ],
            "text/plain": [
              "                  High         Low  ...       Volume   Adj Close\n",
              "Date                                ...                         \n",
              "2016-02-01   24.177500   23.850000  ...  163774000.0   22.334911\n",
              "2016-02-02   24.010000   23.570000  ...  149428800.0   21.883259\n",
              "2016-02-03   24.209999   23.520000  ...  183857200.0   22.316381\n",
              "2016-02-04   24.332500   23.797501  ...  185886800.0   22.495693\n",
              "2016-02-05   24.230000   23.422501  ...  185672400.0   21.894878\n",
              "...                ...         ...  ...          ...         ...\n",
              "2021-01-22  139.850006  135.020004  ...  113907200.0  139.070007\n",
              "2021-01-25  145.089996  136.539993  ...  157611700.0  142.919998\n",
              "2021-01-26  144.300003  141.369995  ...   98390600.0  143.160004\n",
              "2021-01-27  144.300003  140.410004  ...  139236700.0  142.059998\n",
              "2021-01-28  140.000000  138.009995  ...   17875982.0  139.449997\n",
              "\n",
              "[1258 rows x 6 columns]"
            ]
          },
          "metadata": {
            "tags": []
          },
          "execution_count": 6
        }
      ]
    },
    {
      "cell_type": "markdown",
      "metadata": {
        "id": "9S-wEESQXSl3"
      },
      "source": [
        "# state creator "
      ]
    },
    {
      "cell_type": "code",
      "metadata": {
        "id": "peCYkWhIXSl3"
      },
      "source": [
        "def state_creator(data, timestep, window_size):\n",
        "  \n",
        "  starting_id = timestep - window_size + 1\n",
        "  \n",
        "  if starting_id >= 0:\n",
        "    windowed_data = data[starting_id:timestep+1]\n",
        "  else:\n",
        "    windowed_data = - starting_id * [data[0]] + list(data[0:timestep+1])\n",
        "    \n",
        "  state = []\n",
        "  for i in range(window_size - 1):\n",
        "    state.append(sigmoid(windowed_data[i+1] - windowed_data[i]))\n",
        "    \n",
        "  return np.array([state])"
      ],
      "execution_count": null,
      "outputs": []
    },
    {
      "cell_type": "markdown",
      "metadata": {
        "id": "qevtN4jlXSl3"
      },
      "source": [
        "# loading a dataset "
      ]
    },
    {
      "cell_type": "code",
      "metadata": {
        "colab": {
          "base_uri": "https://localhost:8080/"
        },
        "id": "KfnmfJeOXSl3",
        "outputId": "67f4684f-d23e-4888-ce9a-9744bd3a4558"
      },
      "source": [
        "stock_name = 'SBER.ME'#'BUTTERFLY.BO'\n",
        "data = dataset_loader(stock_name)\n",
        "data"
      ],
      "execution_count": null,
      "outputs": [
        {
          "output_type": "execute_result",
          "data": {
            "text/plain": [
              "Date\n",
              "2016-02-01     96.500000\n",
              "2016-02-02     94.400002\n",
              "2016-02-03     94.529999\n",
              "2016-02-04     97.570000\n",
              "2016-02-05     97.199997\n",
              "                 ...    \n",
              "2021-01-22    267.899994\n",
              "2021-01-25    263.540009\n",
              "2021-01-26    267.940002\n",
              "2021-01-27    266.700012\n",
              "2021-01-28    265.630005\n",
              "Name: Close, Length: 1255, dtype: float64"
            ]
          },
          "metadata": {
            "tags": []
          },
          "execution_count": 15
        }
      ]
    },
    {
      "cell_type": "code",
      "metadata": {
        "colab": {
          "base_uri": "https://localhost:8080/"
        },
        "id": "zE1SEpDlZC87",
        "outputId": "78299e56-a4c2-4d41-92d5-e5f655e43173"
      },
      "source": [
        "# Расчет индекса старта с 1 января 2019 года\n",
        "mask = (data.index >= '2019-01-01 01:00:00.000') & (data.index <= '2019-12-31 23:59:59.999') # ключевая строка для форвадного анализа\n",
        "min(data[mask].index), max(data[mask].index)"
      ],
      "execution_count": null,
      "outputs": [
        {
          "output_type": "execute_result",
          "data": {
            "text/plain": [
              "(Timestamp('2019-01-03 00:00:00'), Timestamp('2019-12-30 00:00:00'))"
            ]
          },
          "metadata": {
            "tags": []
          },
          "execution_count": 16
        }
      ]
    },
    {
      "cell_type": "code",
      "metadata": {
        "colab": {
          "base_uri": "https://localhost:8080/"
        },
        "id": "QVIyxJU3ZeIG",
        "outputId": "ad65a68a-c7c7-43fb-cfa9-425edc6d1b4d"
      },
      "source": [
        "# Загружаем датасет с учетом необходимости формировать ensemble\n",
        "data = data[ (min(data[mask].index)) : max(data[mask].index) ]\n",
        "data"
      ],
      "execution_count": null,
      "outputs": [
        {
          "output_type": "execute_result",
          "data": {
            "text/plain": [
              "Date\n",
              "2019-01-03    186.990005\n",
              "2019-01-04    190.990005\n",
              "2019-01-08    191.240005\n",
              "2019-01-09    197.000000\n",
              "2019-01-10    196.750000\n",
              "                 ...    \n",
              "2019-12-24    248.669998\n",
              "2019-12-25    248.039993\n",
              "2019-12-26    248.240005\n",
              "2019-12-27    252.059998\n",
              "2019-12-30    254.750000\n",
              "Name: Close, Length: 252, dtype: float64"
            ]
          },
          "metadata": {
            "tags": []
          },
          "execution_count": 32
        }
      ]
    },
    {
      "cell_type": "markdown",
      "metadata": {
        "id": "c6qpyYujXSl3"
      },
      "source": [
        "# Training the AI trader"
      ]
    },
    {
      "cell_type": "markdown",
      "metadata": {
        "id": "DhyHNbkoXSl4"
      },
      "source": [
        "## setting the hyper parameters "
      ]
    },
    {
      "cell_type": "code",
      "metadata": {
        "id": "iwh2_txCXSl4"
      },
      "source": [
        "window_size = 10 \n",
        "episodes = 10 # 00\n",
        "\n",
        "batch_size = 32\n",
        "data_samples = len(data) - 1 \n"
      ],
      "execution_count": null,
      "outputs": []
    },
    {
      "cell_type": "markdown",
      "metadata": {
        "id": "VGTmZ4LLXSl4"
      },
      "source": [
        "## defining the trader model "
      ]
    },
    {
      "cell_type": "code",
      "metadata": {
        "id": "oehwfr7nXSl4"
      },
      "source": [
        "trader = AI_Trader(window_size)"
      ],
      "execution_count": null,
      "outputs": []
    },
    {
      "cell_type": "code",
      "metadata": {
        "colab": {
          "base_uri": "https://localhost:8080/"
        },
        "id": "c7C-XIOLXSl4",
        "outputId": "b4a210bf-df2a-4cbb-d9d9-334d1cd6f72b"
      },
      "source": [
        "trader.model.summary()"
      ],
      "execution_count": null,
      "outputs": [
        {
          "output_type": "stream",
          "text": [
            "Model: \"sequential\"\n",
            "_________________________________________________________________\n",
            "Layer (type)                 Output Shape              Param #   \n",
            "=================================================================\n",
            "dense (Dense)                (None, 32)                352       \n",
            "_________________________________________________________________\n",
            "dense_1 (Dense)              (None, 64)                2112      \n",
            "_________________________________________________________________\n",
            "dense_2 (Dense)              (None, 128)               8320      \n",
            "_________________________________________________________________\n",
            "dense_3 (Dense)              (None, 3)                 387       \n",
            "=================================================================\n",
            "Total params: 11,171\n",
            "Trainable params: 11,171\n",
            "Non-trainable params: 0\n",
            "_________________________________________________________________\n"
          ],
          "name": "stdout"
        }
      ]
    },
    {
      "cell_type": "markdown",
      "metadata": {
        "id": "gc22p1k0XSl5"
      },
      "source": [
        "# training loop "
      ]
    },
    {
      "cell_type": "code",
      "metadata": {
        "colab": {
          "base_uri": "https://localhost:8080/",
          "height": 1000
        },
        "id": "-KSkkHhKXSl5",
        "outputId": "1acb1059-b724-46c7-c177-b60ea79f342e"
      },
      "source": [
        "for episode in range(1, episodes + 1):\n",
        "  print(\"Episode: {}/{}\".format(episode, episodes))\n",
        "  \n",
        "  state = state_creator(data, 0, window_size + 1)\n",
        "  \n",
        "  total_profit = 0\n",
        "  trader.inventory = []\n",
        "  \n",
        "  for t in range(data_samples):\n",
        "    \n",
        "    action = trader.trade(state)\n",
        "    \n",
        "    next_state = state_creator(data, t+1, window_size + 1)\n",
        "    reward = 0\n",
        "    \n",
        "    if action == 1: #Buying\n",
        "      trader.inventory.append(data[t])\n",
        "      print(\"AI Trader bought: \", stock_price_format(data[t]))\n",
        "      \n",
        "    elif action == 2 and len(trader.inventory) > 0: #Selling\n",
        "      buy_price = trader.inventory.pop(0)\n",
        "      \n",
        "      reward = max(data[t] - buy_price, 0)\n",
        "      total_profit += data[t] - buy_price\n",
        "      print(\"AI Trader sold: \", stock_price_format(data[t]), \" Profit: \" + stock_price_format(data[t] - buy_price) )\n",
        "      \n",
        "    if t == data_samples - 1:\n",
        "      done = True\n",
        "    else:\n",
        "      done = False\n",
        "      \n",
        "    trader.memory.append((state, action, reward, next_state, done))\n",
        "    \n",
        "    state = next_state\n",
        "    \n",
        "    if done:\n",
        "      print(\"########################\")\n",
        "      print(\"TOTAL PROFIT: {}\".format(total_profit))\n",
        "      print(\"########################\")\n",
        "    \n",
        "    if len(trader.memory) > batch_size:\n",
        "      trader.batch_train(batch_size)\n",
        "      \n",
        "  if episode % 10 == 0:\n",
        "    trader.model.save(\"ai_trader_{}.h5\".format(episode))"
      ],
      "execution_count": null,
      "outputs": [
        {
          "output_type": "stream",
          "text": [
            "Episode: 1/10\n",
            "AI Trader bought:  $ 94.400002\n",
            "AI Trader bought:  $ 94.529999\n",
            "AI Trader sold:  $ 97.199997  Profit: $ 2.799995\n",
            "AI Trader bought:  $ 94.699997\n",
            "AI Trader sold:  $ 93.889999  Profit: - $ 0.639999\n",
            "AI Trader bought:  $ 96.349998\n",
            "AI Trader sold:  $ 94.849998  Profit: $ 0.150002\n",
            "AI Trader sold:  $ 95.250000  Profit: - $ 1.099998\n",
            "AI Trader bought:  $ 106.120003\n",
            "AI Trader bought:  $ 106.989998\n",
            "AI Trader sold:  $ 109.470001  Profit: $ 3.349998\n",
            "AI Trader bought:  $ 108.150002\n",
            "AI Trader sold:  $ 108.839996  Profit: $ 1.849998\n",
            "AI Trader sold:  $ 109.260002  Profit: $ 1.110001\n",
            "AI Trader bought:  $ 109.260002\n",
            "AI Trader sold:  $ 106.459999  Profit: - $ 2.800003\n",
            "AI Trader bought:  $ 111.489998\n",
            "AI Trader bought:  $ 109.099998\n",
            "AI Trader sold:  $ 108.059998  Profit: - $ 3.430000\n",
            "AI Trader bought:  $ 108.120003\n",
            "AI Trader sold:  $ 107.050003  Profit: - $ 2.049995\n",
            "AI Trader bought:  $ 109.900002\n",
            "AI Trader sold:  $ 108.519997  Profit: $ 0.399994\n",
            "AI Trader sold:  $ 108.000000  Profit: - $ 1.900002\n",
            "AI Trader bought:  $ 117.349998\n",
            "AI Trader sold:  $ 117.949997  Profit: $ 0.599998\n",
            "AI Trader bought:  $ 119.500000\n",
            "AI Trader sold:  $ 119.300003  Profit: - $ 0.199997\n",
            "AI Trader bought:  $ 118.199997\n",
            "AI Trader sold:  $ 123.750000  Profit: $ 5.550003\n",
            "AI Trader bought:  $ 121.250000\n",
            "AI Trader bought:  $ 120.080002\n",
            "AI Trader bought:  $ 119.699997\n",
            "AI Trader sold:  $ 120.800003  Profit: - $ 0.449997\n",
            "AI Trader sold:  $ 120.959999  Profit: $ 0.879997\n",
            "AI Trader bought:  $ 120.919998\n",
            "AI Trader bought:  $ 120.639999\n",
            "AI Trader sold:  $ 119.550003  Profit: - $ 0.149994\n",
            "AI Trader sold:  $ 123.449997  Profit: $ 2.529999\n",
            "AI Trader sold:  $ 121.199997  Profit: $ 0.559998\n",
            "AI Trader bought:  $ 122.599998\n",
            "AI Trader sold:  $ 122.709999  Profit: $ 0.110001\n",
            "AI Trader bought:  $ 123.120003\n",
            "AI Trader sold:  $ 121.900002  Profit: - $ 1.220001\n",
            "AI Trader bought:  $ 121.510002\n",
            "AI Trader sold:  $ 123.500000  Profit: $ 1.989998\n",
            "AI Trader bought:  $ 133.990005\n",
            "AI Trader sold:  $ 139.970001  Profit: $ 5.979996\n",
            "AI Trader bought:  $ 127.080002\n",
            "AI Trader sold:  $ 129.889999  Profit: $ 2.809998\n",
            "AI Trader bought:  $ 134.809998\n",
            "AI Trader sold:  $ 138.000000  Profit: $ 3.190002\n",
            "AI Trader bought:  $ 126.199997\n",
            "AI Trader sold:  $ 133.000000  Profit: $ 6.800003\n",
            "AI Trader bought:  $ 131.800003\n",
            "AI Trader sold:  $ 134.410004  Profit: $ 2.610001\n",
            "AI Trader bought:  $ 139.399994\n",
            "AI Trader sold:  $ 140.000000  Profit: $ 0.600006\n",
            "AI Trader bought:  $ 138.119995\n",
            "AI Trader bought:  $ 139.470001\n",
            "AI Trader bought:  $ 138.570007\n",
            "AI Trader bought:  $ 138.500000\n",
            "AI Trader bought:  $ 137.800003\n",
            "AI Trader bought:  $ 136.000000\n",
            "AI Trader sold:  $ 135.750000  Profit: - $ 2.369995\n",
            "AI Trader bought:  $ 136.899994\n",
            "AI Trader sold:  $ 139.149994  Profit: - $ 0.320007\n",
            "AI Trader bought:  $ 138.520004\n",
            "AI Trader bought:  $ 135.059998\n",
            "AI Trader bought:  $ 135.729996\n",
            "AI Trader sold:  $ 137.139999  Profit: - $ 1.430008\n",
            "AI Trader sold:  $ 138.690002  Profit: $ 0.190002\n",
            "AI Trader bought:  $ 138.300003\n",
            "AI Trader sold:  $ 139.699997  Profit: $ 1.899994\n",
            "AI Trader sold:  $ 139.449997  Profit: $ 3.449997\n",
            "AI Trader sold:  $ 139.500000  Profit: $ 2.600006\n",
            "AI Trader bought:  $ 138.440002\n",
            "AI Trader sold:  $ 135.800003  Profit: - $ 2.720001\n",
            "AI Trader sold:  $ 140.350006  Profit: $ 5.290009\n",
            "AI Trader sold:  $ 139.500000  Profit: $ 3.770004\n",
            "AI Trader bought:  $ 142.839996\n",
            "AI Trader bought:  $ 143.179993\n",
            "AI Trader sold:  $ 144.250000  Profit: $ 5.949997\n",
            "AI Trader sold:  $ 146.880005  Profit: $ 8.440002\n",
            "AI Trader sold:  $ 149.500000  Profit: $ 6.660004\n",
            "AI Trader bought:  $ 150.639999\n",
            "AI Trader sold:  $ 154.330002  Profit: $ 11.150009\n",
            "AI Trader bought:  $ 151.600006\n",
            "AI Trader sold:  $ 151.429993  Profit: $ 0.789993\n",
            "AI Trader sold:  $ 149.800003  Profit: - $ 1.800003\n",
            "AI Trader bought:  $ 147.000000\n",
            "AI Trader sold:  $ 148.660004  Profit: $ 1.660004\n",
            "AI Trader bought:  $ 149.100006\n",
            "AI Trader sold:  $ 147.529999  Profit: - $ 1.570007\n",
            "AI Trader bought:  $ 148.869995\n",
            "AI Trader sold:  $ 148.100006  Profit: - $ 0.769989\n",
            "AI Trader bought:  $ 148.899994\n",
            "AI Trader sold:  $ 148.740005  Profit: - $ 0.159988\n",
            "AI Trader bought:  $ 147.740005\n",
            "AI Trader sold:  $ 148.600006  Profit: $ 0.860001\n",
            "AI Trader bought:  $ 149.149994\n",
            "AI Trader bought:  $ 151.570007\n",
            "AI Trader bought:  $ 150.669998\n",
            "AI Trader bought:  $ 149.300003\n",
            "AI Trader bought:  $ 149.199997\n",
            "AI Trader sold:  $ 147.399994  Profit: - $ 1.750000\n",
            "AI Trader bought:  $ 145.850006\n",
            "AI Trader sold:  $ 143.399994  Profit: - $ 8.170013\n",
            "AI Trader sold:  $ 146.110001  Profit: - $ 4.559998\n",
            "AI Trader sold:  $ 153.360001  Profit: $ 4.059998\n",
            "AI Trader bought:  $ 151.509995\n",
            "AI Trader sold:  $ 149.750000  Profit: $ 0.550003\n",
            "AI Trader bought:  $ 150.050003\n",
            "AI Trader sold:  $ 153.000000  Profit: $ 7.149994\n",
            "AI Trader sold:  $ 155.000000  Profit: $ 3.490005\n",
            "AI Trader sold:  $ 155.229996  Profit: $ 5.179993\n",
            "AI Trader bought:  $ 174.300003\n",
            "AI Trader sold:  $ 174.710007  Profit: $ 0.410004\n",
            "AI Trader bought:  $ 171.149994\n",
            "AI Trader sold:  $ 171.970001  Profit: $ 0.820007\n",
            "AI Trader bought:  $ 173.250000\n",
            "AI Trader bought:  $ 180.119995\n",
            "AI Trader sold:  $ 175.949997  Profit: $ 2.699997\n",
            "AI Trader sold:  $ 171.899994  Profit: - $ 8.220001\n",
            "AI Trader bought:  $ 168.350006\n",
            "AI Trader bought:  $ 168.270004\n",
            "AI Trader sold:  $ 164.899994  Profit: - $ 3.450012\n",
            "AI Trader bought:  $ 164.660004\n",
            "AI Trader bought:  $ 165.979996\n",
            "AI Trader sold:  $ 166.300003  Profit: - $ 1.970001\n",
            "AI Trader bought:  $ 166.750000\n",
            "AI Trader sold:  $ 170.250000  Profit: $ 5.589996\n",
            "AI Trader sold:  $ 170.259995  Profit: $ 4.279999\n",
            "AI Trader sold:  $ 173.789993  Profit: $ 7.039993\n",
            "AI Trader bought:  $ 168.800003\n",
            "AI Trader bought:  $ 165.500000\n",
            "AI Trader bought:  $ 164.699997\n",
            "AI Trader bought:  $ 162.699997\n",
            "AI Trader sold:  $ 163.500000  Profit: - $ 5.300003\n",
            "AI Trader bought:  $ 166.490005\n",
            "AI Trader sold:  $ 165.490005  Profit: - $ 0.009995\n",
            "AI Trader sold:  $ 165.440002  Profit: $ 0.740005\n",
            "AI Trader sold:  $ 167.000000  Profit: $ 4.300003\n",
            "AI Trader sold:  $ 165.899994  Profit: - $ 0.590012\n",
            "AI Trader bought:  $ 161.149994\n",
            "AI Trader sold:  $ 163.800003  Profit: $ 2.650009\n",
            "AI Trader bought:  $ 163.220001\n",
            "AI Trader bought:  $ 163.500000\n",
            "AI Trader bought:  $ 161.800003\n",
            "AI Trader sold:  $ 167.490005  Profit: $ 4.270004\n",
            "AI Trader sold:  $ 161.490005  Profit: - $ 2.009995\n",
            "AI Trader bought:  $ 155.199997\n",
            "AI Trader bought:  $ 150.279999\n",
            "AI Trader sold:  $ 152.000000  Profit: - $ 9.800003\n",
            "AI Trader bought:  $ 153.990005\n",
            "AI Trader bought:  $ 153.399994\n",
            "AI Trader sold:  $ 153.600006  Profit: - $ 1.599991\n",
            "AI Trader sold:  $ 158.210007  Profit: $ 7.930008\n",
            "AI Trader sold:  $ 159.589996  Profit: $ 5.599991\n",
            "AI Trader sold:  $ 162.500000  Profit: $ 9.100006\n",
            "AI Trader bought:  $ 165.500000\n",
            "AI Trader bought:  $ 170.800003\n",
            "AI Trader sold:  $ 169.970001  Profit: $ 4.470001\n",
            "AI Trader sold:  $ 171.350006  Profit: $ 0.550003\n",
            "AI Trader bought:  $ 170.660004\n",
            "AI Trader bought:  $ 166.309998\n",
            "AI Trader sold:  $ 165.699997  Profit: - $ 4.960007\n",
            "AI Trader sold:  $ 160.699997  Profit: - $ 5.610001\n",
            "AI Trader bought:  $ 152.820007\n",
            "AI Trader sold:  $ 151.929993  Profit: - $ 0.890015\n",
            "AI Trader bought:  $ 150.130005\n",
            "AI Trader bought:  $ 146.000000\n",
            "AI Trader bought:  $ 139.000000\n",
            "AI Trader bought:  $ 141.630005\n",
            "AI Trader sold:  $ 144.899994  Profit: - $ 5.230011\n",
            "AI Trader sold:  $ 143.490005  Profit: - $ 2.509995\n",
            "AI Trader sold:  $ 144.250000  Profit: $ 5.250000\n",
            "AI Trader sold:  $ 144.100006  Profit: $ 2.470001\n",
            "AI Trader bought:  $ 147.500000\n",
            "AI Trader sold:  $ 152.160004  Profit: $ 4.660004\n",
            "AI Trader bought:  $ 161.399994\n",
            "AI Trader bought:  $ 161.979996\n",
            "AI Trader bought:  $ 163.929993\n",
            "AI Trader bought:  $ 160.220001\n",
            "AI Trader bought:  $ 161.550003\n",
            "AI Trader sold:  $ 166.309998  Profit: $ 4.910004\n",
            "AI Trader sold:  $ 169.899994  Profit: $ 7.919998\n",
            "AI Trader sold:  $ 170.000000  Profit: $ 6.070007\n",
            "AI Trader sold:  $ 175.750000  Profit: $ 15.529999\n",
            "AI Trader sold:  $ 173.399994  Profit: $ 11.849991\n",
            "AI Trader bought:  $ 184.139999\n",
            "AI Trader sold:  $ 188.750000  Profit: $ 4.610001\n",
            "AI Trader bought:  $ 192.500000\n",
            "AI Trader bought:  $ 194.160004\n",
            "AI Trader sold:  $ 194.000000  Profit: $ 1.500000\n",
            "AI Trader sold:  $ 195.509995  Profit: $ 1.349991\n",
            "AI Trader bought:  $ 192.199997\n",
            "AI Trader bought:  $ 192.970001\n",
            "AI Trader bought:  $ 192.339996\n",
            "AI Trader sold:  $ 192.500000  Profit: $ 0.300003\n",
            "AI Trader bought:  $ 192.750000\n",
            "AI Trader sold:  $ 196.050003  Profit: $ 3.080002\n",
            "AI Trader sold:  $ 195.000000  Profit: $ 2.660004\n",
            "AI Trader bought:  $ 193.850006\n",
            "AI Trader sold:  $ 193.800003  Profit: $ 1.050003\n",
            "AI Trader sold:  $ 217.699997  Profit: $ 23.849991\n",
            "AI Trader bought:  $ 226.759995\n",
            "AI Trader bought:  $ 230.000000\n",
            "AI Trader sold:  $ 228.199997  Profit: $ 1.440002\n",
            "AI Trader bought:  $ 224.350006\n",
            "AI Trader bought:  $ 221.500000\n",
            "AI Trader bought:  $ 224.600006\n",
            "AI Trader bought:  $ 223.910004\n",
            "AI Trader sold:  $ 219.809998  Profit: - $ 10.190002\n",
            "AI Trader bought:  $ 220.889999\n",
            "AI Trader sold:  $ 227.899994  Profit: $ 3.549988\n",
            "AI Trader sold:  $ 221.800003  Profit: $ 0.300003\n",
            "AI Trader bought:  $ 226.529999\n",
            "AI Trader sold:  $ 227.399994  Profit: $ 2.799988\n",
            "AI Trader bought:  $ 221.440002\n",
            "AI Trader sold:  $ 223.300003  Profit: - $ 0.610001\n",
            "AI Trader sold:  $ 226.979996  Profit: $ 6.089996\n",
            "AI Trader bought:  $ 225.199997\n",
            "AI Trader sold:  $ 238.800003  Profit: $ 12.270004\n",
            "AI Trader sold:  $ 238.600006  Profit: $ 17.160004\n",
            "AI Trader sold:  $ 240.399994  Profit: $ 15.199997\n",
            "AI Trader bought:  $ 238.850006\n",
            "AI Trader sold:  $ 239.639999  Profit: $ 0.789993\n",
            "AI Trader bought:  $ 257.320007\n",
            "AI Trader bought:  $ 255.639999\n",
            "AI Trader bought:  $ 258.940002\n",
            "AI Trader bought:  $ 253.190002\n",
            "AI Trader bought:  $ 255.050003\n",
            "AI Trader sold:  $ 258.299988  Profit: $ 0.979980\n",
            "AI Trader sold:  $ 262.029999  Profit: $ 6.389999\n",
            "AI Trader sold:  $ 264.579987  Profit: $ 5.639984\n",
            "AI Trader bought:  $ 266.989990\n",
            "AI Trader sold:  $ 266.850006  Profit: $ 13.660004\n",
            "AI Trader sold:  $ 267.220001  Profit: $ 12.169998\n",
            "AI Trader sold:  $ 279.200012  Profit: $ 12.210022\n",
            "AI Trader bought:  $ 277.390015\n",
            "AI Trader bought:  $ 280.470001\n",
            "AI Trader bought:  $ 272.399994\n",
            "AI Trader bought:  $ 273.000000\n",
            "AI Trader bought:  $ 277.000000\n",
            "AI Trader bought:  $ 274.000000\n",
            "AI Trader sold:  $ 274.299988  Profit: - $ 3.090027\n",
            "AI Trader bought:  $ 273.950012\n",
            "AI Trader bought:  $ 262.500000\n",
            "AI Trader bought:  $ 254.300003\n",
            "AI Trader bought:  $ 256.149994\n",
            "AI Trader bought:  $ 255.000000\n",
            "AI Trader bought:  $ 256.600006\n",
            "AI Trader sold:  $ 268.880005  Profit: - $ 11.589996\n",
            "AI Trader bought:  $ 265.500000\n",
            "AI Trader bought:  $ 262.000000\n",
            "AI Trader bought:  $ 256.130005\n",
            "AI Trader bought:  $ 258.000000\n",
            "AI Trader bought:  $ 251.500000\n",
            "AI Trader bought:  $ 252.899994\n",
            "AI Trader bought:  $ 249.990005\n",
            "AI Trader sold:  $ 251.300003  Profit: - $ 21.099991\n",
            "AI Trader sold:  $ 254.279999  Profit: - $ 18.720001\n",
            "AI Trader bought:  $ 262.000000\n",
            "AI Trader bought:  $ 256.540009\n",
            "AI Trader bought:  $ 215.130005\n",
            "AI Trader bought:  $ 208.000000\n",
            "AI Trader bought:  $ 212.699997\n",
            "AI Trader bought:  $ 192.059998\n",
            "AI Trader bought:  $ 207.500000\n",
            "AI Trader bought:  $ 215.869995\n",
            "AI Trader bought:  $ 213.449997\n",
            "AI Trader bought:  $ 223.000000\n",
            "AI Trader bought:  $ 220.449997\n",
            "AI Trader bought:  $ 223.910004\n",
            "AI Trader bought:  $ 226.990005\n",
            "AI Trader sold:  $ 229.020004  Profit: - $ 47.979996\n",
            "AI Trader bought:  $ 229.399994\n",
            "AI Trader bought:  $ 228.550003\n",
            "AI Trader sold:  $ 229.860001  Profit: - $ 44.139999\n",
            "AI Trader bought:  $ 226.699997\n",
            "AI Trader bought:  $ 233.699997\n",
            "AI Trader bought:  $ 235.570007\n",
            "AI Trader bought:  $ 237.800003\n",
            "AI Trader bought:  $ 231.389999\n",
            "AI Trader bought:  $ 229.559998\n",
            "AI Trader bought:  $ 227.550003\n",
            "AI Trader bought:  $ 223.130005\n",
            "AI Trader bought:  $ 226.500000\n",
            "AI Trader bought:  $ 225.600006\n",
            "AI Trader bought:  $ 221.000000\n",
            "AI Trader bought:  $ 222.009995\n",
            "AI Trader bought:  $ 220.759995\n",
            "AI Trader bought:  $ 220.899994\n",
            "AI Trader bought:  $ 220.500000\n",
            "AI Trader bought:  $ 220.000000\n",
            "AI Trader bought:  $ 220.000000\n",
            "AI Trader bought:  $ 214.729996\n",
            "AI Trader bought:  $ 217.899994\n",
            "AI Trader bought:  $ 211.130005\n",
            "AI Trader bought:  $ 215.000000\n",
            "AI Trader bought:  $ 214.000000\n",
            "AI Trader bought:  $ 209.360001\n",
            "AI Trader sold:  $ 206.300003  Profit: - $ 67.650009\n",
            "AI Trader bought:  $ 206.000000\n",
            "AI Trader sold:  $ 212.199997  Profit: - $ 50.300003\n",
            "AI Trader sold:  $ 210.399994  Profit: - $ 43.900009\n",
            "AI Trader bought:  $ 214.479996\n",
            "AI Trader bought:  $ 202.509995\n",
            "AI Trader bought:  $ 199.910004\n",
            "AI Trader sold:  $ 207.949997  Profit: - $ 48.199997\n",
            "AI Trader bought:  $ 208.750000\n",
            "AI Trader bought:  $ 218.000000\n",
            "AI Trader sold:  $ 220.860001  Profit: - $ 34.139999\n",
            "AI Trader bought:  $ 217.750000\n",
            "AI Trader bought:  $ 217.699997\n",
            "AI Trader bought:  $ 224.539993\n",
            "AI Trader bought:  $ 226.710007\n",
            "AI Trader bought:  $ 230.750000\n",
            "AI Trader bought:  $ 230.520004\n",
            "AI Trader bought:  $ 227.570007\n",
            "AI Trader bought:  $ 226.600006\n",
            "AI Trader bought:  $ 229.500000\n",
            "AI Trader bought:  $ 227.320007\n",
            "AI Trader bought:  $ 222.500000\n",
            "AI Trader bought:  $ 208.339996\n",
            "AI Trader bought:  $ 204.339996\n",
            "AI Trader bought:  $ 208.419998\n",
            "AI Trader bought:  $ 213.699997\n",
            "AI Trader bought:  $ 210.000000\n",
            "AI Trader bought:  $ 208.899994\n",
            "AI Trader bought:  $ 211.330002\n",
            "AI Trader sold:  $ 214.860001  Profit: - $ 41.740005\n",
            "AI Trader bought:  $ 210.600006\n",
            "AI Trader bought:  $ 206.600006\n",
            "AI Trader bought:  $ 202.210007\n",
            "AI Trader bought:  $ 203.899994\n",
            "AI Trader bought:  $ 201.789993\n",
            "AI Trader bought:  $ 193.199997\n",
            "AI Trader bought:  $ 195.899994\n",
            "AI Trader bought:  $ 186.149994\n",
            "AI Trader bought:  $ 190.000000\n",
            "AI Trader bought:  $ 187.979996\n",
            "AI Trader sold:  $ 191.600006  Profit: - $ 73.899994\n",
            "AI Trader bought:  $ 189.550003\n",
            "AI Trader bought:  $ 191.199997\n",
            "AI Trader sold:  $ 191.800003  Profit: - $ 70.199997\n",
            "AI Trader bought:  $ 187.800003\n",
            "AI Trader bought:  $ 178.710007\n",
            "AI Trader bought:  $ 180.389999\n",
            "AI Trader bought:  $ 183.270004\n",
            "AI Trader bought:  $ 182.000000\n",
            "AI Trader sold:  $ 183.500000  Profit: - $ 72.630005\n",
            "AI Trader bought:  $ 178.000000\n",
            "AI Trader bought:  $ 182.000000\n",
            "AI Trader bought:  $ 181.210007\n",
            "AI Trader bought:  $ 179.500000\n",
            "AI Trader sold:  $ 178.460007  Profit: - $ 79.539993\n",
            "AI Trader bought:  $ 175.000000\n",
            "AI Trader bought:  $ 174.899994\n",
            "AI Trader bought:  $ 171.210007\n",
            "AI Trader bought:  $ 169.360001\n",
            "AI Trader bought:  $ 173.899994\n",
            "AI Trader bought:  $ 183.500000\n",
            "AI Trader sold:  $ 188.710007  Profit: - $ 62.789993\n",
            "AI Trader sold:  $ 188.110001  Profit: - $ 64.789993\n",
            "AI Trader sold:  $ 191.649994  Profit: - $ 58.340012\n",
            "AI Trader sold:  $ 193.899994  Profit: - $ 68.100006\n",
            "AI Trader bought:  $ 191.160004\n",
            "AI Trader bought:  $ 193.440002\n",
            "AI Trader bought:  $ 195.550003\n",
            "AI Trader bought:  $ 195.789993\n",
            "AI Trader bought:  $ 204.100006\n",
            "AI Trader bought:  $ 203.320007\n"
          ],
          "name": "stdout"
        },
        {
          "output_type": "error",
          "ename": "KeyboardInterrupt",
          "evalue": "ignored",
          "traceback": [
            "\u001b[0;31m---------------------------------------------------------------------------\u001b[0m",
            "\u001b[0;31mKeyboardInterrupt\u001b[0m                         Traceback (most recent call last)",
            "\u001b[0;32m<ipython-input-25-6b31faf67a23>\u001b[0m in \u001b[0;36m<module>\u001b[0;34m()\u001b[0m\n\u001b[1;32m     40\u001b[0m \u001b[0;34m\u001b[0m\u001b[0m\n\u001b[1;32m     41\u001b[0m     \u001b[0;32mif\u001b[0m \u001b[0mlen\u001b[0m\u001b[0;34m(\u001b[0m\u001b[0mtrader\u001b[0m\u001b[0;34m.\u001b[0m\u001b[0mmemory\u001b[0m\u001b[0;34m)\u001b[0m \u001b[0;34m>\u001b[0m \u001b[0mbatch_size\u001b[0m\u001b[0;34m:\u001b[0m\u001b[0;34m\u001b[0m\u001b[0;34m\u001b[0m\u001b[0m\n\u001b[0;32m---> 42\u001b[0;31m       \u001b[0mtrader\u001b[0m\u001b[0;34m.\u001b[0m\u001b[0mbatch_train\u001b[0m\u001b[0;34m(\u001b[0m\u001b[0mbatch_size\u001b[0m\u001b[0;34m)\u001b[0m\u001b[0;34m\u001b[0m\u001b[0;34m\u001b[0m\u001b[0m\n\u001b[0m\u001b[1;32m     43\u001b[0m \u001b[0;34m\u001b[0m\u001b[0m\n\u001b[1;32m     44\u001b[0m   \u001b[0;32mif\u001b[0m \u001b[0mepisode\u001b[0m \u001b[0;34m%\u001b[0m \u001b[0;36m10\u001b[0m \u001b[0;34m==\u001b[0m \u001b[0;36m0\u001b[0m\u001b[0;34m:\u001b[0m\u001b[0;34m\u001b[0m\u001b[0;34m\u001b[0m\u001b[0m\n",
            "\u001b[0;32m<ipython-input-2-59f4cced6e32>\u001b[0m in \u001b[0;36mbatch_train\u001b[0;34m(self, batch_size)\u001b[0m\n\u001b[1;32m     52\u001b[0m         \u001b[0mreward\u001b[0m \u001b[0;34m=\u001b[0m \u001b[0mreward\u001b[0m \u001b[0;34m+\u001b[0m \u001b[0mself\u001b[0m\u001b[0;34m.\u001b[0m\u001b[0mgamma\u001b[0m \u001b[0;34m*\u001b[0m \u001b[0mnp\u001b[0m\u001b[0;34m.\u001b[0m\u001b[0mamax\u001b[0m\u001b[0;34m(\u001b[0m\u001b[0mself\u001b[0m\u001b[0;34m.\u001b[0m\u001b[0mmodel\u001b[0m\u001b[0;34m.\u001b[0m\u001b[0mpredict\u001b[0m\u001b[0;34m(\u001b[0m\u001b[0mnext_state\u001b[0m\u001b[0;34m)\u001b[0m\u001b[0;34m[\u001b[0m\u001b[0;36m0\u001b[0m\u001b[0;34m]\u001b[0m\u001b[0;34m)\u001b[0m\u001b[0;34m\u001b[0m\u001b[0;34m\u001b[0m\u001b[0m\n\u001b[1;32m     53\u001b[0m \u001b[0;34m\u001b[0m\u001b[0m\n\u001b[0;32m---> 54\u001b[0;31m       \u001b[0mtarget\u001b[0m \u001b[0;34m=\u001b[0m \u001b[0mself\u001b[0m\u001b[0;34m.\u001b[0m\u001b[0mmodel\u001b[0m\u001b[0;34m.\u001b[0m\u001b[0mpredict\u001b[0m\u001b[0;34m(\u001b[0m\u001b[0mstate\u001b[0m\u001b[0;34m)\u001b[0m\u001b[0;34m\u001b[0m\u001b[0;34m\u001b[0m\u001b[0m\n\u001b[0m\u001b[1;32m     55\u001b[0m       \u001b[0mtarget\u001b[0m\u001b[0;34m[\u001b[0m\u001b[0;36m0\u001b[0m\u001b[0;34m]\u001b[0m\u001b[0;34m[\u001b[0m\u001b[0maction\u001b[0m\u001b[0;34m]\u001b[0m \u001b[0;34m=\u001b[0m \u001b[0mreward\u001b[0m\u001b[0;34m\u001b[0m\u001b[0;34m\u001b[0m\u001b[0m\n\u001b[1;32m     56\u001b[0m \u001b[0;34m\u001b[0m\u001b[0m\n",
            "\u001b[0;32m/usr/local/lib/python3.6/dist-packages/tensorflow/python/keras/engine/training.py\u001b[0m in \u001b[0;36mpredict\u001b[0;34m(self, x, batch_size, verbose, steps, callbacks, max_queue_size, workers, use_multiprocessing)\u001b[0m\n\u001b[1;32m   1623\u001b[0m       \u001b[0mcallbacks\u001b[0m\u001b[0;34m.\u001b[0m\u001b[0mon_predict_begin\u001b[0m\u001b[0;34m(\u001b[0m\u001b[0;34m)\u001b[0m\u001b[0;34m\u001b[0m\u001b[0;34m\u001b[0m\u001b[0m\n\u001b[1;32m   1624\u001b[0m       \u001b[0mbatch_outputs\u001b[0m \u001b[0;34m=\u001b[0m \u001b[0;32mNone\u001b[0m\u001b[0;34m\u001b[0m\u001b[0;34m\u001b[0m\u001b[0m\n\u001b[0;32m-> 1625\u001b[0;31m       \u001b[0;32mfor\u001b[0m \u001b[0m_\u001b[0m\u001b[0;34m,\u001b[0m \u001b[0miterator\u001b[0m \u001b[0;32min\u001b[0m \u001b[0mdata_handler\u001b[0m\u001b[0;34m.\u001b[0m\u001b[0menumerate_epochs\u001b[0m\u001b[0;34m(\u001b[0m\u001b[0;34m)\u001b[0m\u001b[0;34m:\u001b[0m  \u001b[0;31m# Single epoch.\u001b[0m\u001b[0;34m\u001b[0m\u001b[0;34m\u001b[0m\u001b[0m\n\u001b[0m\u001b[1;32m   1626\u001b[0m         \u001b[0;32mwith\u001b[0m \u001b[0mdata_handler\u001b[0m\u001b[0;34m.\u001b[0m\u001b[0mcatch_stop_iteration\u001b[0m\u001b[0;34m(\u001b[0m\u001b[0;34m)\u001b[0m\u001b[0;34m:\u001b[0m\u001b[0;34m\u001b[0m\u001b[0;34m\u001b[0m\u001b[0m\n\u001b[1;32m   1627\u001b[0m           \u001b[0;32mfor\u001b[0m \u001b[0mstep\u001b[0m \u001b[0;32min\u001b[0m \u001b[0mdata_handler\u001b[0m\u001b[0;34m.\u001b[0m\u001b[0msteps\u001b[0m\u001b[0;34m(\u001b[0m\u001b[0;34m)\u001b[0m\u001b[0;34m:\u001b[0m\u001b[0;34m\u001b[0m\u001b[0;34m\u001b[0m\u001b[0m\n",
            "\u001b[0;32m/usr/local/lib/python3.6/dist-packages/tensorflow/python/keras/engine/data_adapter.py\u001b[0m in \u001b[0;36menumerate_epochs\u001b[0;34m(self)\u001b[0m\n\u001b[1;32m   1131\u001b[0m     \u001b[0;34m\"\"\"Yields `(epoch, tf.data.Iterator)`.\"\"\"\u001b[0m\u001b[0;34m\u001b[0m\u001b[0;34m\u001b[0m\u001b[0m\n\u001b[1;32m   1132\u001b[0m     \u001b[0;32mwith\u001b[0m \u001b[0mself\u001b[0m\u001b[0;34m.\u001b[0m\u001b[0m_truncate_execution_to_epoch\u001b[0m\u001b[0;34m(\u001b[0m\u001b[0;34m)\u001b[0m\u001b[0;34m:\u001b[0m\u001b[0;34m\u001b[0m\u001b[0;34m\u001b[0m\u001b[0m\n\u001b[0;32m-> 1133\u001b[0;31m       \u001b[0mdata_iterator\u001b[0m \u001b[0;34m=\u001b[0m \u001b[0miter\u001b[0m\u001b[0;34m(\u001b[0m\u001b[0mself\u001b[0m\u001b[0;34m.\u001b[0m\u001b[0m_dataset\u001b[0m\u001b[0;34m)\u001b[0m\u001b[0;34m\u001b[0m\u001b[0;34m\u001b[0m\u001b[0m\n\u001b[0m\u001b[1;32m   1134\u001b[0m       \u001b[0;32mfor\u001b[0m \u001b[0mepoch\u001b[0m \u001b[0;32min\u001b[0m \u001b[0mrange\u001b[0m\u001b[0;34m(\u001b[0m\u001b[0mself\u001b[0m\u001b[0;34m.\u001b[0m\u001b[0m_initial_epoch\u001b[0m\u001b[0;34m,\u001b[0m \u001b[0mself\u001b[0m\u001b[0;34m.\u001b[0m\u001b[0m_epochs\u001b[0m\u001b[0;34m)\u001b[0m\u001b[0;34m:\u001b[0m\u001b[0;34m\u001b[0m\u001b[0;34m\u001b[0m\u001b[0m\n\u001b[1;32m   1135\u001b[0m         \u001b[0;32mif\u001b[0m \u001b[0mself\u001b[0m\u001b[0;34m.\u001b[0m\u001b[0m_insufficient_data\u001b[0m\u001b[0;34m:\u001b[0m  \u001b[0;31m# Set by `catch_stop_iteration`.\u001b[0m\u001b[0;34m\u001b[0m\u001b[0;34m\u001b[0m\u001b[0m\n",
            "\u001b[0;32m/usr/local/lib/python3.6/dist-packages/tensorflow/python/data/ops/dataset_ops.py\u001b[0m in \u001b[0;36m__iter__\u001b[0;34m(self)\u001b[0m\n\u001b[1;32m    420\u001b[0m     \u001b[0;32mif\u001b[0m \u001b[0mcontext\u001b[0m\u001b[0;34m.\u001b[0m\u001b[0mexecuting_eagerly\u001b[0m\u001b[0;34m(\u001b[0m\u001b[0;34m)\u001b[0m \u001b[0;32mor\u001b[0m \u001b[0mops\u001b[0m\u001b[0;34m.\u001b[0m\u001b[0minside_function\u001b[0m\u001b[0;34m(\u001b[0m\u001b[0;34m)\u001b[0m\u001b[0;34m:\u001b[0m\u001b[0;34m\u001b[0m\u001b[0;34m\u001b[0m\u001b[0m\n\u001b[1;32m    421\u001b[0m       \u001b[0;32mwith\u001b[0m \u001b[0mops\u001b[0m\u001b[0;34m.\u001b[0m\u001b[0mcolocate_with\u001b[0m\u001b[0;34m(\u001b[0m\u001b[0mself\u001b[0m\u001b[0;34m.\u001b[0m\u001b[0m_variant_tensor\u001b[0m\u001b[0;34m)\u001b[0m\u001b[0;34m:\u001b[0m\u001b[0;34m\u001b[0m\u001b[0;34m\u001b[0m\u001b[0m\n\u001b[0;32m--> 422\u001b[0;31m         \u001b[0;32mreturn\u001b[0m \u001b[0miterator_ops\u001b[0m\u001b[0;34m.\u001b[0m\u001b[0mOwnedIterator\u001b[0m\u001b[0;34m(\u001b[0m\u001b[0mself\u001b[0m\u001b[0;34m)\u001b[0m\u001b[0;34m\u001b[0m\u001b[0;34m\u001b[0m\u001b[0m\n\u001b[0m\u001b[1;32m    423\u001b[0m     \u001b[0;32melse\u001b[0m\u001b[0;34m:\u001b[0m\u001b[0;34m\u001b[0m\u001b[0;34m\u001b[0m\u001b[0m\n\u001b[1;32m    424\u001b[0m       raise RuntimeError(\"__iter__() is only supported inside of tf.function \"\n",
            "\u001b[0;32m/usr/local/lib/python3.6/dist-packages/tensorflow/python/data/ops/iterator_ops.py\u001b[0m in \u001b[0;36m__init__\u001b[0;34m(self, dataset, components, element_spec)\u001b[0m\n\u001b[1;32m    680\u001b[0m       \u001b[0;32mif\u001b[0m \u001b[0;34m(\u001b[0m\u001b[0mcomponents\u001b[0m \u001b[0;32mis\u001b[0m \u001b[0;32mnot\u001b[0m \u001b[0;32mNone\u001b[0m \u001b[0;32mor\u001b[0m \u001b[0melement_spec\u001b[0m \u001b[0;32mis\u001b[0m \u001b[0;32mnot\u001b[0m \u001b[0;32mNone\u001b[0m\u001b[0;34m)\u001b[0m\u001b[0;34m:\u001b[0m\u001b[0;34m\u001b[0m\u001b[0;34m\u001b[0m\u001b[0m\n\u001b[1;32m    681\u001b[0m         \u001b[0;32mraise\u001b[0m \u001b[0mValueError\u001b[0m\u001b[0;34m(\u001b[0m\u001b[0merror_message\u001b[0m\u001b[0;34m)\u001b[0m\u001b[0;34m\u001b[0m\u001b[0;34m\u001b[0m\u001b[0m\n\u001b[0;32m--> 682\u001b[0;31m       \u001b[0mself\u001b[0m\u001b[0;34m.\u001b[0m\u001b[0m_create_iterator\u001b[0m\u001b[0;34m(\u001b[0m\u001b[0mdataset\u001b[0m\u001b[0;34m)\u001b[0m\u001b[0;34m\u001b[0m\u001b[0;34m\u001b[0m\u001b[0m\n\u001b[0m\u001b[1;32m    683\u001b[0m \u001b[0;34m\u001b[0m\u001b[0m\n\u001b[1;32m    684\u001b[0m   \u001b[0;32mdef\u001b[0m \u001b[0m_create_iterator\u001b[0m\u001b[0;34m(\u001b[0m\u001b[0mself\u001b[0m\u001b[0;34m,\u001b[0m \u001b[0mdataset\u001b[0m\u001b[0;34m)\u001b[0m\u001b[0;34m:\u001b[0m\u001b[0;34m\u001b[0m\u001b[0;34m\u001b[0m\u001b[0m\n",
            "\u001b[0;32m/usr/local/lib/python3.6/dist-packages/tensorflow/python/data/ops/iterator_ops.py\u001b[0m in \u001b[0;36m_create_iterator\u001b[0;34m(self, dataset)\u001b[0m\n\u001b[1;32m    684\u001b[0m   \u001b[0;32mdef\u001b[0m \u001b[0m_create_iterator\u001b[0m\u001b[0;34m(\u001b[0m\u001b[0mself\u001b[0m\u001b[0;34m,\u001b[0m \u001b[0mdataset\u001b[0m\u001b[0;34m)\u001b[0m\u001b[0;34m:\u001b[0m\u001b[0;34m\u001b[0m\u001b[0;34m\u001b[0m\u001b[0m\n\u001b[1;32m    685\u001b[0m     \u001b[0;31m# pylint: disable=protected-access\u001b[0m\u001b[0;34m\u001b[0m\u001b[0;34m\u001b[0m\u001b[0;34m\u001b[0m\u001b[0m\n\u001b[0;32m--> 686\u001b[0;31m     \u001b[0mdataset\u001b[0m \u001b[0;34m=\u001b[0m \u001b[0mdataset\u001b[0m\u001b[0;34m.\u001b[0m\u001b[0m_apply_options\u001b[0m\u001b[0;34m(\u001b[0m\u001b[0;34m)\u001b[0m\u001b[0;34m\u001b[0m\u001b[0;34m\u001b[0m\u001b[0m\n\u001b[0m\u001b[1;32m    687\u001b[0m \u001b[0;34m\u001b[0m\u001b[0m\n\u001b[1;32m    688\u001b[0m     \u001b[0;31m# Store dataset reference to ensure that dataset is alive when this iterator\u001b[0m\u001b[0;34m\u001b[0m\u001b[0;34m\u001b[0m\u001b[0;34m\u001b[0m\u001b[0m\n",
            "\u001b[0;32m/usr/local/lib/python3.6/dist-packages/tensorflow/python/data/ops/dataset_ops.py\u001b[0m in \u001b[0;36m_apply_options\u001b[0;34m(self)\u001b[0m\n\u001b[1;32m    381\u001b[0m     \u001b[0;31m# (3) Apply graph rewrite options\u001b[0m\u001b[0;34m\u001b[0m\u001b[0;34m\u001b[0m\u001b[0;34m\u001b[0m\u001b[0m\n\u001b[1;32m    382\u001b[0m     \u001b[0;31m# pylint: disable=protected-access\u001b[0m\u001b[0;34m\u001b[0m\u001b[0;34m\u001b[0m\u001b[0;34m\u001b[0m\u001b[0m\n\u001b[0;32m--> 383\u001b[0;31m     \u001b[0mgraph_rewrites\u001b[0m \u001b[0;34m=\u001b[0m \u001b[0moptions\u001b[0m\u001b[0;34m.\u001b[0m\u001b[0m_graph_rewrites\u001b[0m\u001b[0;34m(\u001b[0m\u001b[0;34m)\u001b[0m\u001b[0;34m\u001b[0m\u001b[0;34m\u001b[0m\u001b[0m\n\u001b[0m\u001b[1;32m    384\u001b[0m     \u001b[0mgraph_rewrite_configs\u001b[0m \u001b[0;34m=\u001b[0m \u001b[0moptions\u001b[0m\u001b[0;34m.\u001b[0m\u001b[0m_graph_rewrite_configs\u001b[0m\u001b[0;34m(\u001b[0m\u001b[0mautotune\u001b[0m\u001b[0;34m)\u001b[0m\u001b[0;34m\u001b[0m\u001b[0;34m\u001b[0m\u001b[0m\n\u001b[1;32m    385\u001b[0m     \u001b[0;31m# pylint: enable=protected-access\u001b[0m\u001b[0;34m\u001b[0m\u001b[0;34m\u001b[0m\u001b[0;34m\u001b[0m\u001b[0m\n",
            "\u001b[0;32m/usr/local/lib/python3.6/dist-packages/tensorflow/python/data/ops/dataset_ops.py\u001b[0m in \u001b[0;36m_graph_rewrites\u001b[0;34m(self)\u001b[0m\n\u001b[1;32m   3055\u001b[0m       \u001b[0mresult\u001b[0m\u001b[0;34m.\u001b[0m\u001b[0mdisabled\u001b[0m\u001b[0;34m.\u001b[0m\u001b[0mappend\u001b[0m\u001b[0;34m(\u001b[0m\u001b[0;34m\"slack\"\u001b[0m\u001b[0;34m)\u001b[0m\u001b[0;34m\u001b[0m\u001b[0;34m\u001b[0m\u001b[0m\n\u001b[1;32m   3056\u001b[0m \u001b[0;34m\u001b[0m\u001b[0m\n\u001b[0;32m-> 3057\u001b[0;31m     \u001b[0mgraph_rewrites\u001b[0m \u001b[0;34m=\u001b[0m \u001b[0moptions_lib\u001b[0m\u001b[0;34m.\u001b[0m\u001b[0mgraph_rewrites\u001b[0m\u001b[0;34m(\u001b[0m\u001b[0;34m)\u001b[0m\u001b[0;34m\u001b[0m\u001b[0;34m\u001b[0m\u001b[0m\n\u001b[0m\u001b[1;32m   3058\u001b[0m     return graph_rewrites(enabled=list(set(result.enabled)),\n\u001b[1;32m   3059\u001b[0m                           \u001b[0mdisabled\u001b[0m\u001b[0;34m=\u001b[0m\u001b[0mlist\u001b[0m\u001b[0;34m(\u001b[0m\u001b[0mset\u001b[0m\u001b[0;34m(\u001b[0m\u001b[0mresult\u001b[0m\u001b[0;34m.\u001b[0m\u001b[0mdisabled\u001b[0m\u001b[0;34m)\u001b[0m\u001b[0;34m)\u001b[0m\u001b[0;34m,\u001b[0m\u001b[0;34m\u001b[0m\u001b[0;34m\u001b[0m\u001b[0m\n",
            "\u001b[0;32m/usr/local/lib/python3.6/dist-packages/tensorflow/python/data/util/options.py\u001b[0m in \u001b[0;36mgraph_rewrites\u001b[0;34m()\u001b[0m\n\u001b[1;32m     64\u001b[0m \u001b[0;32mdef\u001b[0m \u001b[0mgraph_rewrites\u001b[0m\u001b[0;34m(\u001b[0m\u001b[0;34m)\u001b[0m\u001b[0;34m:\u001b[0m\u001b[0;34m\u001b[0m\u001b[0;34m\u001b[0m\u001b[0m\n\u001b[1;32m     65\u001b[0m   return collections.namedtuple(\"GraphRewrites\",\n\u001b[0;32m---> 66\u001b[0;31m                                 [\"enabled\", \"disabled\", \"default\"])\n\u001b[0m\u001b[1;32m     67\u001b[0m \u001b[0;34m\u001b[0m\u001b[0m\n\u001b[1;32m     68\u001b[0m \u001b[0;34m\u001b[0m\u001b[0m\n",
            "\u001b[0;32m/usr/lib/python3.6/collections/__init__.py\u001b[0m in \u001b[0;36mnamedtuple\u001b[0;34m(typename, field_names, verbose, rename, module)\u001b[0m\n\u001b[1;32m    427\u001b[0m     \u001b[0;31m# tracing utilities by setting a value for frame.f_globals['__name__']\u001b[0m\u001b[0;34m\u001b[0m\u001b[0;34m\u001b[0m\u001b[0;34m\u001b[0m\u001b[0m\n\u001b[1;32m    428\u001b[0m     \u001b[0mnamespace\u001b[0m \u001b[0;34m=\u001b[0m \u001b[0mdict\u001b[0m\u001b[0;34m(\u001b[0m\u001b[0m__name__\u001b[0m\u001b[0;34m=\u001b[0m\u001b[0;34m'namedtuple_%s'\u001b[0m \u001b[0;34m%\u001b[0m \u001b[0mtypename\u001b[0m\u001b[0;34m)\u001b[0m\u001b[0;34m\u001b[0m\u001b[0;34m\u001b[0m\u001b[0m\n\u001b[0;32m--> 429\u001b[0;31m     \u001b[0mexec\u001b[0m\u001b[0;34m(\u001b[0m\u001b[0mclass_definition\u001b[0m\u001b[0;34m,\u001b[0m \u001b[0mnamespace\u001b[0m\u001b[0;34m)\u001b[0m\u001b[0;34m\u001b[0m\u001b[0;34m\u001b[0m\u001b[0m\n\u001b[0m\u001b[1;32m    430\u001b[0m     \u001b[0mresult\u001b[0m \u001b[0;34m=\u001b[0m \u001b[0mnamespace\u001b[0m\u001b[0;34m[\u001b[0m\u001b[0mtypename\u001b[0m\u001b[0;34m]\u001b[0m\u001b[0;34m\u001b[0m\u001b[0;34m\u001b[0m\u001b[0m\n\u001b[1;32m    431\u001b[0m     \u001b[0mresult\u001b[0m\u001b[0;34m.\u001b[0m\u001b[0m_source\u001b[0m \u001b[0;34m=\u001b[0m \u001b[0mclass_definition\u001b[0m\u001b[0;34m\u001b[0m\u001b[0;34m\u001b[0m\u001b[0m\n",
            "\u001b[0;31mKeyboardInterrupt\u001b[0m: "
          ]
        }
      ]
    },
    {
      "cell_type": "code",
      "metadata": {
        "id": "I2J1kFydXSl6",
        "colab": {
          "base_uri": "https://localhost:8080/"
        },
        "outputId": "42bf940e-e582-422a-b576-57a7aa423184"
      },
      "source": [
        "total_profit"
      ],
      "execution_count": null,
      "outputs": [
        {
          "output_type": "execute_result",
          "data": {
            "text/plain": [
              "-700.1800765991211"
            ]
          },
          "metadata": {
            "tags": []
          },
          "execution_count": 26
        }
      ]
    },
    {
      "cell_type": "markdown",
      "metadata": {
        "id": "tTwFykk8eyV0"
      },
      "source": [
        "# Trading loop on 2020"
      ]
    },
    {
      "cell_type": "code",
      "metadata": {
        "id": "1nnjZi_EeSuq",
        "colab": {
          "base_uri": "https://localhost:8080/"
        },
        "outputId": "62c76e7d-9adb-4c4b-95a0-b661d0b66c5c"
      },
      "source": [
        "# Расчет индекса старта с 1 января 2020 года\r\n",
        "mask20 = (data.index >= '2020-01-01 01:00:00.000') & (data.index <= '2020-12-31 23:59:59.999') # ключевая строка для форвадного анализа\r\n",
        "min(data[mask20].index), max(data[mask20].index)"
      ],
      "execution_count": null,
      "outputs": [
        {
          "output_type": "execute_result",
          "data": {
            "text/plain": [
              "(Timestamp('2020-01-03 00:00:00'), Timestamp('2020-12-30 00:00:00'))"
            ]
          },
          "metadata": {
            "tags": []
          },
          "execution_count": 17
        }
      ]
    },
    {
      "cell_type": "code",
      "metadata": {
        "id": "JCkAgx-EeepW",
        "colab": {
          "base_uri": "https://localhost:8080/"
        },
        "outputId": "78696cfa-19a0-499b-b14b-d6420acfd4db"
      },
      "source": [
        "# Загружаем датасет с учетом необходимости формировать ensemble\r\n",
        "data20 = data[ (min(data[mask20].index)) : max(data[mask20].index) ]\r\n",
        "data20"
      ],
      "execution_count": null,
      "outputs": [
        {
          "output_type": "execute_result",
          "data": {
            "text/plain": [
              "Date\n",
              "2020-01-03    255.000000\n",
              "2020-01-06    253.899994\n",
              "2020-01-08    259.149994\n",
              "2020-01-09    257.989990\n",
              "2020-01-10    258.190002\n",
              "                 ...    \n",
              "2020-12-24    268.850006\n",
              "2020-12-25    270.700012\n",
              "2020-12-28    274.529999\n",
              "2020-12-29    272.540009\n",
              "2020-12-30    270.660004\n",
              "Name: Close, Length: 250, dtype: float64"
            ]
          },
          "metadata": {
            "tags": []
          },
          "execution_count": 18
        }
      ]
    },
    {
      "cell_type": "code",
      "metadata": {
        "id": "YhUOgPZSsBw7"
      },
      "source": [
        "data_samples = len(data20) - 1 "
      ],
      "execution_count": null,
      "outputs": []
    },
    {
      "cell_type": "code",
      "metadata": {
        "id": "1KhG4Jd_ew0m",
        "colab": {
          "base_uri": "https://localhost:8080/"
        },
        "outputId": "ced4251b-0f84-4b21-fb8f-ac87a2eaa74e"
      },
      "source": [
        "state = state_creator(data20, 0, window_size + 1)\r\n",
        "data_samples = len(data20) - 1 \r\n",
        "stocks = 0\r\n",
        "cash0 = 100000.\r\n",
        "cash = cash0\r\n",
        "\r\n",
        "for t in range(data_samples - window_size):\r\n",
        "    action = trader.trade(state)\r\n",
        "    \r\n",
        "    next_state = state_creator(data, t+1, window_size + 1)\r\n",
        "    reward = 0\r\n",
        "    price = data[t + window_size] # вот такая будет цена\r\n",
        "    \r\n",
        "    if action == 1: # Buying\r\n",
        "        n = cash // price # столько акций сможем купить\r\n",
        "        if n > 0:\r\n",
        "            stocks += n\r\n",
        "            cash -= (n * price)\r\n",
        "            buy_price = price\r\n",
        "            print(\"%d: Купили %d акций по цене %.2f\" % (t + window_size, n, price))\r\n",
        "      \r\n",
        "    if action == 2: #Selling\r\n",
        "        n = stocks\r\n",
        "        if n > 0:\r\n",
        "            cash += (price * stocks) # продаем все акции\r\n",
        "            stocks = 0\r\n",
        "            # reward = max(price - buy_price, 0) # зачем макс?\r\n",
        "            reward = price - buy_price \r\n",
        "            print(\"%d: Продали %d акций по цене %.2f, кэш стал: %.2f, reward=%.2f\" % (t + window_size, n, price, cash, reward))\r\n",
        "      \r\n",
        "    done = (t == (data_samples - 1 - window_size))\r\n",
        "        \r\n",
        "    trader.memory.append((state, action, reward, next_state, done))\r\n",
        "    \r\n",
        "    state = next_state\r\n",
        "    \r\n",
        "    if done:\r\n",
        "        print(\"########################\")\r\n",
        "        print(\"Результат: %.2f \" % (price * stocks + cash - cash0)) \r\n",
        "        print(\"########################\")\r\n",
        "    \r\n",
        "    if len(trader.memory) > batch_size:\r\n",
        "        trader.batch_train(batch_size)\r\n",
        "      "
      ],
      "execution_count": null,
      "outputs": [
        {
          "output_type": "stream",
          "text": [
            "10: Купили 1049 акций по цене 95.25\n",
            "11: Купили 0 акций по цене 96.51\n",
            "12: Купили 0 акций по цене 99.20\n",
            "13: Купили 0 акций по цене 102.70\n",
            "14: Купили 0 акций по цене 101.50\n",
            "15: Купили 0 акций по цене 103.20\n",
            "16: Купили 0 акций по цене 102.10\n",
            "17: Купили 0 акций по цене 104.05\n",
            "18: Купили 0 акций по цене 106.24\n",
            "19: Купили 0 акций по цене 107.00\n",
            "21: Купили 0 акций по цене 106.12\n",
            "22: Купили 0 акций по цене 106.99\n",
            "23: Купили 0 акций по цене 108.99\n",
            "24: Купили 0 акций по цене 109.47\n",
            "25: Купили 0 акций по цене 108.15\n",
            "26: Купили 0 акций по цене 108.84\n",
            "27: Купили 0 акций по цене 109.26\n",
            "28: Купили 0 акций по цене 109.26\n",
            "29: Купили 0 акций по цене 106.46\n",
            "30: Купили 0 акций по цене 107.00\n",
            "31: Купили 0 акций по цене 109.47\n",
            "32: Купили 0 акций по цене 112.40\n",
            "33: Купили 0 акций по цене 112.07\n",
            "34: Купили 0 акций по цене 111.49\n",
            "35: Купили 0 акций по цене 109.10\n",
            "36: Купили 0 акций по цене 108.06\n",
            "37: Купили 0 акций по цене 109.10\n",
            "38: Купили 0 акций по цене 108.12\n",
            "39: Купили 0 акций по цене 107.05\n",
            "40: Купили 0 акций по цене 109.15\n",
            "41: Купили 0 акций по цене 109.90\n",
            "42: Купили 0 акций по цене 108.52\n",
            "43: Купили 0 акций по цене 108.20\n",
            "44: Купили 0 акций по цене 106.87\n",
            "45: Купили 0 акций по цене 108.00\n",
            "46: Купили 0 акций по цене 108.51\n",
            "47: Купили 0 акций по цене 112.92\n",
            "48: Купили 0 акций по цене 117.35\n",
            "49: Купили 0 акций по цене 117.95\n",
            "50: Купили 0 акций по цене 119.50\n",
            "51: Купили 0 акций по цене 119.30\n",
            "52: Купили 0 акций по цене 119.30\n",
            "53: Купили 0 акций по цене 118.20\n",
            "54: Купили 0 акций по цене 121.50\n",
            "55: Купили 0 акций по цене 123.75\n",
            "56: Купили 0 акций по цене 119.17\n",
            "57: Купили 0 акций по цене 121.25\n",
            "58: Купили 0 акций по цене 120.08\n",
            "59: Купили 0 акций по цене 119.70\n",
            "60: Купили 0 акций по цене 120.80\n",
            "61: Купили 0 акций по цене 124.39\n",
            "62: Купили 0 акций по цене 123.55\n",
            "63: Купили 0 акций по цене 120.96\n",
            "64: Купили 0 акций по цене 120.92\n",
            "66: Купили 0 акций по цене 119.55\n",
            "67: Купили 0 акций по цене 123.45\n",
            "68: Купили 0 акций по цене 121.20\n",
            "69: Купили 0 акций по цене 121.07\n",
            "70: Купили 0 акций по цене 122.60\n",
            "71: Купили 0 акций по цене 122.71\n",
            "72: Купили 0 акций по цене 123.12\n",
            "73: Купили 0 акций по цене 120.50\n",
            "74: Купили 0 акций по цене 121.90\n",
            "76: Купили 0 акций по цене 123.50\n",
            "78: Купили 0 акций по цене 132.16\n",
            "79: Купили 0 акций по цене 133.20\n",
            "80: Купили 0 акций по цене 134.45\n",
            "81: Купили 0 акций по цене 132.56\n",
            "82: Купили 0 акций по цене 131.36\n",
            "83: Купили 0 акций по цене 132.30\n",
            "84: Купили 0 акций по цене 131.59\n",
            "85: Купили 0 акций по цене 133.99\n",
            "86: Купили 0 акций по цене 139.97\n",
            "87: Продали 1049 акций по цене 139.39, кэш стал: 146302.86\n",
            "88: Купили 1047 акций по цене 139.61\n",
            "89: Купили 0 акций по цене 133.50\n",
            "90: Купили 1 акций по цене 127.08\n",
            "91: Купили 0 акций по цене 129.89\n",
            "92: Купили 0 акций по цене 127.10\n",
            "93: Купили 0 акций по цене 128.70\n",
            "94: Купили 0 акций по цене 132.13\n",
            "95: Купили 0 акций по цене 133.39\n",
            "96: Купили 0 акций по цене 134.81\n",
            "97: Купили 0 акций по цене 138.00\n",
            "98: Купили 0 акций по цене 133.40\n",
            "99: Купили 0 акций по цене 126.20\n",
            "100: Купили 0 акций по цене 129.57\n",
            "101: Купили 0 акций по цене 133.88\n",
            "102: Купили 0 акций по цене 133.00\n",
            "103: Купили 0 акций по цене 133.85\n",
            "104: Купили 0 акций по цене 134.60\n",
            "105: Купили 0 акций по цене 131.85\n",
            "106: Купили 0 акций по цене 129.36\n",
            "107: Купили 0 акций по цене 131.80\n",
            "108: Купили 0 акций по цене 134.41\n",
            "109: Купили 0 акций по цене 137.20\n",
            "110: Купили 0 акций по цене 140.40\n",
            "112: Купили 0 акций по цене 140.00\n",
            "113: Купили 0 акций по цене 138.12\n",
            "114: Купили 0 акций по цене 139.93\n",
            "115: Купили 0 акций по цене 139.47\n",
            "116: Купили 0 акций по цене 138.57\n",
            "119: Купили 0 акций по цене 136.00\n",
            "120: Купили 0 акций по цене 135.75\n",
            "121: Купили 0 акций по цене 136.90\n",
            "122: Купили 0 акций по цене 136.85\n",
            "123: Купили 0 акций по цене 139.15\n",
            "124: Купили 0 акций по цене 138.52\n",
            "125: Купили 0 акций по цене 135.06\n",
            "126: Купили 0 акций по цене 135.73\n",
            "127: Купили 0 акций по цене 137.14\n",
            "128: Купили 0 акций по цене 138.69\n",
            "129: Купили 0 акций по цене 139.45\n",
            "130: Купили 0 акций по цене 139.20\n",
            "131: Купили 0 акций по цене 138.30\n",
            "132: Купили 0 акций по цене 139.70\n",
            "133: Купили 0 акций по цене 139.45\n",
            "134: Купили 0 акций по цене 139.50\n",
            "135: Купили 0 акций по цене 138.10\n",
            "136: Купили 0 акций по цене 138.44\n",
            "137: Купили 0 акций по цене 137.00\n",
            "138: Купили 0 акций по цене 135.80\n",
            "139: Купили 0 акций по цене 137.37\n",
            "140: Купили 0 акций по цене 140.35\n",
            "141: Купили 0 акций по цене 139.50\n",
            "142: Купили 0 акций по цене 142.84\n",
            "143: Купили 0 акций по цене 145.25\n",
            "144: Купили 0 акций по цене 143.55\n",
            "145: Купили 0 акций по цене 143.18\n",
            "146: Купили 0 акций по цене 143.50\n",
            "147: Купили 0 акций по цене 144.25\n",
            "148: Купили 0 акций по цене 146.88\n",
            "149: Купили 0 акций по цене 149.50\n",
            "150: Купили 0 акций по цене 150.64\n",
            "151: Купили 0 акций по цене 154.33\n",
            "152: Купили 0 акций по цене 153.45\n",
            "153: Купили 0 акций по цене 151.60\n",
            "154: Купили 0 акций по цене 151.43\n",
            "155: Купили 0 акций по цене 149.80\n",
            "156: Купили 0 акций по цене 150.86\n",
            "157: Купили 0 акций по цене 149.14\n",
            "158: Купили 0 акций по цене 147.00\n",
            "159: Купили 0 акций по цене 148.66\n",
            "160: Купили 0 акций по цене 149.30\n",
            "161: Купили 0 акций по цене 150.67\n",
            "162: Купили 0 акций по цене 154.18\n",
            "163: Купили 0 акций по цене 151.50\n",
            "164: Купили 0 акций по цене 149.10\n",
            "165: Купили 0 акций по цене 147.53\n",
            "166: Купили 0 акций по цене 147.18\n",
            "167: Купили 0 акций по цене 148.47\n",
            "168: Купили 0 акций по цене 145.34\n",
            "169: Купили 0 акций по цене 148.87\n",
            "170: Купили 0 акций по цене 148.10\n",
            "171: Купили 0 акций по цене 147.95\n",
            "172: Продали 1048 акций по цене 148.90, кэш стал: 156051.30\n",
            "173: Купили 1049 акций по цене 148.74\n",
            "174: Купили 0 акций по цене 151.27\n",
            "175: Купили 0 акций по цене 151.30\n",
            "176: Купили 0 акций по цене 149.20\n",
            "177: Купили 0 акций по цене 146.09\n",
            "178: Купили 0 акций по цене 146.73\n",
            "179: Купили 0 акций по цене 146.46\n",
            "180: Купили 0 акций по цене 147.74\n",
            "181: Купили 0 акций по цене 148.60\n",
            "182: Купили 0 акций по цене 148.26\n",
            "183: Купили 0 акций по цене 148.42\n",
            "184: Продали 1049 акций по цене 149.15, кэш стал: 156481.38\n",
            "185: Купили 1032 акций по цене 151.57\n",
            "186: Купили 0 акций по цене 150.67\n",
            "187: Купили 0 акций по цене 149.30\n",
            "188: Купили 0 акций по цене 149.20\n",
            "189: Купили 0 акций по цене 147.40\n",
            "190: Купили 0 акций по цене 145.85\n",
            "191: Купили 0 акций по цене 142.36\n",
            "192: Купили 0 акций по цене 142.75\n",
            "193: Купили 0 акций по цене 143.40\n",
            "194: Купили 0 акций по цене 146.11\n",
            "195: Продали 1032 акций по цене 151.04, кэш стал: 155934.41\n",
            "196: Купили 1016 акций по цене 153.36\n",
            "197: Купили 0 акций по цене 151.51\n",
            "198: Купили 0 акций по цене 150.40\n",
            "199: Купили 0 акций по цене 149.85\n",
            "200: Купили 0 акций по цене 149.94\n",
            "201: Купили 0 акций по цене 149.75\n",
            "202: Купили 0 акций по цене 150.05\n",
            "203: Купили 0 акций по цене 153.00\n",
            "204: Купили 0 акций по цене 155.00\n",
            "205: Купили 0 акций по цене 155.23\n",
            "206: Купили 0 акций по цене 161.15\n",
            "207: Продали 1016 акций по цене 160.36, кэш стал: 163046.41\n",
            "208: Купили 1022 акций по цене 159.40\n",
            "209: Продали 1022 акций по цене 158.07, кэш стал: 161687.16\n",
            "210: Купили 1018 акций по цене 158.70\n",
            "211: Купили 0 акций по цене 158.70\n",
            "212: Купили 0 акций по цене 159.40\n",
            "213: Купили 0 акций по цене 162.02\n",
            "214: Купили 0 акций по цене 159.35\n",
            "215: Купили 0 акций по цене 159.95\n",
            "216: Продали 1018 акций по цене 168.98, кэш стал: 172152.20\n",
            "217: Продали 0 акций по цене 169.66, кэш стал: 172152.20\n",
            "218: Купили 981 акций по цене 175.40\n",
            "219: Купили 0 акций по цене 176.90\n",
            "220: Купили 0 акций по цене 173.70\n",
            "221: Купили 0 акций по цене 174.92\n",
            "222: Купили 0 акций по цене 173.90\n",
            "223: Продали 981 акций по цене 174.30, кэш стал: 171073.11\n",
            "224: Купили 972 акций по цене 175.90\n",
            "225: Купили 0 акций по цене 174.71\n",
            "226: Продали 972 акций по цене 170.00, кэш стал: 165338.31\n",
            "227: Купили 966 акций по цене 171.15\n",
            "228: Продали 966 акций по цене 171.97, кэш стал: 166130.44\n",
            "229: Продали 0 акций по цене 172.27, кэш стал: 166130.44\n",
            "230: Купили 976 акций по цене 170.10\n",
            "231: Купили 0 акций по цене 171.30\n",
            "232: Купили 0 акций по цене 173.25\n",
            "233: Купили 0 акций по цене 180.12\n",
            "234: Купили 0 акций по цене 175.95\n",
            "235: Купили 0 акций по цене 171.90\n",
            "236: Купили 0 акций по цене 170.69\n",
            "237: Купили 0 акций по цене 168.35\n",
            "238: Купили 0 акций по цене 171.60\n",
            "239: Купили 0 акций по цене 169.05\n",
            "240: Купили 0 акций по цене 168.27\n",
            "241: Купили 0 акций по цене 164.90\n",
            "242: Купили 0 акций по цене 164.66\n",
            "243: Купили 0 акций по цене 165.98\n",
            "244: Купили 0 акций по цене 165.24\n",
            "245: Купили 0 акций по цене 166.30\n",
            "246: Купили 0 акций по цене 167.49\n",
            "247: Купили 0 акций по цене 166.75\n",
            "248: Купили 0 акций по цене 170.25\n",
            "########################\n",
            "Результат: 66276.83 \n",
            "########################\n",
            "249: Купили 0 акций по цене 170.26\n",
            "250: Купили 0 акций по цене 173.79\n",
            "251: Купили 0 акций по цене 178.92\n",
            "252: Купили 0 акций по цене 174.60\n",
            "253: Продали 976 акций по цене 172.20, кэш стал: 168180.03\n",
            "254: Продали 0 акций по цене 173.90, кэш стал: 168180.03\n",
            "255: Продали 0 акций по цене 172.83, кэш стал: 168180.03\n",
            "256: Купили 967 акций по цене 173.80\n",
            "257: Продали 967 акций по цене 172.87, кэш стал: 167280.71\n",
            "258: Продали 0 акций по цене 173.47, кэш стал: 167280.71\n"
          ],
          "name": "stdout"
        }
      ]
    },
    {
      "cell_type": "code",
      "metadata": {
        "id": "OA0nn64l63yk"
      },
      "source": [
        ""
      ],
      "execution_count": null,
      "outputs": []
    }
  ]
}