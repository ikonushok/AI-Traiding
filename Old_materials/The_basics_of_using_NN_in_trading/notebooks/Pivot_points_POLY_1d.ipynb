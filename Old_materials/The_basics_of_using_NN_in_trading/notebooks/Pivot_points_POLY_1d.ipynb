{
 "cells": [
  {
   "cell_type": "markdown",
   "metadata": {
    "colab_type": "text",
    "id": "view-in-github"
   },
   "source": [
    "<a href=\"https://colab.research.google.com/github/ikonushok/AI-Traiding/blob/main/Pivot_points_POLY_1d.ipynb\" target=\"_parent\"><img src=\"https://colab.research.google.com/assets/colab-badge.svg\" alt=\"Open In Colab\"/></a>"
   ]
  },
  {
   "cell_type": "markdown",
   "metadata": {
    "id": "9843f65a-97ae-49b9-9906-66f32c9543b8"
   },
   "source": [
    "## Install & Imports"
   ]
  },
  {
   "cell_type": "code",
   "execution_count": 1,
   "metadata": {
    "collapsed": false,
    "jupyter": {
     "outputs_hidden": false
    },
    "pycharm": {
     "name": "#%%\n"
    }
   },
   "outputs": [],
   "source": [
    "import datetime as dt\n",
    "import pandas as pd\n",
    "import matplotlib.pyplot as plt\n",
    "!pip install pandas-datareader\n",
    "from pandas_datareader import data as pdr\n",
    "from IPython.display import clear_output\n",
    "import warnings\n",
    "warnings.filterwarnings(\"ignore\")\n",
    "clear_output()"
   ]
  },
  {
   "cell_type": "code",
   "execution_count": 2,
   "metadata": {
    "colab": {
     "base_uri": "https://localhost:8080/"
    },
    "id": "fcplpE-4WYEx",
    "outputId": "615118c9-931b-493b-96a3-07f11b1bb96a"
   },
   "outputs": [],
   "source": [
    "#from google.colab import drive\n",
    "#drive.mount('/content/drive')"
   ]
  },
  {
   "cell_type": "code",
   "execution_count": 3,
   "metadata": {
    "id": "db1c061d-202b-4d4c-8910-a7478d911634"
   },
   "outputs": [],
   "source": [
    "#!pip install yfinance\n",
    "#!conda install -c ranaroussi yfinance --y\n",
    "import yfinance as yf # requires yfinance - pip install yfinance\n",
    "clear_output()"
   ]
  },
  {
   "cell_type": "code",
   "execution_count": 4,
   "metadata": {
    "id": "f37e80ef-eef9-4f1d-b372-21393b99a414"
   },
   "outputs": [
    {
     "data": {
      "text/html": [
       "\n",
       "    <div class=\"bk-root\">\n",
       "        <a href=\"https://bokeh.org\" target=\"_blank\" class=\"bk-logo bk-logo-small bk-logo-notebook\"></a>\n",
       "        <span id=\"1001\">Loading BokehJS ...</span>\n",
       "    </div>"
      ]
     },
     "metadata": {},
     "output_type": "display_data"
    },
    {
     "data": {
      "application/javascript": [
       "\n",
       "(function(root) {\n",
       "  function now() {\n",
       "    return new Date();\n",
       "  }\n",
       "\n",
       "  var force = true;\n",
       "\n",
       "  if (typeof root._bokeh_onload_callbacks === \"undefined\" || force === true) {\n",
       "    root._bokeh_onload_callbacks = [];\n",
       "    root._bokeh_is_loading = undefined;\n",
       "  }\n",
       "\n",
       "  var JS_MIME_TYPE = 'application/javascript';\n",
       "  var HTML_MIME_TYPE = 'text/html';\n",
       "  var EXEC_MIME_TYPE = 'application/vnd.bokehjs_exec.v0+json';\n",
       "  var CLASS_NAME = 'output_bokeh rendered_html';\n",
       "\n",
       "  /**\n",
       "   * Render data to the DOM node\n",
       "   */\n",
       "  function render(props, node) {\n",
       "    var script = document.createElement(\"script\");\n",
       "    node.appendChild(script);\n",
       "  }\n",
       "\n",
       "  /**\n",
       "   * Handle when an output is cleared or removed\n",
       "   */\n",
       "  function handleClearOutput(event, handle) {\n",
       "    var cell = handle.cell;\n",
       "\n",
       "    var id = cell.output_area._bokeh_element_id;\n",
       "    var server_id = cell.output_area._bokeh_server_id;\n",
       "    // Clean up Bokeh references\n",
       "    if (id != null && id in Bokeh.index) {\n",
       "      Bokeh.index[id].model.document.clear();\n",
       "      delete Bokeh.index[id];\n",
       "    }\n",
       "\n",
       "    if (server_id !== undefined) {\n",
       "      // Clean up Bokeh references\n",
       "      var cmd = \"from bokeh.io.state import curstate; print(curstate().uuid_to_server['\" + server_id + \"'].get_sessions()[0].document.roots[0]._id)\";\n",
       "      cell.notebook.kernel.execute(cmd, {\n",
       "        iopub: {\n",
       "          output: function(msg) {\n",
       "            var id = msg.content.text.trim();\n",
       "            if (id in Bokeh.index) {\n",
       "              Bokeh.index[id].model.document.clear();\n",
       "              delete Bokeh.index[id];\n",
       "            }\n",
       "          }\n",
       "        }\n",
       "      });\n",
       "      // Destroy server and session\n",
       "      var cmd = \"import bokeh.io.notebook as ion; ion.destroy_server('\" + server_id + \"')\";\n",
       "      cell.notebook.kernel.execute(cmd);\n",
       "    }\n",
       "  }\n",
       "\n",
       "  /**\n",
       "   * Handle when a new output is added\n",
       "   */\n",
       "  function handleAddOutput(event, handle) {\n",
       "    var output_area = handle.output_area;\n",
       "    var output = handle.output;\n",
       "\n",
       "    // limit handleAddOutput to display_data with EXEC_MIME_TYPE content only\n",
       "    if ((output.output_type != \"display_data\") || (!output.data.hasOwnProperty(EXEC_MIME_TYPE))) {\n",
       "      return\n",
       "    }\n",
       "\n",
       "    var toinsert = output_area.element.find(\".\" + CLASS_NAME.split(' ')[0]);\n",
       "\n",
       "    if (output.metadata[EXEC_MIME_TYPE][\"id\"] !== undefined) {\n",
       "      toinsert[toinsert.length - 1].firstChild.textContent = output.data[JS_MIME_TYPE];\n",
       "      // store reference to embed id on output_area\n",
       "      output_area._bokeh_element_id = output.metadata[EXEC_MIME_TYPE][\"id\"];\n",
       "    }\n",
       "    if (output.metadata[EXEC_MIME_TYPE][\"server_id\"] !== undefined) {\n",
       "      var bk_div = document.createElement(\"div\");\n",
       "      bk_div.innerHTML = output.data[HTML_MIME_TYPE];\n",
       "      var script_attrs = bk_div.children[0].attributes;\n",
       "      for (var i = 0; i < script_attrs.length; i++) {\n",
       "        toinsert[toinsert.length - 1].firstChild.setAttribute(script_attrs[i].name, script_attrs[i].value);\n",
       "        toinsert[toinsert.length - 1].firstChild.textContent = bk_div.children[0].textContent\n",
       "      }\n",
       "      // store reference to server id on output_area\n",
       "      output_area._bokeh_server_id = output.metadata[EXEC_MIME_TYPE][\"server_id\"];\n",
       "    }\n",
       "  }\n",
       "\n",
       "  function register_renderer(events, OutputArea) {\n",
       "\n",
       "    function append_mime(data, metadata, element) {\n",
       "      // create a DOM node to render to\n",
       "      var toinsert = this.create_output_subarea(\n",
       "        metadata,\n",
       "        CLASS_NAME,\n",
       "        EXEC_MIME_TYPE\n",
       "      );\n",
       "      this.keyboard_manager.register_events(toinsert);\n",
       "      // Render to node\n",
       "      var props = {data: data, metadata: metadata[EXEC_MIME_TYPE]};\n",
       "      render(props, toinsert[toinsert.length - 1]);\n",
       "      element.append(toinsert);\n",
       "      return toinsert\n",
       "    }\n",
       "\n",
       "    /* Handle when an output is cleared or removed */\n",
       "    events.on('clear_output.CodeCell', handleClearOutput);\n",
       "    events.on('delete.Cell', handleClearOutput);\n",
       "\n",
       "    /* Handle when a new output is added */\n",
       "    events.on('output_added.OutputArea', handleAddOutput);\n",
       "\n",
       "    /**\n",
       "     * Register the mime type and append_mime function with output_area\n",
       "     */\n",
       "    OutputArea.prototype.register_mime_type(EXEC_MIME_TYPE, append_mime, {\n",
       "      /* Is output safe? */\n",
       "      safe: true,\n",
       "      /* Index of renderer in `output_area.display_order` */\n",
       "      index: 0\n",
       "    });\n",
       "  }\n",
       "\n",
       "  // register the mime type if in Jupyter Notebook environment and previously unregistered\n",
       "  if (root.Jupyter !== undefined) {\n",
       "    var events = require('base/js/events');\n",
       "    var OutputArea = require('notebook/js/outputarea').OutputArea;\n",
       "\n",
       "    if (OutputArea.prototype.mime_types().indexOf(EXEC_MIME_TYPE) == -1) {\n",
       "      register_renderer(events, OutputArea);\n",
       "    }\n",
       "  }\n",
       "\n",
       "  \n",
       "  if (typeof (root._bokeh_timeout) === \"undefined\" || force === true) {\n",
       "    root._bokeh_timeout = Date.now() + 5000;\n",
       "    root._bokeh_failed_load = false;\n",
       "  }\n",
       "\n",
       "  var NB_LOAD_WARNING = {'data': {'text/html':\n",
       "     \"<div style='background-color: #fdd'>\\n\"+\n",
       "     \"<p>\\n\"+\n",
       "     \"BokehJS does not appear to have successfully loaded. If loading BokehJS from CDN, this \\n\"+\n",
       "     \"may be due to a slow or bad network connection. Possible fixes:\\n\"+\n",
       "     \"</p>\\n\"+\n",
       "     \"<ul>\\n\"+\n",
       "     \"<li>re-rerun `output_notebook()` to attempt to load from CDN again, or</li>\\n\"+\n",
       "     \"<li>use INLINE resources instead, as so:</li>\\n\"+\n",
       "     \"</ul>\\n\"+\n",
       "     \"<code>\\n\"+\n",
       "     \"from bokeh.resources import INLINE\\n\"+\n",
       "     \"output_notebook(resources=INLINE)\\n\"+\n",
       "     \"</code>\\n\"+\n",
       "     \"</div>\"}};\n",
       "\n",
       "  function display_loaded() {\n",
       "    var el = document.getElementById(\"1001\");\n",
       "    if (el != null) {\n",
       "      el.textContent = \"BokehJS is loading...\";\n",
       "    }\n",
       "    if (root.Bokeh !== undefined) {\n",
       "      if (el != null) {\n",
       "        el.textContent = \"BokehJS \" + root.Bokeh.version + \" successfully loaded.\";\n",
       "      }\n",
       "    } else if (Date.now() < root._bokeh_timeout) {\n",
       "      setTimeout(display_loaded, 100)\n",
       "    }\n",
       "  }\n",
       "\n",
       "\n",
       "  function run_callbacks() {\n",
       "    try {\n",
       "      root._bokeh_onload_callbacks.forEach(function(callback) {\n",
       "        if (callback != null)\n",
       "          callback();\n",
       "      });\n",
       "    } finally {\n",
       "      delete root._bokeh_onload_callbacks\n",
       "    }\n",
       "    console.debug(\"Bokeh: all callbacks have finished\");\n",
       "  }\n",
       "\n",
       "  function load_libs(css_urls, js_urls, callback) {\n",
       "    if (css_urls == null) css_urls = [];\n",
       "    if (js_urls == null) js_urls = [];\n",
       "\n",
       "    root._bokeh_onload_callbacks.push(callback);\n",
       "    if (root._bokeh_is_loading > 0) {\n",
       "      console.debug(\"Bokeh: BokehJS is being loaded, scheduling callback at\", now());\n",
       "      return null;\n",
       "    }\n",
       "    if (js_urls == null || js_urls.length === 0) {\n",
       "      run_callbacks();\n",
       "      return null;\n",
       "    }\n",
       "    console.debug(\"Bokeh: BokehJS not loaded, scheduling load and callback at\", now());\n",
       "    root._bokeh_is_loading = css_urls.length + js_urls.length;\n",
       "\n",
       "    function on_load() {\n",
       "      root._bokeh_is_loading--;\n",
       "      if (root._bokeh_is_loading === 0) {\n",
       "        console.debug(\"Bokeh: all BokehJS libraries/stylesheets loaded\");\n",
       "        run_callbacks()\n",
       "      }\n",
       "    }\n",
       "\n",
       "    function on_error() {\n",
       "      console.error(\"failed to load \" + url);\n",
       "    }\n",
       "\n",
       "    for (var i = 0; i < css_urls.length; i++) {\n",
       "      var url = css_urls[i];\n",
       "      const element = document.createElement(\"link\");\n",
       "      element.onload = on_load;\n",
       "      element.onerror = on_error;\n",
       "      element.rel = \"stylesheet\";\n",
       "      element.type = \"text/css\";\n",
       "      element.href = url;\n",
       "      console.debug(\"Bokeh: injecting link tag for BokehJS stylesheet: \", url);\n",
       "      document.body.appendChild(element);\n",
       "    }\n",
       "\n",
       "    const hashes = {\"https://cdn.bokeh.org/bokeh/release/bokeh-2.2.3.min.js\": \"T2yuo9Oe71Cz/I4X9Ac5+gpEa5a8PpJCDlqKYO0CfAuEszu1JrXLl8YugMqYe3sM\", \"https://cdn.bokeh.org/bokeh/release/bokeh-widgets-2.2.3.min.js\": \"98GDGJ0kOMCUMUePhksaQ/GYgB3+NH9h996V88sh3aOiUNX3N+fLXAtry6xctSZ6\", \"https://cdn.bokeh.org/bokeh/release/bokeh-tables-2.2.3.min.js\": \"89bArO+nlbP3sgakeHjCo1JYxYR5wufVgA3IbUvDY+K7w4zyxJqssu7wVnfeKCq8\"};\n",
       "\n",
       "    for (var i = 0; i < js_urls.length; i++) {\n",
       "      var url = js_urls[i];\n",
       "      var element = document.createElement('script');\n",
       "      element.onload = on_load;\n",
       "      element.onerror = on_error;\n",
       "      element.async = false;\n",
       "      element.src = url;\n",
       "      if (url in hashes) {\n",
       "        element.crossOrigin = \"anonymous\";\n",
       "        element.integrity = \"sha384-\" + hashes[url];\n",
       "      }\n",
       "      console.debug(\"Bokeh: injecting script tag for BokehJS library: \", url);\n",
       "      document.head.appendChild(element);\n",
       "    }\n",
       "  };\n",
       "\n",
       "  function inject_raw_css(css) {\n",
       "    const element = document.createElement(\"style\");\n",
       "    element.appendChild(document.createTextNode(css));\n",
       "    document.body.appendChild(element);\n",
       "  }\n",
       "\n",
       "  \n",
       "  var js_urls = [\"https://cdn.bokeh.org/bokeh/release/bokeh-2.2.3.min.js\", \"https://cdn.bokeh.org/bokeh/release/bokeh-widgets-2.2.3.min.js\", \"https://cdn.bokeh.org/bokeh/release/bokeh-tables-2.2.3.min.js\"];\n",
       "  var css_urls = [];\n",
       "  \n",
       "\n",
       "  var inline_js = [\n",
       "    function(Bokeh) {\n",
       "      Bokeh.set_log_level(\"info\");\n",
       "    },\n",
       "    function(Bokeh) {\n",
       "    \n",
       "    \n",
       "    }\n",
       "  ];\n",
       "\n",
       "  function run_inline_js() {\n",
       "    \n",
       "    if (root.Bokeh !== undefined || force === true) {\n",
       "      \n",
       "    for (var i = 0; i < inline_js.length; i++) {\n",
       "      inline_js[i].call(root, root.Bokeh);\n",
       "    }\n",
       "    if (force === true) {\n",
       "        display_loaded();\n",
       "      }} else if (Date.now() < root._bokeh_timeout) {\n",
       "      setTimeout(run_inline_js, 100);\n",
       "    } else if (!root._bokeh_failed_load) {\n",
       "      console.log(\"Bokeh: BokehJS failed to load within specified timeout.\");\n",
       "      root._bokeh_failed_load = true;\n",
       "    } else if (force !== true) {\n",
       "      var cell = $(document.getElementById(\"1001\")).parents('.cell').data().cell;\n",
       "      cell.output_area.append_execute_result(NB_LOAD_WARNING)\n",
       "    }\n",
       "\n",
       "  }\n",
       "\n",
       "  if (root._bokeh_is_loading === 0) {\n",
       "    console.debug(\"Bokeh: BokehJS loaded, going straight to plotting\");\n",
       "    run_inline_js();\n",
       "  } else {\n",
       "    load_libs(css_urls, js_urls, function() {\n",
       "      console.debug(\"Bokeh: BokehJS plotting callback run at\", now());\n",
       "      run_inline_js();\n",
       "    });\n",
       "  }\n",
       "}(window));"
      ],
      "application/vnd.bokehjs_load.v0+json": "\n(function(root) {\n  function now() {\n    return new Date();\n  }\n\n  var force = true;\n\n  if (typeof root._bokeh_onload_callbacks === \"undefined\" || force === true) {\n    root._bokeh_onload_callbacks = [];\n    root._bokeh_is_loading = undefined;\n  }\n\n  \n\n  \n  if (typeof (root._bokeh_timeout) === \"undefined\" || force === true) {\n    root._bokeh_timeout = Date.now() + 5000;\n    root._bokeh_failed_load = false;\n  }\n\n  var NB_LOAD_WARNING = {'data': {'text/html':\n     \"<div style='background-color: #fdd'>\\n\"+\n     \"<p>\\n\"+\n     \"BokehJS does not appear to have successfully loaded. If loading BokehJS from CDN, this \\n\"+\n     \"may be due to a slow or bad network connection. Possible fixes:\\n\"+\n     \"</p>\\n\"+\n     \"<ul>\\n\"+\n     \"<li>re-rerun `output_notebook()` to attempt to load from CDN again, or</li>\\n\"+\n     \"<li>use INLINE resources instead, as so:</li>\\n\"+\n     \"</ul>\\n\"+\n     \"<code>\\n\"+\n     \"from bokeh.resources import INLINE\\n\"+\n     \"output_notebook(resources=INLINE)\\n\"+\n     \"</code>\\n\"+\n     \"</div>\"}};\n\n  function display_loaded() {\n    var el = document.getElementById(\"1001\");\n    if (el != null) {\n      el.textContent = \"BokehJS is loading...\";\n    }\n    if (root.Bokeh !== undefined) {\n      if (el != null) {\n        el.textContent = \"BokehJS \" + root.Bokeh.version + \" successfully loaded.\";\n      }\n    } else if (Date.now() < root._bokeh_timeout) {\n      setTimeout(display_loaded, 100)\n    }\n  }\n\n\n  function run_callbacks() {\n    try {\n      root._bokeh_onload_callbacks.forEach(function(callback) {\n        if (callback != null)\n          callback();\n      });\n    } finally {\n      delete root._bokeh_onload_callbacks\n    }\n    console.debug(\"Bokeh: all callbacks have finished\");\n  }\n\n  function load_libs(css_urls, js_urls, callback) {\n    if (css_urls == null) css_urls = [];\n    if (js_urls == null) js_urls = [];\n\n    root._bokeh_onload_callbacks.push(callback);\n    if (root._bokeh_is_loading > 0) {\n      console.debug(\"Bokeh: BokehJS is being loaded, scheduling callback at\", now());\n      return null;\n    }\n    if (js_urls == null || js_urls.length === 0) {\n      run_callbacks();\n      return null;\n    }\n    console.debug(\"Bokeh: BokehJS not loaded, scheduling load and callback at\", now());\n    root._bokeh_is_loading = css_urls.length + js_urls.length;\n\n    function on_load() {\n      root._bokeh_is_loading--;\n      if (root._bokeh_is_loading === 0) {\n        console.debug(\"Bokeh: all BokehJS libraries/stylesheets loaded\");\n        run_callbacks()\n      }\n    }\n\n    function on_error() {\n      console.error(\"failed to load \" + url);\n    }\n\n    for (var i = 0; i < css_urls.length; i++) {\n      var url = css_urls[i];\n      const element = document.createElement(\"link\");\n      element.onload = on_load;\n      element.onerror = on_error;\n      element.rel = \"stylesheet\";\n      element.type = \"text/css\";\n      element.href = url;\n      console.debug(\"Bokeh: injecting link tag for BokehJS stylesheet: \", url);\n      document.body.appendChild(element);\n    }\n\n    const hashes = {\"https://cdn.bokeh.org/bokeh/release/bokeh-2.2.3.min.js\": \"T2yuo9Oe71Cz/I4X9Ac5+gpEa5a8PpJCDlqKYO0CfAuEszu1JrXLl8YugMqYe3sM\", \"https://cdn.bokeh.org/bokeh/release/bokeh-widgets-2.2.3.min.js\": \"98GDGJ0kOMCUMUePhksaQ/GYgB3+NH9h996V88sh3aOiUNX3N+fLXAtry6xctSZ6\", \"https://cdn.bokeh.org/bokeh/release/bokeh-tables-2.2.3.min.js\": \"89bArO+nlbP3sgakeHjCo1JYxYR5wufVgA3IbUvDY+K7w4zyxJqssu7wVnfeKCq8\"};\n\n    for (var i = 0; i < js_urls.length; i++) {\n      var url = js_urls[i];\n      var element = document.createElement('script');\n      element.onload = on_load;\n      element.onerror = on_error;\n      element.async = false;\n      element.src = url;\n      if (url in hashes) {\n        element.crossOrigin = \"anonymous\";\n        element.integrity = \"sha384-\" + hashes[url];\n      }\n      console.debug(\"Bokeh: injecting script tag for BokehJS library: \", url);\n      document.head.appendChild(element);\n    }\n  };\n\n  function inject_raw_css(css) {\n    const element = document.createElement(\"style\");\n    element.appendChild(document.createTextNode(css));\n    document.body.appendChild(element);\n  }\n\n  \n  var js_urls = [\"https://cdn.bokeh.org/bokeh/release/bokeh-2.2.3.min.js\", \"https://cdn.bokeh.org/bokeh/release/bokeh-widgets-2.2.3.min.js\", \"https://cdn.bokeh.org/bokeh/release/bokeh-tables-2.2.3.min.js\"];\n  var css_urls = [];\n  \n\n  var inline_js = [\n    function(Bokeh) {\n      Bokeh.set_log_level(\"info\");\n    },\n    function(Bokeh) {\n    \n    \n    }\n  ];\n\n  function run_inline_js() {\n    \n    if (root.Bokeh !== undefined || force === true) {\n      \n    for (var i = 0; i < inline_js.length; i++) {\n      inline_js[i].call(root, root.Bokeh);\n    }\n    if (force === true) {\n        display_loaded();\n      }} else if (Date.now() < root._bokeh_timeout) {\n      setTimeout(run_inline_js, 100);\n    } else if (!root._bokeh_failed_load) {\n      console.log(\"Bokeh: BokehJS failed to load within specified timeout.\");\n      root._bokeh_failed_load = true;\n    } else if (force !== true) {\n      var cell = $(document.getElementById(\"1001\")).parents('.cell').data().cell;\n      cell.output_area.append_execute_result(NB_LOAD_WARNING)\n    }\n\n  }\n\n  if (root._bokeh_is_loading === 0) {\n    console.debug(\"Bokeh: BokehJS loaded, going straight to plotting\");\n    run_inline_js();\n  } else {\n    load_libs(css_urls, js_urls, function() {\n      console.debug(\"Bokeh: BokehJS plotting callback run at\", now());\n      run_inline_js();\n    });\n  }\n}(window));"
     },
     "metadata": {},
     "output_type": "display_data"
    }
   ],
   "source": [
    "!pip install backtesting\n",
    "clear_output()\n",
    "# Библиотеки backtesting\n",
    "from backtesting import Backtest, Strategy"
   ]
  },
  {
   "cell_type": "code",
   "execution_count": 5,
   "metadata": {
    "id": "a5713f1e-9521-46ae-865c-46c7b0635df7"
   },
   "outputs": [],
   "source": [
    "!curl --remote-name --location https://raw.githubusercontent.com/chekh/ai_tr_libs/main/Long_n_short_strategy.py\n",
    "!curl --remote-name --location https://raw.githubusercontent.com/chekh/ai_tr_libs/main/Long_strategy.py\n",
    "clear_output()\n",
    "# Библиотеки из ai_tr_libs\n",
    "from Long_n_short_strategy import Long_n_Short_Strategy as LnS\n",
    "from Long_strategy import Long_Strategy as LS"
   ]
  },
  {
   "cell_type": "markdown",
   "metadata": {
    "id": "08b33d65-b036-49e5-8150-3dd4dba6f536"
   },
   "source": [
    "# 1d: counter_lvl = 2"
   ]
  },
  {
   "cell_type": "markdown",
   "metadata": {
    "id": "a76b394d-e916-4f2c-94e6-37ae8f7f2db0"
   },
   "source": [
    "## Загружаем данные"
   ]
  },
  {
   "cell_type": "code",
   "execution_count": 6,
   "metadata": {
    "id": "5847b6c3-2d0a-41e1-a648-bb0bb2e6d53b"
   },
   "outputs": [],
   "source": [
    "# Начните с активации обходного пути Yahoo Finance и установки начальной и конечной точек фрейма данных.\n",
    "# здесь Yf.pdr_override () активирует ваши условия обходного пути, а остальное установит ваш фрейм данных.\n",
    "yf.pdr_override()\n",
    "\n",
    "start = '2021-01-01'\n",
    "#end = dt.datetime(2019,12,31)\n",
    "window = 2\n",
    "\n",
    "now = dt.datetime.now()\n",
    "interval = '1d'\n",
    "stock = 'POLY.ME'\n",
    "\n",
    "buy_signals = pd.DataFrame() # dataframe для записи сигналов\n",
    "sell_signals = pd.DataFrame() # dataframe для записи сигналов"
   ]
  },
  {
   "cell_type": "code",
   "execution_count": 7,
   "metadata": {
    "colab": {
     "base_uri": "https://localhost:8080/",
     "height": 472
    },
    "id": "cf5411b3-fbdf-4fbc-9aa1-eabfbe733bc8",
    "outputId": "247b4b5a-006f-4657-fe77-d9da16f6fe63"
   },
   "outputs": [
    {
     "name": "stdout",
     "output_type": "stream",
     "text": [
      "[*********************100%***********************]  1 of 1 completed\n",
      "                   Open         High          Low        Close\n",
      "Date                                                          \n",
      "2021-01-04  1757.000000  1851.000000  1750.300049  1848.400024\n",
      "2021-01-05  1825.300049  1869.800049  1798.000000  1849.900024\n",
      "2021-01-06  1845.000000  1856.199951  1816.000000  1827.300049\n",
      "2021-01-08  1827.300049  1827.300049  1827.300049  1827.300049\n",
      "2021-01-11  1785.000000  1805.199951  1753.300049  1761.699951\n",
      "...                 ...          ...          ...          ...\n",
      "2021-05-24  1788.800049  1798.000000  1777.699951  1782.599976\n",
      "2021-05-25  1794.000000  1794.000000  1753.000000  1769.099976\n",
      "2021-05-26  1796.000000  1797.500000  1778.000000  1780.099976\n",
      "2021-05-27  1778.900024  1807.000000  1774.699951  1792.400024\n",
      "2021-05-28  1789.699951  1798.900024  1738.199951  1761.099976\n",
      "\n",
      "[101 rows x 4 columns]\n"
     ]
    }
   ],
   "source": [
    "df = pdr.get_data_yahoo(stock,\n",
    "                        start,\n",
    "                        #end,\n",
    "                        now,\n",
    "                        interval = interval) # interval=60min is not supported. Valid intervals: [1m, 2m, 5m, 15m, 30m, 60m, 90m, 1h, 1d, 5d, 1wk, 1mo, 3mo]\n",
    "del df['Adj Close'], df['Volume']\n",
    "df.index.name = 'Date'\n",
    "print(df)"
   ]
  },
  {
   "cell_type": "markdown",
   "metadata": {
    "id": "270263a1-c255-49c2-a9fd-60beed392a37"
   },
   "source": [
    "## Разметка Y"
   ]
  },
  {
   "cell_type": "code",
   "execution_count": 8,
   "metadata": {},
   "outputs": [],
   "source": [
    "## Размечаем Y\n",
    "\n",
    "#from pandas_datareader import data as pdr \n",
    "#import datetime as dt\n",
    "\n",
    "\n",
    "def SELL(data, counter_lvl, plotting):\n",
    "    \n",
    "    signals = pd.DataFrame() # dataframe для записи сигналов\n",
    "\n",
    "    #df['High'].plot(label='high')\n",
    "    if plotting == True:\n",
    "        plt.figure(figsize=(22, 8))\n",
    "        data['Close'].plot(label='close')\n",
    "        \n",
    "    pivots =[]\n",
    "    dates = []\n",
    "    counter = 0\n",
    "    lastPivot = 0\n",
    "    Range = [0,0,0,0,0,0,0,0,0,0,0,0,0,0,0,0,0,0,0,0]\n",
    "    daterange = [0,0,0,0,0,0,0,0,0,0,0,0,0,0,0,0,0,0,0,0]\n",
    "        \n",
    "    for i in data.index:\n",
    "        currentMax = max(Range , default=0)\n",
    "        #value=round(df[\"High\"][i],2)\n",
    "        value=data['Close'][i]\n",
    "            \n",
    "        Range=Range[1:19]\n",
    "        Range.append(value)\n",
    "        daterange=daterange[1:19]\n",
    "        daterange.append(i)\n",
    "            \n",
    "        if currentMax == max(Range , default=0):\n",
    "            counter+=1\n",
    "        else:\n",
    "            counter = 0\n",
    "        if counter ==  counter_lvl:\n",
    "            lastPivot = currentMax\n",
    "            dateloc = Range.index(lastPivot)\n",
    "            lastDate = daterange[dateloc]\n",
    "            pivots.append(lastPivot)\n",
    "            dates.append(lastDate)\n",
    "    #print()\n",
    "    #timeD = dt.timedelta(days=500)\n",
    "\n",
    "    for index in range(1, len(pivots)):\n",
    "        #print(str(pivots[index]) + \" :\" + str(dates[index]))\n",
    "        line = pd.DataFrame({'Date':[dates[index]], 'price':[pivots[index]], 'Signal':[-1]})\n",
    "        signals = signals.append(line, ignore_index=True)\n",
    "\n",
    "        #plt.plot_date([dates[index], dates[index] + timeD],\n",
    "        #    [pivots[index], pivots[index]] , linestyle='solid' , linewidth=1, marker=',', color='red')\n",
    "\n",
    "        if plotting == True:\n",
    "            plt.plot_date([dates[index], dates[index]],\n",
    "            [pivots[index], pivots[index]], marker='v', color='red')\n",
    "\n",
    "    if plotting == True:\n",
    "        plt.grid()\n",
    "        plt.show()\n",
    "\n",
    "    return signals\n",
    "    \n",
    "\n",
    "\n",
    "def BUY(data, counter_lvl, plotting):\n",
    "    \n",
    "    signals = pd.DataFrame() # dataframe для записи сигналов\n",
    "\n",
    "    #df['Low'].plot(label='low')\n",
    "    if plotting == True:\n",
    "        plt.figure(figsize=(22, 8))\n",
    "        data['Close'].plot(label='close')\n",
    "        \n",
    "    pivots =[]\n",
    "    dates = []\n",
    "    counter = 0\n",
    "    lastPivot = 0\n",
    "    Range = [0,0,0,0,0,0,0,0,0,0,0,0,0,0,0,0,0,0,0,0]\n",
    "    daterange = [0,0,0,0,0,0,0,0,0,0,0,0,0,0,0,0,0,0,0,0]\n",
    "        \n",
    "    for i in data.index:\n",
    "        currentMax = min(Range , default=0)\n",
    "        #value=round(df[\"Low\"][i], 2)\n",
    "        value=data['Close'][i]\n",
    "        \n",
    "            \n",
    "        Range=Range[1:20]\n",
    "        Range.append(value)\n",
    "        daterange=daterange[1:20]\n",
    "        daterange.append(i)\n",
    "            \n",
    "        if currentMax == min(Range , default=0):\n",
    "            counter+=1\n",
    "        else:\n",
    "            counter = 0\n",
    "        if counter ==  counter_lvl:\n",
    "            lastPivot=currentMax\n",
    "            dateloc =Range.index(lastPivot)\n",
    "            lastDate = daterange[dateloc]\n",
    "            pivots.append(lastPivot)\n",
    "            dates.append(lastDate)\n",
    "    #print()\n",
    "    #timeD = dt.timedelta(days=500)\n",
    "\n",
    "    for index in range(1, len(pivots)):\n",
    "        #print(str(pivots[index]) + \" :\" + str(dates[index]))\n",
    "        line = pd.DataFrame({'Date':[dates[index]], 'price':[pivots[index]], 'Signal':[1]})\n",
    "        signals = signals.append(line, ignore_index=True)\n",
    "            \n",
    "        #plt.plot_date([dates[index], dates[index] + timeD],\n",
    "        #    [pivots[index], pivots[index]] , linestyle='solid' , linewidth=1, marker=',', color='red')\n",
    "\n",
    "        if plotting == True:\n",
    "            plt.plot_date([dates[index], dates[index]],\n",
    "            [pivots[index], pivots[index]], marker='^', color='green')\n",
    "\n",
    "    if plotting == True:\n",
    "        plt.grid()\n",
    "        plt.show()\n",
    "\n",
    "    return signals\n",
    "    "
   ]
  },
  {
   "cell_type": "code",
   "execution_count": 9,
   "metadata": {
    "id": "803cbc4c-f874-4aa1-a674-902edf0eb971"
   },
   "outputs": [],
   "source": [
    "#import os\n",
    "#os.chdir('/content/drive/MyDrive/_Проекты/AI_Trading/AI-trading_courses/4. НС и торговля по паттернам/Подбор оптимальных параметров')\n",
    "#from markup_y import SELL, BUY"
   ]
  },
  {
   "cell_type": "code",
   "execution_count": 10,
   "metadata": {
    "colab": {
     "base_uri": "https://localhost:8080/",
     "height": 490
    },
    "id": "952a136d-62f8-42bb-98c8-c6234f572d34",
    "outputId": "3f751cff-8fe4-4d66-ee82-71468fa9ebea"
   },
   "outputs": [
    {
     "data": {
      "image/png": "[encoded data removed]",
      "text/plain": [
       "<Figure size 1584x576 with 1 Axes>"
      ]
     },
     "metadata": {
      "needs_background": "light"
     },
     "output_type": "display_data"
    }
   ],
   "source": [
    "sell_signals = SELL(df, counter_lvl = window, plotting = True)\n",
    "sell_signals = sell_signals.set_index('Date')\n",
    "#sell_signals[-10:]"
   ]
  },
  {
   "cell_type": "code",
   "execution_count": 11,
   "metadata": {
    "colab": {
     "base_uri": "https://localhost:8080/",
     "height": 490
    },
    "id": "2184f147-0615-4cb3-a3ec-7336aede96b4",
    "outputId": "95a8ee89-cea5-4df9-e4c0-d0a429bbc1c4"
   },
   "outputs": [
    {
     "data": {
      "image/png": "[encoded data removed]",
      "text/plain": [
       "<Figure size 1584x576 with 1 Axes>"
      ]
     },
     "metadata": {
      "needs_background": "light"
     },
     "output_type": "display_data"
    }
   ],
   "source": [
    "buy_signals = BUY(df, counter_lvl = window, plotting=True)\n",
    "buy_signals = buy_signals.set_index('Date')\n",
    "#buy_signals[-10:]"
   ]
  },
  {
   "cell_type": "markdown",
   "metadata": {
    "id": "37f0bdf3-ebe9-49a9-8c90-f873ae4aaac4"
   },
   "source": [
    "## Обьединение датафреймов"
   ]
  },
  {
   "cell_type": "code",
   "execution_count": 12,
   "metadata": {
    "colab": {
     "base_uri": "https://localhost:8080/",
     "height": 588
    },
    "id": "685f0fe4-9f3e-432f-b60e-13709c6cdb11",
    "outputId": "357bacd0-c387-48a0-de5e-71b6d922d950"
   },
   "outputs": [
    {
     "data": {
      "text/html": [
       "<div>\n",
       "<style scoped>\n",
       "    .dataframe tbody tr th:only-of-type {\n",
       "        vertical-align: middle;\n",
       "    }\n",
       "\n",
       "    .dataframe tbody tr th {\n",
       "        vertical-align: top;\n",
       "    }\n",
       "\n",
       "    .dataframe thead th {\n",
       "        text-align: right;\n",
       "    }\n",
       "</style>\n",
       "<table border=\"1\" class=\"dataframe\">\n",
       "  <thead>\n",
       "    <tr style=\"text-align: right;\">\n",
       "      <th></th>\n",
       "      <th>price</th>\n",
       "      <th>Signal</th>\n",
       "    </tr>\n",
       "    <tr>\n",
       "      <th>Date</th>\n",
       "      <th></th>\n",
       "      <th></th>\n",
       "    </tr>\n",
       "  </thead>\n",
       "  <tbody>\n",
       "    <tr>\n",
       "      <th>2021-03-02</th>\n",
       "      <td>1484.199951</td>\n",
       "      <td>1</td>\n",
       "    </tr>\n",
       "    <tr>\n",
       "      <th>2021-03-05</th>\n",
       "      <td>1482.500000</td>\n",
       "      <td>1</td>\n",
       "    </tr>\n",
       "    <tr>\n",
       "      <th>2021-03-30</th>\n",
       "      <td>1456.699951</td>\n",
       "      <td>1</td>\n",
       "    </tr>\n",
       "    <tr>\n",
       "      <th>2021-04-05</th>\n",
       "      <td>1494.500000</td>\n",
       "      <td>1</td>\n",
       "    </tr>\n",
       "    <tr>\n",
       "      <th>2021-04-30</th>\n",
       "      <td>1558.000000</td>\n",
       "      <td>1</td>\n",
       "    </tr>\n",
       "  </tbody>\n",
       "</table>\n",
       "</div>"
      ],
      "text/plain": [
       "                  price  Signal\n",
       "Date                           \n",
       "2021-03-02  1484.199951       1\n",
       "2021-03-05  1482.500000       1\n",
       "2021-03-30  1456.699951       1\n",
       "2021-04-05  1494.500000       1\n",
       "2021-04-30  1558.000000       1"
      ]
     },
     "execution_count": 12,
     "metadata": {},
     "output_type": "execute_result"
    }
   ],
   "source": [
    "signals = sell_signals.append(buy_signals)\n",
    "signals.index.rename('Date', inplace=True)\n",
    "signals[-5:]"
   ]
  },
  {
   "cell_type": "code",
   "execution_count": 13,
   "metadata": {},
   "outputs": [
    {
     "data": {
      "text/html": [
       "<div>\n",
       "<style scoped>\n",
       "    .dataframe tbody tr th:only-of-type {\n",
       "        vertical-align: middle;\n",
       "    }\n",
       "\n",
       "    .dataframe tbody tr th {\n",
       "        vertical-align: top;\n",
       "    }\n",
       "\n",
       "    .dataframe thead th {\n",
       "        text-align: right;\n",
       "    }\n",
       "</style>\n",
       "<table border=\"1\" class=\"dataframe\">\n",
       "  <thead>\n",
       "    <tr style=\"text-align: right;\">\n",
       "      <th></th>\n",
       "      <th>Open</th>\n",
       "      <th>High</th>\n",
       "      <th>Low</th>\n",
       "      <th>Close</th>\n",
       "      <th>Signal</th>\n",
       "    </tr>\n",
       "    <tr>\n",
       "      <th>Date</th>\n",
       "      <th></th>\n",
       "      <th></th>\n",
       "      <th></th>\n",
       "      <th></th>\n",
       "      <th></th>\n",
       "    </tr>\n",
       "  </thead>\n",
       "  <tbody>\n",
       "    <tr>\n",
       "      <th>2021-01-04</th>\n",
       "      <td>1757.000000</td>\n",
       "      <td>1851.000000</td>\n",
       "      <td>1750.300049</td>\n",
       "      <td>1848.400024</td>\n",
       "      <td>0.0</td>\n",
       "    </tr>\n",
       "    <tr>\n",
       "      <th>2021-01-05</th>\n",
       "      <td>1825.300049</td>\n",
       "      <td>1869.800049</td>\n",
       "      <td>1798.000000</td>\n",
       "      <td>1849.900024</td>\n",
       "      <td>0.0</td>\n",
       "    </tr>\n",
       "    <tr>\n",
       "      <th>2021-01-06</th>\n",
       "      <td>1845.000000</td>\n",
       "      <td>1856.199951</td>\n",
       "      <td>1816.000000</td>\n",
       "      <td>1827.300049</td>\n",
       "      <td>0.0</td>\n",
       "    </tr>\n",
       "    <tr>\n",
       "      <th>2021-01-08</th>\n",
       "      <td>1827.300049</td>\n",
       "      <td>1827.300049</td>\n",
       "      <td>1827.300049</td>\n",
       "      <td>1827.300049</td>\n",
       "      <td>0.0</td>\n",
       "    </tr>\n",
       "    <tr>\n",
       "      <th>2021-01-11</th>\n",
       "      <td>1785.000000</td>\n",
       "      <td>1805.199951</td>\n",
       "      <td>1753.300049</td>\n",
       "      <td>1761.699951</td>\n",
       "      <td>0.0</td>\n",
       "    </tr>\n",
       "    <tr>\n",
       "      <th>...</th>\n",
       "      <td>...</td>\n",
       "      <td>...</td>\n",
       "      <td>...</td>\n",
       "      <td>...</td>\n",
       "      <td>...</td>\n",
       "    </tr>\n",
       "    <tr>\n",
       "      <th>2021-05-24</th>\n",
       "      <td>1788.800049</td>\n",
       "      <td>1798.000000</td>\n",
       "      <td>1777.699951</td>\n",
       "      <td>1782.599976</td>\n",
       "      <td>0.0</td>\n",
       "    </tr>\n",
       "    <tr>\n",
       "      <th>2021-05-25</th>\n",
       "      <td>1794.000000</td>\n",
       "      <td>1794.000000</td>\n",
       "      <td>1753.000000</td>\n",
       "      <td>1769.099976</td>\n",
       "      <td>0.0</td>\n",
       "    </tr>\n",
       "    <tr>\n",
       "      <th>2021-05-26</th>\n",
       "      <td>1796.000000</td>\n",
       "      <td>1797.500000</td>\n",
       "      <td>1778.000000</td>\n",
       "      <td>1780.099976</td>\n",
       "      <td>0.0</td>\n",
       "    </tr>\n",
       "    <tr>\n",
       "      <th>2021-05-27</th>\n",
       "      <td>1778.900024</td>\n",
       "      <td>1807.000000</td>\n",
       "      <td>1774.699951</td>\n",
       "      <td>1792.400024</td>\n",
       "      <td>0.0</td>\n",
       "    </tr>\n",
       "    <tr>\n",
       "      <th>2021-05-28</th>\n",
       "      <td>1789.699951</td>\n",
       "      <td>1798.900024</td>\n",
       "      <td>1738.199951</td>\n",
       "      <td>1761.099976</td>\n",
       "      <td>0.0</td>\n",
       "    </tr>\n",
       "  </tbody>\n",
       "</table>\n",
       "<p>101 rows × 5 columns</p>\n",
       "</div>"
      ],
      "text/plain": [
       "                   Open         High          Low        Close  Signal\n",
       "Date                                                                  \n",
       "2021-01-04  1757.000000  1851.000000  1750.300049  1848.400024     0.0\n",
       "2021-01-05  1825.300049  1869.800049  1798.000000  1849.900024     0.0\n",
       "2021-01-06  1845.000000  1856.199951  1816.000000  1827.300049     0.0\n",
       "2021-01-08  1827.300049  1827.300049  1827.300049  1827.300049     0.0\n",
       "2021-01-11  1785.000000  1805.199951  1753.300049  1761.699951     0.0\n",
       "...                 ...          ...          ...          ...     ...\n",
       "2021-05-24  1788.800049  1798.000000  1777.699951  1782.599976     0.0\n",
       "2021-05-25  1794.000000  1794.000000  1753.000000  1769.099976     0.0\n",
       "2021-05-26  1796.000000  1797.500000  1778.000000  1780.099976     0.0\n",
       "2021-05-27  1778.900024  1807.000000  1774.699951  1792.400024     0.0\n",
       "2021-05-28  1789.699951  1798.900024  1738.199951  1761.099976     0.0\n",
       "\n",
       "[101 rows x 5 columns]"
      ]
     },
     "execution_count": 13,
     "metadata": {},
     "output_type": "execute_result"
    }
   ],
   "source": [
    "df_new = df\n",
    "\n",
    "df_new = pd.merge(df_new, signals['Signal'], on=('Date'), how ='left')\n",
    "df_new = df_new.fillna(0)\n",
    "#df_new.loc[df_new['Signal'] != 0]\n",
    "df_new"
   ]
  },
  {
   "cell_type": "markdown",
   "metadata": {
    "id": "cd8cf65b-de4b-42e4-b8de-6d4c3abbb827"
   },
   "source": [
    "## График торговли"
   ]
  },
  {
   "cell_type": "markdown",
   "metadata": {
    "id": "ccfcad9e-6f03-442d-a7ad-9dcc63d3527b"
   },
   "source": [
    "### Long"
   ]
  },
  {
   "cell_type": "code",
   "execution_count": 14,
   "metadata": {
    "colab": {
     "base_uri": "https://localhost:8080/",
     "height": 796
    },
    "id": "7fdc4419-be0b-486e-a40c-6dff37b9394e",
    "outputId": "f833c6ed-e2db-43b6-833f-520d6ba36721"
   },
   "outputs": [
    {
     "data": {
      "text/html": [
       "\n",
       "\n",
       "\n",
       "\n",
       "\n",
       "\n",
       "  <div class=\"bk-root\" id=\"3ff0d620-a4ba-4aec-9cf6-7973abc6cbd8\" data-root-id=\"1384\"></div>\n"
      ]
     },
     "metadata": {},
     "output_type": "display_data"
    },
    {
     "data": {
      "application/javascript": [
       "(function(root) {\n",
       "  function embed_document(root) {\n",
       "    \n",
       "  var docs_json = {\"be85051f-66c3-4720-9281-b4ced0e68905\":{\"roots\":{\"references\":[{\"attributes\":{\"children\":[{\"id\":\"1381\"},{\"id\":\"1383\"}],\"sizing_mode\":\"stretch_width\"},\"id\":\"1384\",\"type\":\"Row\"},{\"attributes\":{\"axis_label\":\"Profit / Loss\",\"formatter\":{\"id\":\"1222\"},\"minor_tick_line_color\":null,\"ticker\":{\"id\":\"1188\"}},\"id\":\"1187\",\"type\":\"LinearAxis\"},{\"attributes\":{\"dimensions\":\"width\",\"maintain_focus\":false},\"id\":\"1060\",\"type\":\"WheelZoomTool\"},{\"attributes\":{\"data_source\":{\"id\":\"1129\"},\"glyph\":{\"id\":\"1130\"},\"hover_glyph\":null,\"muted_glyph\":null,\"nonselection_glyph\":{\"id\":\"1131\"},\"selection_glyph\":null,\"view\":{\"id\":\"1133\"}},\"id\":\"1132\",\"type\":\"GlyphRenderer\"},{\"attributes\":{\"axis\":{\"id\":\"1055\"},\"dimension\":1,\"ticker\":null},\"id\":\"1058\",\"type\":\"Grid\"},{\"attributes\":{\"formatter\":{\"id\":\"1350\"},\"ticker\":{\"id\":\"1184\"},\"visible\":false},\"id\":\"1183\",\"type\":\"LinearAxis\"},{\"attributes\":{\"axis_label\":\"Equity\",\"formatter\":{\"id\":\"1088\"},\"minor_tick_line_color\":null,\"ticker\":{\"id\":\"1056\"}},\"id\":\"1055\",\"type\":\"LinearAxis\"},{\"attributes\":{\"dimensions\":\"width\",\"maintain_focus\":false},\"id\":\"1192\",\"type\":\"WheelZoomTool\"},{\"attributes\":{\"source\":{\"id\":\"1129\"}},\"id\":\"1133\",\"type\":\"CDSView\"},{\"attributes\":{},\"id\":\"1181\",\"type\":\"LinearScale\"},{\"attributes\":{},\"id\":\"1056\",\"type\":\"BasicTicker\"},{\"attributes\":{\"bottom_units\":\"screen\",\"fill_alpha\":0.5,\"fill_color\":\"lightgrey\",\"left_units\":\"screen\",\"level\":\"overlay\",\"line_alpha\":1.0,\"line_color\":\"black\",\"line_dash\":[4,4],\"line_width\":2,\"right_units\":\"screen\",\"top_units\":\"screen\"},\"id\":\"1288\",\"type\":\"BoxAnnotation\"},{\"attributes\":{},\"id\":\"1062\",\"type\":\"UndoTool\"},{\"attributes\":{},\"id\":\"1184\",\"type\":\"BasicTicker\"},{\"attributes\":{\"line_alpha\":{\"value\":0.1},\"line_color\":{\"value\":\"#bbbbbb\"},\"x0\":{\"field\":\"index\"},\"x1\":{\"field\":\"index\"},\"y0\":{\"field\":\"High\"},\"y1\":{\"field\":\"Low\"}},\"id\":\"1227\",\"type\":\"Segment\"},{\"attributes\":{\"axis\":{\"id\":\"1183\"},\"ticker\":null},\"id\":\"1186\",\"type\":\"Grid\"},{\"attributes\":{\"source\":{\"id\":\"1036\"}},\"id\":\"1250\",\"type\":\"CDSView\"},{\"attributes\":{\"data_source\":{\"id\":\"1035\"},\"glyph\":{\"id\":\"1237\"},\"hover_glyph\":null,\"muted_glyph\":null,\"nonselection_glyph\":{\"id\":\"1238\"},\"selection_glyph\":null,\"view\":{\"id\":\"1240\"}},\"id\":\"1239\",\"type\":\"GlyphRenderer\"},{\"attributes\":{},\"id\":\"1064\",\"type\":\"ResetTool\"},{\"attributes\":{\"text\":\"\"},\"id\":\"1348\",\"type\":\"Title\"},{\"attributes\":{\"dimensions\":\"width\"},\"id\":\"1059\",\"type\":\"PanTool\"},{\"attributes\":{\"overlay\":{\"id\":\"1066\"}},\"id\":\"1061\",\"type\":\"BoxZoomTool\"},{\"attributes\":{\"line_alpha\":{\"value\":0.1},\"x0\":{\"field\":\"index\"},\"x1\":{\"field\":\"index\"},\"y0\":{\"field\":\"High\"},\"y1\":{\"field\":\"Low\"}},\"id\":\"1238\",\"type\":\"Segment\"},{\"attributes\":{\"axis\":{\"id\":\"1187\"},\"dimension\":1,\"ticker\":null},\"id\":\"1190\",\"type\":\"Grid\"},{\"attributes\":{\"source\":{\"id\":\"1224\"}},\"id\":\"1235\",\"type\":\"CDSView\"},{\"attributes\":{},\"id\":\"1063\",\"type\":\"RedoTool\"},{\"attributes\":{},\"id\":\"1188\",\"type\":\"BasicTicker\"},{\"attributes\":{\"bottom\":{\"field\":\"Close\"},\"fill_alpha\":{\"value\":0.1},\"fill_color\":{\"field\":\"inc\",\"transform\":{\"id\":\"1037\"}},\"line_alpha\":{\"value\":0.1},\"top\":{\"field\":\"Open\"},\"width\":{\"value\":0.8},\"x\":{\"field\":\"index\"}},\"id\":\"1243\",\"type\":\"VBar\"},{\"attributes\":{},\"id\":\"1065\",\"type\":\"SaveTool\"},{\"attributes\":{},\"id\":\"1194\",\"type\":\"UndoTool\"},{\"attributes\":{},\"id\":\"1125\",\"type\":\"Selection\"},{\"attributes\":{\"data_source\":{\"id\":\"1035\"},\"glyph\":{\"id\":\"1242\"},\"hover_glyph\":null,\"muted_glyph\":null,\"nonselection_glyph\":{\"id\":\"1243\"},\"selection_glyph\":null,\"view\":{\"id\":\"1245\"}},\"id\":\"1244\",\"type\":\"GlyphRenderer\"},{\"attributes\":{},\"id\":\"1196\",\"type\":\"ResetTool\"},{\"attributes\":{\"dimensions\":\"width\"},\"id\":\"1191\",\"type\":\"PanTool\"},{\"attributes\":{\"source\":{\"id\":\"1224\"}},\"id\":\"1229\",\"type\":\"CDSView\"},{\"attributes\":{},\"id\":\"1126\",\"type\":\"UnionRenderers\"},{\"attributes\":{\"overlay\":{\"id\":\"1198\"}},\"id\":\"1193\",\"type\":\"BoxZoomTool\"},{\"attributes\":{\"factors\":[\"0\",\"1\"],\"palette\":[\"rgb(255, 220, 214)\",\"rgb(214, 255, 214)\"]},\"id\":\"1230\",\"type\":\"CategoricalColorMapper\"},{\"attributes\":{\"data_source\":{\"id\":\"1224\"},\"glyph\":{\"id\":\"1226\"},\"hover_glyph\":null,\"muted_glyph\":null,\"nonselection_glyph\":{\"id\":\"1227\"},\"selection_glyph\":null,\"view\":{\"id\":\"1229\"}},\"id\":\"1228\",\"type\":\"GlyphRenderer\"},{\"attributes\":{},\"id\":\"1195\",\"type\":\"RedoTool\"},{\"attributes\":{},\"id\":\"1197\",\"type\":\"SaveTool\"},{\"attributes\":{\"source\":{\"id\":\"1035\"}},\"id\":\"1240\",\"type\":\"CDSView\"},{\"attributes\":{\"data\":{},\"selected\":{\"id\":\"1147\"},\"selection_policy\":{\"id\":\"1148\"}},\"id\":\"1129\",\"type\":\"ColumnDataSource\"},{\"attributes\":{},\"id\":\"1350\",\"type\":\"BasicTickFormatter\"},{\"attributes\":{},\"id\":\"1304\",\"type\":\"BasicTickFormatter\"},{\"attributes\":{\"bottom\":{\"field\":\"Close\"},\"fill_alpha\":{\"value\":0.1},\"fill_color\":{\"field\":\"inc\",\"transform\":{\"id\":\"1230\"}},\"line_alpha\":{\"value\":0.1},\"line_color\":{\"value\":null},\"top\":{\"field\":\"Open\"},\"width\":{\"field\":\"_width\"},\"x\":{\"field\":\"index\"}},\"id\":\"1233\",\"type\":\"VBar\"},{\"attributes\":{\"fill_alpha\":{\"value\":0.1},\"fill_color\":{\"value\":\"red\"},\"line_alpha\":{\"value\":0.1},\"line_color\":{\"value\":\"red\"},\"size\":{\"units\":\"screen\",\"value\":8},\"x\":{\"value\":89},\"y\":{\"value\":1.3882476277050784}},\"id\":\"1131\",\"type\":\"Scatter\"},{\"attributes\":{\"fill_color\":{\"value\":\"red\"},\"line_color\":{\"value\":\"red\"},\"size\":{\"units\":\"screen\",\"value\":8},\"x\":{\"value\":89},\"y\":{\"value\":1.3882476277050784}},\"id\":\"1130\",\"type\":\"Scatter\"},{\"attributes\":{\"line_alpha\":{\"value\":0.1},\"line_color\":{\"field\":\"returns_positive\",\"transform\":{\"id\":\"1039\"}},\"line_dash\":[2,4],\"line_width\":{\"value\":8},\"xs\":{\"field\":\"position_lines_xs\"},\"ys\":{\"field\":\"position_lines_ys\"}},\"id\":\"1248\",\"type\":\"MultiLine\"},{\"attributes\":{\"bottom\":{\"field\":\"Close\"},\"fill_color\":{\"field\":\"inc\",\"transform\":{\"id\":\"1230\"}},\"line_color\":{\"value\":null},\"top\":{\"field\":\"Open\"},\"width\":{\"field\":\"_width\"},\"x\":{\"field\":\"index\"}},\"id\":\"1232\",\"type\":\"VBar\"},{\"attributes\":{\"bottom_units\":\"screen\",\"fill_alpha\":0.5,\"fill_color\":\"lightgrey\",\"left_units\":\"screen\",\"level\":\"overlay\",\"line_alpha\":1.0,\"line_color\":\"black\",\"line_dash\":[4,4],\"line_width\":2,\"right_units\":\"screen\",\"top_units\":\"screen\"},\"id\":\"1066\",\"type\":\"BoxAnnotation\"},{\"attributes\":{\"label\":{\"value\":\"Peak (151%)\"},\"renderers\":[{\"id\":\"1093\"}]},\"id\":\"1108\",\"type\":\"LegendItem\"},{\"attributes\":{\"label\":{\"value\":\"Max Drawdown (-2.3%)\"},\"renderers\":[{\"id\":\"1132\"}]},\"id\":\"1150\",\"type\":\"LegendItem\"},{\"attributes\":{\"bottom\":{\"field\":\"Close\"},\"fill_color\":{\"field\":\"inc\",\"transform\":{\"id\":\"1037\"}},\"top\":{\"field\":\"Open\"},\"width\":{\"value\":0.8},\"x\":{\"field\":\"index\"}},\"id\":\"1242\",\"type\":\"VBar\"},{\"attributes\":{\"source\":{\"id\":\"1151\"}},\"id\":\"1155\",\"type\":\"CDSView\"},{\"attributes\":{},\"id\":\"1253\",\"type\":\"BasicTickFormatter\"},{\"attributes\":{\"children\":[[{\"id\":\"1043\"},0,0],[{\"id\":\"1175\"},1,0],[{\"id\":\"1003\"},2,0],[{\"id\":\"1265\"},3,0]]},\"id\":\"1381\",\"type\":\"GridBox\"},{\"attributes\":{\"source\":{\"id\":\"1035\"}},\"id\":\"1245\",\"type\":\"CDSView\"},{\"attributes\":{\"data_source\":{\"id\":\"1224\"},\"glyph\":{\"id\":\"1232\"},\"hover_glyph\":null,\"muted_glyph\":null,\"nonselection_glyph\":{\"id\":\"1233\"},\"selection_glyph\":null,\"view\":{\"id\":\"1235\"}},\"id\":\"1234\",\"type\":\"GlyphRenderer\"},{\"attributes\":{\"line_color\":{\"field\":\"returns_positive\",\"transform\":{\"id\":\"1039\"}},\"line_dash\":[2,4],\"line_width\":{\"value\":8},\"xs\":{\"field\":\"position_lines_xs\"},\"ys\":{\"field\":\"position_lines_ys\"}},\"id\":\"1247\",\"type\":\"MultiLine\"},{\"attributes\":{\"below\":[{\"id\":\"1011\"}],\"center\":[{\"id\":\"1014\"},{\"id\":\"1018\"},{\"id\":\"1263\"}],\"left\":[{\"id\":\"1015\"}],\"min_border_bottom\":6,\"min_border_left\":0,\"min_border_right\":10,\"min_border_top\":3,\"outline_line_color\":\"#666666\",\"plot_height\":400,\"plot_width\":null,\"renderers\":[{\"id\":\"1228\"},{\"id\":\"1234\"},{\"id\":\"1239\"},{\"id\":\"1244\"},{\"id\":\"1249\"}],\"sizing_mode\":\"stretch_width\",\"title\":{\"id\":\"1252\"},\"toolbar\":{\"id\":\"1027\"},\"toolbar_location\":null,\"x_range\":{\"id\":\"1002\"},\"x_scale\":{\"id\":\"1007\"},\"y_range\":{\"id\":\"1005\"},\"y_scale\":{\"id\":\"1009\"}},\"id\":\"1003\",\"subtype\":\"Figure\",\"type\":\"Plot\"},{\"attributes\":{\"x0\":{\"field\":\"index\"},\"x1\":{\"field\":\"index\"},\"y0\":{\"field\":\"High\"},\"y1\":{\"field\":\"Low\"}},\"id\":\"1237\",\"type\":\"Segment\"},{\"attributes\":{\"bottom_units\":\"screen\",\"fill_alpha\":0.5,\"fill_color\":\"lightgrey\",\"left_units\":\"screen\",\"level\":\"overlay\",\"line_alpha\":1.0,\"line_color\":\"black\",\"line_dash\":[4,4],\"line_width\":2,\"right_units\":\"screen\",\"top_units\":\"screen\"},\"id\":\"1198\",\"type\":\"BoxAnnotation\"},{\"attributes\":{\"format\":\"0.[00]%\"},\"id\":\"1222\",\"type\":\"NumeralTickFormatter\"},{\"attributes\":{\"label\":{\"value\":\"Trades (6)\"},\"renderers\":[{\"id\":\"1249\"}]},\"id\":\"1264\",\"type\":\"LegendItem\"},{\"attributes\":{\"data_source\":{\"id\":\"1036\"},\"glyph\":{\"id\":\"1247\"},\"hover_glyph\":null,\"muted_glyph\":null,\"nonselection_glyph\":{\"id\":\"1248\"},\"selection_glyph\":null,\"view\":{\"id\":\"1250\"}},\"id\":\"1249\",\"type\":\"GlyphRenderer\"},{\"attributes\":{},\"id\":\"1306\",\"type\":\"BasicTickFormatter\"},{\"attributes\":{},\"id\":\"1147\",\"type\":\"Selection\"},{\"attributes\":{\"border_line_color\":\"#333333\",\"click_policy\":\"hide\",\"items\":[{\"id\":\"1264\"}],\"label_text_font_size\":\"8pt\",\"location\":\"top_left\",\"margin\":0,\"padding\":5,\"spacing\":0},\"id\":\"1263\",\"type\":\"Legend\"},{\"attributes\":{},\"id\":\"1148\",\"type\":\"UnionRenderers\"},{\"attributes\":{\"fill_alpha\":0.1,\"fill_color\":\"#ffffea\",\"line_alpha\":0.1,\"line_color\":\"#ffcb66\",\"x\":{\"field\":\"index\"},\"y\":{\"field\":\"equity_dd\"}},\"id\":\"1078\",\"type\":\"Patch\"},{\"attributes\":{\"below\":[{\"id\":\"1183\"}],\"center\":[{\"id\":\"1186\"},{\"id\":\"1190\"},{\"id\":\"1207\"}],\"left\":[{\"id\":\"1187\"}],\"min_border_bottom\":6,\"min_border_left\":0,\"min_border_right\":10,\"min_border_top\":3,\"outline_line_color\":\"#666666\",\"plot_height\":90,\"plot_width\":null,\"renderers\":[{\"id\":\"1211\"},{\"id\":\"1216\"}],\"sizing_mode\":\"stretch_width\",\"title\":{\"id\":\"1348\"},\"toolbar\":{\"id\":\"1199\"},\"toolbar_location\":null,\"x_range\":{\"id\":\"1002\"},\"x_scale\":{\"id\":\"1179\"},\"y_range\":{\"id\":\"1177\"},\"y_scale\":{\"id\":\"1181\"}},\"id\":\"1175\",\"subtype\":\"Figure\",\"type\":\"Plot\"},{\"attributes\":{\"data_source\":{\"id\":\"1109\"},\"glyph\":{\"id\":\"1110\"},\"hover_glyph\":null,\"muted_glyph\":null,\"nonselection_glyph\":{\"id\":\"1111\"},\"selection_glyph\":null,\"view\":{\"id\":\"1113\"}},\"id\":\"1112\",\"type\":\"GlyphRenderer\"},{\"attributes\":{\"active_drag\":{\"id\":\"1059\"},\"active_inspect\":\"auto\",\"active_multi\":null,\"active_scroll\":{\"id\":\"1060\"},\"active_tap\":\"auto\",\"tools\":[{\"id\":\"1059\"},{\"id\":\"1060\"},{\"id\":\"1061\"},{\"id\":\"1062\"},{\"id\":\"1063\"},{\"id\":\"1064\"},{\"id\":\"1065\"},{\"id\":\"1086\"},{\"id\":\"1319\"}]},\"id\":\"1067\",\"type\":\"Toolbar\"},{\"attributes\":{\"line_color\":\"red\",\"line_width\":2,\"x\":{\"field\":\"x\"},\"y\":{\"value\":1.115098181640625}},\"id\":\"1152\",\"type\":\"Line\"},{\"attributes\":{\"data_source\":{\"id\":\"1151\"},\"glyph\":{\"id\":\"1152\"},\"hover_glyph\":null,\"muted_glyph\":null,\"nonselection_glyph\":{\"id\":\"1153\"},\"selection_glyph\":null,\"view\":{\"id\":\"1155\"}},\"id\":\"1154\",\"type\":\"GlyphRenderer\"},{\"attributes\":{\"data\":{\"x\":[45,49.162161419098]},\"selected\":{\"id\":\"1171\"},\"selection_policy\":{\"id\":\"1172\"}},\"id\":\"1151\",\"type\":\"ColumnDataSource\"},{\"attributes\":{\"data\":{},\"selected\":{\"id\":\"1125\"},\"selection_policy\":{\"id\":\"1126\"}},\"id\":\"1109\",\"type\":\"ColumnDataSource\"},{\"attributes\":{\"data_source\":{\"id\":\"1035\"},\"glyph\":{\"id\":\"1082\"},\"hover_glyph\":null,\"muted_glyph\":null,\"nonselection_glyph\":{\"id\":\"1083\"},\"selection_glyph\":null,\"view\":{\"id\":\"1085\"}},\"id\":\"1084\",\"type\":\"GlyphRenderer\"},{\"attributes\":{},\"id\":\"1177\",\"type\":\"DataRange1d\"},{\"attributes\":{},\"id\":\"1179\",\"type\":\"LinearScale\"},{\"attributes\":{\"line_alpha\":0.1,\"line_color\":\"red\",\"line_width\":2,\"x\":{\"field\":\"x\"},\"y\":{\"value\":1.115098181640625}},\"id\":\"1153\",\"type\":\"Line\"},{\"attributes\":{\"active_drag\":{\"id\":\"1191\"},\"active_inspect\":\"auto\",\"active_multi\":null,\"active_scroll\":{\"id\":\"1192\"},\"active_tap\":\"auto\",\"tools\":[{\"id\":\"1191\"},{\"id\":\"1192\"},{\"id\":\"1193\"},{\"id\":\"1194\"},{\"id\":\"1195\"},{\"id\":\"1196\"},{\"id\":\"1197\"},{\"id\":\"1218\"},{\"id\":\"1220\"},{\"id\":\"1319\"}]},\"id\":\"1199\",\"type\":\"Toolbar\"},{\"attributes\":{\"fill_color\":\"#ffffea\",\"line_color\":\"#ffcb66\",\"x\":{\"field\":\"index\"},\"y\":{\"field\":\"equity_dd\"}},\"id\":\"1077\",\"type\":\"Patch\"},{\"attributes\":{\"label\":{\"value\":\"Max Dd Dur. (6 days)\"},\"renderers\":[{\"id\":\"1154\"}]},\"id\":\"1174\",\"type\":\"LegendItem\"},{\"attributes\":{\"source\":{\"id\":\"1075\"}},\"id\":\"1080\",\"type\":\"CDSView\"},{\"attributes\":{\"data_source\":{\"id\":\"1075\"},\"glyph\":{\"id\":\"1077\"},\"hover_glyph\":null,\"muted_glyph\":null,\"nonselection_glyph\":{\"id\":\"1078\"},\"selection_glyph\":null,\"view\":{\"id\":\"1080\"}},\"id\":\"1079\",\"type\":\"GlyphRenderer\"},{\"attributes\":{\"line_color\":\"#666666\",\"line_dash\":[6],\"location\":0},\"id\":\"1207\",\"type\":\"Span\"},{\"attributes\":{\"fill_color\":{\"field\":\"returns_positive\",\"transform\":{\"id\":\"1038\"}},\"marker\":{\"value\":\"inverted_triangle\"},\"size\":{\"field\":\"marker_size\",\"units\":\"screen\"},\"x\":{\"field\":\"index\"},\"y\":{\"field\":\"returns_short\"}},\"id\":\"1214\",\"type\":\"Scatter\"},{\"attributes\":{\"data_source\":{\"id\":\"1036\"},\"glyph\":{\"id\":\"1209\"},\"hover_glyph\":null,\"muted_glyph\":null,\"nonselection_glyph\":{\"id\":\"1210\"},\"selection_glyph\":null,\"view\":{\"id\":\"1212\"}},\"id\":\"1211\",\"type\":\"GlyphRenderer\"},{\"attributes\":{},\"id\":\"1256\",\"type\":\"Selection\"},{\"attributes\":{\"line_alpha\":0.1,\"line_color\":\"#1f77b4\",\"line_width\":1.5,\"x\":{\"field\":\"index\"},\"y\":{\"field\":\"equity\"}},\"id\":\"1083\",\"type\":\"Line\"},{\"attributes\":{\"line_color\":\"#1f77b4\",\"line_width\":1.5,\"x\":{\"field\":\"index\"},\"y\":{\"field\":\"equity\"}},\"id\":\"1082\",\"type\":\"Line\"},{\"attributes\":{\"fill_alpha\":{\"value\":0.1},\"fill_color\":{\"field\":\"returns_positive\",\"transform\":{\"id\":\"1038\"}},\"line_alpha\":{\"value\":0.1},\"marker\":{\"value\":\"triangle\"},\"size\":{\"field\":\"marker_size\",\"units\":\"screen\"},\"x\":{\"field\":\"index\"},\"y\":{\"field\":\"returns_long\"}},\"id\":\"1210\",\"type\":\"Scatter\"},{\"attributes\":{},\"id\":\"1257\",\"type\":\"UnionRenderers\"},{\"attributes\":{\"format\":\"0,0.[00]%\"},\"id\":\"1088\",\"type\":\"NumeralTickFormatter\"},{\"attributes\":{},\"id\":\"1171\",\"type\":\"Selection\"},{\"attributes\":{},\"id\":\"1172\",\"type\":\"UnionRenderers\"},{\"attributes\":{\"text\":\"\"},\"id\":\"1252\",\"type\":\"Title\"},{\"attributes\":{\"fill_alpha\":{\"value\":0.1},\"fill_color\":{\"value\":\"cyan\"},\"line_alpha\":{\"value\":0.1},\"line_color\":{\"value\":\"cyan\"},\"size\":{\"units\":\"screen\",\"value\":8},\"x\":{\"value\":94},\"y\":{\"value\":1.5087876277050782}},\"id\":\"1092\",\"type\":\"Scatter\"},{\"attributes\":{\"source\":{\"id\":\"1035\"}},\"id\":\"1085\",\"type\":\"CDSView\"},{\"attributes\":{\"fill_color\":{\"value\":\"cyan\"},\"line_color\":{\"value\":\"cyan\"},\"size\":{\"units\":\"screen\",\"value\":8},\"x\":{\"value\":94},\"y\":{\"value\":1.5087876277050782}},\"id\":\"1091\",\"type\":\"Scatter\"},{\"attributes\":{\"source\":{\"id\":\"1036\"}},\"id\":\"1212\",\"type\":\"CDSView\"},{\"attributes\":{\"data\":{},\"selected\":{\"id\":\"1104\"},\"selection_policy\":{\"id\":\"1105\"}},\"id\":\"1090\",\"type\":\"ColumnDataSource\"},{\"attributes\":{\"fill_alpha\":{\"value\":0.1},\"fill_color\":{\"field\":\"returns_positive\",\"transform\":{\"id\":\"1038\"}},\"line_alpha\":{\"value\":0.1},\"marker\":{\"value\":\"inverted_triangle\"},\"size\":{\"field\":\"marker_size\",\"units\":\"screen\"},\"x\":{\"field\":\"index\"},\"y\":{\"field\":\"returns_short\"}},\"id\":\"1215\",\"type\":\"Scatter\"},{\"attributes\":{\"data_source\":{\"id\":\"1036\"},\"glyph\":{\"id\":\"1214\"},\"hover_glyph\":null,\"muted_glyph\":null,\"nonselection_glyph\":{\"id\":\"1215\"},\"selection_glyph\":null,\"view\":{\"id\":\"1217\"}},\"id\":\"1216\",\"type\":\"GlyphRenderer\"},{\"attributes\":{\"callback\":null,\"formatters\":{\"@datetime\":\"datetime\"},\"mode\":\"vline\",\"point_policy\":\"follow_mouse\",\"renderers\":[{\"id\":\"1084\"}],\"tooltips\":[[\"Date\",\"@datetime{%c}\"],[\"Equity\",\"@equity{+0,0.[000]%}\"]]},\"id\":\"1086\",\"type\":\"HoverTool\"},{\"attributes\":{\"border_line_color\":\"#333333\",\"click_policy\":\"hide\",\"items\":[{\"id\":\"1108\"},{\"id\":\"1128\"},{\"id\":\"1150\"},{\"id\":\"1174\"}],\"label_text_font_size\":\"8pt\",\"location\":\"top_left\",\"margin\":0,\"padding\":5,\"spacing\":0},\"id\":\"1107\",\"type\":\"Legend\"},{\"attributes\":{\"args\":{\"ohlc_range\":{\"id\":\"1005\"},\"source\":{\"id\":\"1035\"}},\"code\":\"if (!window._bt_scale_range) {\\n    window._bt_scale_range = function (range, min, max, pad) {\\n        \\\"use strict\\\";\\n        if (min !== Infinity && max !== -Infinity) {\\n            pad = pad ? (max - min) * .03 : 0;\\n            range.start = min - pad;\\n            range.end = max + pad;\\n        } else console.error('backtesting: scale range error:', min, max, range);\\n    };\\n}\\n\\nclearTimeout(window._bt_autoscale_timeout);\\n\\nwindow._bt_autoscale_timeout = setTimeout(function () {\\n    /**\\n     * @variable cb_obj `fig_ohlc.x_range`.\\n     * @variable source `ColumnDataSource`\\n     * @variable ohlc_range `fig_ohlc.y_range`.\\n     * @variable volume_range `fig_volume.y_range`.\\n     */\\n    \\\"use strict\\\";\\n\\n    let i = Math.max(Math.floor(cb_obj.start), 0),\\n        j = Math.min(Math.ceil(cb_obj.end), source.data['ohlc_high'].length);\\n\\n    let max = Math.max.apply(null, source.data['ohlc_high'].slice(i, j)),\\n        min = Math.min.apply(null, source.data['ohlc_low'].slice(i, j));\\n    _bt_scale_range(ohlc_range, min, max, true);\\n\\n    if (volume_range) {\\n        max = Math.max.apply(null, source.data['Volume'].slice(i, j));\\n        _bt_scale_range(volume_range, 0, max * 1.03, false);\\n    }\\n\\n}, 50);\\n\"},\"id\":\"1318\",\"type\":\"CustomJS\"},{\"attributes\":{\"callback\":null,\"formatters\":{\"@datetime\":\"datetime\"},\"point_policy\":\"follow_mouse\",\"renderers\":[{\"id\":\"1216\"}],\"tooltips\":[[\"Date\",\"@datetime{%c}\"],[\"Size\",\"@size{0,0}\"],[\"P/L\",\"@returns_short{+0.[000]%}\"]]},\"id\":\"1220\",\"type\":\"HoverTool\"},{\"attributes\":{\"toolbar\":{\"id\":\"1382\"}},\"id\":\"1383\",\"type\":\"ToolbarBox\"},{\"attributes\":{\"callback\":null,\"formatters\":{\"@datetime\":\"datetime\"},\"mode\":\"vline\",\"point_policy\":\"follow_mouse\",\"renderers\":[{\"id\":\"1300\"}],\"tooltips\":[[\"Date\",\"@datetime{%c}\"],[\"Signal\",\"@{Signal_0_1}{0,0.0[0000]}\"]]},\"id\":\"1314\",\"type\":\"HoverTool\"},{\"attributes\":{\"line_color\":\"#666666\",\"line_dash\":[6],\"line_width\":0.5,\"location\":0.0},\"id\":\"1313\",\"type\":\"Span\"},{\"attributes\":{\"callback\":null,\"formatters\":{\"@datetime\":\"datetime\"},\"point_policy\":\"follow_mouse\",\"renderers\":[{\"id\":\"1211\"}],\"tooltips\":[[\"Date\",\"@datetime{%c}\"],[\"Size\",\"@size{0,0}\"],[\"P/L\",\"@returns_long{+0.[000]%}\"]]},\"id\":\"1218\",\"type\":\"HoverTool\"},{\"attributes\":{\"source\":{\"id\":\"1090\"}},\"id\":\"1094\",\"type\":\"CDSView\"},{\"attributes\":{\"logo\":null,\"toolbars\":[{\"id\":\"1067\"},{\"id\":\"1199\"},{\"id\":\"1027\"},{\"id\":\"1289\"}],\"tools\":[{\"id\":\"1059\"},{\"id\":\"1060\"},{\"id\":\"1061\"},{\"id\":\"1062\"},{\"id\":\"1063\"},{\"id\":\"1064\"},{\"id\":\"1065\"},{\"id\":\"1086\"},{\"id\":\"1319\"},{\"id\":\"1191\"},{\"id\":\"1192\"},{\"id\":\"1193\"},{\"id\":\"1194\"},{\"id\":\"1195\"},{\"id\":\"1196\"},{\"id\":\"1197\"},{\"id\":\"1218\"},{\"id\":\"1220\"},{\"id\":\"1319\"},{\"id\":\"1019\"},{\"id\":\"1020\"},{\"id\":\"1021\"},{\"id\":\"1022\"},{\"id\":\"1023\"},{\"id\":\"1024\"},{\"id\":\"1025\"},{\"id\":\"1316\"},{\"id\":\"1319\"},{\"id\":\"1281\"},{\"id\":\"1282\"},{\"id\":\"1283\"},{\"id\":\"1284\"},{\"id\":\"1285\"},{\"id\":\"1286\"},{\"id\":\"1287\"},{\"id\":\"1314\"},{\"id\":\"1319\"}]},\"id\":\"1382\",\"type\":\"ProxyToolbar\"},{\"attributes\":{\"data_source\":{\"id\":\"1090\"},\"glyph\":{\"id\":\"1091\"},\"hover_glyph\":null,\"muted_glyph\":null,\"nonselection_glyph\":{\"id\":\"1092\"},\"selection_glyph\":null,\"view\":{\"id\":\"1094\"}},\"id\":\"1093\",\"type\":\"GlyphRenderer\"},{\"attributes\":{\"fill_color\":{\"field\":\"returns_positive\",\"transform\":{\"id\":\"1038\"}},\"marker\":{\"value\":\"triangle\"},\"size\":{\"field\":\"marker_size\",\"units\":\"screen\"},\"x\":{\"field\":\"index\"},\"y\":{\"field\":\"returns_long\"}},\"id\":\"1209\",\"type\":\"Scatter\"},{\"attributes\":{\"source\":{\"id\":\"1036\"}},\"id\":\"1217\",\"type\":\"CDSView\"},{\"attributes\":{},\"id\":\"1052\",\"type\":\"BasicTicker\"},{\"attributes\":{},\"id\":\"1024\",\"type\":\"ResetTool\"},{\"attributes\":{\"formatter\":{\"id\":\"1253\"},\"ticker\":{\"id\":\"1016\"}},\"id\":\"1015\",\"type\":\"LinearAxis\"},{\"attributes\":{\"text\":\"\"},\"id\":\"1096\",\"type\":\"Title\"},{\"attributes\":{\"axis\":{\"id\":\"1015\"},\"dimension\":1,\"ticker\":null},\"id\":\"1018\",\"type\":\"Grid\"},{\"attributes\":{},\"id\":\"1016\",\"type\":\"BasicTicker\"},{\"attributes\":{},\"id\":\"1022\",\"type\":\"UndoTool\"},{\"attributes\":{\"dimensions\":\"width\",\"maintain_focus\":false},\"id\":\"1020\",\"type\":\"WheelZoomTool\"},{\"attributes\":{\"dimensions\":\"width\"},\"id\":\"1019\",\"type\":\"PanTool\"},{\"attributes\":{\"overlay\":{\"id\":\"1026\"}},\"id\":\"1021\",\"type\":\"BoxZoomTool\"},{\"attributes\":{},\"id\":\"1023\",\"type\":\"RedoTool\"},{\"attributes\":{},\"id\":\"1098\",\"type\":\"BasicTickFormatter\"},{\"attributes\":{},\"id\":\"1025\",\"type\":\"SaveTool\"},{\"attributes\":{\"formatter\":{\"id\":\"1098\"},\"ticker\":{\"id\":\"1052\"},\"visible\":false},\"id\":\"1051\",\"type\":\"LinearAxis\"},{\"attributes\":{\"below\":[{\"id\":\"1051\"}],\"center\":[{\"id\":\"1054\"},{\"id\":\"1058\"},{\"id\":\"1107\"}],\"left\":[{\"id\":\"1055\"}],\"min_border_bottom\":6,\"min_border_left\":0,\"min_border_right\":10,\"min_border_top\":3,\"outline_line_color\":\"#666666\",\"plot_height\":110,\"plot_width\":null,\"renderers\":[{\"id\":\"1079\"},{\"id\":\"1084\"},{\"id\":\"1093\"},{\"id\":\"1112\"},{\"id\":\"1132\"},{\"id\":\"1154\"}],\"sizing_mode\":\"stretch_width\",\"title\":{\"id\":\"1096\"},\"toolbar\":{\"id\":\"1067\"},\"toolbar_location\":null,\"x_range\":{\"id\":\"1002\"},\"x_scale\":{\"id\":\"1047\"},\"y_range\":{\"id\":\"1045\"},\"y_scale\":{\"id\":\"1049\"}},\"id\":\"1043\",\"subtype\":\"Figure\",\"type\":\"Plot\"},{\"attributes\":{\"data\":{\"equity_dd\":{\"__ndarray__\":\"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\",\"dtype\":\"float64\",\"order\":\"little\",\"shape\":[202]},\"index\":[0,1,2,3,4,5,6,7,8,9,10,11,12,13,14,15,16,17,18,19,20,21,22,23,24,25,26,27,28,29,30,31,32,33,34,35,36,37,38,39,40,41,42,43,44,45,46,47,48,49,50,51,52,53,54,55,56,57,58,59,60,61,62,63,64,65,66,67,68,69,70,71,72,73,74,75,76,77,78,79,80,81,82,83,84,85,86,87,88,89,90,91,92,93,94,95,96,97,98,99,100,100,99,98,97,96,95,94,93,92,91,90,89,88,87,86,85,84,83,82,81,80,79,78,77,76,75,74,73,72,71,70,69,68,67,66,65,64,63,62,61,60,59,58,57,56,55,54,53,52,51,50,49,48,47,46,45,44,43,42,41,40,39,38,37,36,35,34,33,32,31,30,29,28,27,26,25,24,23,22,21,20,19,18,17,16,15,14,13,12,11,10,9,8,7,6,5,4,3,2,1,0]},\"selected\":{\"id\":\"1100\"},\"selection_policy\":{\"id\":\"1101\"}},\"id\":\"1075\",\"type\":\"ColumnDataSource\"},{\"attributes\":{},\"id\":\"1260\",\"type\":\"Selection\"},{\"attributes\":{\"axis\":{\"id\":\"1051\"},\"ticker\":null},\"id\":\"1054\",\"type\":\"Grid\"},{\"attributes\":{},\"id\":\"1261\",\"type\":\"UnionRenderers\"},{\"attributes\":{},\"id\":\"1049\",\"type\":\"LinearScale\"},{\"attributes\":{\"bottom_units\":\"screen\",\"fill_alpha\":0.5,\"fill_color\":\"lightgrey\",\"left_units\":\"screen\",\"level\":\"overlay\",\"line_alpha\":1.0,\"line_color\":\"black\",\"line_dash\":[4,4],\"line_width\":2,\"right_units\":\"screen\",\"top_units\":\"screen\"},\"id\":\"1026\",\"type\":\"BoxAnnotation\"},{\"attributes\":{},\"id\":\"1100\",\"type\":\"Selection\"},{\"attributes\":{},\"id\":\"1101\",\"type\":\"UnionRenderers\"},{\"attributes\":{\"callback\":null,\"formatters\":{\"@datetime\":\"datetime\"},\"mode\":\"vline\",\"point_policy\":\"follow_mouse\",\"renderers\":[{\"id\":\"1244\"}],\"tooltips\":[[\"Date\",\"@datetime{%c}\"],[\"x, y\",\"$index\\u00a0\\u00a0\\u00a0\\u00a0$y{0,0.0[0000]}\"],[\"OHLC\",\"@Open{0,0.0[0000]}\\u00a0\\u00a0\\u00a0\\u00a0@High{0,0.0[0000]}\\u00a0\\u00a0\\u00a0\\u00a0@Low{0,0.0[0000]}\\u00a0\\u00a0\\u00a0\\u00a0@Close{0,0.0[0000]}\"],[\"Volume\",\"@Volume{0,0}\"]]},\"id\":\"1316\",\"type\":\"HoverTool\"},{\"attributes\":{\"line_alpha\":0.1,\"line_color\":\"#1f77b4\",\"line_width\":1.3,\"x\":{\"field\":\"index\"},\"y\":{\"field\":\"Signal_0_1\"}},\"id\":\"1299\",\"type\":\"Line\"},{\"attributes\":{\"formatter\":{\"id\":\"1306\"},\"ticker\":{\"id\":\"1274\"},\"visible\":false},\"id\":\"1273\",\"type\":\"LinearAxis\"},{\"attributes\":{},\"id\":\"1319\",\"type\":\"CrosshairTool\"},{\"attributes\":{},\"id\":\"1102\",\"type\":\"Selection\"},{\"attributes\":{\"formatter\":{\"id\":\"1304\"},\"minor_tick_line_color\":null,\"ticker\":{\"id\":\"1278\"}},\"id\":\"1277\",\"type\":\"LinearAxis\"},{\"attributes\":{},\"id\":\"1267\",\"type\":\"DataRange1d\"},{\"attributes\":{},\"id\":\"1103\",\"type\":\"UnionRenderers\"},{\"attributes\":{\"below\":[{\"id\":\"1273\"}],\"center\":[{\"id\":\"1276\"},{\"id\":\"1280\"},{\"id\":\"1311\"},{\"id\":\"1313\"}],\"left\":[{\"id\":\"1277\"}],\"min_border_bottom\":6,\"min_border_left\":0,\"min_border_right\":10,\"min_border_top\":3,\"outline_line_color\":\"#666666\",\"plot_height\":90,\"plot_width\":null,\"renderers\":[{\"id\":\"1300\"}],\"sizing_mode\":\"stretch_width\",\"title\":{\"id\":\"1303\"},\"toolbar\":{\"id\":\"1289\"},\"toolbar_location\":null,\"x_range\":{\"id\":\"1002\"},\"x_scale\":{\"id\":\"1269\"},\"y_range\":{\"id\":\"1267\"},\"y_scale\":{\"id\":\"1271\"}},\"id\":\"1265\",\"subtype\":\"Figure\",\"type\":\"Plot\"},{\"attributes\":{\"data\":{\"Close\":{\"__ndarray__\":\"AAAAQDOtmUAAAAAAAD6XQAAAAMDMKJdAAAAAAABYmEAAAABgZoSbQA==\",\"dtype\":\"float64\",\"order\":\"little\",\"shape\":[5]},\"High\":{\"__ndarray__\":\"AAAAQDM3nUAAAAAAAMibQAAAAMDMfphAAAAAAAAIm0AAAAAAADycQA==\",\"dtype\":\"float64\",\"order\":\"little\",\"shape\":[5]},\"Low\":{\"__ndarray__\":\"AAAAAABImUAAAAAAACiXQAAAAAAAlpZAAAAAYGYwl0AAAAAAALiYQA==\",\"dtype\":\"float64\",\"order\":\"little\",\"shape\":[5]},\"Open\":{\"__ndarray__\":\"AAAAAAB0m0AAAAAAAGqaQAAAAAAAUpdAAAAAYGYwl0AAAACgmdeYQA==\",\"dtype\":\"float64\",\"order\":\"little\",\"shape\":[5]},\"Volume\":{\"__ndarray__\":\"AAAAAAAAAAAAAAAAAAAAAAAAAAAAAAAAAAAAAAAAAAAAAAAAAAAAAA==\",\"dtype\":\"float64\",\"order\":\"little\",\"shape\":[5]},\"_width\":{\"__ndarray__\":\"ZmZmZmbmMkBmZmZmZuYyQGZmZmZm5jVAZmZmZmbmNUBmZmZmZuYyQA==\",\"dtype\":\"float64\",\"order\":\"little\",\"shape\":[5]},\"inc\":[\"0\",\"0\",\"0\",\"1\",\"1\"],\"index\":{\"__ndarray__\":\"AAAAAAAAIkAAAAAAAAA8QAAAAAAAQEhAAAAAAACgUUAAAAAAAMBWQA==\",\"dtype\":\"float64\",\"order\":\"little\",\"shape\":[5]}},\"selected\":{\"id\":\"1256\"},\"selection_policy\":{\"id\":\"1257\"}},\"id\":\"1224\",\"type\":\"ColumnDataSource\"},{\"attributes\":{},\"id\":\"1286\",\"type\":\"ResetTool\"},{\"attributes\":{},\"id\":\"1269\",\"type\":\"LinearScale\"},{\"attributes\":{},\"id\":\"1271\",\"type\":\"LinearScale\"},{\"attributes\":{},\"id\":\"1274\",\"type\":\"BasicTicker\"},{\"attributes\":{\"active_drag\":{\"id\":\"1019\"},\"active_inspect\":\"auto\",\"active_multi\":null,\"active_scroll\":{\"id\":\"1020\"},\"active_tap\":\"auto\",\"tools\":[{\"id\":\"1019\"},{\"id\":\"1020\"},{\"id\":\"1021\"},{\"id\":\"1022\"},{\"id\":\"1023\"},{\"id\":\"1024\"},{\"id\":\"1025\"},{\"id\":\"1316\"},{\"id\":\"1319\"}]},\"id\":\"1027\",\"type\":\"Toolbar\"},{\"attributes\":{\"axis\":{\"id\":\"1273\"},\"ticker\":null},\"id\":\"1276\",\"type\":\"Grid\"},{\"attributes\":{},\"id\":\"1104\",\"type\":\"Selection\"},{\"attributes\":{},\"id\":\"1105\",\"type\":\"UnionRenderers\"},{\"attributes\":{\"axis\":{\"id\":\"1277\"},\"dimension\":1,\"ticker\":null},\"id\":\"1280\",\"type\":\"Grid\"},{\"attributes\":{\"data\":{\"datetime\":{\"__ndarray__\":\"AABAOa51d0IAAMDJL3p3QgAAAJJwfHdCAAAAHCqEd0IAAEAFbo93QgAAQCZxmHdC\",\"dtype\":\"float64\",\"order\":\"little\",\"shape\":[6]},\"exit_price\":{\"__ndarray__\":\"AAAAAAACm0AAAAAAAByaQAAAAKCZQZlAAAAAYGZKmEAAAADAzMCaQAAAAGBm8JtA\",\"dtype\":\"float64\",\"order\":\"little\",\"shape\":[6]},\"index\":[19,29,34,50,75,94],\"marker_size\":{\"__ndarray__\":\"AAAAAAAAIEAAAAAAAAAjQAAAAAAAACZAAAAAAAAALEAAAAAAAIAwQAAAAAAAADRA\",\"dtype\":\"float64\",\"order\":\"little\",\"shape\":[6]},\"position_lines_xs\":[[18,19],[27,29],[32,34],[39,50],[58,75],[81,94]],\"position_lines_ys\":[[1649.8732490234374,1728.5],[1641.54,1671.0],[1591.6412490234375,1616.4000244140625],[1490.1367509765626,1554.5999755859375],[1462.5267509765624,1712.199951171875],[1564.232,1788.0999755859375]],\"returns_long\":{\"__ndarray__\":\"wMHR+GVmqD+A2ORplWCSP4BV69yP248/ALaBrCompj+gzttu8dnFP2hvUUGnUcI/\",\"dtype\":\"float64\",\"order\":\"little\",\"shape\":[6]},\"returns_positive\":[\"1\",\"1\",\"1\",\"1\",\"1\",\"1\"],\"returns_short\":{\"__ndarray__\":\"AAAAAAAA+H8AAAAAAAD4fwAAAAAAAPh/AAAAAAAA+H8AAAAAAAD4fwAAAAAAAPh/\",\"dtype\":\"float64\",\"order\":\"little\",\"shape\":[6]},\"size\":[60,63,66,72,77,84]},\"selected\":{\"id\":\"1260\"},\"selection_policy\":{\"id\":\"1261\"}},\"id\":\"1036\",\"type\":\"ColumnDataSource\"},{\"attributes\":{\"bounds\":[-5.0,105.0],\"end\":100,\"js_property_callbacks\":{\"change:end\":[{\"id\":\"1318\"}]},\"min_interval\":10},\"id\":\"1002\",\"type\":\"Range1d\"},{\"attributes\":{},\"id\":\"1278\",\"type\":\"BasicTicker\"},{\"attributes\":{\"factors\":[\"0\",\"1\"],\"palette\":[\"tomato\",\"lime\"]},\"id\":\"1037\",\"type\":\"CategoricalColorMapper\"},{\"attributes\":{},\"id\":\"1284\",\"type\":\"UndoTool\"},{\"attributes\":{\"factors\":[\"0\",\"1\"],\"palette\":[\"rgb(178, 27, 0)\",\"rgb(0, 178, 0)\"]},\"id\":\"1039\",\"type\":\"CategoricalColorMapper\"},{\"attributes\":{\"dimensions\":\"width\",\"maintain_focus\":false},\"id\":\"1282\",\"type\":\"WheelZoomTool\"},{\"attributes\":{},\"id\":\"1007\",\"type\":\"LinearScale\"},{\"attributes\":{\"days\":[\"%d %b\",\"%a %d\"],\"months\":[\"%m/%Y\",\"%b'%y\"]},\"id\":\"1040\",\"type\":\"DatetimeTickFormatter\"},{\"attributes\":{\"dimensions\":\"width\"},\"id\":\"1281\",\"type\":\"PanTool\"},{\"attributes\":{\"overlay\":{\"id\":\"1288\"}},\"id\":\"1283\",\"type\":\"BoxZoomTool\"},{\"attributes\":{\"data\":{\"Close\":{\"__ndarray__\":\"AAAAoJnhnEAAAACgmeecQAAAAEAzjZxAAAAAQDONnEAAAADAzIabQAAAAEAz85pAAAAAoJkjm0AAAAAAAKKaQAAAAEAz/ZlAAAAAYGY2mkAAAAAAALyZQAAAAGBmdppAAAAAYGaAmkAAAADAzP6aQAAAAAAAIJtAAAAAYGaomkAAAABAM7GZQAAAAMDMIJpAAAAAQDOtmUAAAAAAAAKbQAAAAEAzq5pAAAAAwMyamkAAAACgmd+ZQAAAAGBmFppAAAAAQDNHmkAAAAAAABSaQAAAAEAzy5lAAAAAAACMmUAAAABAM7GZQAAAAAAAHJpAAAAAQDPhmUAAAAAAAOaYQAAAAEAzxZhAAAAAQDP3mEAAAACgmUGZQAAAAEAzi5hAAAAAwMzIl0AAAAAAAD6XQAAAAGBmYJdAAAAAwMwwl0AAAADAzHqXQAAAAMDMYpdAAAAAAAAql0AAAABAM/WXQAAAAMDMgJdAAAAAAAAAmEAAAAAAAMKXQAAAAGBmxJdAAAAAAADel0AAAACgmfGXQAAAAGBmSphAAAAAAAA8mEAAAADAzCaYQAAAAAAABJhAAAAAQDOvl0AAAABAM1WXQAAAAAAADpdAAAAAYGYml0AAAADAzMKWQAAAAMDMKJdAAAAAYGaEl0AAAABAM5uXQAAAAAAAWpdAAAAAAADwl0AAAABgZsqXQAAAAAAA4JdAAAAAAAAgmEAAAABgZiyYQAAAAKCZrZhAAAAAoJlVmEAAAABAMxWZQAAAAKCZiZlAAAAAwMz4mUAAAADAzHiaQAAAAAAAXppAAAAAwMzAmkAAAAAAAEaaQAAAAGBmKppAAAAAAAB0mUAAAABAMw+ZQAAAAAAAvJhAAAAAAABYmEAAAAAAACSZQAAAAGBmjplAAAAAoJmjmUAAAACgmfuZQAAAAEAzSZpAAAAAAABImkAAAAAAAFCaQAAAAGBmsplAAAAAAAAMmkAAAADAzNaaQAAAAAAAZJtAAAAAAACym0AAAABgZvCbQAAAAAAAsJtAAAAAYGbam0AAAABgZqSbQAAAAGBm0JtAAAAAoJkBnEAAAABgZoSbQA==\",\"dtype\":\"float64\",\"order\":\"little\",\"shape\":[101]},\"High\":{\"__ndarray__\":\"AAAAAADsnEAAAABAMzedQAAAAMDMAJ1AAAAAQDONnEAAAADAzDScQAAAAKCZ45tAAAAAYGZCm0AAAADAzBCbQAAAAAAArJpAAAAAAACMmkAAAACgmYeaQAAAAAAAgJpAAAAAAAAEm0AAAABgZhibQAAAAAAAbJtAAAAAAABsm0AAAAAAAMSaQAAAAAAAUJpAAAAAAABwmkAAAAAAAMibQAAAAKCZL5tAAAAAAACemkAAAABAM5maQAAAAMDMRJpAAAAAoJllmkAAAAAAAGyaQAAAAAAANJpAAAAAAADemUAAAACgmbOZQAAAAEAzH5pAAAAAYGYwmkAAAAAAAMyZQAAAAMDMTJlAAAAAwMwSmUAAAAAAAGCZQAAAAAAAHJlAAAAAAADAmEAAAACgmdeXQAAAAAAAYpdAAAAAYGZgl0AAAAAAAICXQAAAAAAAmJdAAAAAAACUl0AAAAAAAA6YQAAAAMDMZJhAAAAAAABMmEAAAABgZh6YQAAAAGBmDJhAAAAAAAAAmEAAAABAMwOYQAAAAAAAVphAAAAAwMx+mEAAAAAAAFaYQAAAAMDMMphAAAAAYGb4l0AAAAAAALiXQAAAAGBmjJdAAAAAYGZsl0AAAAAAADaXQAAAAAAAMJdAAAAAAACgl0AAAADAzKCXQAAAAEAzl5dAAAAAoJkNmEAAAABgZh6YQAAAAGBmDJhAAAAAQDNLmEAAAAAAAFyYQAAAAMDMzphAAAAAQDO7mEAAAACgmTOZQAAAAAAAsJlAAAAAQDNfmkAAAAAAAICaQAAAAAAAxJpAAAAAAAAIm0AAAABAM7eaQAAAAEAzk5pAAAAAwMwqmkAAAACgmX+ZQAAAAAAAgJlAAAAAAADQmEAAAAAAAFyZQAAAAGBmmJlAAAAAAADCmUAAAAAAAFSaQAAAAAAAqJpAAAAAAABWmkAAAAAAAMSaQAAAAEAzaZpAAAAAQDMjmkAAAACgmfOaQAAAAAAAiptAAAAAQDPtm0AAAAAAAAicQAAAAAAAJpxAAAAAAAAYnEAAAAAAAAicQAAAAAAAFpxAAAAAAAA8nEAAAACgmRucQA==\",\"dtype\":\"float64\",\"order\":\"little\",\"shape\":[101]},\"Low\":{\"__ndarray__\":\"AAAAQDNZm0AAAAAAABicQAAAAAAAYJxAAAAAQDONnEAAAABAM2WbQAAAAAAApJpAAAAAYGbEmkAAAABAM5eaQAAAAMDM4JlAAAAAAAAamkAAAAAAALSZQAAAAAAA9JlAAAAAYGZumkAAAAAAADCaQAAAAAAApJpAAAAAQDOHmkAAAAAAAIyZQAAAAAAASJlAAAAAAACImUAAAACgmSOaQAAAAMDMdJpAAAAAwMyKmkAAAABgZqCZQAAAAKCZ1ZlAAAAAoJkdmkAAAADAzOCZQAAAAAAAtJlAAAAAYGZ8mUAAAAAAACaZQAAAAEAzqZlAAAAAwMyomUAAAAAAAOSYQAAAAAAAcJhAAAAAwMzsmEAAAAAAAJyYQAAAAAAAaJhAAAAAAAC0l0AAAAAAACiXQAAAAAAAUpdAAAAAoJnvlkAAAAAAAFKXQAAAAGBm5JZAAAAAQDPxlkAAAABAM3GXQAAAAMDMfJdAAAAAYGayl0AAAABAM4WXQAAAAKCZn5dAAAAAAAC4l0AAAADAzKSXQAAAAEAzC5hAAAAAwMwcmEAAAAAAAOyXQAAAAGBm8JdAAAAAYGaEl0AAAAAAADyXQAAAAAAA8JZAAAAAwMwQl0AAAAAAAJaWQAAAAAAAqJZAAAAAYGYwl0AAAABgZnaXQAAAAAAAQJdAAAAAQDNhl0AAAAAAALSXQAAAAAAAmpdAAAAAwMy2l0AAAABgZviXQAAAAAAA/JdAAAAAAAAqmEAAAABgZn6YQAAAAAAAyJhAAAAAwMx4mUAAAAAAAASaQAAAAMDMIJpAAAAAwMxsmkAAAADAzCiaQAAAAAAA3JlAAAAAAABQmUAAAABgZvKYQAAAAEAznZhAAAAAoJlBmEAAAACgmbmYQAAAAEAzF5lAAAAAAAC4mEAAAADAzH6ZQAAAAAAAIJpAAAAAQDO1mUAAAABgZhiaQAAAAEAzZ5lAAAAAAADGmUAAAADAzFSaQAAAAKCZ85pAAAAAoJnNmkAAAACgmWubQAAAAGBmkptAAAAAwMzGm0AAAAAAAGSbQAAAAAAAyJtAAAAAwMy6m0AAAADAzCibQA==\",\"dtype\":\"float64\",\"order\":\"little\",\"shape\":[101]},\"Open\":{\"__ndarray__\":\"AAAAAAB0m0AAAABAM4WcQAAAAAAA1JxAAAAAQDONnEAAAAAAAOSbQAAAAEAz25tAAAAAAAAwm0AAAACgmQebQAAAAAAArJpAAAAAAAA4mkAAAABAM2eaQAAAAAAAFJpAAAAAwMy4mkAAAACgmWWaQAAAAEAz2ZpAAAAAQDPZmkAAAACgmbeaQAAAAAAAsJlAAAAAwMwAmkAAAAAAAGqaQAAAAKCZL5tAAAAAwMyKmkAAAAAAAHyaQAAAAKCZDZpAAAAAAAA0mkAAAAAAAGyaQAAAAGBmHJpAAAAAAADemUAAAABAM5OZQAAAAAAAzJlAAAAAQDMdmkAAAAAAAMSZQAAAAGBmTJlAAAAAwMwSmUAAAAAAADCZQAAAAAAAFJlAAAAAoJm/mEAAAADAzKCXQAAAAAAAUpdAAAAAYGZgl0AAAAAAAFKXQAAAAAAAtJdAAAAAQDMbl0AAAAAAAISXQAAAAAAAAJhAAAAAYGbKl0AAAABAMwGYQAAAAAAA2JdAAAAAAADol0AAAAAAAOiXQAAAAEAzC5hAAAAAYGZAmEAAAABgZiKYQAAAAAAAEJhAAAAAwMzsl0AAAAAAALiXQAAAAAAAcJdAAAAAQDMll0AAAABgZiaXQAAAAEAz2ZZAAAAAYGYwl0AAAAAAAISXQAAAAEAzl5dAAAAAYGZql0AAAAAAAAaYQAAAAAAA1JdAAAAAAADMl0AAAAAAADKYQAAAAAAAJJhAAAAAYGa6mEAAAABgZn6YQAAAAAAAIplAAAAAwMx4mUAAAABAMw2aQAAAAAAAkJpAAAAAAACQmkAAAABgZqSaQAAAAGBmQJpAAAAAYGYomkAAAACgmX+ZQAAAAAAAcJlAAAAAAACwmEAAAACgmdeYQAAAAAAAOJlAAAAAoJnTmEAAAADAzH6ZQAAAAAAAIJpAAAAAAAAUmkAAAAAAAFSaQAAAAAAARJpAAAAAAAD4mUAAAABAM3+aQAAAAAAA/JpAAAAAAABwm0AAAAAAAHSbQAAAAAAABJxAAAAAQDPzm0AAAAAAAAicQAAAAAAAEJxAAAAAoJnLm0AAAADAzPabQA==\",\"dtype\":\"float64\",\"order\":\"little\",\"shape\":[101]},\"Signal_0_1\":{\"__ndarray__\":\"AAAAAAAAAAAAAAAAAAAAAAAAAAAAAAAAAAAAAAAAAAAAAAAAAAAAAAAAAAAAAAAAAAAAAAAAAAAAAAAAAAAAAAAAAAAAAAAAAAAAAAAAAAAAAAAAAAAAAAAAAAAAAAAAAAAAAAAAAAAAAAAAAAAAAAAAAAAAAPC/AAAAAAAAAAAAAAAAAAAAAAAAAAAAAAAAAAAAAAAA8D8AAAAAAADwvwAAAAAAAAAAAAAAAAAAAAAAAAAAAAAAAAAAAAAAAAAAAAAAAAAA8L8AAAAAAAAAAAAAAAAAAAAAAAAAAAAA8D8AAAAAAAAAAAAAAAAAAPC/AAAAAAAAAAAAAAAAAAAAAAAAAAAAAPA/AAAAAAAAAAAAAAAAAADwvwAAAAAAAAAAAAAAAAAAAAAAAAAAAAAAAAAAAAAAAAAAAAAAAAAA8D8AAAAAAAAAAAAAAAAAAAAAAAAAAAAA8D8AAAAAAAAAAAAAAAAAAAAAAAAAAAAAAAAAAAAAAAAAAAAAAAAAAAAAAAAAAAAAAAAAAAAAAAAAAAAAAAAAAPC/AAAAAAAAAAAAAAAAAAAAAAAAAAAAAAAAAAAAAAAAAAAAAAAAAAAAAAAAAAAAAAAAAAAAAAAAAAAAAAAAAADwPwAAAAAAAAAAAAAAAAAAAAAAAAAAAAAAAAAAAAAAAPA/AAAAAAAAAAAAAAAAAAAAAAAAAAAAAAAAAAAAAAAAAAAAAAAAAAAAAAAAAAAAAAAAAAAAAAAAAAAAAAAAAAAAAAAAAAAAAAAAAAAAAAAAAAAAAAAAAAAAAAAAAAAAAAAAAAAAAAAA8L8AAAAAAAAAAAAAAAAAAAAAAAAAAAAAAAAAAAAAAAAAAAAAAAAAAAAAAAAAAAAA8D8AAAAAAAAAAAAAAAAAAAAAAAAAAAAAAAAAAAAAAAAAAAAAAAAAAAAAAAAAAAAAAAAAAAAAAAAAAAAAAAAAAAAAAAAAAAAAAAAAAAAAAAAAAAAAAAAAAAAAAAAAAAAAAAAAAAAAAADwvwAAAAAAAAAAAAAAAAAAAAAAAAAAAAAAAAAAAAAAAAAAAAAAAAAAAAAAAAAAAAAAAA==\",\"dtype\":\"float64\",\"order\":\"little\",\"shape\":[101]},\"Volume\":{\"__ndarray__\":\"AAAAAAAA+H8AAAAAAAD4fwAAAAAAAPh/AAAAAAAA+H8AAAAAAAD4fwAAAAAAAPh/AAAAAAAA+H8AAAAAAAD4fwAAAAAAAPh/AAAAAAAA+H8AAAAAAAD4fwAAAAAAAPh/AAAAAAAA+H8AAAAAAAD4fwAAAAAAAPh/AAAAAAAA+H8AAAAAAAD4fwAAAAAAAPh/AAAAAAAA+H8AAAAAAAD4fwAAAAAAAPh/AAAAAAAA+H8AAAAAAAD4fwAAAAAAAPh/AAAAAAAA+H8AAAAAAAD4fwAAAAAAAPh/AAAAAAAA+H8AAAAAAAD4fwAAAAAAAPh/AAAAAAAA+H8AAAAAAAD4fwAAAAAAAPh/AAAAAAAA+H8AAAAAAAD4fwAAAAAAAPh/AAAAAAAA+H8AAAAAAAD4fwAAAAAAAPh/AAAAAAAA+H8AAAAAAAD4fwAAAAAAAPh/AAAAAAAA+H8AAAAAAAD4fwAAAAAAAPh/AAAAAAAA+H8AAAAAAAD4fwAAAAAAAPh/AAAAAAAA+H8AAAAAAAD4fwAAAAAAAPh/AAAAAAAA+H8AAAAAAAD4fwAAAAAAAPh/AAAAAAAA+H8AAAAAAAD4fwAAAAAAAPh/AAAAAAAA+H8AAAAAAAD4fwAAAAAAAPh/AAAAAAAA+H8AAAAAAAD4fwAAAAAAAPh/AAAAAAAA+H8AAAAAAAD4fwAAAAAAAPh/AAAAAAAA+H8AAAAAAAD4fwAAAAAAAPh/AAAAAAAA+H8AAAAAAAD4fwAAAAAAAPh/AAAAAAAA+H8AAAAAAAD4fwAAAAAAAPh/AAAAAAAA+H8AAAAAAAD4fwAAAAAAAPh/AAAAAAAA+H8AAAAAAAD4fwAAAAAAAPh/AAAAAAAA+H8AAAAAAAD4fwAAAAAAAPh/AAAAAAAA+H8AAAAAAAD4fwAAAAAAAPh/AAAAAAAA+H8AAAAAAAD4fwAAAAAAAPh/AAAAAAAA+H8AAAAAAAD4fwAAAAAAAPh/AAAAAAAA+H8AAAAAAAD4fwAAAAAAAPh/AAAAAAAA+H8AAAAAAAD4fwAAAAAAAPh/AAAAAAAA+H8AAAAAAAD4fw==\",\"dtype\":\"float64\",\"order\":\"little\",\"shape\":[101]},\"datetime\":{\"__ndarray__\":\"AABAGKtsd0IAAAB+/Wx3QgAAwONPbXdCAABAr/Rtd0IAAIDg6253QgAAQEY+b3dCAAAArJBvd0IAAMAR4293QgAAgHc1cHdCAADAqCxxd0IAAIAOf3F3QgAAQHTRcXdCAAAA2iNyd0IAAMA/dnJ3QgAAAHFtc3dCAADA1r9zd0IAAIA8EnR3QgAAQKJkdHdCAAAACLd0d0IAAEA5rnV3QgAAAJ8AdndCAADABFN2d0IAAIBqpXZ3QgAAQND3dndCAACAAe93d0IAAEBnQXh3QgAAAM2TeHdCAADAMuZ4d0IAAICYOHl3QgAAwMkvendCAACAL4J6d0IAAECV1Hp3QgAAAPsme3dCAADAYHl7d0IAAACScHx3QgAAgF0VfXdCAABAw2d9d0IAAAApun13QgAAQFqxfndCAAAAwAN/d0IAAMAlVn93QgAAgIuof3dCAABA8fp/d0IAAECIRIF3QgAAAO6WgXdCAADAU+mBd0IAAIC5O4J3QgAAwOoyg3dCAACAUIWDd0IAAEC214N3QgAAABwqhHdCAADAgXyEd0IAAACzc4V3QgAAwBjGhXdCAACAfhiGd0IAAEDkaoZ3QgAAAEq9hndCAABAe7SHd0IAAADhBoh3QgAAwEZZiHdCAACArKuId0IAAEAS/oh3QgAAgEP1iXdCAABAqUeKd0IAAAAPmop3QgAAwHTsindCAACA2j6Ld0IAAMALNox3QgAAgHGIjHdCAABA19qMd0IAAAA9LY13QgAAwKJ/jXdCAAAA1HaOd0IAAMA5yY53QgAAgJ8bj3dCAABABW6Pd0IAAABrwI93QgAAQJy3kHdCAAAAAgqRd0IAAMBnXJF3QgAAgM2ukXdCAABAMwGSd0IAAEDKSpN3QgAAADCdk3dCAADAle+Td0IAAID7QZR3QgAAwCw5lXdCAACAkouVd0IAAED43ZV3QgAAAF4wlndCAADAw4KWd0IAAAD1eZd3QgAAwFrMl3dCAACAwB6Yd0IAAEAmcZh3QgAAAIzDmHdCAABAvbqZd0IAAAAjDZp3QgAAwIhfmndCAACA7rGad0IAAEBUBJt3Qg==\",\"dtype\":\"float64\",\"order\":\"little\",\"shape\":[101]},\"equity\":{\"__ndarray__\":\"AAAAAAAA8D8AAAAAAADwPwAAAAAAAPA/AAAAAAAA8D8AAAAAAADwPwAAAAAAAPA/AAAAAAAA8D8AAAAAAADwPwAAAAAAAPA/AAAAAAAA8D8AAAAAAADwPwAAAAAAAPA/AAAAAAAA8D8AAAAAAADwPwAAAAAAAPA/AAAAAAAA8D8AAAAAAADwPwAAAAAAAPA/AAAAAAAA8D+YvKasO8HwP5i8pqw7wfA/mLymrDvB8D+YvKasO8HwP5i8pqw7wfA/mLymrDvB8D+YvKasO8HwP5i8pqw7wfA/mLymrDvB8D+A0Hr4WsjwP74PBwlBDfE/vg8HCUEN8T++DwcJQQ3xP74PBwlBDfE/1f6US+cd8T8+HOqYL1DxPz4c6pgvUPE/PhzqmC9Q8T8+HOqYL1DxPz4c6pgvUPE/PhzqmC9Q8T+nd/F+PHXxP8b3xaWKY/E/9bwbC6o58T/OwMjLes/xP59XPPWoefE/3JvfMHHX8T8uPC8Vu6nxP7g5lQyAq/E/Cfzh51++8T9h3uNM08zxPwkZyLNLDvI/CRnIs0sO8j8JGcizSw7yPwkZyLNLDvI/CRnIs0sO8j8JGcizSw7yPwkZyLNLDvI/CRnIs0sO8j8JGcizSw7yP0Xr0elXTPI/8AxDeZGU8j9T+527i6byP+bGHQQjc/I/aYfopWjp8j9yEQgJw8vyP5sutAjL3PI/0JGFfUEP8z9asehrCBnzP/xIOpjnfvM/lGCat4Q58z9BrZJdl9DzPwEOysleLPQ/VIcFjAyE9D+9Tah1+ej0P4+DO+XX0/Q/WN0Tub4h9T9Y3RO5viH1P1jdE7m+IfU/WN0Tub4h9T9Y3RO5viH1P1jdE7m+IfU/WN0Tub4h9T/v25yMxrv1Px3D7+hLF/Y/XMOYNogp9j8r2NLlOXX2PzkFhYP5t/Y/hk/GOvG29j8lOlfW0r32P+bi+yRDNvY/4m8HLFWD9j/3GDjixTH3P37YXk06q/c/B8gj+lHu9z/NpNl+/iP4P82k2X7+I/g/zaTZfv4j+D/NpNl+/iP4P82k2X7+I/g/zaTZfv4j+D/NpNl+/iP4Pw==\",\"dtype\":\"float64\",\"order\":\"little\",\"shape\":[101]},\"inc\":[\"1\",\"1\",\"0\",\"1\",\"0\",\"0\",\"0\",\"0\",\"0\",\"0\",\"0\",\"1\",\"0\",\"1\",\"1\",\"0\",\"0\",\"1\",\"0\",\"1\",\"0\",\"1\",\"0\",\"1\",\"1\",\"0\",\"0\",\"0\",\"1\",\"1\",\"0\",\"0\",\"0\",\"0\",\"1\",\"0\",\"0\",\"0\",\"1\",\"0\",\"1\",\"0\",\"1\",\"1\",\"0\",\"1\",\"0\",\"0\",\"0\",\"1\",\"1\",\"0\",\"1\",\"0\",\"0\",\"0\",\"0\",\"1\",\"0\",\"1\",\"1\",\"1\",\"0\",\"1\",\"0\",\"1\",\"1\",\"0\",\"1\",\"0\",\"1\",\"1\",\"1\",\"1\",\"0\",\"1\",\"0\",\"0\",\"0\",\"0\",\"0\",\"0\",\"1\",\"1\",\"1\",\"1\",\"1\",\"1\",\"0\",\"0\",\"1\",\"1\",\"1\",\"1\",\"1\",\"0\",\"0\",\"0\",\"0\",\"1\",\"0\"],\"index\":[0,1,2,3,4,5,6,7,8,9,10,11,12,13,14,15,16,17,18,19,20,21,22,23,24,25,26,27,28,29,30,31,32,33,34,35,36,37,38,39,40,41,42,43,44,45,46,47,48,49,50,51,52,53,54,55,56,57,58,59,60,61,62,63,64,65,66,67,68,69,70,71,72,73,74,75,76,77,78,79,80,81,82,83,84,85,86,87,88,89,90,91,92,93,94,95,96,97,98,99,100],\"ohlc_high\":{\"__ndarray__\":\"AAAAAADsnEAAAABAMzedQAAAAMDMAJ1AAAAAQDONnEAAAADAzDScQAAAAKCZ45tAAAAAYGZCm0AAAADAzBCbQAAAAAAArJpAAAAAAACMmkAAAACgmYeaQAAAAAAAgJpAAAAAAAAEm0AAAABgZhibQAAAAAAAbJtAAAAAAABsm0AAAAAAAMSaQAAAAAAAUJpAAAAAAABwmkAAAAAAAMibQAAAAKCZL5tAAAAAAACemkAAAABAM5maQAAAAMDMRJpAAAAAoJllmkAAAAAAAGyaQAAAAAAANJpAAAAAAADemUAAAACgmbOZQAAAAEAzH5pAAAAAYGYwmkAAAAAAAMyZQAAAAMDMTJlAAAAAwMwSmUAAAAAAAGCZQAAAAAAAHJlAAAAAAADAmEAAAACgmdeXQAAAAAAAYpdAAAAAYGZgl0AAAAAAAICXQAAAAAAAmJdAAAAAAACUl0AAAAAAAA6YQAAAAMDMZJhAAAAAAABMmEAAAABgZh6YQAAAAGBmDJhAAAAAAAAAmEAAAABAMwOYQAAAAAAAVphAAAAAwMx+mEAAAAAAAFaYQAAAAMDMMphAAAAAYGb4l0AAAAAAALiXQAAAAGBmjJdAAAAAYGZsl0AAAAAAADaXQAAAAAAAMJdAAAAAAACgl0AAAADAzKCXQAAAAEAzl5dAAAAAoJkNmEAAAABgZh6YQAAAAGBmDJhAAAAAQDNLmEAAAAAAAFyYQAAAAMDMzphAAAAAQDO7mEAAAACgmTOZQAAAAAAAsJlAAAAAQDNfmkAAAAAAAICaQAAAAAAAxJpAAAAAAAAIm0AAAABAM7eaQAAAAEAzk5pAAAAAwMwqmkAAAACgmX+ZQAAAAAAAgJlAAAAAAADQmEAAAAAAAFyZQAAAAGBmmJlAAAAAAADCmUAAAAAAAFSaQAAAAAAAqJpAAAAAAABWmkAAAAAAAMSaQAAAAEAzaZpAAAAAQDMjmkAAAACgmfOaQAAAAAAAiptAAAAAQDPtm0AAAAAAAAicQAAAAAAAJpxAAAAAAAAYnEAAAAAAAAicQAAAAAAAFpxAAAAAAAA8nEAAAACgmRucQA==\",\"dtype\":\"float64\",\"order\":\"little\",\"shape\":[101]},\"ohlc_low\":{\"__ndarray__\":\"AAAAQDNZm0AAAAAAABicQAAAAAAAYJxAAAAAQDONnEAAAABAM2WbQAAAAAAApJpAAAAAYGbEmkAAAABAM5eaQAAAAMDM4JlAAAAAAAAamkAAAAAAALSZQAAAAAAA9JlAAAAAYGZumkAAAAAAADCaQAAAAAAApJpAAAAAQDOHmkAAAAAAAIyZQAAAAAAASJlAAAAAAACImUAAAACgmSOaQAAAAMDMdJpAAAAAwMyKmkAAAABgZqCZQAAAAKCZ1ZlAAAAAoJkdmkAAAADAzOCZQAAAAAAAtJlAAAAAYGZ8mUAAAAAAACaZQAAAAEAzqZlAAAAAwMyomUAAAAAAAOSYQAAAAAAAcJhAAAAAwMzsmEAAAAAAAJyYQAAAAAAAaJhAAAAAAAC0l0AAAAAAACiXQAAAAAAAUpdAAAAAoJnvlkAAAAAAAFKXQAAAAGBm5JZAAAAAQDPxlkAAAABAM3GXQAAAAMDMfJdAAAAAYGayl0AAAABAM4WXQAAAAKCZn5dAAAAAAAC4l0AAAADAzKSXQAAAAEAzC5hAAAAAwMwcmEAAAAAAAOyXQAAAAGBm8JdAAAAAYGaEl0AAAAAAADyXQAAAAAAA8JZAAAAAwMwQl0AAAAAAAJaWQAAAAAAAqJZAAAAAYGYwl0AAAABgZnaXQAAAAAAAQJdAAAAAQDNhl0AAAAAAALSXQAAAAAAAmpdAAAAAwMy2l0AAAABgZviXQAAAAAAA/JdAAAAAAAAqmEAAAABgZn6YQAAAAAAAyJhAAAAAwMx4mUAAAAAAAASaQAAAAMDMIJpAAAAAwMxsmkAAAADAzCiaQAAAAAAA3JlAAAAAAABQmUAAAABgZvKYQAAAAEAznZhAAAAAoJlBmEAAAACgmbmYQAAAAEAzF5lAAAAAAAC4mEAAAADAzH6ZQAAAAAAAIJpAAAAAQDO1mUAAAABgZhiaQAAAAEAzZ5lAAAAAAADGmUAAAADAzFSaQAAAAKCZ85pAAAAAoJnNmkAAAACgmWubQAAAAGBmkptAAAAAwMzGm0AAAAAAAGSbQAAAAAAAyJtAAAAAwMy6m0AAAADAzCibQA==\",\"dtype\":\"float64\",\"order\":\"little\",\"shape\":[101]}},\"selected\":{\"id\":\"1102\"},\"selection_policy\":{\"id\":\"1103\"}},\"id\":\"1035\",\"type\":\"ColumnDataSource\"},{\"attributes\":{\"factors\":[\"0\",\"1\"],\"palette\":[\"tomato\",\"lime\"]},\"id\":\"1038\",\"type\":\"CategoricalColorMapper\"},{\"attributes\":{\"active_drag\":{\"id\":\"1281\"},\"active_inspect\":\"auto\",\"active_multi\":null,\"active_scroll\":{\"id\":\"1282\"},\"active_tap\":\"auto\",\"tools\":[{\"id\":\"1281\"},{\"id\":\"1282\"},{\"id\":\"1283\"},{\"id\":\"1284\"},{\"id\":\"1285\"},{\"id\":\"1286\"},{\"id\":\"1287\"},{\"id\":\"1314\"},{\"id\":\"1319\"}]},\"id\":\"1289\",\"type\":\"Toolbar\"},{\"attributes\":{\"line_color\":{\"value\":\"#bbbbbb\"},\"x0\":{\"field\":\"index\"},\"x1\":{\"field\":\"index\"},\"y0\":{\"field\":\"High\"},\"y1\":{\"field\":\"Low\"}},\"id\":\"1226\",\"type\":\"Segment\"},{\"attributes\":{},\"id\":\"1285\",\"type\":\"RedoTool\"},{\"attributes\":{},\"id\":\"1287\",\"type\":\"SaveTool\"},{\"attributes\":{},\"id\":\"1009\",\"type\":\"LinearScale\"},{\"attributes\":{\"border_line_color\":\"#333333\",\"click_policy\":\"hide\",\"glyph_width\":0,\"items\":[{\"id\":\"1312\"}],\"label_text_font_size\":\"8pt\",\"location\":\"top_left\",\"margin\":0,\"padding\":5,\"spacing\":0},\"id\":\"1311\",\"type\":\"Legend\"},{\"attributes\":{\"fill_color\":{\"value\":\"blue\"},\"line_color\":{\"value\":\"blue\"},\"size\":{\"units\":\"screen\",\"value\":8},\"x\":{\"value\":100},\"y\":{\"value\":1.5087876277050782}},\"id\":\"1110\",\"type\":\"Scatter\"},{\"attributes\":{\"formatter\":{\"id\":\"1041\"},\"ticker\":{\"id\":\"1012\"}},\"id\":\"1011\",\"type\":\"LinearAxis\"},{\"attributes\":{\"label\":{\"value\":\"Final (151%)\"},\"renderers\":[{\"id\":\"1112\"}]},\"id\":\"1128\",\"type\":\"LegendItem\"},{\"attributes\":{\"args\":{\"axis\":{\"id\":\"1011\"},\"formatter\":{\"id\":\"1040\"},\"source\":{\"id\":\"1035\"}},\"code\":\"\\nthis.labels = this.labels || formatter.doFormat(ticks\\n                                                .map(i => source.data.datetime[i])\\n                                                .filter(t => t !== undefined));\\nreturn this.labels[index] || \\\"\\\";\\n        \"},\"id\":\"1041\",\"type\":\"FuncTickFormatter\"},{\"attributes\":{\"axis\":{\"id\":\"1011\"},\"ticker\":null},\"id\":\"1014\",\"type\":\"Grid\"},{\"attributes\":{\"fill_alpha\":{\"value\":0.1},\"fill_color\":{\"value\":\"blue\"},\"line_alpha\":{\"value\":0.1},\"line_color\":{\"value\":\"blue\"},\"size\":{\"units\":\"screen\",\"value\":8},\"x\":{\"value\":100},\"y\":{\"value\":1.5087876277050782}},\"id\":\"1111\",\"type\":\"Scatter\"},{\"attributes\":{\"source\":{\"id\":\"1035\"}},\"id\":\"1301\",\"type\":\"CDSView\"},{\"attributes\":{},\"id\":\"1005\",\"type\":\"DataRange1d\"},{\"attributes\":{\"label\":{\"value\":\"Signal\"},\"renderers\":[{\"id\":\"1300\"}]},\"id\":\"1312\",\"type\":\"LegendItem\"},{\"attributes\":{},\"id\":\"1047\",\"type\":\"LinearScale\"},{\"attributes\":{\"source\":{\"id\":\"1109\"}},\"id\":\"1113\",\"type\":\"CDSView\"},{\"attributes\":{},\"id\":\"1012\",\"type\":\"BasicTicker\"},{\"attributes\":{},\"id\":\"1045\",\"type\":\"DataRange1d\"},{\"attributes\":{\"line_color\":\"#1f77b4\",\"line_width\":1.3,\"x\":{\"field\":\"index\"},\"y\":{\"field\":\"Signal_0_1\"}},\"id\":\"1298\",\"type\":\"Line\"},{\"attributes\":{\"data_source\":{\"id\":\"1035\"},\"glyph\":{\"id\":\"1298\"},\"hover_glyph\":null,\"muted_glyph\":null,\"nonselection_glyph\":{\"id\":\"1299\"},\"selection_glyph\":null,\"view\":{\"id\":\"1301\"}},\"id\":\"1300\",\"type\":\"GlyphRenderer\"},{\"attributes\":{\"text\":\"\"},\"id\":\"1303\",\"type\":\"Title\"}],\"root_ids\":[\"1384\"]},\"title\":\"Bokeh Application\",\"version\":\"2.2.3\"}};\n",
       "  var render_items = [{\"docid\":\"be85051f-66c3-4720-9281-b4ced0e68905\",\"root_ids\":[\"1384\"],\"roots\":{\"1384\":\"3ff0d620-a4ba-4aec-9cf6-7973abc6cbd8\"}}];\n",
       "  root.Bokeh.embed.embed_items_notebook(docs_json, render_items);\n",
       "\n",
       "  }\n",
       "  if (root.Bokeh !== undefined) {\n",
       "    embed_document(root);\n",
       "  } else {\n",
       "    var attempts = 0;\n",
       "    var timer = setInterval(function(root) {\n",
       "      if (root.Bokeh !== undefined) {\n",
       "        clearInterval(timer);\n",
       "        embed_document(root);\n",
       "      } else {\n",
       "        attempts++;\n",
       "        if (attempts > 100) {\n",
       "          clearInterval(timer);\n",
       "          console.log(\"Bokeh: ERROR: Unable to run BokehJS code because BokehJS library is missing\");\n",
       "        }\n",
       "      }\n",
       "    }, 10, root)\n",
       "  }\n",
       "})(window);"
      ],
      "application/vnd.bokehjs_exec.v0+json": ""
     },
     "metadata": {
      "application/vnd.bokehjs_exec.v0+json": {
       "id": "1384"
      }
     },
     "output_type": "display_data"
    }
   ],
   "source": [
    "# Стратегия Long & Short (подключен класс стратегии LnS)\n",
    "bt = Backtest(df_new, LS, cash=100000, commission=.004, trade_on_close=True)\n",
    "stats = bt.run()\n",
    "bt.plot(plot_volume=True, relative_equity=True)"
   ]
  },
  {
   "cell_type": "code",
   "execution_count": 15,
   "metadata": {
    "colab": {
     "base_uri": "https://localhost:8080/"
    },
    "id": "2d6b0a69-f551-4761-bcc5-795821c2363a",
    "outputId": "f40e6fdc-2b7e-45e7-e426-2f2ad20555ea"
   },
   "outputs": [
    {
     "data": {
      "text/plain": [
       "Start                     2021-01-04 00:00:00\n",
       "End                       2021-05-28 00:00:00\n",
       "Duration                    144 days 00:00:00\n",
       "Exposure Time [%]                     51.4851\n",
       "Equity Final [$]                       150879\n",
       "Equity Peak [$]                        150879\n",
       "Return [%]                            50.8788\n",
       "Buy & Hold Return [%]                -4.72301\n",
       "Return (Ann.) [%]                     179.053\n",
       "Volatility (Ann.) [%]                 47.1111\n",
       "Sharpe Ratio                          3.80065\n",
       "Sortino Ratio                         29.4875\n",
       "Calmar Ratio                           76.896\n",
       "Max. Drawdown [%]                     -2.3285\n",
       "Avg. Drawdown [%]                    -1.11515\n",
       "Max. Drawdown Duration        7 days 00:00:00\n",
       "Avg. Drawdown Duration        4 days 00:00:00\n",
       "# Trades                                    6\n",
       "Win Rate [%]                              100\n",
       "Best Trade [%]                        17.0714\n",
       "Worst Trade [%]                       1.55555\n",
       "Avg. Trade [%]                        7.13471\n",
       "Max. Trade Duration          23 days 00:00:00\n",
       "Avg. Trade Duration          12 days 00:00:00\n",
       "Profit Factor                             NaN\n",
       "Expectancy [%]                        7.30414\n",
       "SQN                                   2.51264\n",
       "_strategy                       Long_Strategy\n",
       "_equity_curve                             ...\n",
       "_trades                      Size  EntryBa...\n",
       "dtype: object"
      ]
     },
     "execution_count": 15,
     "metadata": {},
     "output_type": "execute_result"
    }
   ],
   "source": [
    "stats"
   ]
  },
  {
   "cell_type": "markdown",
   "metadata": {
    "id": "ad1b248a-8c69-4255-a55c-ed92e1c94d3b"
   },
   "source": [
    "### Long & Short"
   ]
  },
  {
   "cell_type": "code",
   "execution_count": 16,
   "metadata": {
    "colab": {
     "base_uri": "https://localhost:8080/",
     "height": 776
    },
    "id": "0715467c-2df0-49d1-beb6-58e150f7662d",
    "outputId": "38365f9a-8bc4-44a5-95c1-c6f02c48d900"
   },
   "outputs": [
    {
     "data": {
      "text/html": [
       "\n",
       "\n",
       "\n",
       "\n",
       "\n",
       "\n",
       "  <div class=\"bk-root\" id=\"b77c2b12-254b-484a-bcc0-24e728dc399f\" data-root-id=\"2013\"></div>\n"
      ]
     },
     "metadata": {},
     "output_type": "display_data"
    },
    {
     "data": {
      "application/javascript": [
       "(function(root) {\n",
       "  function embed_document(root) {\n",
       "    \n",
       "  var docs_json = {\"d7663aa8-faaf-4f48-9ff9-09b28fc8697a\":{\"roots\":{\"references\":[{\"attributes\":{\"children\":[{\"id\":\"2010\"},{\"id\":\"2012\"}],\"sizing_mode\":\"stretch_width\"},\"id\":\"2013\",\"type\":\"Row\"},{\"attributes\":{\"formatter\":{\"id\":\"1979\"},\"ticker\":{\"id\":\"1813\"},\"visible\":false},\"id\":\"1812\",\"type\":\"LinearAxis\"},{\"attributes\":{},\"id\":\"1691\",\"type\":\"UndoTool\"},{\"attributes\":{\"bottom\":{\"field\":\"Close\"},\"fill_color\":{\"field\":\"inc\",\"transform\":{\"id\":\"1666\"}},\"top\":{\"field\":\"Open\"},\"width\":{\"value\":0.8},\"x\":{\"field\":\"index\"}},\"id\":\"1871\",\"type\":\"VBar\"},{\"attributes\":{},\"id\":\"1693\",\"type\":\"ResetTool\"},{\"attributes\":{\"format\":\"0.[00]%\"},\"id\":\"1851\",\"type\":\"NumeralTickFormatter\"},{\"attributes\":{},\"id\":\"1732\",\"type\":\"UnionRenderers\"},{\"attributes\":{},\"id\":\"1810\",\"type\":\"LinearScale\"},{\"attributes\":{\"dimensions\":\"width\",\"maintain_focus\":false},\"id\":\"1689\",\"type\":\"WheelZoomTool\"},{\"attributes\":{\"callback\":null,\"formatters\":{\"@datetime\":\"datetime\"},\"point_policy\":\"follow_mouse\",\"renderers\":[{\"id\":\"1845\"}],\"tooltips\":[[\"Date\",\"@datetime{%c}\"],[\"Size\",\"@size{0,0}\"],[\"P/L\",\"@returns_short{+0.[000]%}\"]]},\"id\":\"1849\",\"type\":\"HoverTool\"},{\"attributes\":{\"overlay\":{\"id\":\"1695\"}},\"id\":\"1690\",\"type\":\"BoxZoomTool\"},{\"attributes\":{\"fill_alpha\":{\"value\":0.1},\"fill_color\":{\"value\":\"blue\"},\"line_alpha\":{\"value\":0.1},\"line_color\":{\"value\":\"blue\"},\"size\":{\"units\":\"screen\",\"value\":8},\"x\":{\"value\":100},\"y\":{\"value\":1.7318012483447267}},\"id\":\"1740\",\"type\":\"Scatter\"},{\"attributes\":{\"source\":{\"id\":\"1664\"}},\"id\":\"1869\",\"type\":\"CDSView\"},{\"attributes\":{},\"id\":\"1731\",\"type\":\"Selection\"},{\"attributes\":{},\"id\":\"1692\",\"type\":\"RedoTool\"},{\"attributes\":{\"fill_alpha\":{\"value\":0.1},\"fill_color\":{\"field\":\"returns_positive\",\"transform\":{\"id\":\"1667\"}},\"line_alpha\":{\"value\":0.1},\"marker\":{\"value\":\"inverted_triangle\"},\"size\":{\"field\":\"marker_size\",\"units\":\"screen\"},\"x\":{\"field\":\"index\"},\"y\":{\"field\":\"returns_short\"}},\"id\":\"1844\",\"type\":\"Scatter\"},{\"attributes\":{\"data_source\":{\"id\":\"1665\"},\"glyph\":{\"id\":\"1843\"},\"hover_glyph\":null,\"muted_glyph\":null,\"nonselection_glyph\":{\"id\":\"1844\"},\"selection_glyph\":null,\"view\":{\"id\":\"1846\"}},\"id\":\"1845\",\"type\":\"GlyphRenderer\"},{\"attributes\":{},\"id\":\"1694\",\"type\":\"SaveTool\"},{\"attributes\":{\"source\":{\"id\":\"1665\"}},\"id\":\"1841\",\"type\":\"CDSView\"},{\"attributes\":{},\"id\":\"1733\",\"type\":\"Selection\"},{\"attributes\":{\"children\":[[{\"id\":\"1672\"},0,0],[{\"id\":\"1804\"},1,0],[{\"id\":\"1632\"},2,0],[{\"id\":\"1894\"},3,0]]},\"id\":\"2010\",\"type\":\"GridBox\"},{\"attributes\":{\"callback\":null,\"formatters\":{\"@datetime\":\"datetime\"},\"mode\":\"vline\",\"point_policy\":\"follow_mouse\",\"renderers\":[{\"id\":\"1929\"}],\"tooltips\":[[\"Date\",\"@datetime{%c}\"],[\"Signal\",\"@{Signal_0_1}{0,0.0[0000]}\"]]},\"id\":\"1943\",\"type\":\"HoverTool\"},{\"attributes\":{\"fill_color\":{\"field\":\"returns_positive\",\"transform\":{\"id\":\"1667\"}},\"marker\":{\"value\":\"triangle\"},\"size\":{\"field\":\"marker_size\",\"units\":\"screen\"},\"x\":{\"field\":\"index\"},\"y\":{\"field\":\"returns_long\"}},\"id\":\"1838\",\"type\":\"Scatter\"},{\"attributes\":{\"bottom_units\":\"screen\",\"fill_alpha\":0.5,\"fill_color\":\"lightgrey\",\"left_units\":\"screen\",\"level\":\"overlay\",\"line_alpha\":1.0,\"line_color\":\"black\",\"line_dash\":[4,4],\"line_width\":2,\"right_units\":\"screen\",\"top_units\":\"screen\"},\"id\":\"1917\",\"type\":\"BoxAnnotation\"},{\"attributes\":{\"line_color\":\"#666666\",\"line_dash\":[6],\"line_width\":0.5,\"location\":0.0},\"id\":\"1942\",\"type\":\"Span\"},{\"attributes\":{\"data\":{\"Close\":{\"__ndarray__\":\"AAAAQDOtmUAAAAAAAD6XQAAAAMDMKJdAAAAAAABYmEAAAABgZoSbQA==\",\"dtype\":\"float64\",\"order\":\"little\",\"shape\":[5]},\"High\":{\"__ndarray__\":\"AAAAQDM3nUAAAAAAAMibQAAAAMDMfphAAAAAAAAIm0AAAAAAADycQA==\",\"dtype\":\"float64\",\"order\":\"little\",\"shape\":[5]},\"Low\":{\"__ndarray__\":\"AAAAAABImUAAAAAAACiXQAAAAAAAlpZAAAAAYGYwl0AAAAAAALiYQA==\",\"dtype\":\"float64\",\"order\":\"little\",\"shape\":[5]},\"Open\":{\"__ndarray__\":\"AAAAAAB0m0AAAAAAAGqaQAAAAAAAUpdAAAAAYGYwl0AAAACgmdeYQA==\",\"dtype\":\"float64\",\"order\":\"little\",\"shape\":[5]},\"Volume\":{\"__ndarray__\":\"AAAAAAAAAAAAAAAAAAAAAAAAAAAAAAAAAAAAAAAAAAAAAAAAAAAAAA==\",\"dtype\":\"float64\",\"order\":\"little\",\"shape\":[5]},\"_width\":{\"__ndarray__\":\"ZmZmZmbmMkBmZmZmZuYyQGZmZmZm5jVAZmZmZmbmNUBmZmZmZuYyQA==\",\"dtype\":\"float64\",\"order\":\"little\",\"shape\":[5]},\"inc\":[\"0\",\"0\",\"0\",\"1\",\"1\"],\"index\":{\"__ndarray__\":\"AAAAAAAAIkAAAAAAAAA8QAAAAAAAQEhAAAAAAACgUUAAAAAAAMBWQA==\",\"dtype\":\"float64\",\"order\":\"little\",\"shape\":[5]}},\"selected\":{\"id\":\"1885\"},\"selection_policy\":{\"id\":\"1886\"}},\"id\":\"1853\",\"type\":\"ColumnDataSource\"},{\"attributes\":{\"factors\":[\"0\",\"1\"],\"palette\":[\"rgb(255, 220, 214)\",\"rgb(214, 255, 214)\"]},\"id\":\"1859\",\"type\":\"CategoricalColorMapper\"},{\"attributes\":{\"logo\":null,\"toolbars\":[{\"id\":\"1696\"},{\"id\":\"1828\"},{\"id\":\"1656\"},{\"id\":\"1918\"}],\"tools\":[{\"id\":\"1688\"},{\"id\":\"1689\"},{\"id\":\"1690\"},{\"id\":\"1691\"},{\"id\":\"1692\"},{\"id\":\"1693\"},{\"id\":\"1694\"},{\"id\":\"1715\"},{\"id\":\"1948\"},{\"id\":\"1820\"},{\"id\":\"1821\"},{\"id\":\"1822\"},{\"id\":\"1823\"},{\"id\":\"1824\"},{\"id\":\"1825\"},{\"id\":\"1826\"},{\"id\":\"1847\"},{\"id\":\"1849\"},{\"id\":\"1948\"},{\"id\":\"1648\"},{\"id\":\"1649\"},{\"id\":\"1650\"},{\"id\":\"1651\"},{\"id\":\"1652\"},{\"id\":\"1653\"},{\"id\":\"1654\"},{\"id\":\"1945\"},{\"id\":\"1948\"},{\"id\":\"1910\"},{\"id\":\"1911\"},{\"id\":\"1912\"},{\"id\":\"1913\"},{\"id\":\"1914\"},{\"id\":\"1915\"},{\"id\":\"1916\"},{\"id\":\"1943\"},{\"id\":\"1948\"}]},\"id\":\"2011\",\"type\":\"ProxyToolbar\"},{\"attributes\":{},\"id\":\"1808\",\"type\":\"LinearScale\"},{\"attributes\":{\"active_drag\":{\"id\":\"1910\"},\"active_inspect\":\"auto\",\"active_multi\":null,\"active_scroll\":{\"id\":\"1911\"},\"active_tap\":\"auto\",\"tools\":[{\"id\":\"1910\"},{\"id\":\"1911\"},{\"id\":\"1912\"},{\"id\":\"1913\"},{\"id\":\"1914\"},{\"id\":\"1915\"},{\"id\":\"1916\"},{\"id\":\"1943\"},{\"id\":\"1948\"}]},\"id\":\"1918\",\"type\":\"Toolbar\"},{\"attributes\":{\"source\":{\"id\":\"1780\"}},\"id\":\"1784\",\"type\":\"CDSView\"},{\"attributes\":{\"fill_color\":{\"field\":\"returns_positive\",\"transform\":{\"id\":\"1667\"}},\"marker\":{\"value\":\"inverted_triangle\"},\"size\":{\"field\":\"marker_size\",\"units\":\"screen\"},\"x\":{\"field\":\"index\"},\"y\":{\"field\":\"returns_short\"}},\"id\":\"1843\",\"type\":\"Scatter\"},{\"attributes\":{\"line_color\":\"red\",\"line_width\":2,\"x\":{\"field\":\"x\"},\"y\":{\"value\":1.2817375958740236}},\"id\":\"1781\",\"type\":\"Line\"},{\"attributes\":{\"data\":{\"x\":[45,49.162161419098]},\"selected\":{\"id\":\"1800\"},\"selection_policy\":{\"id\":\"1801\"}},\"id\":\"1780\",\"type\":\"ColumnDataSource\"},{\"attributes\":{\"fill_alpha\":{\"value\":0.1},\"fill_color\":{\"field\":\"returns_positive\",\"transform\":{\"id\":\"1667\"}},\"line_alpha\":{\"value\":0.1},\"marker\":{\"value\":\"triangle\"},\"size\":{\"field\":\"marker_size\",\"units\":\"screen\"},\"x\":{\"field\":\"index\"},\"y\":{\"field\":\"returns_long\"}},\"id\":\"1839\",\"type\":\"Scatter\"},{\"attributes\":{\"line_alpha\":0.1,\"line_color\":\"red\",\"line_width\":2,\"x\":{\"field\":\"x\"},\"y\":{\"value\":1.2817375958740236}},\"id\":\"1782\",\"type\":\"Line\"},{\"attributes\":{},\"id\":\"1776\",\"type\":\"Selection\"},{\"attributes\":{\"label\":{\"value\":\"Max Drawdown (-2.3%)\"},\"renderers\":[{\"id\":\"1761\"}]},\"id\":\"1779\",\"type\":\"LegendItem\"},{\"attributes\":{\"callback\":null,\"formatters\":{\"@datetime\":\"datetime\"},\"mode\":\"vline\",\"point_policy\":\"follow_mouse\",\"renderers\":[{\"id\":\"1873\"}],\"tooltips\":[[\"Date\",\"@datetime{%c}\"],[\"x, y\",\"$index\\u00a0\\u00a0\\u00a0\\u00a0$y{0,0.0[0000]}\"],[\"OHLC\",\"@Open{0,0.0[0000]}\\u00a0\\u00a0\\u00a0\\u00a0@High{0,0.0[0000]}\\u00a0\\u00a0\\u00a0\\u00a0@Low{0,0.0[0000]}\\u00a0\\u00a0\\u00a0\\u00a0@Close{0,0.0[0000]}\"],[\"Volume\",\"@Volume{0,0}\"]]},\"id\":\"1945\",\"type\":\"HoverTool\"},{\"attributes\":{\"data_source\":{\"id\":\"1780\"},\"glyph\":{\"id\":\"1781\"},\"hover_glyph\":null,\"muted_glyph\":null,\"nonselection_glyph\":{\"id\":\"1782\"},\"selection_glyph\":null,\"view\":{\"id\":\"1784\"}},\"id\":\"1783\",\"type\":\"GlyphRenderer\"},{\"attributes\":{\"bottom_units\":\"screen\",\"fill_alpha\":0.5,\"fill_color\":\"lightgrey\",\"left_units\":\"screen\",\"level\":\"overlay\",\"line_alpha\":1.0,\"line_color\":\"black\",\"line_dash\":[4,4],\"line_width\":2,\"right_units\":\"screen\",\"top_units\":\"screen\"},\"id\":\"1827\",\"type\":\"BoxAnnotation\"},{\"attributes\":{\"data_source\":{\"id\":\"1665\"},\"glyph\":{\"id\":\"1838\"},\"hover_glyph\":null,\"muted_glyph\":null,\"nonselection_glyph\":{\"id\":\"1839\"},\"selection_glyph\":null,\"view\":{\"id\":\"1841\"}},\"id\":\"1840\",\"type\":\"GlyphRenderer\"},{\"attributes\":{\"bottom_units\":\"screen\",\"fill_alpha\":0.5,\"fill_color\":\"lightgrey\",\"left_units\":\"screen\",\"level\":\"overlay\",\"line_alpha\":1.0,\"line_color\":\"black\",\"line_dash\":[4,4],\"line_width\":2,\"right_units\":\"screen\",\"top_units\":\"screen\"},\"id\":\"1695\",\"type\":\"BoxAnnotation\"},{\"attributes\":{\"text\":\"\"},\"id\":\"1725\",\"type\":\"Title\"},{\"attributes\":{\"label\":{\"value\":\"Final (173%)\"},\"renderers\":[{\"id\":\"1741\"}]},\"id\":\"1757\",\"type\":\"LegendItem\"},{\"attributes\":{\"below\":[{\"id\":\"1812\"}],\"center\":[{\"id\":\"1815\"},{\"id\":\"1819\"},{\"id\":\"1836\"}],\"left\":[{\"id\":\"1816\"}],\"min_border_bottom\":6,\"min_border_left\":0,\"min_border_right\":10,\"min_border_top\":3,\"outline_line_color\":\"#666666\",\"plot_height\":90,\"plot_width\":null,\"renderers\":[{\"id\":\"1840\"},{\"id\":\"1845\"}],\"sizing_mode\":\"stretch_width\",\"title\":{\"id\":\"1977\"},\"toolbar\":{\"id\":\"1828\"},\"toolbar_location\":null,\"x_range\":{\"id\":\"1631\"},\"x_scale\":{\"id\":\"1808\"},\"y_range\":{\"id\":\"1806\"},\"y_scale\":{\"id\":\"1810\"}},\"id\":\"1804\",\"subtype\":\"Figure\",\"type\":\"Plot\"},{\"attributes\":{\"line_color\":\"#666666\",\"line_dash\":[6],\"location\":0},\"id\":\"1836\",\"type\":\"Span\"},{\"attributes\":{\"data_source\":{\"id\":\"1758\"},\"glyph\":{\"id\":\"1759\"},\"hover_glyph\":null,\"muted_glyph\":null,\"nonselection_glyph\":{\"id\":\"1760\"},\"selection_glyph\":null,\"view\":{\"id\":\"1762\"}},\"id\":\"1761\",\"type\":\"GlyphRenderer\"},{\"attributes\":{},\"id\":\"1882\",\"type\":\"BasicTickFormatter\"},{\"attributes\":{\"bottom\":{\"field\":\"Close\"},\"fill_alpha\":{\"value\":0.1},\"fill_color\":{\"field\":\"inc\",\"transform\":{\"id\":\"1666\"}},\"line_alpha\":{\"value\":0.1},\"top\":{\"field\":\"Open\"},\"width\":{\"value\":0.8},\"x\":{\"field\":\"index\"}},\"id\":\"1872\",\"type\":\"VBar\"},{\"attributes\":{\"fill_color\":{\"value\":\"blue\"},\"line_color\":{\"value\":\"blue\"},\"size\":{\"units\":\"screen\",\"value\":8},\"x\":{\"value\":100},\"y\":{\"value\":1.7318012483447267}},\"id\":\"1739\",\"type\":\"Scatter\"},{\"attributes\":{\"fill_color\":\"#ffffea\",\"line_color\":\"#ffcb66\",\"x\":{\"field\":\"index\"},\"y\":{\"field\":\"equity_dd\"}},\"id\":\"1706\",\"type\":\"Patch\"},{\"attributes\":{\"fill_color\":{\"value\":\"red\"},\"line_color\":{\"value\":\"red\"},\"size\":{\"units\":\"screen\",\"value\":8},\"x\":{\"value\":89},\"y\":{\"value\":1.5940412483447266}},\"id\":\"1759\",\"type\":\"Scatter\"},{\"attributes\":{},\"id\":\"1813\",\"type\":\"BasicTicker\"},{\"attributes\":{\"data_source\":{\"id\":\"1664\"},\"glyph\":{\"id\":\"1871\"},\"hover_glyph\":null,\"muted_glyph\":null,\"nonselection_glyph\":{\"id\":\"1872\"},\"selection_glyph\":null,\"view\":{\"id\":\"1874\"}},\"id\":\"1873\",\"type\":\"GlyphRenderer\"},{\"attributes\":{\"fill_alpha\":{\"value\":0.1},\"fill_color\":{\"value\":\"red\"},\"line_alpha\":{\"value\":0.1},\"line_color\":{\"value\":\"red\"},\"size\":{\"units\":\"screen\",\"value\":8},\"x\":{\"value\":89},\"y\":{\"value\":1.5940412483447266}},\"id\":\"1760\",\"type\":\"Scatter\"},{\"attributes\":{\"dimensions\":\"width\",\"maintain_focus\":false},\"id\":\"1821\",\"type\":\"WheelZoomTool\"},{\"attributes\":{\"data\":{},\"selected\":{\"id\":\"1754\"},\"selection_policy\":{\"id\":\"1755\"}},\"id\":\"1738\",\"type\":\"ColumnDataSource\"},{\"attributes\":{\"data_source\":{\"id\":\"1664\"},\"glyph\":{\"id\":\"1711\"},\"hover_glyph\":null,\"muted_glyph\":null,\"nonselection_glyph\":{\"id\":\"1712\"},\"selection_glyph\":null,\"view\":{\"id\":\"1714\"}},\"id\":\"1713\",\"type\":\"GlyphRenderer\"},{\"attributes\":{},\"id\":\"1754\",\"type\":\"Selection\"},{\"attributes\":{\"axis_label\":\"Profit / Loss\",\"formatter\":{\"id\":\"1851\"},\"minor_tick_line_color\":null,\"ticker\":{\"id\":\"1817\"}},\"id\":\"1816\",\"type\":\"LinearAxis\"},{\"attributes\":{\"source\":{\"id\":\"1853\"}},\"id\":\"1864\",\"type\":\"CDSView\"},{\"attributes\":{\"data_source\":{\"id\":\"1665\"},\"glyph\":{\"id\":\"1876\"},\"hover_glyph\":null,\"muted_glyph\":null,\"nonselection_glyph\":{\"id\":\"1877\"},\"selection_glyph\":null,\"view\":{\"id\":\"1879\"}},\"id\":\"1878\",\"type\":\"GlyphRenderer\"},{\"attributes\":{\"source\":{\"id\":\"1665\"}},\"id\":\"1879\",\"type\":\"CDSView\"},{\"attributes\":{\"toolbar\":{\"id\":\"2011\"}},\"id\":\"2012\",\"type\":\"ToolbarBox\"},{\"attributes\":{\"border_line_color\":\"#333333\",\"click_policy\":\"hide\",\"items\":[{\"id\":\"1893\"}],\"label_text_font_size\":\"8pt\",\"location\":\"top_left\",\"margin\":0,\"padding\":5,\"spacing\":0},\"id\":\"1892\",\"type\":\"Legend\"},{\"attributes\":{},\"id\":\"1806\",\"type\":\"DataRange1d\"},{\"attributes\":{\"border_line_color\":\"#333333\",\"click_policy\":\"hide\",\"items\":[{\"id\":\"1737\"},{\"id\":\"1757\"},{\"id\":\"1779\"},{\"id\":\"1803\"}],\"label_text_font_size\":\"8pt\",\"location\":\"top_left\",\"margin\":0,\"padding\":5,\"spacing\":0},\"id\":\"1736\",\"type\":\"Legend\"},{\"attributes\":{\"active_drag\":{\"id\":\"1820\"},\"active_inspect\":\"auto\",\"active_multi\":null,\"active_scroll\":{\"id\":\"1821\"},\"active_tap\":\"auto\",\"tools\":[{\"id\":\"1820\"},{\"id\":\"1821\"},{\"id\":\"1822\"},{\"id\":\"1823\"},{\"id\":\"1824\"},{\"id\":\"1825\"},{\"id\":\"1826\"},{\"id\":\"1847\"},{\"id\":\"1849\"},{\"id\":\"1948\"}]},\"id\":\"1828\",\"type\":\"Toolbar\"},{\"attributes\":{\"x0\":{\"field\":\"index\"},\"x1\":{\"field\":\"index\"},\"y0\":{\"field\":\"High\"},\"y1\":{\"field\":\"Low\"}},\"id\":\"1866\",\"type\":\"Segment\"},{\"attributes\":{},\"id\":\"1823\",\"type\":\"UndoTool\"},{\"attributes\":{},\"id\":\"1817\",\"type\":\"BasicTicker\"},{\"attributes\":{\"axis\":{\"id\":\"1684\"},\"dimension\":1,\"ticker\":null},\"id\":\"1687\",\"type\":\"Grid\"},{\"attributes\":{\"axis\":{\"id\":\"1816\"},\"dimension\":1,\"ticker\":null},\"id\":\"1819\",\"type\":\"Grid\"},{\"attributes\":{\"active_drag\":{\"id\":\"1688\"},\"active_inspect\":\"auto\",\"active_multi\":null,\"active_scroll\":{\"id\":\"1689\"},\"active_tap\":\"auto\",\"tools\":[{\"id\":\"1688\"},{\"id\":\"1689\"},{\"id\":\"1690\"},{\"id\":\"1691\"},{\"id\":\"1692\"},{\"id\":\"1693\"},{\"id\":\"1694\"},{\"id\":\"1715\"},{\"id\":\"1948\"}]},\"id\":\"1696\",\"type\":\"Toolbar\"},{\"attributes\":{\"line_color\":{\"field\":\"returns_positive\",\"transform\":{\"id\":\"1668\"}},\"line_dash\":[2,4],\"line_width\":{\"value\":8},\"xs\":{\"field\":\"position_lines_xs\"},\"ys\":{\"field\":\"position_lines_ys\"}},\"id\":\"1876\",\"type\":\"MultiLine\"},{\"attributes\":{},\"id\":\"1755\",\"type\":\"UnionRenderers\"},{\"attributes\":{\"overlay\":{\"id\":\"1827\"}},\"id\":\"1822\",\"type\":\"BoxZoomTool\"},{\"attributes\":{},\"id\":\"1727\",\"type\":\"BasicTickFormatter\"},{\"attributes\":{\"dimensions\":\"width\"},\"id\":\"1820\",\"type\":\"PanTool\"},{\"attributes\":{\"source\":{\"id\":\"1665\"}},\"id\":\"1846\",\"type\":\"CDSView\"},{\"attributes\":{},\"id\":\"1825\",\"type\":\"ResetTool\"},{\"attributes\":{\"callback\":null,\"formatters\":{\"@datetime\":\"datetime\"},\"point_policy\":\"follow_mouse\",\"renderers\":[{\"id\":\"1840\"}],\"tooltips\":[[\"Date\",\"@datetime{%c}\"],[\"Size\",\"@size{0,0}\"],[\"P/L\",\"@returns_long{+0.[000]%}\"]]},\"id\":\"1847\",\"type\":\"HoverTool\"},{\"attributes\":{\"source\":{\"id\":\"1758\"}},\"id\":\"1762\",\"type\":\"CDSView\"},{\"attributes\":{\"bottom\":{\"field\":\"Close\"},\"fill_color\":{\"field\":\"inc\",\"transform\":{\"id\":\"1859\"}},\"line_color\":{\"value\":null},\"top\":{\"field\":\"Open\"},\"width\":{\"field\":\"_width\"},\"x\":{\"field\":\"index\"}},\"id\":\"1861\",\"type\":\"VBar\"},{\"attributes\":{},\"id\":\"1729\",\"type\":\"Selection\"},{\"attributes\":{\"data_source\":{\"id\":\"1853\"},\"glyph\":{\"id\":\"1855\"},\"hover_glyph\":null,\"muted_glyph\":null,\"nonselection_glyph\":{\"id\":\"1856\"},\"selection_glyph\":null,\"view\":{\"id\":\"1858\"}},\"id\":\"1857\",\"type\":\"GlyphRenderer\"},{\"attributes\":{\"data_source\":{\"id\":\"1719\"},\"glyph\":{\"id\":\"1720\"},\"hover_glyph\":null,\"muted_glyph\":null,\"nonselection_glyph\":{\"id\":\"1721\"},\"selection_glyph\":null,\"view\":{\"id\":\"1723\"}},\"id\":\"1722\",\"type\":\"GlyphRenderer\"},{\"attributes\":{},\"id\":\"1826\",\"type\":\"SaveTool\"},{\"attributes\":{},\"id\":\"1824\",\"type\":\"RedoTool\"},{\"attributes\":{\"data_source\":{\"id\":\"1738\"},\"glyph\":{\"id\":\"1739\"},\"hover_glyph\":null,\"muted_glyph\":null,\"nonselection_glyph\":{\"id\":\"1740\"},\"selection_glyph\":null,\"view\":{\"id\":\"1742\"}},\"id\":\"1741\",\"type\":\"GlyphRenderer\"},{\"attributes\":{\"label\":{\"value\":\"Peak (173%)\"},\"renderers\":[{\"id\":\"1722\"}]},\"id\":\"1737\",\"type\":\"LegendItem\"},{\"attributes\":{\"axis\":{\"id\":\"1812\"},\"ticker\":null},\"id\":\"1815\",\"type\":\"Grid\"},{\"attributes\":{\"callback\":null,\"formatters\":{\"@datetime\":\"datetime\"},\"mode\":\"vline\",\"point_policy\":\"follow_mouse\",\"renderers\":[{\"id\":\"1713\"}],\"tooltips\":[[\"Date\",\"@datetime{%c}\"],[\"Equity\",\"@equity{+0,0.[000]%}\"]]},\"id\":\"1715\",\"type\":\"HoverTool\"},{\"attributes\":{\"fill_alpha\":{\"value\":0.1},\"fill_color\":{\"value\":\"cyan\"},\"line_alpha\":{\"value\":0.1},\"line_color\":{\"value\":\"cyan\"},\"size\":{\"units\":\"screen\",\"value\":8},\"x\":{\"value\":94},\"y\":{\"value\":1.7318012483447267}},\"id\":\"1721\",\"type\":\"Scatter\"},{\"attributes\":{\"text\":\"\"},\"id\":\"1977\",\"type\":\"Title\"},{\"attributes\":{\"data_source\":{\"id\":\"1853\"},\"glyph\":{\"id\":\"1861\"},\"hover_glyph\":null,\"muted_glyph\":null,\"nonselection_glyph\":{\"id\":\"1862\"},\"selection_glyph\":null,\"view\":{\"id\":\"1864\"}},\"id\":\"1863\",\"type\":\"GlyphRenderer\"},{\"attributes\":{\"data\":{},\"selected\":{\"id\":\"1776\"},\"selection_policy\":{\"id\":\"1777\"}},\"id\":\"1758\",\"type\":\"ColumnDataSource\"},{\"attributes\":{\"formatter\":{\"id\":\"1670\"},\"ticker\":{\"id\":\"1641\"}},\"id\":\"1640\",\"type\":\"LinearAxis\"},{\"attributes\":{\"line_alpha\":{\"value\":0.1},\"line_color\":{\"field\":\"returns_positive\",\"transform\":{\"id\":\"1668\"}},\"line_dash\":[2,4],\"line_width\":{\"value\":8},\"xs\":{\"field\":\"position_lines_xs\"},\"ys\":{\"field\":\"position_lines_ys\"}},\"id\":\"1877\",\"type\":\"MultiLine\"},{\"attributes\":{\"line_alpha\":{\"value\":0.1},\"x0\":{\"field\":\"index\"},\"x1\":{\"field\":\"index\"},\"y0\":{\"field\":\"High\"},\"y1\":{\"field\":\"Low\"}},\"id\":\"1867\",\"type\":\"Segment\"},{\"attributes\":{\"source\":{\"id\":\"1664\"}},\"id\":\"1874\",\"type\":\"CDSView\"},{\"attributes\":{\"data_source\":{\"id\":\"1664\"},\"glyph\":{\"id\":\"1866\"},\"hover_glyph\":null,\"muted_glyph\":null,\"nonselection_glyph\":{\"id\":\"1867\"},\"selection_glyph\":null,\"view\":{\"id\":\"1869\"}},\"id\":\"1868\",\"type\":\"GlyphRenderer\"},{\"attributes\":{},\"id\":\"1801\",\"type\":\"UnionRenderers\"},{\"attributes\":{},\"id\":\"1800\",\"type\":\"Selection\"},{\"attributes\":{\"fill_color\":{\"value\":\"cyan\"},\"line_color\":{\"value\":\"cyan\"},\"size\":{\"units\":\"screen\",\"value\":8},\"x\":{\"value\":94},\"y\":{\"value\":1.7318012483447267}},\"id\":\"1720\",\"type\":\"Scatter\"},{\"attributes\":{\"source\":{\"id\":\"1719\"}},\"id\":\"1723\",\"type\":\"CDSView\"},{\"attributes\":{\"source\":{\"id\":\"1738\"}},\"id\":\"1742\",\"type\":\"CDSView\"},{\"attributes\":{},\"id\":\"1730\",\"type\":\"UnionRenderers\"},{\"attributes\":{},\"id\":\"1979\",\"type\":\"BasicTickFormatter\"},{\"attributes\":{\"line_alpha\":{\"value\":0.1},\"line_color\":{\"value\":\"#bbbbbb\"},\"x0\":{\"field\":\"index\"},\"x1\":{\"field\":\"index\"},\"y0\":{\"field\":\"High\"},\"y1\":{\"field\":\"Low\"}},\"id\":\"1856\",\"type\":\"Segment\"},{\"attributes\":{},\"id\":\"1734\",\"type\":\"UnionRenderers\"},{\"attributes\":{\"source\":{\"id\":\"1853\"}},\"id\":\"1858\",\"type\":\"CDSView\"},{\"attributes\":{\"bottom\":{\"field\":\"Close\"},\"fill_alpha\":{\"value\":0.1},\"fill_color\":{\"field\":\"inc\",\"transform\":{\"id\":\"1859\"}},\"line_alpha\":{\"value\":0.1},\"line_color\":{\"value\":null},\"top\":{\"field\":\"Open\"},\"width\":{\"field\":\"_width\"},\"x\":{\"field\":\"index\"}},\"id\":\"1862\",\"type\":\"VBar\"},{\"attributes\":{\"text\":\"\"},\"id\":\"1881\",\"type\":\"Title\"},{\"attributes\":{\"data\":{},\"selected\":{\"id\":\"1733\"},\"selection_policy\":{\"id\":\"1734\"}},\"id\":\"1719\",\"type\":\"ColumnDataSource\"},{\"attributes\":{\"label\":{\"value\":\"Max Dd Dur. (6 days)\"},\"renderers\":[{\"id\":\"1783\"}]},\"id\":\"1803\",\"type\":\"LegendItem\"},{\"attributes\":{\"source\":{\"id\":\"1664\"}},\"id\":\"1714\",\"type\":\"CDSView\"},{\"attributes\":{\"line_alpha\":0.1,\"line_color\":\"#1f77b4\",\"line_width\":1.5,\"x\":{\"field\":\"index\"},\"y\":{\"field\":\"equity\"}},\"id\":\"1712\",\"type\":\"Line\"},{\"attributes\":{\"fill_alpha\":0.1,\"fill_color\":\"#ffffea\",\"line_alpha\":0.1,\"line_color\":\"#ffcb66\",\"x\":{\"field\":\"index\"},\"y\":{\"field\":\"equity_dd\"}},\"id\":\"1707\",\"type\":\"Patch\"},{\"attributes\":{\"source\":{\"id\":\"1704\"}},\"id\":\"1709\",\"type\":\"CDSView\"},{\"attributes\":{\"line_color\":\"#1f77b4\",\"line_width\":1.5,\"x\":{\"field\":\"index\"},\"y\":{\"field\":\"equity\"}},\"id\":\"1711\",\"type\":\"Line\"},{\"attributes\":{\"format\":\"0,0.[00]%\"},\"id\":\"1717\",\"type\":\"NumeralTickFormatter\"},{\"attributes\":{},\"id\":\"1935\",\"type\":\"BasicTickFormatter\"},{\"attributes\":{\"bottom_units\":\"screen\",\"fill_alpha\":0.5,\"fill_color\":\"lightgrey\",\"left_units\":\"screen\",\"level\":\"overlay\",\"line_alpha\":1.0,\"line_color\":\"black\",\"line_dash\":[4,4],\"line_width\":2,\"right_units\":\"screen\",\"top_units\":\"screen\"},\"id\":\"1655\",\"type\":\"BoxAnnotation\"},{\"attributes\":{\"below\":[{\"id\":\"1902\"}],\"center\":[{\"id\":\"1905\"},{\"id\":\"1909\"},{\"id\":\"1940\"},{\"id\":\"1942\"}],\"left\":[{\"id\":\"1906\"}],\"min_border_bottom\":6,\"min_border_left\":0,\"min_border_right\":10,\"min_border_top\":3,\"outline_line_color\":\"#666666\",\"plot_height\":90,\"plot_width\":null,\"renderers\":[{\"id\":\"1929\"}],\"sizing_mode\":\"stretch_width\",\"title\":{\"id\":\"1932\"},\"toolbar\":{\"id\":\"1918\"},\"toolbar_location\":null,\"x_range\":{\"id\":\"1631\"},\"x_scale\":{\"id\":\"1898\"},\"y_range\":{\"id\":\"1896\"},\"y_scale\":{\"id\":\"1900\"}},\"id\":\"1894\",\"subtype\":\"Figure\",\"type\":\"Plot\"},{\"attributes\":{\"data_source\":{\"id\":\"1704\"},\"glyph\":{\"id\":\"1706\"},\"hover_glyph\":null,\"muted_glyph\":null,\"nonselection_glyph\":{\"id\":\"1707\"},\"selection_glyph\":null,\"view\":{\"id\":\"1709\"}},\"id\":\"1708\",\"type\":\"GlyphRenderer\"},{\"attributes\":{\"below\":[{\"id\":\"1640\"}],\"center\":[{\"id\":\"1643\"},{\"id\":\"1647\"},{\"id\":\"1892\"}],\"left\":[{\"id\":\"1644\"}],\"min_border_bottom\":6,\"min_border_left\":0,\"min_border_right\":10,\"min_border_top\":3,\"outline_line_color\":\"#666666\",\"plot_height\":400,\"plot_width\":null,\"renderers\":[{\"id\":\"1857\"},{\"id\":\"1863\"},{\"id\":\"1868\"},{\"id\":\"1873\"},{\"id\":\"1878\"}],\"sizing_mode\":\"stretch_width\",\"title\":{\"id\":\"1881\"},\"toolbar\":{\"id\":\"1656\"},\"toolbar_location\":null,\"x_range\":{\"id\":\"1631\"},\"x_scale\":{\"id\":\"1636\"},\"y_range\":{\"id\":\"1634\"},\"y_scale\":{\"id\":\"1638\"}},\"id\":\"1632\",\"subtype\":\"Figure\",\"type\":\"Plot\"},{\"attributes\":{},\"id\":\"1933\",\"type\":\"BasicTickFormatter\"},{\"attributes\":{},\"id\":\"1651\",\"type\":\"UndoTool\"},{\"attributes\":{\"label\":{\"value\":\"Signal\"},\"renderers\":[{\"id\":\"1929\"}]},\"id\":\"1941\",\"type\":\"LegendItem\"},{\"attributes\":{\"border_line_color\":\"#333333\",\"click_policy\":\"hide\",\"glyph_width\":0,\"items\":[{\"id\":\"1941\"}],\"label_text_font_size\":\"8pt\",\"location\":\"top_left\",\"margin\":0,\"padding\":5,\"spacing\":0},\"id\":\"1940\",\"type\":\"Legend\"},{\"attributes\":{\"text\":\"\"},\"id\":\"1932\",\"type\":\"Title\"},{\"attributes\":{},\"id\":\"1889\",\"type\":\"Selection\"},{\"attributes\":{\"days\":[\"%d %b\",\"%a %d\"],\"months\":[\"%m/%Y\",\"%b'%y\"]},\"id\":\"1669\",\"type\":\"DatetimeTickFormatter\"},{\"attributes\":{\"factors\":[\"0\",\"1\"],\"palette\":[\"tomato\",\"lime\"]},\"id\":\"1667\",\"type\":\"CategoricalColorMapper\"},{\"attributes\":{\"bounds\":[-5.0,105.0],\"end\":100,\"js_property_callbacks\":{\"change:end\":[{\"id\":\"1947\"}]},\"min_interval\":10},\"id\":\"1631\",\"type\":\"Range1d\"},{\"attributes\":{},\"id\":\"1914\",\"type\":\"RedoTool\"},{\"attributes\":{\"data\":{\"datetime\":{\"__ndarray__\":\"AAAACLd0d0IAAMAy5nh3QgAAAPsme3dCAAAAwAN/d0IAAAAcKoR3QgAAQAVuj3dCAABAJnGYd0I=\",\"dtype\":\"float64\",\"order\":\"little\",\"shape\":[7]},\"exit_price\":{\"__ndarray__\":\"AAAAQDOtmUAAAAAAAIyZQAAAAEAzxZhAAAAAwMwwl0AAAABgZkqYQAAAAMDMwJpAAAAAYGbwm0A=\",\"dtype\":\"float64\",\"order\":\"little\",\"shape\":[7]},\"index\":[18,27,32,39,50,75,94],\"marker_size\":{\"__ndarray__\":\"AAAAAAAAIECKndiJndghQJ7YiZ3YiSVA2Ymd2ImdKEAAAAAAAAAwQJ7YiZ3YiTFAAAAAAAAANEA=\",\"dtype\":\"float64\",\"order\":\"little\",\"shape\":[7]},\"position_lines_xs\":[[14,18],[19,27],[29,32],[34,39],[42,50],[58,75],[81,94]],\"position_lines_ys\":[[1729.056,1643.300048828125],[1721.586,1635.0],[1664.316,1585.300048828125],[1609.9344243164062,1484.199951171875],[1488.43,1554.5999755859375],[1462.5267509765624,1712.199951171875],[1564.232,1788.0999755859375]],\"returns_long\":{\"__ndarray__\":\"AAAAAAAA+H8AAAAAAAD4fwAAAAAAAPh/AAAAAAAA+H+AbWNN98KmP6DO227x2cU/aG9RQadRwj8=\",\"dtype\":\"float64\",\"order\":\"little\",\"shape\":[7]},\"returns_positive\":[\"1\",\"1\",\"1\",\"1\",\"1\",\"1\",\"1\"],\"returns_short\":{\"__ndarray__\":\"wFzqZsZkqT9ggyllLcCpP0CaIA3YTqg/6AqF7E3+sz8AAAAAAAD4fwAAAAAAAPh/AAAAAAAA+H8=\",\"dtype\":\"float64\",\"order\":\"little\",\"shape\":[7]},\"size\":[-57,-60,-66,-71,83,88,96]},\"selected\":{\"id\":\"1889\"},\"selection_policy\":{\"id\":\"1890\"}},\"id\":\"1665\",\"type\":\"ColumnDataSource\"},{\"attributes\":{\"line_color\":{\"value\":\"#bbbbbb\"},\"x0\":{\"field\":\"index\"},\"x1\":{\"field\":\"index\"},\"y0\":{\"field\":\"High\"},\"y1\":{\"field\":\"Low\"}},\"id\":\"1855\",\"type\":\"Segment\"},{\"attributes\":{},\"id\":\"1890\",\"type\":\"UnionRenderers\"},{\"attributes\":{\"data\":{\"Close\":{\"__ndarray__\":\"AAAAoJnhnEAAAACgmeecQAAAAEAzjZxAAAAAQDONnEAAAADAzIabQAAAAEAz85pAAAAAoJkjm0AAAAAAAKKaQAAAAEAz/ZlAAAAAYGY2mkAAAAAAALyZQAAAAGBmdppAAAAAYGaAmkAAAADAzP6aQAAAAAAAIJtAAAAAYGaomkAAAABAM7GZQAAAAMDMIJpAAAAAQDOtmUAAAAAAAAKbQAAAAEAzq5pAAAAAwMyamkAAAACgmd+ZQAAAAGBmFppAAAAAQDNHmkAAAAAAABSaQAAAAEAzy5lAAAAAAACMmUAAAABAM7GZQAAAAAAAHJpAAAAAQDPhmUAAAAAAAOaYQAAAAEAzxZhAAAAAQDP3mEAAAACgmUGZQAAAAEAzi5hAAAAAwMzIl0AAAAAAAD6XQAAAAGBmYJdAAAAAwMwwl0AAAADAzHqXQAAAAMDMYpdAAAAAAAAql0AAAABAM/WXQAAAAMDMgJdAAAAAAAAAmEAAAAAAAMKXQAAAAGBmxJdAAAAAAADel0AAAACgmfGXQAAAAGBmSphAAAAAAAA8mEAAAADAzCaYQAAAAAAABJhAAAAAQDOvl0AAAABAM1WXQAAAAAAADpdAAAAAYGYml0AAAADAzMKWQAAAAMDMKJdAAAAAYGaEl0AAAABAM5uXQAAAAAAAWpdAAAAAAADwl0AAAABgZsqXQAAAAAAA4JdAAAAAAAAgmEAAAABgZiyYQAAAAKCZrZhAAAAAoJlVmEAAAABAMxWZQAAAAKCZiZlAAAAAwMz4mUAAAADAzHiaQAAAAAAAXppAAAAAwMzAmkAAAAAAAEaaQAAAAGBmKppAAAAAAAB0mUAAAABAMw+ZQAAAAAAAvJhAAAAAAABYmEAAAAAAACSZQAAAAGBmjplAAAAAoJmjmUAAAACgmfuZQAAAAEAzSZpAAAAAAABImkAAAAAAAFCaQAAAAGBmsplAAAAAAAAMmkAAAADAzNaaQAAAAAAAZJtAAAAAAACym0AAAABgZvCbQAAAAAAAsJtAAAAAYGbam0AAAABgZqSbQAAAAGBm0JtAAAAAoJkBnEAAAABgZoSbQA==\",\"dtype\":\"float64\",\"order\":\"little\",\"shape\":[101]},\"High\":{\"__ndarray__\":\"AAAAAADsnEAAAABAMzedQAAAAMDMAJ1AAAAAQDONnEAAAADAzDScQAAAAKCZ45tAAAAAYGZCm0AAAADAzBCbQAAAAAAArJpAAAAAAACMmkAAAACgmYeaQAAAAAAAgJpAAAAAAAAEm0AAAABgZhibQAAAAAAAbJtAAAAAAABsm0AAAAAAAMSaQAAAAAAAUJpAAAAAAABwmkAAAAAAAMibQAAAAKCZL5tAAAAAAACemkAAAABAM5maQAAAAMDMRJpAAAAAoJllmkAAAAAAAGyaQAAAAAAANJpAAAAAAADemUAAAACgmbOZQAAAAEAzH5pAAAAAYGYwmkAAAAAAAMyZQAAAAMDMTJlAAAAAwMwSmUAAAAAAAGCZQAAAAAAAHJlAAAAAAADAmEAAAACgmdeXQAAAAAAAYpdAAAAAYGZgl0AAAAAAAICXQAAAAAAAmJdAAAAAAACUl0AAAAAAAA6YQAAAAMDMZJhAAAAAAABMmEAAAABgZh6YQAAAAGBmDJhAAAAAAAAAmEAAAABAMwOYQAAAAAAAVphAAAAAwMx+mEAAAAAAAFaYQAAAAMDMMphAAAAAYGb4l0AAAAAAALiXQAAAAGBmjJdAAAAAYGZsl0AAAAAAADaXQAAAAAAAMJdAAAAAAACgl0AAAADAzKCXQAAAAEAzl5dAAAAAoJkNmEAAAABgZh6YQAAAAGBmDJhAAAAAQDNLmEAAAAAAAFyYQAAAAMDMzphAAAAAQDO7mEAAAACgmTOZQAAAAAAAsJlAAAAAQDNfmkAAAAAAAICaQAAAAAAAxJpAAAAAAAAIm0AAAABAM7eaQAAAAEAzk5pAAAAAwMwqmkAAAACgmX+ZQAAAAAAAgJlAAAAAAADQmEAAAAAAAFyZQAAAAGBmmJlAAAAAAADCmUAAAAAAAFSaQAAAAAAAqJpAAAAAAABWmkAAAAAAAMSaQAAAAEAzaZpAAAAAQDMjmkAAAACgmfOaQAAAAAAAiptAAAAAQDPtm0AAAAAAAAicQAAAAAAAJpxAAAAAAAAYnEAAAAAAAAicQAAAAAAAFpxAAAAAAAA8nEAAAACgmRucQA==\",\"dtype\":\"float64\",\"order\":\"little\",\"shape\":[101]},\"Low\":{\"__ndarray__\":\"AAAAQDNZm0AAAAAAABicQAAAAAAAYJxAAAAAQDONnEAAAABAM2WbQAAAAAAApJpAAAAAYGbEmkAAAABAM5eaQAAAAMDM4JlAAAAAAAAamkAAAAAAALSZQAAAAAAA9JlAAAAAYGZumkAAAAAAADCaQAAAAAAApJpAAAAAQDOHmkAAAAAAAIyZQAAAAAAASJlAAAAAAACImUAAAACgmSOaQAAAAMDMdJpAAAAAwMyKmkAAAABgZqCZQAAAAKCZ1ZlAAAAAoJkdmkAAAADAzOCZQAAAAAAAtJlAAAAAYGZ8mUAAAAAAACaZQAAAAEAzqZlAAAAAwMyomUAAAAAAAOSYQAAAAAAAcJhAAAAAwMzsmEAAAAAAAJyYQAAAAAAAaJhAAAAAAAC0l0AAAAAAACiXQAAAAAAAUpdAAAAAoJnvlkAAAAAAAFKXQAAAAGBm5JZAAAAAQDPxlkAAAABAM3GXQAAAAMDMfJdAAAAAYGayl0AAAABAM4WXQAAAAKCZn5dAAAAAAAC4l0AAAADAzKSXQAAAAEAzC5hAAAAAwMwcmEAAAAAAAOyXQAAAAGBm8JdAAAAAYGaEl0AAAAAAADyXQAAAAAAA8JZAAAAAwMwQl0AAAAAAAJaWQAAAAAAAqJZAAAAAYGYwl0AAAABgZnaXQAAAAAAAQJdAAAAAQDNhl0AAAAAAALSXQAAAAAAAmpdAAAAAwMy2l0AAAABgZviXQAAAAAAA/JdAAAAAAAAqmEAAAABgZn6YQAAAAAAAyJhAAAAAwMx4mUAAAAAAAASaQAAAAMDMIJpAAAAAwMxsmkAAAADAzCiaQAAAAAAA3JlAAAAAAABQmUAAAABgZvKYQAAAAEAznZhAAAAAoJlBmEAAAACgmbmYQAAAAEAzF5lAAAAAAAC4mEAAAADAzH6ZQAAAAAAAIJpAAAAAQDO1mUAAAABgZhiaQAAAAEAzZ5lAAAAAAADGmUAAAADAzFSaQAAAAKCZ85pAAAAAoJnNmkAAAACgmWubQAAAAGBmkptAAAAAwMzGm0AAAAAAAGSbQAAAAAAAyJtAAAAAwMy6m0AAAADAzCibQA==\",\"dtype\":\"float64\",\"order\":\"little\",\"shape\":[101]},\"Open\":{\"__ndarray__\":\"AAAAAAB0m0AAAABAM4WcQAAAAAAA1JxAAAAAQDONnEAAAAAAAOSbQAAAAEAz25tAAAAAAAAwm0AAAACgmQebQAAAAAAArJpAAAAAAAA4mkAAAABAM2eaQAAAAAAAFJpAAAAAwMy4mkAAAACgmWWaQAAAAEAz2ZpAAAAAQDPZmkAAAACgmbeaQAAAAAAAsJlAAAAAwMwAmkAAAAAAAGqaQAAAAKCZL5tAAAAAwMyKmkAAAAAAAHyaQAAAAKCZDZpAAAAAAAA0mkAAAAAAAGyaQAAAAGBmHJpAAAAAAADemUAAAABAM5OZQAAAAAAAzJlAAAAAQDMdmkAAAAAAAMSZQAAAAGBmTJlAAAAAwMwSmUAAAAAAADCZQAAAAAAAFJlAAAAAoJm/mEAAAADAzKCXQAAAAAAAUpdAAAAAYGZgl0AAAAAAAFKXQAAAAAAAtJdAAAAAQDMbl0AAAAAAAISXQAAAAAAAAJhAAAAAYGbKl0AAAABAMwGYQAAAAAAA2JdAAAAAAADol0AAAAAAAOiXQAAAAEAzC5hAAAAAYGZAmEAAAABgZiKYQAAAAAAAEJhAAAAAwMzsl0AAAAAAALiXQAAAAAAAcJdAAAAAQDMll0AAAABgZiaXQAAAAEAz2ZZAAAAAYGYwl0AAAAAAAISXQAAAAEAzl5dAAAAAYGZql0AAAAAAAAaYQAAAAAAA1JdAAAAAAADMl0AAAAAAADKYQAAAAAAAJJhAAAAAYGa6mEAAAABgZn6YQAAAAAAAIplAAAAAwMx4mUAAAABAMw2aQAAAAAAAkJpAAAAAAACQmkAAAABgZqSaQAAAAGBmQJpAAAAAYGYomkAAAACgmX+ZQAAAAAAAcJlAAAAAAACwmEAAAACgmdeYQAAAAAAAOJlAAAAAoJnTmEAAAADAzH6ZQAAAAAAAIJpAAAAAAAAUmkAAAAAAAFSaQAAAAAAARJpAAAAAAAD4mUAAAABAM3+aQAAAAAAA/JpAAAAAAABwm0AAAAAAAHSbQAAAAAAABJxAAAAAQDPzm0AAAAAAAAicQAAAAAAAEJxAAAAAoJnLm0AAAADAzPabQA==\",\"dtype\":\"float64\",\"order\":\"little\",\"shape\":[101]},\"Signal_0_1\":{\"__ndarray__\":\"AAAAAAAAAAAAAAAAAAAAAAAAAAAAAAAAAAAAAAAAAAAAAAAAAAAAAAAAAAAAAAAAAAAAAAAAAAAAAAAAAAAAAAAAAAAAAAAAAAAAAAAAAAAAAAAAAAAAAAAAAAAAAAAAAAAAAAAAAAAAAAAAAAAAAAAAAAAAAPC/AAAAAAAAAAAAAAAAAAAAAAAAAAAAAAAAAAAAAAAA8D8AAAAAAADwvwAAAAAAAAAAAAAAAAAAAAAAAAAAAAAAAAAAAAAAAAAAAAAAAAAA8L8AAAAAAAAAAAAAAAAAAAAAAAAAAAAA8D8AAAAAAAAAAAAAAAAAAPC/AAAAAAAAAAAAAAAAAAAAAAAAAAAAAPA/AAAAAAAAAAAAAAAAAADwvwAAAAAAAAAAAAAAAAAAAAAAAAAAAAAAAAAAAAAAAAAAAAAAAAAA8D8AAAAAAAAAAAAAAAAAAAAAAAAAAAAA8D8AAAAAAAAAAAAAAAAAAAAAAAAAAAAAAAAAAAAAAAAAAAAAAAAAAAAAAAAAAAAAAAAAAAAAAAAAAAAAAAAAAPC/AAAAAAAAAAAAAAAAAAAAAAAAAAAAAAAAAAAAAAAAAAAAAAAAAAAAAAAAAAAAAAAAAAAAAAAAAAAAAAAAAADwPwAAAAAAAAAAAAAAAAAAAAAAAAAAAAAAAAAAAAAAAPA/AAAAAAAAAAAAAAAAAAAAAAAAAAAAAAAAAAAAAAAAAAAAAAAAAAAAAAAAAAAAAAAAAAAAAAAAAAAAAAAAAAAAAAAAAAAAAAAAAAAAAAAAAAAAAAAAAAAAAAAAAAAAAAAAAAAAAAAA8L8AAAAAAAAAAAAAAAAAAAAAAAAAAAAAAAAAAAAAAAAAAAAAAAAAAAAAAAAAAAAA8D8AAAAAAAAAAAAAAAAAAAAAAAAAAAAAAAAAAAAAAAAAAAAAAAAAAAAAAAAAAAAAAAAAAAAAAAAAAAAAAAAAAAAAAAAAAAAAAAAAAAAAAAAAAAAAAAAAAAAAAAAAAAAAAAAAAAAAAADwvwAAAAAAAAAAAAAAAAAAAAAAAAAAAAAAAAAAAAAAAAAAAAAAAAAAAAAAAAAAAAAAAA==\",\"dtype\":\"float64\",\"order\":\"little\",\"shape\":[101]},\"Volume\":{\"__ndarray__\":\"AAAAAAAA+H8AAAAAAAD4fwAAAAAAAPh/AAAAAAAA+H8AAAAAAAD4fwAAAAAAAPh/AAAAAAAA+H8AAAAAAAD4fwAAAAAAAPh/AAAAAAAA+H8AAAAAAAD4fwAAAAAAAPh/AAAAAAAA+H8AAAAAAAD4fwAAAAAAAPh/AAAAAAAA+H8AAAAAAAD4fwAAAAAAAPh/AAAAAAAA+H8AAAAAAAD4fwAAAAAAAPh/AAAAAAAA+H8AAAAAAAD4fwAAAAAAAPh/AAAAAAAA+H8AAAAAAAD4fwAAAAAAAPh/AAAAAAAA+H8AAAAAAAD4fwAAAAAAAPh/AAAAAAAA+H8AAAAAAAD4fwAAAAAAAPh/AAAAAAAA+H8AAAAAAAD4fwAAAAAAAPh/AAAAAAAA+H8AAAAAAAD4fwAAAAAAAPh/AAAAAAAA+H8AAAAAAAD4fwAAAAAAAPh/AAAAAAAA+H8AAAAAAAD4fwAAAAAAAPh/AAAAAAAA+H8AAAAAAAD4fwAAAAAAAPh/AAAAAAAA+H8AAAAAAAD4fwAAAAAAAPh/AAAAAAAA+H8AAAAAAAD4fwAAAAAAAPh/AAAAAAAA+H8AAAAAAAD4fwAAAAAAAPh/AAAAAAAA+H8AAAAAAAD4fwAAAAAAAPh/AAAAAAAA+H8AAAAAAAD4fwAAAAAAAPh/AAAAAAAA+H8AAAAAAAD4fwAAAAAAAPh/AAAAAAAA+H8AAAAAAAD4fwAAAAAAAPh/AAAAAAAA+H8AAAAAAAD4fwAAAAAAAPh/AAAAAAAA+H8AAAAAAAD4fwAAAAAAAPh/AAAAAAAA+H8AAAAAAAD4fwAAAAAAAPh/AAAAAAAA+H8AAAAAAAD4fwAAAAAAAPh/AAAAAAAA+H8AAAAAAAD4fwAAAAAAAPh/AAAAAAAA+H8AAAAAAAD4fwAAAAAAAPh/AAAAAAAA+H8AAAAAAAD4fwAAAAAAAPh/AAAAAAAA+H8AAAAAAAD4fwAAAAAAAPh/AAAAAAAA+H8AAAAAAAD4fwAAAAAAAPh/AAAAAAAA+H8AAAAAAAD4fwAAAAAAAPh/AAAAAAAA+H8AAAAAAAD4fw==\",\"dtype\":\"float64\",\"order\":\"little\",\"shape\":[101]},\"datetime\":{\"__ndarray__\":\"AABAGKtsd0IAAAB+/Wx3QgAAwONPbXdCAABAr/Rtd0IAAIDg6253QgAAQEY+b3dCAAAArJBvd0IAAMAR4293QgAAgHc1cHdCAADAqCxxd0IAAIAOf3F3QgAAQHTRcXdCAAAA2iNyd0IAAMA/dnJ3QgAAAHFtc3dCAADA1r9zd0IAAIA8EnR3QgAAQKJkdHdCAAAACLd0d0IAAEA5rnV3QgAAAJ8AdndCAADABFN2d0IAAIBqpXZ3QgAAQND3dndCAACAAe93d0IAAEBnQXh3QgAAAM2TeHdCAADAMuZ4d0IAAICYOHl3QgAAwMkvendCAACAL4J6d0IAAECV1Hp3QgAAAPsme3dCAADAYHl7d0IAAACScHx3QgAAgF0VfXdCAABAw2d9d0IAAAApun13QgAAQFqxfndCAAAAwAN/d0IAAMAlVn93QgAAgIuof3dCAABA8fp/d0IAAECIRIF3QgAAAO6WgXdCAADAU+mBd0IAAIC5O4J3QgAAwOoyg3dCAACAUIWDd0IAAEC214N3QgAAABwqhHdCAADAgXyEd0IAAACzc4V3QgAAwBjGhXdCAACAfhiGd0IAAEDkaoZ3QgAAAEq9hndCAABAe7SHd0IAAADhBoh3QgAAwEZZiHdCAACArKuId0IAAEAS/oh3QgAAgEP1iXdCAABAqUeKd0IAAAAPmop3QgAAwHTsindCAACA2j6Ld0IAAMALNox3QgAAgHGIjHdCAABA19qMd0IAAAA9LY13QgAAwKJ/jXdCAAAA1HaOd0IAAMA5yY53QgAAgJ8bj3dCAABABW6Pd0IAAABrwI93QgAAQJy3kHdCAAAAAgqRd0IAAMBnXJF3QgAAgM2ukXdCAABAMwGSd0IAAEDKSpN3QgAAADCdk3dCAADAle+Td0IAAID7QZR3QgAAwCw5lXdCAACAkouVd0IAAED43ZV3QgAAAF4wlndCAADAw4KWd0IAAAD1eZd3QgAAwFrMl3dCAACAwB6Yd0IAAEAmcZh3QgAAAIzDmHdCAABAvbqZd0IAAAAjDZp3QgAAwIhfmndCAACA7rGad0IAAEBUBJt3Qg==\",\"dtype\":\"float64\",\"order\":\"little\",\"shape\":[101]},\"equity\":{\"__ndarray__\":\"AAAAAAAA8D8AAAAAAADwPwAAAAAAAPA/AAAAAAAA8D8AAAAAAADwPwAAAAAAAPA/AAAAAAAA8D8AAAAAAADwPwAAAAAAAPA/AAAAAAAA8D8AAAAAAADwPwAAAAAAAPA/AAAAAAAA8D8AAAAAAADwPwAAAAAAAPA/b9UzjJg18D+hbl6k4cXwP9IaQTK+hPA/8iuUVDfI8D/yK5RUN8jwP4O3tNiN7PA/7QSoZ6H28D8D3nZfpWnxP/1c4Rv6R/E/wMGLfP4p8T/xWraUc0nxP+MLBwAudvE/B8UDiAKd8T8HxQOIAp3xPwfFA4gCnfE/fgRADa6y8T8hXa52c1zyP9Pdt1KecvI/0923Up5y8j/T3bdSnnLyP1sWAm9t5PI/sBF3q8Nx8z+cDH1mrdbzPxVIP9CqvfM/CGgRQEbg8z8IaBFARuDzPwhoEUBG4PM/CGgRQEbg8z9Z+Qp30Xj0P21Vtx/jFfQ/UFIFSP+B9D/mHOFZTU30P7wETIVXT/Q/9fLgkxll9D/iV1EownX0P7ipJi07wfQ/uKkmLTvB9D+4qSYtO8H0P7ipJi07wfQ/uKkmLTvB9D+4qSYtO8H0P7ipJi07wfQ/uKkmLTvB9D+4qSYtO8H0P7MHe48kCPU/5ZuOfK9a9T8NGhs2O2/1P7QCZGR6NPU/bkxwZqW79T/mV5SOw5n1PxYwomk6rfU/d6HaXObm9T+CxQLbEvL1PzxO8p9/ZvY/V7KEMTMX9j+vd6DK2sP2P/hTBLS+LPc/MgO2//KQ9z/z5SbmSgT4P1HaPIok7Pc/gGXGVyxF+D+AZcZXLEX4P4BlxlcsRfg/gGXGVyxF+D+AZcZXLEX4P4BlxlcsRfg/gGXGVyxF+D91iIdJNfX4P87ZCrPNXfk/hLU556Ry+T+VXw7UJsn5P6W3R4hvFfo/IjFJfkEU+j9phlzCHhz6P4/ZYWUxgfk/izG4/0XZ+T+jqaY9oqD6P4eE925wK/s//gO0xh14+z9PAM05dbX7P08AzTl1tfs/TwDNOXW1+z9PAM05dbX7P08AzTl1tfs/TwDNOXW1+z9PAM05dbX7Pw==\",\"dtype\":\"float64\",\"order\":\"little\",\"shape\":[101]},\"inc\":[\"1\",\"1\",\"0\",\"1\",\"0\",\"0\",\"0\",\"0\",\"0\",\"0\",\"0\",\"1\",\"0\",\"1\",\"1\",\"0\",\"0\",\"1\",\"0\",\"1\",\"0\",\"1\",\"0\",\"1\",\"1\",\"0\",\"0\",\"0\",\"1\",\"1\",\"0\",\"0\",\"0\",\"0\",\"1\",\"0\",\"0\",\"0\",\"1\",\"0\",\"1\",\"0\",\"1\",\"1\",\"0\",\"1\",\"0\",\"0\",\"0\",\"1\",\"1\",\"0\",\"1\",\"0\",\"0\",\"0\",\"0\",\"1\",\"0\",\"1\",\"1\",\"1\",\"0\",\"1\",\"0\",\"1\",\"1\",\"0\",\"1\",\"0\",\"1\",\"1\",\"1\",\"1\",\"0\",\"1\",\"0\",\"0\",\"0\",\"0\",\"0\",\"0\",\"1\",\"1\",\"1\",\"1\",\"1\",\"1\",\"0\",\"0\",\"1\",\"1\",\"1\",\"1\",\"1\",\"0\",\"0\",\"0\",\"0\",\"1\",\"0\"],\"index\":[0,1,2,3,4,5,6,7,8,9,10,11,12,13,14,15,16,17,18,19,20,21,22,23,24,25,26,27,28,29,30,31,32,33,34,35,36,37,38,39,40,41,42,43,44,45,46,47,48,49,50,51,52,53,54,55,56,57,58,59,60,61,62,63,64,65,66,67,68,69,70,71,72,73,74,75,76,77,78,79,80,81,82,83,84,85,86,87,88,89,90,91,92,93,94,95,96,97,98,99,100],\"ohlc_high\":{\"__ndarray__\":\"AAAAAADsnEAAAABAMzedQAAAAMDMAJ1AAAAAQDONnEAAAADAzDScQAAAAKCZ45tAAAAAYGZCm0AAAADAzBCbQAAAAAAArJpAAAAAAACMmkAAAACgmYeaQAAAAAAAgJpAAAAAAAAEm0AAAABgZhibQAAAAAAAbJtAAAAAAABsm0AAAAAAAMSaQAAAAAAAUJpAAAAAAABwmkAAAAAAAMibQAAAAKCZL5tAAAAAAACemkAAAABAM5maQAAAAMDMRJpAAAAAoJllmkAAAAAAAGyaQAAAAAAANJpAAAAAAADemUAAAACgmbOZQAAAAEAzH5pAAAAAYGYwmkAAAAAAAMyZQAAAAMDMTJlAAAAAwMwSmUAAAAAAAGCZQAAAAAAAHJlAAAAAAADAmEAAAACgmdeXQAAAAAAAYpdAAAAAYGZgl0AAAAAAAICXQAAAAAAAmJdAAAAAAACUl0AAAAAAAA6YQAAAAMDMZJhAAAAAAABMmEAAAABgZh6YQAAAAGBmDJhAAAAAAAAAmEAAAABAMwOYQAAAAAAAVphAAAAAwMx+mEAAAAAAAFaYQAAAAMDMMphAAAAAYGb4l0AAAAAAALiXQAAAAGBmjJdAAAAAYGZsl0AAAAAAADaXQAAAAAAAMJdAAAAAAACgl0AAAADAzKCXQAAAAEAzl5dAAAAAoJkNmEAAAABgZh6YQAAAAGBmDJhAAAAAQDNLmEAAAAAAAFyYQAAAAMDMzphAAAAAQDO7mEAAAACgmTOZQAAAAAAAsJlAAAAAQDNfmkAAAAAAAICaQAAAAAAAxJpAAAAAAAAIm0AAAABAM7eaQAAAAEAzk5pAAAAAwMwqmkAAAACgmX+ZQAAAAAAAgJlAAAAAAADQmEAAAAAAAFyZQAAAAGBmmJlAAAAAAADCmUAAAAAAAFSaQAAAAAAAqJpAAAAAAABWmkAAAAAAAMSaQAAAAEAzaZpAAAAAQDMjmkAAAACgmfOaQAAAAAAAiptAAAAAQDPtm0AAAAAAAAicQAAAAAAAJpxAAAAAAAAYnEAAAAAAAAicQAAAAAAAFpxAAAAAAAA8nEAAAACgmRucQA==\",\"dtype\":\"float64\",\"order\":\"little\",\"shape\":[101]},\"ohlc_low\":{\"__ndarray__\":\"AAAAQDNZm0AAAAAAABicQAAAAAAAYJxAAAAAQDONnEAAAABAM2WbQAAAAAAApJpAAAAAYGbEmkAAAABAM5eaQAAAAMDM4JlAAAAAAAAamkAAAAAAALSZQAAAAAAA9JlAAAAAYGZumkAAAAAAADCaQAAAAAAApJpAAAAAQDOHmkAAAAAAAIyZQAAAAAAASJlAAAAAAACImUAAAACgmSOaQAAAAMDMdJpAAAAAwMyKmkAAAABgZqCZQAAAAKCZ1ZlAAAAAoJkdmkAAAADAzOCZQAAAAAAAtJlAAAAAYGZ8mUAAAAAAACaZQAAAAEAzqZlAAAAAwMyomUAAAAAAAOSYQAAAAAAAcJhAAAAAwMzsmEAAAAAAAJyYQAAAAAAAaJhAAAAAAAC0l0AAAAAAACiXQAAAAAAAUpdAAAAAoJnvlkAAAAAAAFKXQAAAAGBm5JZAAAAAQDPxlkAAAABAM3GXQAAAAMDMfJdAAAAAYGayl0AAAABAM4WXQAAAAKCZn5dAAAAAAAC4l0AAAADAzKSXQAAAAEAzC5hAAAAAwMwcmEAAAAAAAOyXQAAAAGBm8JdAAAAAYGaEl0AAAAAAADyXQAAAAAAA8JZAAAAAwMwQl0AAAAAAAJaWQAAAAAAAqJZAAAAAYGYwl0AAAABgZnaXQAAAAAAAQJdAAAAAQDNhl0AAAAAAALSXQAAAAAAAmpdAAAAAwMy2l0AAAABgZviXQAAAAAAA/JdAAAAAAAAqmEAAAABgZn6YQAAAAAAAyJhAAAAAwMx4mUAAAAAAAASaQAAAAMDMIJpAAAAAwMxsmkAAAADAzCiaQAAAAAAA3JlAAAAAAABQmUAAAABgZvKYQAAAAEAznZhAAAAAoJlBmEAAAACgmbmYQAAAAEAzF5lAAAAAAAC4mEAAAADAzH6ZQAAAAAAAIJpAAAAAQDO1mUAAAABgZhiaQAAAAEAzZ5lAAAAAAADGmUAAAADAzFSaQAAAAKCZ85pAAAAAoJnNmkAAAACgmWubQAAAAGBmkptAAAAAwMzGm0AAAAAAAGSbQAAAAAAAyJtAAAAAwMy6m0AAAADAzCibQA==\",\"dtype\":\"float64\",\"order\":\"little\",\"shape\":[101]}},\"selected\":{\"id\":\"1731\"},\"selection_policy\":{\"id\":\"1732\"}},\"id\":\"1664\",\"type\":\"ColumnDataSource\"},{\"attributes\":{},\"id\":\"1896\",\"type\":\"DataRange1d\"},{\"attributes\":{\"dimensions\":\"width\"},\"id\":\"1910\",\"type\":\"PanTool\"},{\"attributes\":{\"factors\":[\"0\",\"1\"],\"palette\":[\"tomato\",\"lime\"]},\"id\":\"1666\",\"type\":\"CategoricalColorMapper\"},{\"attributes\":{\"data_source\":{\"id\":\"1664\"},\"glyph\":{\"id\":\"1927\"},\"hover_glyph\":null,\"muted_glyph\":null,\"nonselection_glyph\":{\"id\":\"1928\"},\"selection_glyph\":null,\"view\":{\"id\":\"1930\"}},\"id\":\"1929\",\"type\":\"GlyphRenderer\"},{\"attributes\":{\"factors\":[\"0\",\"1\"],\"palette\":[\"rgb(178, 27, 0)\",\"rgb(0, 178, 0)\"]},\"id\":\"1668\",\"type\":\"CategoricalColorMapper\"},{\"attributes\":{\"axis\":{\"id\":\"1906\"},\"dimension\":1,\"ticker\":null},\"id\":\"1909\",\"type\":\"Grid\"},{\"attributes\":{\"source\":{\"id\":\"1664\"}},\"id\":\"1930\",\"type\":\"CDSView\"},{\"attributes\":{},\"id\":\"1653\",\"type\":\"ResetTool\"},{\"attributes\":{\"args\":{\"axis\":{\"id\":\"1640\"},\"formatter\":{\"id\":\"1669\"},\"source\":{\"id\":\"1664\"}},\"code\":\"\\nthis.labels = this.labels || formatter.doFormat(ticks\\n                                                .map(i => source.data.datetime[i])\\n                                                .filter(t => t !== undefined));\\nreturn this.labels[index] || \\\"\\\";\\n        \"},\"id\":\"1670\",\"type\":\"FuncTickFormatter\"},{\"attributes\":{\"line_alpha\":0.1,\"line_color\":\"#1f77b4\",\"line_width\":1.3,\"x\":{\"field\":\"index\"},\"y\":{\"field\":\"Signal_0_1\"}},\"id\":\"1928\",\"type\":\"Line\"},{\"attributes\":{\"formatter\":{\"id\":\"1882\"},\"ticker\":{\"id\":\"1645\"}},\"id\":\"1644\",\"type\":\"LinearAxis\"},{\"attributes\":{},\"id\":\"1634\",\"type\":\"DataRange1d\"},{\"attributes\":{},\"id\":\"1681\",\"type\":\"BasicTicker\"},{\"attributes\":{},\"id\":\"1900\",\"type\":\"LinearScale\"},{\"attributes\":{},\"id\":\"1636\",\"type\":\"LinearScale\"},{\"attributes\":{},\"id\":\"1886\",\"type\":\"UnionRenderers\"},{\"attributes\":{},\"id\":\"1638\",\"type\":\"LinearScale\"},{\"attributes\":{},\"id\":\"1678\",\"type\":\"LinearScale\"},{\"attributes\":{},\"id\":\"1916\",\"type\":\"SaveTool\"},{\"attributes\":{\"formatter\":{\"id\":\"1935\"},\"ticker\":{\"id\":\"1903\"},\"visible\":false},\"id\":\"1902\",\"type\":\"LinearAxis\"},{\"attributes\":{},\"id\":\"1885\",\"type\":\"Selection\"},{\"attributes\":{\"axis\":{\"id\":\"1640\"},\"ticker\":null},\"id\":\"1643\",\"type\":\"Grid\"},{\"attributes\":{\"axis\":{\"id\":\"1644\"},\"dimension\":1,\"ticker\":null},\"id\":\"1647\",\"type\":\"Grid\"},{\"attributes\":{},\"id\":\"1645\",\"type\":\"BasicTicker\"},{\"attributes\":{},\"id\":\"1903\",\"type\":\"BasicTicker\"},{\"attributes\":{\"below\":[{\"id\":\"1680\"}],\"center\":[{\"id\":\"1683\"},{\"id\":\"1687\"},{\"id\":\"1736\"}],\"left\":[{\"id\":\"1684\"}],\"min_border_bottom\":6,\"min_border_left\":0,\"min_border_right\":10,\"min_border_top\":3,\"outline_line_color\":\"#666666\",\"plot_height\":110,\"plot_width\":null,\"renderers\":[{\"id\":\"1708\"},{\"id\":\"1713\"},{\"id\":\"1722\"},{\"id\":\"1741\"},{\"id\":\"1761\"},{\"id\":\"1783\"}],\"sizing_mode\":\"stretch_width\",\"title\":{\"id\":\"1725\"},\"toolbar\":{\"id\":\"1696\"},\"toolbar_location\":null,\"x_range\":{\"id\":\"1631\"},\"x_scale\":{\"id\":\"1676\"},\"y_range\":{\"id\":\"1674\"},\"y_scale\":{\"id\":\"1678\"}},\"id\":\"1672\",\"subtype\":\"Figure\",\"type\":\"Plot\"},{\"attributes\":{\"dimensions\":\"width\",\"maintain_focus\":false},\"id\":\"1649\",\"type\":\"WheelZoomTool\"},{\"attributes\":{\"formatter\":{\"id\":\"1727\"},\"ticker\":{\"id\":\"1681\"},\"visible\":false},\"id\":\"1680\",\"type\":\"LinearAxis\"},{\"attributes\":{\"dimensions\":\"width\"},\"id\":\"1648\",\"type\":\"PanTool\"},{\"attributes\":{},\"id\":\"1907\",\"type\":\"BasicTicker\"},{\"attributes\":{\"overlay\":{\"id\":\"1655\"}},\"id\":\"1650\",\"type\":\"BoxZoomTool\"},{\"attributes\":{\"args\":{\"ohlc_range\":{\"id\":\"1634\"},\"source\":{\"id\":\"1664\"}},\"code\":\"if (!window._bt_scale_range) {\\n    window._bt_scale_range = function (range, min, max, pad) {\\n        \\\"use strict\\\";\\n        if (min !== Infinity && max !== -Infinity) {\\n            pad = pad ? (max - min) * .03 : 0;\\n            range.start = min - pad;\\n            range.end = max + pad;\\n        } else console.error('backtesting: scale range error:', min, max, range);\\n    };\\n}\\n\\nclearTimeout(window._bt_autoscale_timeout);\\n\\nwindow._bt_autoscale_timeout = setTimeout(function () {\\n    /**\\n     * @variable cb_obj `fig_ohlc.x_range`.\\n     * @variable source `ColumnDataSource`\\n     * @variable ohlc_range `fig_ohlc.y_range`.\\n     * @variable volume_range `fig_volume.y_range`.\\n     */\\n    \\\"use strict\\\";\\n\\n    let i = Math.max(Math.floor(cb_obj.start), 0),\\n        j = Math.min(Math.ceil(cb_obj.end), source.data['ohlc_high'].length);\\n\\n    let max = Math.max.apply(null, source.data['ohlc_high'].slice(i, j)),\\n        min = Math.min.apply(null, source.data['ohlc_low'].slice(i, j));\\n    _bt_scale_range(ohlc_range, min, max, true);\\n\\n    if (volume_range) {\\n        max = Math.max.apply(null, source.data['Volume'].slice(i, j));\\n        _bt_scale_range(volume_range, 0, max * 1.03, false);\\n    }\\n\\n}, 50);\\n\"},\"id\":\"1947\",\"type\":\"CustomJS\"},{\"attributes\":{},\"id\":\"1777\",\"type\":\"UnionRenderers\"},{\"attributes\":{\"axis_label\":\"Equity\",\"formatter\":{\"id\":\"1717\"},\"minor_tick_line_color\":null,\"ticker\":{\"id\":\"1685\"}},\"id\":\"1684\",\"type\":\"LinearAxis\"},{\"attributes\":{\"active_drag\":{\"id\":\"1648\"},\"active_inspect\":\"auto\",\"active_multi\":null,\"active_scroll\":{\"id\":\"1649\"},\"active_tap\":\"auto\",\"tools\":[{\"id\":\"1648\"},{\"id\":\"1649\"},{\"id\":\"1650\"},{\"id\":\"1651\"},{\"id\":\"1652\"},{\"id\":\"1653\"},{\"id\":\"1654\"},{\"id\":\"1945\"},{\"id\":\"1948\"}]},\"id\":\"1656\",\"type\":\"Toolbar\"},{\"attributes\":{\"axis\":{\"id\":\"1902\"},\"ticker\":null},\"id\":\"1905\",\"type\":\"Grid\"},{\"attributes\":{},\"id\":\"1652\",\"type\":\"RedoTool\"},{\"attributes\":{},\"id\":\"1674\",\"type\":\"DataRange1d\"},{\"attributes\":{},\"id\":\"1654\",\"type\":\"SaveTool\"},{\"attributes\":{\"label\":{\"value\":\"Trades (7)\"},\"renderers\":[{\"id\":\"1878\"}]},\"id\":\"1893\",\"type\":\"LegendItem\"},{\"attributes\":{},\"id\":\"1641\",\"type\":\"BasicTicker\"},{\"attributes\":{\"line_color\":\"#1f77b4\",\"line_width\":1.3,\"x\":{\"field\":\"index\"},\"y\":{\"field\":\"Signal_0_1\"}},\"id\":\"1927\",\"type\":\"Line\"},{\"attributes\":{},\"id\":\"1676\",\"type\":\"LinearScale\"},{\"attributes\":{},\"id\":\"1913\",\"type\":\"UndoTool\"},{\"attributes\":{\"data\":{\"equity_dd\":{\"__ndarray__\":\"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\",\"dtype\":\"float64\",\"order\":\"little\",\"shape\":[202]},\"index\":[0,1,2,3,4,5,6,7,8,9,10,11,12,13,14,15,16,17,18,19,20,21,22,23,24,25,26,27,28,29,30,31,32,33,34,35,36,37,38,39,40,41,42,43,44,45,46,47,48,49,50,51,52,53,54,55,56,57,58,59,60,61,62,63,64,65,66,67,68,69,70,71,72,73,74,75,76,77,78,79,80,81,82,83,84,85,86,87,88,89,90,91,92,93,94,95,96,97,98,99,100,100,99,98,97,96,95,94,93,92,91,90,89,88,87,86,85,84,83,82,81,80,79,78,77,76,75,74,73,72,71,70,69,68,67,66,65,64,63,62,61,60,59,58,57,56,55,54,53,52,51,50,49,48,47,46,45,44,43,42,41,40,39,38,37,36,35,34,33,32,31,30,29,28,27,26,25,24,23,22,21,20,19,18,17,16,15,14,13,12,11,10,9,8,7,6,5,4,3,2,1,0]},\"selected\":{\"id\":\"1729\"},\"selection_policy\":{\"id\":\"1730\"}},\"id\":\"1704\",\"type\":\"ColumnDataSource\"},{\"attributes\":{\"axis\":{\"id\":\"1680\"},\"ticker\":null},\"id\":\"1683\",\"type\":\"Grid\"},{\"attributes\":{},\"id\":\"1948\",\"type\":\"CrosshairTool\"},{\"attributes\":{\"dimensions\":\"width\",\"maintain_focus\":false},\"id\":\"1911\",\"type\":\"WheelZoomTool\"},{\"attributes\":{\"formatter\":{\"id\":\"1933\"},\"minor_tick_line_color\":null,\"ticker\":{\"id\":\"1907\"}},\"id\":\"1906\",\"type\":\"LinearAxis\"},{\"attributes\":{\"dimensions\":\"width\"},\"id\":\"1688\",\"type\":\"PanTool\"},{\"attributes\":{},\"id\":\"1915\",\"type\":\"ResetTool\"},{\"attributes\":{\"overlay\":{\"id\":\"1917\"}},\"id\":\"1912\",\"type\":\"BoxZoomTool\"},{\"attributes\":{},\"id\":\"1898\",\"type\":\"LinearScale\"},{\"attributes\":{},\"id\":\"1685\",\"type\":\"BasicTicker\"}],\"root_ids\":[\"2013\"]},\"title\":\"Bokeh Application\",\"version\":\"2.2.3\"}};\n",
       "  var render_items = [{\"docid\":\"d7663aa8-faaf-4f48-9ff9-09b28fc8697a\",\"root_ids\":[\"2013\"],\"roots\":{\"2013\":\"b77c2b12-254b-484a-bcc0-24e728dc399f\"}}];\n",
       "  root.Bokeh.embed.embed_items_notebook(docs_json, render_items);\n",
       "\n",
       "  }\n",
       "  if (root.Bokeh !== undefined) {\n",
       "    embed_document(root);\n",
       "  } else {\n",
       "    var attempts = 0;\n",
       "    var timer = setInterval(function(root) {\n",
       "      if (root.Bokeh !== undefined) {\n",
       "        clearInterval(timer);\n",
       "        embed_document(root);\n",
       "      } else {\n",
       "        attempts++;\n",
       "        if (attempts > 100) {\n",
       "          clearInterval(timer);\n",
       "          console.log(\"Bokeh: ERROR: Unable to run BokehJS code because BokehJS library is missing\");\n",
       "        }\n",
       "      }\n",
       "    }, 10, root)\n",
       "  }\n",
       "})(window);"
      ],
      "application/vnd.bokehjs_exec.v0+json": ""
     },
     "metadata": {
      "application/vnd.bokehjs_exec.v0+json": {
       "id": "2013"
      }
     },
     "output_type": "display_data"
    }
   ],
   "source": [
    "# Стратегия Long & Short (подключен класс стратегии LnS)\n",
    "bt = Backtest(df_new, LnS, cash=100000, commission=.004, trade_on_close=True)\n",
    "stats = bt.run()\n",
    "bt.plot(plot_volume=True, relative_equity=True)"
   ]
  },
  {
   "cell_type": "code",
   "execution_count": 17,
   "metadata": {
    "colab": {
     "base_uri": "https://localhost:8080/"
    },
    "id": "d834d524-c908-406c-96a9-8f3726fbac0e",
    "outputId": "922fd0a1-e4b8-4688-a989-49004dff8f44"
   },
   "outputs": [
    {
     "data": {
      "text/plain": [
       "Start                     2021-01-04 00:00:00\n",
       "End                       2021-05-28 00:00:00\n",
       "Duration                    144 days 00:00:00\n",
       "Exposure Time [%]                     64.3564\n",
       "Equity Final [$]                       173180\n",
       "Equity Peak [$]                        173180\n",
       "Return [%]                            73.1801\n",
       "Buy & Hold Return [%]                -4.72301\n",
       "Return (Ann.) [%]                     293.608\n",
       "Volatility (Ann.) [%]                 71.7424\n",
       "Sharpe Ratio                          4.09254\n",
       "Sortino Ratio                         44.7257\n",
       "Calmar Ratio                          126.673\n",
       "Max. Drawdown [%]                    -2.31784\n",
       "Avg. Drawdown [%]                    -1.10179\n",
       "Max. Drawdown Duration        7 days 00:00:00\n",
       "Avg. Drawdown Duration        4 days 00:00:00\n",
       "# Trades                                    7\n",
       "Win Rate [%]                              100\n",
       "Best Trade [%]                        17.0714\n",
       "Worst Trade [%]                       4.44562\n",
       "Avg. Trade [%]                        8.23479\n",
       "Max. Trade Duration          23 days 00:00:00\n",
       "Avg. Trade Duration          12 days 00:00:00\n",
       "Profit Factor                             NaN\n",
       "Expectancy [%]                        8.33934\n",
       "SQN                                   3.53419\n",
       "_strategy                 Long_n_Short_Str...\n",
       "_equity_curve                             ...\n",
       "_trades                      Size  EntryBa...\n",
       "dtype: object"
      ]
     },
     "execution_count": 17,
     "metadata": {},
     "output_type": "execute_result"
    }
   ],
   "source": [
    "stats"
   ]
  },
  {
   "cell_type": "code",
   "execution_count": 18,
   "metadata": {
    "colab": {
     "base_uri": "https://localhost:8080/",
     "height": 362
    },
    "id": "3LRa6-GFXvqH",
    "outputId": "66142ad4-4076-4493-d40d-bed87148d793"
   },
   "outputs": [
    {
     "data": {
      "text/html": [
       "<div>\n",
       "<style scoped>\n",
       "    .dataframe tbody tr th:only-of-type {\n",
       "        vertical-align: middle;\n",
       "    }\n",
       "\n",
       "    .dataframe tbody tr th {\n",
       "        vertical-align: top;\n",
       "    }\n",
       "\n",
       "    .dataframe thead th {\n",
       "        text-align: right;\n",
       "    }\n",
       "</style>\n",
       "<table border=\"1\" class=\"dataframe\">\n",
       "  <thead>\n",
       "    <tr style=\"text-align: right;\">\n",
       "      <th></th>\n",
       "      <th>Size</th>\n",
       "      <th>EntryBar</th>\n",
       "      <th>ExitBar</th>\n",
       "      <th>EntryPrice</th>\n",
       "      <th>ExitPrice</th>\n",
       "      <th>PnL</th>\n",
       "      <th>ReturnPct</th>\n",
       "      <th>EntryTime</th>\n",
       "      <th>ExitTime</th>\n",
       "      <th>Duration</th>\n",
       "    </tr>\n",
       "  </thead>\n",
       "  <tbody>\n",
       "    <tr>\n",
       "      <th>0</th>\n",
       "      <td>-57</td>\n",
       "      <td>14</td>\n",
       "      <td>18</td>\n",
       "      <td>1729.056000</td>\n",
       "      <td>1643.300049</td>\n",
       "      <td>4888.089217</td>\n",
       "      <td>0.049597</td>\n",
       "      <td>2021-01-25</td>\n",
       "      <td>2021-01-29</td>\n",
       "      <td>4 days</td>\n",
       "    </tr>\n",
       "    <tr>\n",
       "      <th>1</th>\n",
       "      <td>-60</td>\n",
       "      <td>19</td>\n",
       "      <td>27</td>\n",
       "      <td>1721.586000</td>\n",
       "      <td>1635.000000</td>\n",
       "      <td>5195.160000</td>\n",
       "      <td>0.050294</td>\n",
       "      <td>2021-02-01</td>\n",
       "      <td>2021-02-11</td>\n",
       "      <td>10 days</td>\n",
       "    </tr>\n",
       "    <tr>\n",
       "      <th>2</th>\n",
       "      <td>-66</td>\n",
       "      <td>29</td>\n",
       "      <td>32</td>\n",
       "      <td>1664.316000</td>\n",
       "      <td>1585.300049</td>\n",
       "      <td>5215.052777</td>\n",
       "      <td>0.047477</td>\n",
       "      <td>2021-02-15</td>\n",
       "      <td>2021-02-18</td>\n",
       "      <td>3 days</td>\n",
       "    </tr>\n",
       "    <tr>\n",
       "      <th>3</th>\n",
       "      <td>-71</td>\n",
       "      <td>34</td>\n",
       "      <td>39</td>\n",
       "      <td>1609.934424</td>\n",
       "      <td>1484.199951</td>\n",
       "      <td>8927.147593</td>\n",
       "      <td>0.078099</td>\n",
       "      <td>2021-02-22</td>\n",
       "      <td>2021-03-02</td>\n",
       "      <td>8 days</td>\n",
       "    </tr>\n",
       "    <tr>\n",
       "      <th>4</th>\n",
       "      <td>83</td>\n",
       "      <td>42</td>\n",
       "      <td>50</td>\n",
       "      <td>1488.430000</td>\n",
       "      <td>1554.599976</td>\n",
       "      <td>5492.107974</td>\n",
       "      <td>0.044456</td>\n",
       "      <td>2021-03-05</td>\n",
       "      <td>2021-03-18</td>\n",
       "      <td>13 days</td>\n",
       "    </tr>\n",
       "    <tr>\n",
       "      <th>5</th>\n",
       "      <td>88</td>\n",
       "      <td>58</td>\n",
       "      <td>75</td>\n",
       "      <td>1462.526751</td>\n",
       "      <td>1712.199951</td>\n",
       "      <td>21971.241617</td>\n",
       "      <td>0.170714</td>\n",
       "      <td>2021-03-30</td>\n",
       "      <td>2021-04-22</td>\n",
       "      <td>23 days</td>\n",
       "    </tr>\n",
       "    <tr>\n",
       "      <th>6</th>\n",
       "      <td>96</td>\n",
       "      <td>81</td>\n",
       "      <td>94</td>\n",
       "      <td>1564.232000</td>\n",
       "      <td>1788.099976</td>\n",
       "      <td>21491.325656</td>\n",
       "      <td>0.143117</td>\n",
       "      <td>2021-04-30</td>\n",
       "      <td>2021-05-20</td>\n",
       "      <td>20 days</td>\n",
       "    </tr>\n",
       "  </tbody>\n",
       "</table>\n",
       "</div>"
      ],
      "text/plain": [
       "   Size  EntryBar  ExitBar   EntryPrice    ExitPrice           PnL  ReturnPct  \\\n",
       "0   -57        14       18  1729.056000  1643.300049   4888.089217   0.049597   \n",
       "1   -60        19       27  1721.586000  1635.000000   5195.160000   0.050294   \n",
       "2   -66        29       32  1664.316000  1585.300049   5215.052777   0.047477   \n",
       "3   -71        34       39  1609.934424  1484.199951   8927.147593   0.078099   \n",
       "4    83        42       50  1488.430000  1554.599976   5492.107974   0.044456   \n",
       "5    88        58       75  1462.526751  1712.199951  21971.241617   0.170714   \n",
       "6    96        81       94  1564.232000  1788.099976  21491.325656   0.143117   \n",
       "\n",
       "   EntryTime   ExitTime Duration  \n",
       "0 2021-01-25 2021-01-29   4 days  \n",
       "1 2021-02-01 2021-02-11  10 days  \n",
       "2 2021-02-15 2021-02-18   3 days  \n",
       "3 2021-02-22 2021-03-02   8 days  \n",
       "4 2021-03-05 2021-03-18  13 days  \n",
       "5 2021-03-30 2021-04-22  23 days  \n",
       "6 2021-04-30 2021-05-20  20 days  "
      ]
     },
     "execution_count": 18,
     "metadata": {},
     "output_type": "execute_result"
    }
   ],
   "source": [
    "# журнал торговли\n",
    "trade_journal = stats._trades\n",
    "trade_journal[-10:]"
   ]
  },
  {
   "cell_type": "code",
   "execution_count": 1,
   "metadata": {},
   "outputs": [
    {
     "ename": "NameError",
     "evalue": "name 'trade_journal' is not defined",
     "output_type": "error",
     "traceback": [
      "\u001b[0;31m---------------------------------------------------------------------------\u001b[0m",
      "\u001b[0;31mNameError\u001b[0m                                 Traceback (most recent call last)",
      "\u001b[0;32m<ipython-input-1-db80eb8847ce>\u001b[0m in \u001b[0;36m<module>\u001b[0;34m\u001b[0m\n\u001b[0;32m----> 1\u001b[0;31m \u001b[0mtrade_journal\u001b[0m\u001b[0;34m.\u001b[0m\u001b[0mto_csv\u001b[0m\u001b[0;34m(\u001b[0m\u001b[0;34m'trade_journal.csv'\u001b[0m\u001b[0;34m,\u001b[0m \u001b[0msep\u001b[0m\u001b[0;34m=\u001b[0m\u001b[0;34m'\\t'\u001b[0m\u001b[0;34m)\u001b[0m\u001b[0;34m\u001b[0m\u001b[0;34m\u001b[0m\u001b[0m\n\u001b[0m",
      "\u001b[0;31mNameError\u001b[0m: name 'trade_journal' is not defined"
     ]
    }
   ],
   "source": [
    "file_name = 'outputs/trade_journal' + interval + '.csv'\n",
    "trade_journal.to_csv(file_name, sep='\\t')"
   ]
  },
  {
   "cell_type": "markdown",
   "metadata": {
    "id": "5b2464ec-b3d9-4d45-95e9-02bc87e744af"
   },
   "source": [
    "# 1d: Подбор оптимального counter_lvl"
   ]
  },
  {
   "cell_type": "code",
   "execution_count": 19,
   "metadata": {
    "colab": {
     "base_uri": "https://localhost:8080/",
     "height": 1000
    },
    "id": "7cf6a213-64d3-4ebb-80fc-ce713b4a9309",
    "outputId": "bb86b4a5-76b4-4209-f413-965bad86125b",
    "pycharm": {
     "is_executing": true
    }
   },
   "outputs": [],
   "source": [
    "LnS_results = pd.DataFrame() # dataframe для записи результатов подбора оптимального окна counter_lvl\n",
    "\n",
    "for i in range(2, 19):\n",
    "    \n",
    "    # Разметим Y\n",
    "    sell_signals = SELL(df, counter_lvl = i, plotting = False)\n",
    "    sell_signals = sell_signals.set_index('Date')\n",
    "    buy_signals = BUY(df, counter_lvl = i, plotting = False)\n",
    "    buy_signals = buy_signals.set_index('Date')\n",
    "    \n",
    "    # Обьединим датафреймы\n",
    "    signals = sell_signals.append(buy_signals)\n",
    "    df_new = df\n",
    "\n",
    "    df_new = pd.merge(df_new, signals['Signal'], on=('Date'), how ='left')\n",
    "    df_new = df_new.fillna(0)\n",
    "    \n",
    "    # Backtesting\n",
    "    # Стратегия Long & Short (подключен класс стратегии LnS)\n",
    "    bt = Backtest(df_new, LnS, cash=100000, commission=.004, trade_on_close=True)\n",
    "    stats = bt.run()\n",
    "    \n",
    "    line = pd.DataFrame({'window':[i],\n",
    "                         'Trades':[stats[17]],\n",
    "                         'Return [%]':[stats[6]],\n",
    "                         'Buy & Hold Return [%]':[stats[7]],\n",
    "                         'Return (Ann.) [%]':[stats[8]],\n",
    "                         'Sharpe Ratio':[stats[10]],\n",
    "                         'Sortino Ratio':[stats[11]],\n",
    "                         'Calmar Ratio':[stats[12]],\n",
    "                         'Max. Drawdown [%]':[stats[13]],\n",
    "                         'Avg. Drawdown [%]]':[stats[14]],\n",
    "                         'Win Rate [%]':[stats[18]]\n",
    "                        })\n",
    "    LnS_results = LnS_results.append(line, ignore_index=True)\n"
   ]
  },
  {
   "cell_type": "code",
   "execution_count": 20,
   "metadata": {
    "colab": {
     "base_uri": "https://localhost:8080/",
     "height": 269
    },
    "id": "bc7ab0f8-2d9d-4729-8a9b-b3a6efcb5fcb",
    "outputId": "0cfdda24-b1a1-4021-ae9e-fa1f361d4238",
    "pycharm": {
     "is_executing": true
    }
   },
   "outputs": [
    {
     "data": {
      "text/html": [
       "<div>\n",
       "<style scoped>\n",
       "    .dataframe tbody tr th:only-of-type {\n",
       "        vertical-align: middle;\n",
       "    }\n",
       "\n",
       "    .dataframe tbody tr th {\n",
       "        vertical-align: top;\n",
       "    }\n",
       "\n",
       "    .dataframe thead th {\n",
       "        text-align: right;\n",
       "    }\n",
       "</style>\n",
       "<table border=\"1\" class=\"dataframe\">\n",
       "  <thead>\n",
       "    <tr style=\"text-align: right;\">\n",
       "      <th></th>\n",
       "      <th>counter_lvl</th>\n",
       "      <th>Trades</th>\n",
       "      <th>Return [%]</th>\n",
       "      <th>Buy &amp; Hold Return [%]</th>\n",
       "      <th>Return (Ann.) [%]</th>\n",
       "      <th>Sharpe Ratio</th>\n",
       "      <th>Sortino Ratio</th>\n",
       "      <th>Calmar Ratio</th>\n",
       "      <th>Max. Drawdown [%]</th>\n",
       "      <th>Avg. Drawdown [%]]</th>\n",
       "      <th>Win Rate [%]</th>\n",
       "    </tr>\n",
       "  </thead>\n",
       "  <tbody>\n",
       "    <tr>\n",
       "      <th>0</th>\n",
       "      <td>2</td>\n",
       "      <td>7</td>\n",
       "      <td>73.180125</td>\n",
       "      <td>-4.723006</td>\n",
       "      <td>293.608472</td>\n",
       "      <td>4.092540</td>\n",
       "      <td>44.725702</td>\n",
       "      <td>126.673322</td>\n",
       "      <td>-2.317840</td>\n",
       "      <td>-1.101787</td>\n",
       "      <td>100.000000</td>\n",
       "    </tr>\n",
       "    <tr>\n",
       "      <th>1</th>\n",
       "      <td>3</td>\n",
       "      <td>6</td>\n",
       "      <td>39.392317</td>\n",
       "      <td>-4.723006</td>\n",
       "      <td>129.025079</td>\n",
       "      <td>3.963225</td>\n",
       "      <td>29.561311</td>\n",
       "      <td>72.475807</td>\n",
       "      <td>-1.780250</td>\n",
       "      <td>-0.956177</td>\n",
       "      <td>83.333333</td>\n",
       "    </tr>\n",
       "    <tr>\n",
       "      <th>2</th>\n",
       "      <td>4</td>\n",
       "      <td>5</td>\n",
       "      <td>36.314881</td>\n",
       "      <td>-4.723006</td>\n",
       "      <td>116.616790</td>\n",
       "      <td>3.797156</td>\n",
       "      <td>23.729539</td>\n",
       "      <td>59.433126</td>\n",
       "      <td>-1.962151</td>\n",
       "      <td>-1.035937</td>\n",
       "      <td>80.000000</td>\n",
       "    </tr>\n",
       "    <tr>\n",
       "      <th>3</th>\n",
       "      <td>5</td>\n",
       "      <td>4</td>\n",
       "      <td>46.477414</td>\n",
       "      <td>-4.723006</td>\n",
       "      <td>159.182703</td>\n",
       "      <td>3.777962</td>\n",
       "      <td>24.213285</td>\n",
       "      <td>68.681360</td>\n",
       "      <td>-2.317699</td>\n",
       "      <td>-1.123611</td>\n",
       "      <td>100.000000</td>\n",
       "    </tr>\n",
       "    <tr>\n",
       "      <th>4</th>\n",
       "      <td>6</td>\n",
       "      <td>4</td>\n",
       "      <td>46.477414</td>\n",
       "      <td>-4.723006</td>\n",
       "      <td>159.182703</td>\n",
       "      <td>3.777962</td>\n",
       "      <td>24.213285</td>\n",
       "      <td>68.681360</td>\n",
       "      <td>-2.317699</td>\n",
       "      <td>-1.123611</td>\n",
       "      <td>100.000000</td>\n",
       "    </tr>\n",
       "    <tr>\n",
       "      <th>5</th>\n",
       "      <td>7</td>\n",
       "      <td>4</td>\n",
       "      <td>46.477414</td>\n",
       "      <td>-4.723006</td>\n",
       "      <td>159.182703</td>\n",
       "      <td>3.777962</td>\n",
       "      <td>24.213285</td>\n",
       "      <td>68.681360</td>\n",
       "      <td>-2.317699</td>\n",
       "      <td>-1.123611</td>\n",
       "      <td>100.000000</td>\n",
       "    </tr>\n",
       "    <tr>\n",
       "      <th>6</th>\n",
       "      <td>8</td>\n",
       "      <td>3</td>\n",
       "      <td>39.957291</td>\n",
       "      <td>-4.723006</td>\n",
       "      <td>131.348172</td>\n",
       "      <td>3.757499</td>\n",
       "      <td>21.337400</td>\n",
       "      <td>56.203789</td>\n",
       "      <td>-2.336999</td>\n",
       "      <td>-1.086422</td>\n",
       "      <td>100.000000</td>\n",
       "    </tr>\n",
       "  </tbody>\n",
       "</table>\n",
       "</div>"
      ],
      "text/plain": [
       "   counter_lvl  Trades  Return [%]  Buy & Hold Return [%]  Return (Ann.) [%]  \\\n",
       "0            2       7   73.180125              -4.723006         293.608472   \n",
       "1            3       6   39.392317              -4.723006         129.025079   \n",
       "2            4       5   36.314881              -4.723006         116.616790   \n",
       "3            5       4   46.477414              -4.723006         159.182703   \n",
       "4            6       4   46.477414              -4.723006         159.182703   \n",
       "5            7       4   46.477414              -4.723006         159.182703   \n",
       "6            8       3   39.957291              -4.723006         131.348172   \n",
       "\n",
       "   Sharpe Ratio  Sortino Ratio  Calmar Ratio  Max. Drawdown [%]  \\\n",
       "0      4.092540      44.725702    126.673322          -2.317840   \n",
       "1      3.963225      29.561311     72.475807          -1.780250   \n",
       "2      3.797156      23.729539     59.433126          -1.962151   \n",
       "3      3.777962      24.213285     68.681360          -2.317699   \n",
       "4      3.777962      24.213285     68.681360          -2.317699   \n",
       "5      3.777962      24.213285     68.681360          -2.317699   \n",
       "6      3.757499      21.337400     56.203789          -2.336999   \n",
       "\n",
       "   Avg. Drawdown [%]]  Win Rate [%]  \n",
       "0           -1.101787    100.000000  \n",
       "1           -0.956177     83.333333  \n",
       "2           -1.035937     80.000000  \n",
       "3           -1.123611    100.000000  \n",
       "4           -1.123611    100.000000  \n",
       "5           -1.123611    100.000000  \n",
       "6           -1.086422    100.000000  "
      ]
     },
     "execution_count": 20,
     "metadata": {},
     "output_type": "execute_result"
    }
   ],
   "source": [
    "LnS_results"
   ]
  },
  {
   "cell_type": "markdown",
   "metadata": {
    "id": "06990426-e7d3-46f1-95ef-71097b449c40",
    "pycharm": {
     "is_executing": true
    }
   },
   "source": [
    "**[Calmar ratio](https://en.wikipedia.org/wiki/Calmar_ratio)** , **[The Calmar Ratio](https://www.investopedia.com/terms/c/calmarratio.asp)**\n",
    "\n",
    "----\n",
    "\n",
    "- Коэффициент Кальмара - это показатель доходности инвестиционных фондов с поправкой на риск, созданный менеджером фонда Терри Янгом в 1991 году.\n",
    "- Коэффициент Кальмара использует максимальную просадку фонда как единственную меру риска, что делает его уникальным.\n",
    "- С другой стороны, упор в соотношении Кальмара на просадку означает, что его взгляд на риск довольно ограничен по сравнению с другими индикаторами, и он игнорирует общую волатильность."
   ]
  },
  {
   "cell_type": "code",
   "execution_count": null,
   "metadata": {},
   "outputs": [],
   "source": []
  }
 ],
 "metadata": {
  "colab": {
   "collapsed_sections": [
    "9843f65a-97ae-49b9-9906-66f32c9543b8",
    "a76b394d-e916-4f2c-94e6-37ae8f7f2db0",
    "37f0bdf3-ebe9-49a9-8c90-f873ae4aaac4",
    "ccfcad9e-6f03-442d-a7ad-9dcc63d3527b",
    "5b2464ec-b3d9-4d45-95e9-02bc87e744af"
   ],
   "include_colab_link": true,
   "name": "Pivot_points_POLY_1d.ipynb",
   "provenance": [],
   "toc_visible": true
  },
  "kernelspec": {
   "display_name": "Python 3",
   "language": "python",
   "name": "python3"
  },
  "language_info": {
   "codemirror_mode": {
    "name": "ipython",
    "version": 3
   },
   "file_extension": ".py",
   "mimetype": "text/x-python",
   "name": "python",
   "nbconvert_exporter": "python",
   "pygments_lexer": "ipython3",
   "version": "3.8.5"
  }
 },
 "nbformat": 4,
 "nbformat_minor": 5
}
